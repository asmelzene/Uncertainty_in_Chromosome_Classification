{
 "cells": [
  {
   "cell_type": "code",
   "execution_count": 1,
   "metadata": {},
   "outputs": [
    {
     "name": "stdout",
     "output_type": "stream",
     "text": [
      "PyTorch Version:  1.7.1\n",
      "Torchvision Version:  0.8.2\n"
     ]
    }
   ],
   "source": [
    "import TEST_model_Softmax_summary_v4_GENERIC as uncertainty\n",
    "from datetime import datetime as dt\n",
    "from humanfriendly import format_timespan\n",
    "import matplotlib.pyplot as plt\n",
    "import seaborn as sns\n",
    "import pylab\n",
    "\n",
    "import pandas as pd\n",
    "import os"
   ]
  },
  {
   "cell_type": "code",
   "execution_count": 2,
   "metadata": {},
   "outputs": [],
   "source": [
    "#models = ['alexnet', 'squeezenet1_0', 'resnet18', 'densenet121']\n",
    "models = ['densenet121']\n",
    "# datasets = ['VAL', 'TEST']\n",
    "datasets = ['TEST']\n",
    "#types = ['SCRATCH', 'SNAP', 'TTA', 'DROPOUT']  ### **** TTA needs to be reviewed!\n",
    "types = ['SNAP', 'DROPOUT']\n",
    "# types = ['TTA']\n",
    "\n",
    "u_Dataset = 'arkusai'\n",
    "u_Model = 'squeezenet1_0'\n",
    "u_Data = 'VAL'\n",
    "u_type = 'SCRATCH'\n",
    "#sample_weights = [1]\n",
    "sample_weights = [-1]\n",
    "\n",
    "#config_file = f'../config/{u_Data}/config_{u_Model}_{u_type}.ini'\n",
    "\n",
    "idx2class = '../data/index_to_class.csv'\n",
    "WL_max = 10  # 5\n",
    "FR_min = 0.5\n",
    "FR_max = 1.0\n",
    "step_size1 = 1\n",
    "step_size2 = 0.01\n",
    "plus_minus = 5"
   ]
  },
  {
   "cell_type": "code",
   "execution_count": 3,
   "metadata": {},
   "outputs": [
    {
     "name": "stdout",
     "output_type": "stream",
     "text": [
      "******************************\n",
      "densenet121---TEST---SNAP\n",
      "******************************\n",
      "reading the DataFrame of the ensemble results\n",
      "picking the models to be used\n"
     ]
    },
    {
     "name": "stderr",
     "output_type": "stream",
     "text": [
      "2021-07-07 19:08:07,501  uncertainty   INFO  initializing uncertainty calculations\n"
     ]
    },
    {
     "name": "stdout",
     "output_type": "stream",
     "text": [
      "date and time = 07.07.2021_19.08.07\n"
     ]
    },
    {
     "name": "stderr",
     "output_type": "stream",
     "text": [
      "2021-07-07 19:08:07,928  uncertainty   INFO  Evaluating top-2 related uncertainty\n",
      "/Users/melih/Documents/Masters/KTH_DASE-ICT Innovation_Data Science/___Master Thesis/PyTorch_Exercise/arkusai/code/test_uncertainty_Softmax_v4.py:163: SettingWithCopyWarning: \n",
      "A value is trying to be set on a copy of a slice from a DataFrame\n",
      "\n",
      "See the caveats in the documentation: http://pandas.pydata.org/pandas-docs/stable/user_guide/indexing.html#returning-a-view-versus-a-copy\n",
      "  df_result_ensemble['outputs_all'][i] = output\n",
      "/Users/melih/Documents/Masters/KTH_DASE-ICT Innovation_Data Science/___Master Thesis/PyTorch_Exercise/arkusai/code/test_uncertainty_Softmax_v4.py:266: RuntimeWarning: divide by zero encountered in double_scalars\n",
      "  result = [(jsd_max - jsd)/jsd_max, (self.H_max - sum_H)/self.H_max, jsd, sum_H, H_sum,\n",
      "2021-07-07 19:08:18,745  uncertainty   INFO  Accuracy: 96.3122 ... correct_predictions: 13215 ... all_pictures: 13721\n",
      "2021-07-07 19:08:18,745  uncertainty   INFO  Out of 506 incorrect predictions, 182 of them were having the 2nd best predictions as the ground truth: 35.9684%\n",
      "  1%|          | 1/102 [00:00<00:11,  8.68it/s]"
     ]
    },
    {
     "name": "stdout",
     "output_type": "stream",
     "text": [
      "failed\n",
      "max: 1.0 .. min: 0.08060000091791153 .. mean: 0.959474 .. var: 0.02013\n"
     ]
    },
    {
     "name": "stderr",
     "output_type": "stream",
     "text": [
      "100%|██████████| 102/102 [00:11<00:00,  9.05it/s]\n",
      "  5%|▍         | 5/102 [00:00<00:02, 45.24it/s]"
     ]
    },
    {
     "name": "stdout",
     "output_type": "stream",
     "text": [
      "argmax:30\n",
      "\n",
      "When threshold=0.3:\n",
      "TP: 13152 .. FP: 280 .. TN: 226 .. FN: 63\n",
      "..... 0.0208% of correctly classified images are below the threshold (FDR)\n",
      "while 0.782% of incorrectly classified images are below the threshold (NPV)\n",
      "precision: 0.98\n",
      "recall: 1.0\n",
      " threshold  fail_rate  work_load  total_mistakes  total_mistakes(%)     FP(%)\n",
      "      0.25   2.485242   1.523213             385           0.028059  0.024852\n",
      "      0.26   2.426937   1.603382             380           0.027695  0.024269\n",
      "      0.27   2.324903   1.727279             369           0.026893  0.023249\n",
      "      0.28   2.215582   1.851177             356           0.025946  0.022156\n",
      "      0.29   2.120837   2.004227             351           0.025581  0.021208\n",
      "      0.30   2.040668   2.106260             343           0.024998  0.020407\n",
      "      0.31   1.945922   2.215582             332           0.024196  0.019459\n",
      "      0.32   1.880329   2.310327             327           0.023832  0.018803\n",
      "      0.33   1.800160   2.426937             321           0.023395  0.018002\n",
      "      0.34   1.734567   2.528970             317           0.023103  0.017346\n",
      "max: 100.0 .. min: 0.142588 .. mean: 96.151054 .. var: 220.384084\n"
     ]
    },
    {
     "name": "stderr",
     "output_type": "stream",
     "text": [
      "100%|██████████| 102/102 [00:02<00:00, 46.03it/s]\n",
      "  5%|▍         | 5/102 [00:00<00:02, 45.88it/s]"
     ]
    },
    {
     "name": "stdout",
     "output_type": "stream",
     "text": [
      "argmax:27\n",
      "\n",
      "When threshold=27.0:\n",
      "TP: 13133 .. FP: 292 .. TN: 214 .. FN: 82\n",
      "..... 0.0218% of correctly classified images are below the threshold (FDR)\n",
      "while 0.723% of incorrectly classified images are below the threshold (NPV)\n",
      "precision: 0.98\n",
      "recall: 0.99\n",
      " threshold  fail_rate  work_load  total_mistakes  total_mistakes(%)     FP(%)\n",
      "      22.0   2.456089   1.712703             403           0.029371  0.024561\n",
      "      23.0   2.383208   1.836601             400           0.029152  0.023832\n",
      "      24.0   2.252022   1.982363             384           0.027986  0.022520\n",
      "      25.0   2.193718   2.062532             379           0.027622  0.021937\n",
      "      26.0   2.164565   2.106260             377           0.027476  0.021646\n",
      "      27.0   2.128125   2.157277             374           0.027257  0.021281\n",
      "      28.0   2.113549   2.179141             373           0.027185  0.021135\n",
      "      29.0   2.077108   2.230158             370           0.026966  0.020771\n",
      "      30.0   2.026091   2.281175             363           0.026456  0.020261\n",
      "      31.0   1.982363   2.346768             360           0.026237  0.019824\n"
     ]
    },
    {
     "name": "stderr",
     "output_type": "stream",
     "text": [
      "100%|██████████| 102/102 [00:02<00:00, 44.53it/s]\n",
      "  6%|▌         | 6/102 [00:00<00:01, 53.62it/s]"
     ]
    },
    {
     "name": "stdout",
     "output_type": "stream",
     "text": [
      "max: 1.0 .. min: 0.0 .. mean: 0.045192 .. var: 0.021166\n"
     ]
    },
    {
     "name": "stderr",
     "output_type": "stream",
     "text": [
      "100%|██████████| 102/102 [00:01<00:00, 52.77it/s]\n",
      "  6%|▌         | 6/102 [00:00<00:01, 51.96it/s]"
     ]
    },
    {
     "name": "stdout",
     "output_type": "stream",
     "text": [
      "argmax:71\n",
      "\n",
      "When threshold=0.71:\n",
      "TP: 13152 .. FP: 281 .. TN: 225 .. FN: 63\n",
      "..... 0.0209% of correctly classified images are below the threshold (FDR)\n",
      "while 0.7812% of incorrectly classified images are below the threshold (NPV)\n",
      "precision: 0.98\n",
      "recall: 1.0\n",
      " threshold  fail_rate  work_load  total_mistakes  total_mistakes(%)     FP(%)\n",
      "      0.66   1.778296   2.477954             322           0.023468  0.017783\n",
      "      0.67   1.829313   2.390496             324           0.023613  0.018293\n",
      "      0.68   1.858465   2.346768             326           0.023759  0.018585\n",
      "      0.69   1.902194   2.288463             330           0.024051  0.019022\n",
      "      0.70   1.960499   2.201006             334           0.024342  0.019605\n",
      "      0.71   2.047956   2.098972             344           0.025071  0.020480\n",
      "      0.72   2.149989   1.960499             353           0.025727  0.021500\n",
      "      0.73   2.230158   1.843889             359           0.026164  0.022302\n",
      "      0.74   2.295751   1.741856             363           0.026456  0.022958\n",
      "      0.75   2.383208   1.639822             373           0.027185  0.023832\n",
      "max: 1.0 .. min: 0.0 .. mean: 0.94252 .. var: 0.033386\n"
     ]
    },
    {
     "name": "stderr",
     "output_type": "stream",
     "text": [
      "100%|██████████| 102/102 [00:01<00:00, 51.83it/s]\n"
     ]
    },
    {
     "name": "stdout",
     "output_type": "stream",
     "text": [
      "argmax:12\n",
      "\n",
      "When threshold=0.12:\n",
      "TP: 13155 .. FP: 291 .. TN: 215 .. FN: 60\n",
      "..... 0.0216% of correctly classified images are below the threshold (FDR)\n",
      "while 0.7818% of incorrectly classified images are below the threshold (NPV)\n",
      "precision: 0.98\n",
      "recall: 1.0\n",
      " threshold  fail_rate  work_load  total_mistakes  total_mistakes(%)     FP(%)\n",
      "      0.07   3.337949   0.386269             463           0.033744  0.033379\n",
      "      0.08   2.973544   0.896436             433           0.031557  0.029735\n",
      "      0.09   2.631004   1.297282             394           0.028715  0.026310\n",
      "      0.10   2.412361   1.625246             379           0.027622  0.024124\n",
      "      0.11   2.230158   1.843889             359           0.026164  0.022302\n",
      "      0.12   2.120837   2.004227             351           0.025581  0.021208\n",
      "      0.13   1.989651   2.164565             337           0.024561  0.019897\n",
      "      0.14   1.916770   2.288463             334           0.024342  0.019168\n",
      "      0.15   1.814737   2.412361             323           0.023541  0.018147\n",
      "      0.16   1.719991   2.543546             315           0.022958  0.017200\n",
      "********** Certainty ***********\n",
      "********** hist_old ***********\n"
     ]
    },
    {
     "name": "stderr",
     "output_type": "stream",
     "text": [
      "/Users/melih/opt/anaconda3/lib/python3.7/site-packages/seaborn/distributions.py:2557: FutureWarning: `distplot` is a deprecated function and will be removed in a future version. Please adapt your code to use either `displot` (a figure-level function with similar flexibility) or `histplot` (an axes-level function for histograms).\n",
      "  warnings.warn(msg, FutureWarning)\n",
      "/Users/melih/opt/anaconda3/lib/python3.7/site-packages/seaborn/distributions.py:2557: FutureWarning: `distplot` is a deprecated function and will be removed in a future version. Please adapt your code to use either `displot` (a figure-level function with similar flexibility) or `histplot` (an axes-level function for histograms).\n",
      "  warnings.warn(msg, FutureWarning)\n"
     ]
    },
    {
     "name": "stdout",
     "output_type": "stream",
     "text": [
      "********** hist_prob ***********\n",
      "********** catplot_boxen ***********\n",
      "********** jointplot_incorrect ***********\n",
      "********** jointplot_correct ***********\n",
      "********** jointplot_kde ***********\n",
      "********** jointplot_hue ***********\n",
      "********** catplot_box ***********\n",
      "********** uncertainty ***********\n",
      "********** hist_old ***********\n"
     ]
    },
    {
     "name": "stderr",
     "output_type": "stream",
     "text": [
      "/Users/melih/opt/anaconda3/lib/python3.7/site-packages/seaborn/distributions.py:2557: FutureWarning: `distplot` is a deprecated function and will be removed in a future version. Please adapt your code to use either `displot` (a figure-level function with similar flexibility) or `histplot` (an axes-level function for histograms).\n",
      "  warnings.warn(msg, FutureWarning)\n",
      "/Users/melih/opt/anaconda3/lib/python3.7/site-packages/seaborn/distributions.py:2557: FutureWarning: `distplot` is a deprecated function and will be removed in a future version. Please adapt your code to use either `displot` (a figure-level function with similar flexibility) or `histplot` (an axes-level function for histograms).\n",
      "  warnings.warn(msg, FutureWarning)\n"
     ]
    },
    {
     "name": "stdout",
     "output_type": "stream",
     "text": [
      "********** hist_prob ***********\n",
      "********** catplot_boxen ***********\n",
      "********** jointplot_incorrect ***********\n",
      "********** jointplot_correct ***********\n",
      "********** jointplot_kde ***********\n",
      "********** jointplot_hue ***********\n",
      "********** catplot_box ***********\n",
      "********** best_score ***********\n",
      "********** hist_old ***********\n"
     ]
    },
    {
     "name": "stderr",
     "output_type": "stream",
     "text": [
      "/Users/melih/opt/anaconda3/lib/python3.7/site-packages/seaborn/distributions.py:2557: FutureWarning: `distplot` is a deprecated function and will be removed in a future version. Please adapt your code to use either `displot` (a figure-level function with similar flexibility) or `histplot` (an axes-level function for histograms).\n",
      "  warnings.warn(msg, FutureWarning)\n",
      "/Users/melih/opt/anaconda3/lib/python3.7/site-packages/seaborn/distributions.py:2557: FutureWarning: `distplot` is a deprecated function and will be removed in a future version. Please adapt your code to use either `displot` (a figure-level function with similar flexibility) or `histplot` (an axes-level function for histograms).\n",
      "  warnings.warn(msg, FutureWarning)\n"
     ]
    },
    {
     "name": "stdout",
     "output_type": "stream",
     "text": [
      "********** hist_prob ***********\n",
      "********** catplot_boxen ***********\n",
      "********** u_entr ***********\n",
      "********** hist_old ***********\n"
     ]
    },
    {
     "name": "stderr",
     "output_type": "stream",
     "text": [
      "/Users/melih/opt/anaconda3/lib/python3.7/site-packages/seaborn/distributions.py:2557: FutureWarning: `distplot` is a deprecated function and will be removed in a future version. Please adapt your code to use either `displot` (a figure-level function with similar flexibility) or `histplot` (an axes-level function for histograms).\n",
      "  warnings.warn(msg, FutureWarning)\n",
      "/Users/melih/opt/anaconda3/lib/python3.7/site-packages/seaborn/distributions.py:2557: FutureWarning: `distplot` is a deprecated function and will be removed in a future version. Please adapt your code to use either `displot` (a figure-level function with similar flexibility) or `histplot` (an axes-level function for histograms).\n",
      "  warnings.warn(msg, FutureWarning)\n"
     ]
    },
    {
     "name": "stdout",
     "output_type": "stream",
     "text": [
      "********** hist_prob ***********\n",
      "********** catplot_boxen ***********\n",
      "********** jointplot_incorrect ***********\n",
      "********** jointplot_correct ***********\n",
      "********** jointplot_kde ***********\n",
      "********** jointplot_hue ***********\n",
      "********** catplot_box ***********\n",
      "********** u_var ***********\n",
      "********** hist_old ***********\n"
     ]
    },
    {
     "name": "stderr",
     "output_type": "stream",
     "text": [
      "/Users/melih/opt/anaconda3/lib/python3.7/site-packages/seaborn/distributions.py:2557: FutureWarning: `distplot` is a deprecated function and will be removed in a future version. Please adapt your code to use either `displot` (a figure-level function with similar flexibility) or `histplot` (an axes-level function for histograms).\n",
      "  warnings.warn(msg, FutureWarning)\n",
      "/Users/melih/opt/anaconda3/lib/python3.7/site-packages/seaborn/distributions.py:2557: FutureWarning: `distplot` is a deprecated function and will be removed in a future version. Please adapt your code to use either `displot` (a figure-level function with similar flexibility) or `histplot` (an axes-level function for histograms).\n",
      "  warnings.warn(msg, FutureWarning)\n"
     ]
    },
    {
     "name": "stdout",
     "output_type": "stream",
     "text": [
      "********** hist_prob ***********\n",
      "********** catplot_boxen ***********\n",
      "********** jointplot_incorrect ***********\n",
      "********** jointplot_correct ***********\n",
      "********** jointplot_kde ***********\n",
      "********** jointplot_hue ***********\n",
      "********** catplot_box ***********\n",
      "40 values from 0.55 to               0.9400000000000001 having work load < 10 and fail rate < 1.0\n",
      "workload from 3.899132716274324 to 9.70045915020771\n",
      "38 values from 59.0 to               96.0 having work load < 10 and fail rate < 1.0\n",
      "workload from 4.066758982581444 to 9.357918519058378\n",
      "38 values from 0.04 to               0.41000000000000003 having work load < 10 and fail rate < 1.0\n",
      "workload from 4.066758982581444 to 9.36520661759347\n",
      "31 values from 0.1 to               0.4 having work load < 10 and fail rate < 1.0\n",
      "workload from 4.168792362072735 to 9.656730558997157\n",
      "51 values from 0.38 to               0.88 having work load < 10 and fail rate < 1.0\n",
      "workload from 4.0011660957656145 to 9.722323445812988\n",
      "14 minutes and 12.81 seconds\n",
      "******************************\n",
      "densenet121---TEST---DROPOUT\n",
      "******************************\n",
      "reading the DataFrame of the ensemble results\n",
      "picking the models to be used\n"
     ]
    },
    {
     "name": "stderr",
     "output_type": "stream",
     "text": [
      "2021-07-07 19:35:02,341  uncertainty   INFO  initializing uncertainty calculations\n",
      "2021-07-07 19:35:02,341  uncertainty   INFO  initializing uncertainty calculations\n"
     ]
    },
    {
     "name": "stdout",
     "output_type": "stream",
     "text": [
      "date and time = 07.07.2021_19.35.02\n"
     ]
    },
    {
     "name": "stderr",
     "output_type": "stream",
     "text": [
      "2021-07-07 19:35:02,705  uncertainty   INFO  Evaluating top-2 related uncertainty\n",
      "2021-07-07 19:35:02,705  uncertainty   INFO  Evaluating top-2 related uncertainty\n",
      "/Users/melih/Documents/Masters/KTH_DASE-ICT Innovation_Data Science/___Master Thesis/PyTorch_Exercise/arkusai/code/test_uncertainty_Softmax_v4.py:163: SettingWithCopyWarning: \n",
      "A value is trying to be set on a copy of a slice from a DataFrame\n",
      "\n",
      "See the caveats in the documentation: http://pandas.pydata.org/pandas-docs/stable/user_guide/indexing.html#returning-a-view-versus-a-copy\n",
      "  df_result_ensemble['outputs_all'][i] = output\n",
      "/Users/melih/Documents/Masters/KTH_DASE-ICT Innovation_Data Science/___Master Thesis/PyTorch_Exercise/arkusai/code/test_uncertainty_Softmax_v4.py:266: RuntimeWarning: divide by zero encountered in double_scalars\n",
      "  result = [(jsd_max - jsd)/jsd_max, (self.H_max - sum_H)/self.H_max, jsd, sum_H, H_sum,\n",
      "2021-07-07 19:35:13,439  uncertainty   INFO  Accuracy: 96.458 ... correct_predictions: 13235 ... all_pictures: 13721\n",
      "2021-07-07 19:35:13,439  uncertainty   INFO  Accuracy: 96.458 ... correct_predictions: 13235 ... all_pictures: 13721\n",
      "2021-07-07 19:35:13,441  uncertainty   INFO  Out of 486 incorrect predictions, 170 of them were having the 2nd best predictions as the ground truth: 34.9794%\n",
      "2021-07-07 19:35:13,441  uncertainty   INFO  Out of 486 incorrect predictions, 170 of them were having the 2nd best predictions as the ground truth: 34.9794%\n",
      "  1%|          | 1/102 [00:00<00:11,  9.09it/s]"
     ]
    },
    {
     "name": "stdout",
     "output_type": "stream",
     "text": [
      "failed\n",
      "max: 1.0 .. min: 0.1193000003695488 .. mean: 0.964404 .. var: 0.019115\n"
     ]
    },
    {
     "name": "stderr",
     "output_type": "stream",
     "text": [
      "100%|██████████| 102/102 [00:11<00:00,  9.04it/s]\n",
      "  4%|▍         | 4/102 [00:00<00:02, 34.62it/s]"
     ]
    },
    {
     "name": "stdout",
     "output_type": "stream",
     "text": [
      "argmax:27\n",
      "\n",
      "When threshold=0.27:\n",
      "TP: 13169 .. FP: 273 .. TN: 213 .. FN: 66\n",
      "..... 0.0203% of correctly classified images are below the threshold (FDR)\n",
      "while 0.7634% of incorrectly classified images are below the threshold (NPV)\n",
      "precision: 0.98\n",
      "recall: 1.0\n",
      " threshold  fail_rate  work_load  total_mistakes  total_mistakes(%)     FP(%)\n",
      "      0.22   2.711173   1.071350             405           0.029517  0.027112\n",
      "      0.23   2.456089   1.392027             379           0.027622  0.024561\n",
      "      0.24   2.164565   1.749144             348           0.025363  0.021646\n",
      "      0.25   2.077108   1.894906             344           0.025071  0.020771\n",
      "      0.26   2.047956   1.953210             344           0.025071  0.020480\n",
      "      0.27   1.989651   2.033379             339           0.024707  0.019897\n",
      "      0.28   1.916770   2.113549             330           0.024051  0.019168\n",
      "      0.29   1.851177   2.186430             322           0.023468  0.018512\n",
      "      0.30   1.807448   2.244734             318           0.023176  0.018074\n",
      "      0.31   1.763720   2.295751             313           0.022812  0.017637\n",
      "max: 100.0 .. min: 0.043235 .. mean: 96.398674 .. var: 227.827452\n"
     ]
    },
    {
     "name": "stderr",
     "output_type": "stream",
     "text": [
      "100%|██████████| 102/102 [00:03<00:00, 33.22it/s]\n",
      "  4%|▍         | 4/102 [00:00<00:03, 31.67it/s]"
     ]
    },
    {
     "name": "stdout",
     "output_type": "stream",
     "text": [
      "argmax:23\n",
      "\n",
      "When threshold=23.0:\n",
      "TP: 13153 .. FP: 282 .. TN: 204 .. FN: 82\n",
      "..... 0.021% of correctly classified images are below the threshold (FDR)\n",
      "while 0.7133% of incorrectly classified images are below the threshold (NPV)\n",
      "precision: 0.98\n",
      "recall: 0.99\n",
      " threshold  fail_rate  work_load  total_mistakes  total_mistakes(%)     FP(%)\n",
      "      18.0   2.470665   1.472196             394           0.028715  0.024707\n",
      "      19.0   2.390496   1.603382             390           0.028424  0.023905\n",
      "      20.0   2.310327   1.705415             382           0.027841  0.023103\n",
      "      21.0   2.230158   1.851177             380           0.027695  0.022302\n",
      "      22.0   2.135413   1.975075             371           0.027039  0.021354\n",
      "      23.0   2.055244   2.084396             364           0.026529  0.020552\n",
      "      24.0   1.960499   2.215582             356           0.025946  0.019605\n",
      "      25.0   1.916770   2.310327             357           0.026019  0.019168\n",
      "      26.0   1.865753   2.368632             351           0.025581  0.018658\n",
      "      27.0   1.851177   2.390496             350           0.025508  0.018512\n"
     ]
    },
    {
     "name": "stderr",
     "output_type": "stream",
     "text": [
      "100%|██████████| 102/102 [00:03<00:00, 31.37it/s]\n",
      "  4%|▍         | 4/102 [00:00<00:02, 38.58it/s]"
     ]
    },
    {
     "name": "stdout",
     "output_type": "stream",
     "text": [
      "max: 1.0 .. min: 0.0 .. mean: 0.039903 .. var: 0.020876\n"
     ]
    },
    {
     "name": "stderr",
     "output_type": "stream",
     "text": [
      "100%|██████████| 102/102 [00:02<00:00, 37.20it/s]\n",
      "  4%|▍         | 4/102 [00:00<00:02, 37.12it/s]"
     ]
    },
    {
     "name": "stdout",
     "output_type": "stream",
     "text": [
      "argmax:73\n",
      "\n",
      "When threshold=0.73:\n",
      "TP: 13173 .. FP: 270 .. TN: 216 .. FN: 62\n",
      "..... 0.0201% of correctly classified images are below the threshold (FDR)\n",
      "while 0.777% of incorrectly classified images are below the threshold (NPV)\n",
      "precision: 0.98\n",
      "recall: 1.0\n",
      " threshold  fail_rate  work_load  total_mistakes  total_mistakes(%)     FP(%)\n",
      "      0.68   1.756432   2.310327             313           0.022812  0.017564\n",
      "      0.69   1.778296   2.273887             314           0.022885  0.017783\n",
      "      0.70   1.814737   2.215582             316           0.023030  0.018147\n",
      "      0.71   1.858465   2.142701             318           0.023176  0.018585\n",
      "      0.72   1.909482   2.084396             324           0.023613  0.019095\n",
      "      0.73   1.967787   2.026091             332           0.024196  0.019678\n",
      "      0.74   2.033379   1.938634             338           0.024634  0.020334\n",
      "      0.75   2.084396   1.865753             342           0.024925  0.020844\n",
      "      0.76   2.120837   1.822025             346           0.025217  0.021208\n",
      "      0.77   2.201006   1.727279             355           0.025873  0.022010\n",
      "max: 1.0 .. min: 0.0 .. mean: 0.950485 .. var: 0.030956\n"
     ]
    },
    {
     "name": "stderr",
     "output_type": "stream",
     "text": [
      "100%|██████████| 102/102 [00:02<00:00, 37.09it/s]\n"
     ]
    },
    {
     "name": "stdout",
     "output_type": "stream",
     "text": [
      "argmax:11\n",
      "\n",
      "When threshold=0.11:\n",
      "TP: 13175 .. FP: 267 .. TN: 219 .. FN: 60\n",
      "..... 0.0199% of correctly classified images are below the threshold (FDR)\n",
      "while 0.7849% of incorrectly classified images are below the threshold (NPV)\n",
      "precision: 0.98\n",
      "recall: 1.0\n",
      " threshold  fail_rate  work_load  total_mistakes  total_mistakes(%)     FP(%)\n",
      "      0.06   2.886087   0.830843             420           0.030610  0.028861\n",
      "      0.07   2.660156   1.144231             401           0.029225  0.026602\n",
      "      0.08   2.463377   1.392027             381           0.027768  0.024634\n",
      "      0.09   2.303039   1.610670             367           0.026747  0.023030\n",
      "      0.10   2.120837   1.829313             347           0.025290  0.021208\n",
      "      0.11   1.945922   2.033379             327           0.023832  0.019459\n",
      "      0.12   1.873041   2.120837             319           0.023249  0.018730\n",
      "      0.13   1.807448   2.222870             315           0.022958  0.018074\n",
      "      0.14   1.749144   2.310327             311           0.022666  0.017491\n",
      "      0.15   1.683551   2.412361             307           0.022374  0.016836\n",
      "********** Certainty ***********\n",
      "********** hist_old ***********\n"
     ]
    },
    {
     "name": "stderr",
     "output_type": "stream",
     "text": [
      "/Users/melih/opt/anaconda3/lib/python3.7/site-packages/seaborn/distributions.py:2557: FutureWarning: `distplot` is a deprecated function and will be removed in a future version. Please adapt your code to use either `displot` (a figure-level function with similar flexibility) or `histplot` (an axes-level function for histograms).\n",
      "  warnings.warn(msg, FutureWarning)\n",
      "/Users/melih/opt/anaconda3/lib/python3.7/site-packages/seaborn/distributions.py:2557: FutureWarning: `distplot` is a deprecated function and will be removed in a future version. Please adapt your code to use either `displot` (a figure-level function with similar flexibility) or `histplot` (an axes-level function for histograms).\n",
      "  warnings.warn(msg, FutureWarning)\n"
     ]
    },
    {
     "name": "stdout",
     "output_type": "stream",
     "text": [
      "********** hist_prob ***********\n",
      "********** catplot_boxen ***********\n",
      "********** jointplot_incorrect ***********\n",
      "********** jointplot_correct ***********\n",
      "********** jointplot_kde ***********\n",
      "********** jointplot_hue ***********\n",
      "********** catplot_box ***********\n",
      "********** uncertainty ***********\n",
      "********** hist_old ***********\n"
     ]
    },
    {
     "name": "stderr",
     "output_type": "stream",
     "text": [
      "/Users/melih/opt/anaconda3/lib/python3.7/site-packages/seaborn/distributions.py:2557: FutureWarning: `distplot` is a deprecated function and will be removed in a future version. Please adapt your code to use either `displot` (a figure-level function with similar flexibility) or `histplot` (an axes-level function for histograms).\n",
      "  warnings.warn(msg, FutureWarning)\n",
      "/Users/melih/opt/anaconda3/lib/python3.7/site-packages/seaborn/distributions.py:2557: FutureWarning: `distplot` is a deprecated function and will be removed in a future version. Please adapt your code to use either `displot` (a figure-level function with similar flexibility) or `histplot` (an axes-level function for histograms).\n",
      "  warnings.warn(msg, FutureWarning)\n"
     ]
    },
    {
     "name": "stdout",
     "output_type": "stream",
     "text": [
      "********** hist_prob ***********\n",
      "********** catplot_boxen ***********\n",
      "********** jointplot_incorrect ***********\n",
      "********** jointplot_correct ***********\n",
      "********** jointplot_kde ***********\n",
      "********** jointplot_hue ***********\n",
      "********** catplot_box ***********\n",
      "********** best_score ***********\n",
      "********** hist_old ***********\n"
     ]
    },
    {
     "name": "stderr",
     "output_type": "stream",
     "text": [
      "/Users/melih/opt/anaconda3/lib/python3.7/site-packages/seaborn/distributions.py:2557: FutureWarning: `distplot` is a deprecated function and will be removed in a future version. Please adapt your code to use either `displot` (a figure-level function with similar flexibility) or `histplot` (an axes-level function for histograms).\n",
      "  warnings.warn(msg, FutureWarning)\n",
      "/Users/melih/opt/anaconda3/lib/python3.7/site-packages/seaborn/distributions.py:2557: FutureWarning: `distplot` is a deprecated function and will be removed in a future version. Please adapt your code to use either `displot` (a figure-level function with similar flexibility) or `histplot` (an axes-level function for histograms).\n",
      "  warnings.warn(msg, FutureWarning)\n"
     ]
    },
    {
     "name": "stdout",
     "output_type": "stream",
     "text": [
      "********** hist_prob ***********\n",
      "********** catplot_boxen ***********\n",
      "********** u_entr ***********\n",
      "********** hist_old ***********\n"
     ]
    },
    {
     "name": "stderr",
     "output_type": "stream",
     "text": [
      "/Users/melih/opt/anaconda3/lib/python3.7/site-packages/seaborn/distributions.py:2557: FutureWarning: `distplot` is a deprecated function and will be removed in a future version. Please adapt your code to use either `displot` (a figure-level function with similar flexibility) or `histplot` (an axes-level function for histograms).\n",
      "  warnings.warn(msg, FutureWarning)\n",
      "/Users/melih/opt/anaconda3/lib/python3.7/site-packages/seaborn/distributions.py:2557: FutureWarning: `distplot` is a deprecated function and will be removed in a future version. Please adapt your code to use either `displot` (a figure-level function with similar flexibility) or `histplot` (an axes-level function for histograms).\n",
      "  warnings.warn(msg, FutureWarning)\n"
     ]
    },
    {
     "name": "stdout",
     "output_type": "stream",
     "text": [
      "********** hist_prob ***********\n",
      "********** catplot_boxen ***********\n",
      "********** jointplot_incorrect ***********\n",
      "********** jointplot_correct ***********\n",
      "********** jointplot_kde ***********\n",
      "********** jointplot_hue ***********\n",
      "********** catplot_box ***********\n",
      "********** u_var ***********\n",
      "********** hist_old ***********\n"
     ]
    },
    {
     "name": "stderr",
     "output_type": "stream",
     "text": [
      "/Users/melih/opt/anaconda3/lib/python3.7/site-packages/seaborn/distributions.py:2557: FutureWarning: `distplot` is a deprecated function and will be removed in a future version. Please adapt your code to use either `displot` (a figure-level function with similar flexibility) or `histplot` (an axes-level function for histograms).\n",
      "  warnings.warn(msg, FutureWarning)\n",
      "/Users/melih/opt/anaconda3/lib/python3.7/site-packages/seaborn/distributions.py:2557: FutureWarning: `distplot` is a deprecated function and will be removed in a future version. Please adapt your code to use either `displot` (a figure-level function with similar flexibility) or `histplot` (an axes-level function for histograms).\n",
      "  warnings.warn(msg, FutureWarning)\n"
     ]
    },
    {
     "name": "stdout",
     "output_type": "stream",
     "text": [
      "********** hist_prob ***********\n",
      "********** catplot_boxen ***********\n",
      "********** jointplot_incorrect ***********\n",
      "********** jointplot_correct ***********\n",
      "********** jointplot_kde ***********\n",
      "********** jointplot_hue ***********\n",
      "********** catplot_box ***********\n",
      "42 values from 0.56 to               0.97 having work load < 10 and fail rate < 1.0\n",
      "workload from 3.6367611690110055 to 9.525544785365499\n",
      "40 values from 59.0 to               98.0 having work load < 10 and fail rate < 1.0\n",
      "workload from 3.811675533853218 to 9.36520661759347\n",
      "40 values from 0.02 to               0.41000000000000003 having work load < 10 and fail rate < 1.0\n",
      "workload from 3.811675533853218 to 9.36520661759347\n",
      "38 values from 0.06 to               0.43 having work load < 10 and fail rate < 1.0\n",
      "workload from 3.5784563807302674 to 9.416223307339115\n",
      "59 values from 0.36 to               0.9400000000000001 having work load < 10 and fail rate < 1.0\n",
      "workload from 3.5493039865898988 to 9.685882953137527\n",
      "26 minutes and 45.54 seconds\n",
      "40 minutes and 58.36 seconds\n",
      "failed calculations: []\n"
     ]
    },
    {
     "data": {
      "image/png": "[encoded data removed]",
      "text/plain": [
       "<Figure size 1296x648 with 2 Axes>"
      ]
     },
     "metadata": {},
     "output_type": "display_data"
    }
   ],
   "source": [
    "start_time_all = dt.now()\n",
    "l_problems = []\n",
    "for model in models:\n",
    "    for dataset in datasets:\n",
    "        for d_type in types:\n",
    "            u_Model = model\n",
    "            u_Data = dataset\n",
    "            u_type = d_type\n",
    "            \n",
    "            print('*'*30)\n",
    "            print(f'{u_Model}---{u_Data}---{u_type}')\n",
    "            print('*'*30)\n",
    "            config_file = f'../config/{u_Data}/config_{u_Model}_{u_type}.ini'\n",
    "            \n",
    "            start_time = dt.now()\n",
    "#             uncertainty.run(config_file=config_file, sample_weights=sample_weights, u_Dataset=u_Dataset \\\n",
    "#                             , idx2class=idx2class, WL_max=WL_max, FR_min=FR_min, FR_max=FR_max \\\n",
    "#                             , step_size1=step_size1, step_size2=step_size2, plus_minus=plus_minus \\\n",
    "#                             , save_figure=True, save_results=False)\n",
    "#             try:\n",
    "#                 uncertainty.run(config_file=config_file, sample_weights=sample_weights, u_Dataset=u_Dataset \\\n",
    "#                             , idx2class=idx2class, WL_max=WL_max, FR_min=FR_min, FR_max=FR_max \\\n",
    "#                             , step_size1=step_size1, step_size2=step_size2, plus_minus=plus_minus \\\n",
    "#                             , save_figure=True, save_results=True)\n",
    "#             except:\n",
    "#                 l_problems.append(f'{u_Model}_{u_Data}_{u_type}')\n",
    "#                 print('something went wrong')\n",
    "            uncertainty.run(config_file=config_file, sample_weights=sample_weights, u_Dataset=u_Dataset \\\n",
    "                            , idx2class=idx2class, WL_max=WL_max, FR_min=FR_min, FR_max=FR_max \\\n",
    "                            , step_size1=step_size1, step_size2=step_size2, plus_minus=plus_minus \\\n",
    "                            , save_figure=True, save_results=True)\n",
    "                \n",
    "            end_time = dt.now()\n",
    "            time_spent = end_time - start_time\n",
    "            print(format_timespan(time_spent))\n",
    "            \n",
    "end_time_all = dt.now()\n",
    "time_spent_all = end_time_all - start_time_all\n",
    "print(format_timespan(time_spent_all))\n",
    "print(f'failed calculations: {l_problems}')"
   ]
  },
  {
   "cell_type": "code",
   "execution_count": 4,
   "metadata": {},
   "outputs": [],
   "source": [
    "# from pathlib import Path\n",
    "# Path(\"../graphs/test\").mkdir(parents=True, exist_ok=True)\n",
    "\n",
    "# failed calculations: ['alexnet_VAL_DROPOUT']"
   ]
  },
  {
   "cell_type": "code",
   "execution_count": 5,
   "metadata": {},
   "outputs": [],
   "source": [
    "def Summary():\n",
    "    d_columns = ['DataSet', 'Model', 'Data', 'Method', 'Accuracy', 'Metric', 'Fail_Rate', 'Work_Load_P', 'Value',\n",
    "                'Tolerance_Range', 'Mean_ALL', 'Mean_Correct', 'Mean_Incorrect', 'Acc_Per_Model', \n",
    "                 'Worst_Acc_Per_Class']\n",
    "    df_merged = pd.DataFrame(columns=d_columns)\n",
    "\n",
    "    #file_path = '../uncertainty/densenet_csv/uncertainty_BioImLab_densenet121_VAL_DROPOUT_E50_30_0.5_1.5.csv'\n",
    "    dir_path = '../uncertainty/densenet_csv/'\n",
    "\n",
    "    list_files = os.listdir(dir_path)\n",
    "\n",
    "    dict_dataset = {'BioImLab': 'Bio', 'arkusai': 'Med'}\n",
    "    dict_model = {'alexnet': 'Alex', 'resnet18': 'Resnet', 'densenet121': 'Dense'}\n",
    "    dict_method = {'SCRATCH_Album_E12': 'SAL12', 'SCRATCH_Album_E1': 'SAL1', 'SCRATCH_E12': 'SCR12', \n",
    "                   'SCRATCH_E1': 'SCR1', 'TTA_E12': 'TTA12', 'TTA_E1': 'TTA1', \n",
    "                   'SNAP_Album': 'SNAP', 'SNAP': 'SNAP1', 'DROPOUT_Album': 'DROP', 'DROPOUT': 'DROP1'}\n",
    "    dict_metric = {'Softmax': 'SM', 'Certainty': 'C', 'uncertainty': 'UC', 'Entropy': 'Entr', 'Variance': 'Var'}\n",
    "\n",
    "    types = ['SCRATCH_Album_E12', 'SCRATCH_Album_E1', 'SCRATCH_E12', 'SCRATCH_E1', \n",
    "             'SNAP', 'TTA_E12', 'TTA_E1', 'DROPOUT']  # SNAP_E6\n",
    "    n_metric = 5 # Softmax, Certainty, uncertainty, Entropy, Variance\n",
    "\n",
    "    for file_name in list_files:\n",
    "        if file_name == '.DS_Store':\n",
    "            continue\n",
    "\n",
    "        file_path = dir_path + file_name\n",
    "        #file_path = 'uncertainty_BioImLab_densenet121_VAL_SCRATCH_E12_30_0.5_1.5.csv'\n",
    "        df_temp = pd.read_csv(file_path, index_col=0)\n",
    "\n",
    "        for t_type in types:\n",
    "            if t_type in file_path:\n",
    "                df_temp['Method'] = [t_type for i in range(n_metric)]\n",
    "                df_temp['ID'] = [t_type for i in range(n_metric)]\n",
    "                print(t_type)\n",
    "                break\n",
    "\n",
    "        print(f'file_name: {file_name}')\n",
    "\n",
    "        for rowID in range(n_metric):\n",
    "            df_temp.loc[rowID, 'ID'] = dict_dataset[df_temp.loc[rowID, 'DataSet']] + '.' \\\n",
    "                                + df_temp.loc[rowID, 'Data'] + '.' \\\n",
    "                                + dict_model[df_temp.loc[rowID, 'Model']] + '.' \\\n",
    "                                + dict_method[df_temp.loc[rowID, 'Method']] + '.' \\\n",
    "                                + dict_metric[df_temp.loc[rowID, 'Metric']] \n",
    "#             df_temp['ID'][rowID] = dict_dataset[df_temp['DataSet'][rowID]] + '.' \\\n",
    "#                                 + df_temp['Data'][rowID] + '.' \\\n",
    "#                                 + dict_model[df_temp['Model'][rowID]] + '.' \\\n",
    "#                                 + dict_method[df_temp['Method'][rowID]] + '.' \\\n",
    "#                                 + dict_metric[df_temp['Metric'][rowID]] \n",
    "\n",
    "        df_merged=pd.concat([df_merged,df_temp], sort=False)\n",
    "        df_merged.reset_index(inplace=True)\n",
    "        df_merged.drop(columns=['index'], inplace=True)\n",
    "\n",
    "    df_merged['Acc'] = df_merged['Accuracy'].apply(lambda x: float(x.replace('(', '').split(',')[0]))\n",
    "    df_merged['Incorrect'] = df_merged['Accuracy'].apply(lambda x: int(x.replace('(', '').split(',')[1]))\n",
    "    df_merged['2nd_best'] = df_merged['Accuracy'].apply(lambda x: int(x.replace('(', '').split(',')[2]))\n",
    "    df_merged['2nd_best_Ratio'] = round(df_merged['2nd_best']/df_merged['Incorrect']*100, 2)\n",
    "\n",
    "    df_merged['nTR'] = df_merged['Tolerance_Range'].apply(lambda x: \n",
    "                                    int(x.replace('(', '-').replace(')', '-').split('-')[0]))\n",
    "\n",
    "    df_merged['TR_min'] = df_merged['Tolerance_Range'].apply(lambda x: \n",
    "                                    float(x.replace('(', '-').replace(')', '-').split('-')[1]))\n",
    "\n",
    "    df_merged['nTR_max'] = df_merged['Tolerance_Range'].apply(lambda x: \n",
    "                                                              \n",
    "                                    float(x.replace('(', '-').replace(')', '-').split('-')[2]))\n",
    "\n",
    "    df_merged_var = df_merged[(df_merged['Metric']=='Variance') & (df_merged['Data']=='TEST')]\n",
    "    df_merged_var.reset_index(inplace=True)\n",
    "    df_merged_var.drop(columns=['DataSet', 'Model', 'Data', 'Method', 'Accuracy', 'Metric', 'index'], inplace=True)\n",
    "    \n",
    "    return df_merged, df_merged_var\n"
   ]
  },
  {
   "cell_type": "code",
   "execution_count": 6,
   "metadata": {},
   "outputs": [
    {
     "name": "stdout",
     "output_type": "stream",
     "text": [
      "SCRATCH_Album_E12\n",
      "file_name: uncertainty_arkusai_densenet121_VAL_SCRATCH_Album_E12_10_0.5_1.0.csv\n",
      "DROPOUT\n",
      "file_name: uncertainty_arkusai_densenet121_TEST_DROPOUT_E50_10_0.5_1.0.csv\n",
      "SCRATCH_E12\n",
      "file_name: uncertainty_arkusai_densenet121_VAL_SCRATCH_E12_10_0.5_1.0.csv\n",
      "SCRATCH_Album_E1\n",
      "file_name: uncertainty_arkusai_densenet121_TEST_SCRATCH_Album_E1_10_0.5_1.0.csv\n",
      "SCRATCH_E1\n",
      "file_name: uncertainty_arkusai_densenet121_VAL_SCRATCH_E1_10_0.5_1.0.csv\n",
      "TTA_E12\n",
      "file_name: uncertainty_arkusai_densenet121_VAL_TTA_E12_10_0.5_1.0.csv\n",
      "TTA_E1\n",
      "file_name: uncertainty_arkusai_densenet121_VAL_TTA_E1_10_0.5_1.0.csv\n",
      "SNAP\n",
      "file_name: uncertainty_arkusai_densenet121_VAL_SNAP_E8_10_0.5_1.0.csv\n",
      "SCRATCH_E1\n",
      "file_name: uncertainty_arkusai_densenet121_TEST_SCRATCH_E1_10_0.5_1.0.csv\n",
      "SCRATCH_E12\n",
      "file_name: uncertainty_arkusai_densenet121_VAL_SCRATCH_E12_5_0.5_1.0.csv\n",
      "TTA_E12\n",
      "file_name: uncertainty_arkusai_densenet121_TEST_TTA_E12_10_0.5_1.0.csv\n",
      "SNAP\n",
      "file_name: uncertainty_arkusai_densenet121_TEST_SNAP_E8_10_0.5_1.0.csv\n",
      "SCRATCH_E12\n",
      "file_name: uncertainty_arkusai_densenet121_TEST_SCRATCH_E12_10_0.5_1.0.csv\n",
      "SCRATCH_Album_E12\n",
      "file_name: uncertainty_arkusai_densenet121_TEST_SCRATCH_Album_E12_10_0.5_1.0.csv\n",
      "DROPOUT\n",
      "file_name: uncertainty_arkusai_densenet121_VAL_DROPOUT_E50_10_0.5_1.0.csv\n",
      "TTA_E1\n",
      "file_name: uncertainty_arkusai_densenet121_TEST_TTA_E1_10_0.5_1.0.csv\n"
     ]
    },
    {
     "name": "stderr",
     "output_type": "stream",
     "text": [
      "/Users/melih/opt/anaconda3/lib/python3.7/site-packages/pandas/core/frame.py:4102: SettingWithCopyWarning: \n",
      "A value is trying to be set on a copy of a slice from a DataFrame\n",
      "\n",
      "See the caveats in the documentation: http://pandas.pydata.org/pandas-docs/stable/user_guide/indexing.html#returning-a-view-versus-a-copy\n",
      "  errors=errors,\n"
     ]
    },
    {
     "data": {
      "text/html": [
       "<div>\n",
       "<style scoped>\n",
       "    .dataframe tbody tr th:only-of-type {\n",
       "        vertical-align: middle;\n",
       "    }\n",
       "\n",
       "    .dataframe tbody tr th {\n",
       "        vertical-align: top;\n",
       "    }\n",
       "\n",
       "    .dataframe thead th {\n",
       "        text-align: right;\n",
       "    }\n",
       "</style>\n",
       "<table border=\"1\" class=\"dataframe\">\n",
       "  <thead>\n",
       "    <tr style=\"text-align: right;\">\n",
       "      <th></th>\n",
       "      <th>Fail_Rate</th>\n",
       "      <th>Work_Load_P</th>\n",
       "      <th>Value</th>\n",
       "      <th>Tolerance_Range</th>\n",
       "      <th>Mean_ALL</th>\n",
       "      <th>Mean_Correct</th>\n",
       "      <th>Mean_Incorrect</th>\n",
       "      <th>Acc_Per_Model</th>\n",
       "      <th>Worst_Acc_Per_Class</th>\n",
       "      <th>ID</th>\n",
       "      <th>Acc</th>\n",
       "      <th>Incorrect</th>\n",
       "      <th>2nd_best</th>\n",
       "      <th>2nd_best_Ratio</th>\n",
       "      <th>nTR</th>\n",
       "      <th>TR_min</th>\n",
       "      <th>nTR_max</th>\n",
       "    </tr>\n",
       "  </thead>\n",
       "  <tbody>\n",
       "    <tr>\n",
       "      <td>0</td>\n",
       "      <td>0.4956</td>\n",
       "      <td>3.9064</td>\n",
       "      <td>0.53</td>\n",
       "      <td>71 (0.28-    0.98)</td>\n",
       "      <td>0.9601</td>\n",
       "      <td>0.9819</td>\n",
       "      <td>0.2535</td>\n",
       "      <td>[96.837, 96.9026, 96.8443, 96.888, 96.8588, 96...</td>\n",
       "      <td>[('14', 0.9203), ('13', 0.9367), ('21', 0.9372...</td>\n",
       "      <td>Med.TEST.Dense.DROP1.Var</td>\n",
       "      <td>97.0119</td>\n",
       "      <td>410</td>\n",
       "      <td>131</td>\n",
       "      <td>31.95</td>\n",
       "      <td>71</td>\n",
       "      <td>0.28</td>\n",
       "      <td>0.98</td>\n",
       "    </tr>\n",
       "    <tr>\n",
       "      <td>1</td>\n",
       "      <td>0.4883</td>\n",
       "      <td>5.2547</td>\n",
       "      <td>0.59</td>\n",
       "      <td>57 (0.38-        0.9400000000000001)</td>\n",
       "      <td>0.9495</td>\n",
       "      <td>0.9757</td>\n",
       "      <td>0.2643</td>\n",
       "      <td>[96.3122]</td>\n",
       "      <td>[('14', 0.9011), ('y', 0.9272), ('13', 0.9321)...</td>\n",
       "      <td>Med.TEST.Dense.SAL1.Var</td>\n",
       "      <td>96.3122</td>\n",
       "      <td>506</td>\n",
       "      <td>194</td>\n",
       "      <td>38.34</td>\n",
       "      <td>57</td>\n",
       "      <td>0.38</td>\n",
       "      <td>0.94</td>\n",
       "    </tr>\n",
       "    <tr>\n",
       "      <td>2</td>\n",
       "      <td>0.4883</td>\n",
       "      <td>3.8263</td>\n",
       "      <td>0.61</td>\n",
       "      <td>64 (0.36-        0.99)</td>\n",
       "      <td>0.9650</td>\n",
       "      <td>0.9868</td>\n",
       "      <td>0.2916</td>\n",
       "      <td>[96.8734]</td>\n",
       "      <td>[('14', 0.9171), ('13', 0.9321), ('15', 0.936)...</td>\n",
       "      <td>Med.TEST.Dense.SCR1.Var</td>\n",
       "      <td>96.8734</td>\n",
       "      <td>429</td>\n",
       "      <td>123</td>\n",
       "      <td>28.67</td>\n",
       "      <td>64</td>\n",
       "      <td>0.36</td>\n",
       "      <td>0.99</td>\n",
       "    </tr>\n",
       "    <tr>\n",
       "      <td>3</td>\n",
       "      <td>0.4920</td>\n",
       "      <td>4.6378</td>\n",
       "      <td>0.36</td>\n",
       "      <td>65 (0.18-    0.8200000000000001)</td>\n",
       "      <td>0.9287</td>\n",
       "      <td>0.9562</td>\n",
       "      <td>0.1858</td>\n",
       "      <td>[96.2102, 96.1893, 96.1788, 96.1893, 96.0951, ...</td>\n",
       "      <td>[('14', 0.894), ('15', 0.9215), ('22', 0.9282)...</td>\n",
       "      <td>Med.TEST.Dense.TTA12.Var</td>\n",
       "      <td>96.4301</td>\n",
       "      <td>341</td>\n",
       "      <td>95</td>\n",
       "      <td>27.86</td>\n",
       "      <td>65</td>\n",
       "      <td>0.18</td>\n",
       "      <td>0.82</td>\n",
       "    </tr>\n",
       "    <tr>\n",
       "      <td>4</td>\n",
       "      <td>0.4883</td>\n",
       "      <td>3.6076</td>\n",
       "      <td>0.39</td>\n",
       "      <td>68 (0.19-    0.86)</td>\n",
       "      <td>0.9438</td>\n",
       "      <td>0.9655</td>\n",
       "      <td>0.2077</td>\n",
       "      <td>[94.1331, 96.3122, 96.7641, 96.9098, 96.9317, ...</td>\n",
       "      <td>[('14', 0.9155), ('21', 0.9403), ('15', 0.9409...</td>\n",
       "      <td>Med.TEST.Dense.SNAP1.Var</td>\n",
       "      <td>97.1358</td>\n",
       "      <td>393</td>\n",
       "      <td>113</td>\n",
       "      <td>28.75</td>\n",
       "      <td>68</td>\n",
       "      <td>0.19</td>\n",
       "      <td>0.86</td>\n",
       "    </tr>\n",
       "    <tr>\n",
       "      <td>5</td>\n",
       "      <td>0.4737</td>\n",
       "      <td>3.1849</td>\n",
       "      <td>0.37</td>\n",
       "      <td>79 (0.19-    0.97)</td>\n",
       "      <td>0.9595</td>\n",
       "      <td>0.9805</td>\n",
       "      <td>0.2100</td>\n",
       "      <td>[96.9827, 96.8734, 96.99, 96.9536, 96.9754, 96...</td>\n",
       "      <td>[('14', 0.9203), ('21', 0.9388), ('15', 0.9392...</td>\n",
       "      <td>Med.TEST.Dense.SCR12.Var</td>\n",
       "      <td>97.2743</td>\n",
       "      <td>374</td>\n",
       "      <td>109</td>\n",
       "      <td>29.14</td>\n",
       "      <td>79</td>\n",
       "      <td>0.19</td>\n",
       "      <td>0.97</td>\n",
       "    </tr>\n",
       "    <tr>\n",
       "      <td>6</td>\n",
       "      <td>0.4737</td>\n",
       "      <td>3.1485</td>\n",
       "      <td>0.27</td>\n",
       "      <td>78 (0.11-    0.88)</td>\n",
       "      <td>0.9430</td>\n",
       "      <td>0.9645</td>\n",
       "      <td>0.1582</td>\n",
       "      <td>[96.5382, 96.3122, 96.5309, 96.4798, 96.5309, ...</td>\n",
       "      <td>[('14', 0.9091), ('21', 0.9341), ('22', 0.9405...</td>\n",
       "      <td>Med.TEST.Dense.SAL12.Var</td>\n",
       "      <td>97.3326</td>\n",
       "      <td>366</td>\n",
       "      <td>108</td>\n",
       "      <td>29.51</td>\n",
       "      <td>78</td>\n",
       "      <td>0.11</td>\n",
       "      <td>0.88</td>\n",
       "    </tr>\n",
       "    <tr>\n",
       "      <td>7</td>\n",
       "      <td>0.4711</td>\n",
       "      <td>5.2345</td>\n",
       "      <td>0.41</td>\n",
       "      <td>58 (0.23-        0.8)</td>\n",
       "      <td>0.9266</td>\n",
       "      <td>0.9555</td>\n",
       "      <td>0.1981</td>\n",
       "      <td>[96.1893]</td>\n",
       "      <td>[('14', 0.894), ('22', 0.9211), ('15', 0.9261)...</td>\n",
       "      <td>Med.TEST.Dense.TTA1.Var</td>\n",
       "      <td>96.1893</td>\n",
       "      <td>364</td>\n",
       "      <td>107</td>\n",
       "      <td>29.40</td>\n",
       "      <td>58</td>\n",
       "      <td>0.23</td>\n",
       "      <td>0.80</td>\n",
       "    </tr>\n",
       "  </tbody>\n",
       "</table>\n",
       "</div>"
      ],
      "text/plain": [
       "   Fail_Rate  Work_Load_P  Value                       Tolerance_Range  \\\n",
       "0     0.4956       3.9064   0.53                    71 (0.28-    0.98)   \n",
       "1     0.4883       5.2547   0.59  57 (0.38-        0.9400000000000001)   \n",
       "2     0.4883       3.8263   0.61                64 (0.36-        0.99)   \n",
       "3     0.4920       4.6378   0.36      65 (0.18-    0.8200000000000001)   \n",
       "4     0.4883       3.6076   0.39                    68 (0.19-    0.86)   \n",
       "5     0.4737       3.1849   0.37                    79 (0.19-    0.97)   \n",
       "6     0.4737       3.1485   0.27                    78 (0.11-    0.88)   \n",
       "7     0.4711       5.2345   0.41                 58 (0.23-        0.8)   \n",
       "\n",
       "   Mean_ALL  Mean_Correct  Mean_Incorrect  \\\n",
       "0    0.9601        0.9819          0.2535   \n",
       "1    0.9495        0.9757          0.2643   \n",
       "2    0.9650        0.9868          0.2916   \n",
       "3    0.9287        0.9562          0.1858   \n",
       "4    0.9438        0.9655          0.2077   \n",
       "5    0.9595        0.9805          0.2100   \n",
       "6    0.9430        0.9645          0.1582   \n",
       "7    0.9266        0.9555          0.1981   \n",
       "\n",
       "                                       Acc_Per_Model  \\\n",
       "0  [96.837, 96.9026, 96.8443, 96.888, 96.8588, 96...   \n",
       "1                                          [96.3122]   \n",
       "2                                          [96.8734]   \n",
       "3  [96.2102, 96.1893, 96.1788, 96.1893, 96.0951, ...   \n",
       "4  [94.1331, 96.3122, 96.7641, 96.9098, 96.9317, ...   \n",
       "5  [96.9827, 96.8734, 96.99, 96.9536, 96.9754, 96...   \n",
       "6  [96.5382, 96.3122, 96.5309, 96.4798, 96.5309, ...   \n",
       "7                                          [96.1893]   \n",
       "\n",
       "                                 Worst_Acc_Per_Class  \\\n",
       "0  [('14', 0.9203), ('13', 0.9367), ('21', 0.9372...   \n",
       "1  [('14', 0.9011), ('y', 0.9272), ('13', 0.9321)...   \n",
       "2  [('14', 0.9171), ('13', 0.9321), ('15', 0.936)...   \n",
       "3  [('14', 0.894), ('15', 0.9215), ('22', 0.9282)...   \n",
       "4  [('14', 0.9155), ('21', 0.9403), ('15', 0.9409...   \n",
       "5  [('14', 0.9203), ('21', 0.9388), ('15', 0.9392...   \n",
       "6  [('14', 0.9091), ('21', 0.9341), ('22', 0.9405...   \n",
       "7  [('14', 0.894), ('22', 0.9211), ('15', 0.9261)...   \n",
       "\n",
       "                         ID      Acc  Incorrect  2nd_best  2nd_best_Ratio  \\\n",
       "0  Med.TEST.Dense.DROP1.Var  97.0119        410       131           31.95   \n",
       "1   Med.TEST.Dense.SAL1.Var  96.3122        506       194           38.34   \n",
       "2   Med.TEST.Dense.SCR1.Var  96.8734        429       123           28.67   \n",
       "3  Med.TEST.Dense.TTA12.Var  96.4301        341        95           27.86   \n",
       "4  Med.TEST.Dense.SNAP1.Var  97.1358        393       113           28.75   \n",
       "5  Med.TEST.Dense.SCR12.Var  97.2743        374       109           29.14   \n",
       "6  Med.TEST.Dense.SAL12.Var  97.3326        366       108           29.51   \n",
       "7   Med.TEST.Dense.TTA1.Var  96.1893        364       107           29.40   \n",
       "\n",
       "   nTR  TR_min  nTR_max  \n",
       "0   71    0.28     0.98  \n",
       "1   57    0.38     0.94  \n",
       "2   64    0.36     0.99  \n",
       "3   65    0.18     0.82  \n",
       "4   68    0.19     0.86  \n",
       "5   79    0.19     0.97  \n",
       "6   78    0.11     0.88  \n",
       "7   58    0.23     0.80  "
      ]
     },
     "execution_count": 6,
     "metadata": {},
     "output_type": "execute_result"
    }
   ],
   "source": [
    "df_merged, df_merged_var = Summary()\n",
    "df_merged_var"
   ]
  },
  {
   "cell_type": "code",
   "execution_count": 7,
   "metadata": {},
   "outputs": [],
   "source": [
    "import pickle5 as pickle\n",
    "f_path='../results/densenet121_29.06.2021_11.22.42__LR.pkl'\n",
    "with open(f_path, 'rb') as fp:\n",
    "    result = pickle.load(fp)"
   ]
  },
  {
   "cell_type": "code",
   "execution_count": 8,
   "metadata": {},
   "outputs": [
    {
     "data": {
      "text/plain": [
       "[<matplotlib.lines.Line2D at 0x7fcea25b8290>]"
      ]
     },
     "execution_count": 8,
     "metadata": {},
     "output_type": "execute_result"
    },
    {
     "data": {
      "image/png": "[encoded data removed]",
      "text/plain": [
       "<Figure size 432x288 with 1 Axes>"
      ]
     },
     "metadata": {},
     "output_type": "display_data"
    }
   ],
   "source": [
    "plt.plot(result)"
   ]
  },
  {
   "cell_type": "code",
   "execution_count": 9,
   "metadata": {},
   "outputs": [
    {
     "name": "stdout",
     "output_type": "stream",
     "text": [
      "3\n"
     ]
    }
   ],
   "source": [
    "import random\n",
    "print(random.randint(1,6))"
   ]
  }
 ],
 "metadata": {
  "kernelspec": {
   "display_name": "Python 3",
   "language": "python",
   "name": "python3"
  },
  "language_info": {
   "codemirror_mode": {
    "name": "ipython",
    "version": 3
   },
   "file_extension": ".py",
   "mimetype": "text/x-python",
   "name": "python",
   "nbconvert_exporter": "python",
   "pygments_lexer": "ipython3",
   "version": "3.7.4"
  }
 },
 "nbformat": 4,
 "nbformat_minor": 2
}
