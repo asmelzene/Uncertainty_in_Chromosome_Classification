{
 "cells": [
  {
   "cell_type": "code",
   "execution_count": 1,
   "metadata": {},
   "outputs": [
    {
     "name": "stdout",
     "output_type": "stream",
     "text": [
      "PyTorch Version:  1.7.1\n",
      "Torchvision Version:  0.8.2\n"
     ]
    }
   ],
   "source": [
    "import datetime                  # test + Uncertainty\n",
    "import pandas as pd              # test + Uncertainty\n",
    "import numpy as np               # test + Uncertainty\n",
    "import pickle5 as pickle                    # Uncertainty\n",
    "from tqdm import tqdm\n",
    "\n",
    "#import test_model as tm          # test\n",
    "import test_uncertainty_Softmax_v3 as tuc   # Uncertainty\n",
    "from humanfriendly import format_timespan\n",
    "\n",
    "from sklearn import metrics\n",
    "from sklearn import preprocessing\n",
    "from sklearn.metrics import plot_roc_curve\n",
    "from sklearn.metrics import roc_auc_score\n",
    "from sklearn.metrics import roc_curve, auc\n",
    "from sklearn.metrics import confusion_matrix\n",
    "import performance\n",
    "\n",
    "from sklearn.preprocessing import LabelEncoder\n",
    "from sklearn.preprocessing import OneHotEncoder\n",
    "\n",
    "from scipy import stats\n",
    "from scipy.special import entr\n",
    "from collections import Counter\n",
    "\n",
    "import matplotlib.pyplot as plt\n",
    "import seaborn as sns\n",
    "import pylab"
   ]
  },
  {
   "cell_type": "markdown",
   "metadata": {},
   "source": [
    "## RUN TEST ON PICTURES"
   ]
  },
  {
   "cell_type": "code",
   "execution_count": 2,
   "metadata": {},
   "outputs": [
    {
     "name": "stdout",
     "output_type": "stream",
     "text": [
      "uncertainty running: 2021-06-27 00:36:18.692165\n"
     ]
    }
   ],
   "source": [
    "# execute_test = False\n",
    "# start_date=datetime.datetime.now()\n",
    "# if execute_test:        \n",
    "#     %run test_model --config ../config/config_squeezenet1_0.ini\n",
    "    \n",
    "pd.set_option('max_colwidth', -1)\n",
    "pd.set_option('display.max_columns', -1)\n",
    "#pd.set_option('display.max_rows', 500)\n",
    "start_date=datetime.datetime.now()\n",
    "print(f'uncertainty running: {start_date}')"
   ]
  },
  {
   "cell_type": "markdown",
   "metadata": {},
   "source": [
    "## RUN UNCERTAINTY CALCULATIONS"
   ]
  },
  {
   "cell_type": "code",
   "execution_count": 3,
   "metadata": {},
   "outputs": [
    {
     "name": "stdout",
     "output_type": "stream",
     "text": [
      "reading the DataFrame of the ensemble results\n"
     ]
    },
    {
     "name": "stderr",
     "output_type": "stream",
     "text": [
      "2021-06-27 00:36:27,387  uncertainty   INFO  initializing uncertainty calculations\n"
     ]
    },
    {
     "name": "stdout",
     "output_type": "stream",
     "text": [
      "picking the models to be used\n",
      "date and time = 27.06.2021_00.36.27\n",
      "[0, 1, 2, 3, 4, 5, 6, 7, 8, 9, 10, 11]\n"
     ]
    }
   ],
   "source": [
    "# tuc1 = tuc.test_uncertainty('../config/config_squeezenet1_0.ini')\n",
    "# tuc1 = tuc.test_uncertainty('../config/config_alexnet.ini')\n",
    "# tuc1 = tuc.test_uncertainty('../config/config_resnet18.ini')\n",
    "# use_sample_weights = [0,1,3,5,6]\n",
    "use_sample_weights = [-1]  # if -1 then use all weights in the given ***** result pkl ******\n",
    "#tuc1 = tuc.test_uncertainty('../config/VAL/config_densenet121_TTA.ini', use_sample_weights)\n",
    "#tuc1 = tuc.test_uncertainty('../config/config_resnet18.ini', use_sample_weights)\n",
    "tuc1 = tuc.test_uncertainty('../config/VAL/config_densenet121_SCRATCH.ini', use_sample_weights)\n",
    "#tuc1 = tuc.test_uncertainty('../config/TEST/config_densenet121_DROPOUT.ini', use_sample_weights)\n",
    "u_Dataset = 'arkusai'\n",
    "u_Model = 'alexnet'\n",
    "u_Data = 'VAL'\n",
    "#tuc1 = tuc.test_uncertainty('../config/VAL/config_resnet18_SCRATCH.ini', use_sample_weights)\n",
    "print(list(range(len(tuc1.df_result_ensemble.loc[0,'outputs_all']))))\n",
    "\n",
    "index_to_class = pd.read_csv('../data/index_to_class.csv')\n",
    "class_to_index = index_to_class.set_index('class')\n",
    "class_to_index.columns=['idx']"
   ]
  },
  {
   "cell_type": "markdown",
   "metadata": {},
   "source": [
    "## Accuracy Per Model"
   ]
  },
  {
   "cell_type": "code",
   "execution_count": 4,
   "metadata": {},
   "outputs": [
    {
     "name": "stdout",
     "output_type": "stream",
     "text": [
      "[96.1893, 95.9904, 96.1265, 96.1369, 95.9694, 95.938, 96.0846, 96.0741, 96.0846, 96.0741, 96.0113, 96.116]\n"
     ]
    }
   ],
   "source": [
    "lst_acc_models, lst_column = tuc1.accuracy_per_model(use_sample_weights)\n",
    "print(lst_acc_models)"
   ]
  },
  {
   "cell_type": "code",
   "execution_count": 5,
   "metadata": {},
   "outputs": [
    {
     "ename": "IndexError",
     "evalue": "index 16 is out of bounds for axis 0 with size 16",
     "output_type": "error",
     "traceback": [
      "\u001b[0;31m---------------------------------------------------------------------------\u001b[0m",
      "\u001b[0;31mIndexError\u001b[0m                                Traceback (most recent call last)",
      "\u001b[0;32m~/opt/anaconda3/lib/python3.7/site-packages/IPython/core/formatters.py\u001b[0m in \u001b[0;36m__call__\u001b[0;34m(self, obj)\u001b[0m\n\u001b[1;32m    700\u001b[0m                 \u001b[0mtype_pprinters\u001b[0m\u001b[0;34m=\u001b[0m\u001b[0mself\u001b[0m\u001b[0;34m.\u001b[0m\u001b[0mtype_printers\u001b[0m\u001b[0;34m,\u001b[0m\u001b[0;34m\u001b[0m\u001b[0;34m\u001b[0m\u001b[0m\n\u001b[1;32m    701\u001b[0m                 deferred_pprinters=self.deferred_printers)\n\u001b[0;32m--> 702\u001b[0;31m             \u001b[0mprinter\u001b[0m\u001b[0;34m.\u001b[0m\u001b[0mpretty\u001b[0m\u001b[0;34m(\u001b[0m\u001b[0mobj\u001b[0m\u001b[0;34m)\u001b[0m\u001b[0;34m\u001b[0m\u001b[0;34m\u001b[0m\u001b[0m\n\u001b[0m\u001b[1;32m    703\u001b[0m             \u001b[0mprinter\u001b[0m\u001b[0;34m.\u001b[0m\u001b[0mflush\u001b[0m\u001b[0;34m(\u001b[0m\u001b[0;34m)\u001b[0m\u001b[0;34m\u001b[0m\u001b[0;34m\u001b[0m\u001b[0m\n\u001b[1;32m    704\u001b[0m             \u001b[0;32mreturn\u001b[0m \u001b[0mstream\u001b[0m\u001b[0;34m.\u001b[0m\u001b[0mgetvalue\u001b[0m\u001b[0;34m(\u001b[0m\u001b[0;34m)\u001b[0m\u001b[0;34m\u001b[0m\u001b[0;34m\u001b[0m\u001b[0m\n",
      "\u001b[0;32m~/opt/anaconda3/lib/python3.7/site-packages/IPython/lib/pretty.py\u001b[0m in \u001b[0;36mpretty\u001b[0;34m(self, obj)\u001b[0m\n\u001b[1;32m    400\u001b[0m                         \u001b[0;32mif\u001b[0m \u001b[0mcls\u001b[0m \u001b[0;32mis\u001b[0m \u001b[0;32mnot\u001b[0m \u001b[0mobject\u001b[0m\u001b[0;31m \u001b[0m\u001b[0;31m\\\u001b[0m\u001b[0;34m\u001b[0m\u001b[0;34m\u001b[0m\u001b[0m\n\u001b[1;32m    401\u001b[0m                                 \u001b[0;32mand\u001b[0m \u001b[0mcallable\u001b[0m\u001b[0;34m(\u001b[0m\u001b[0mcls\u001b[0m\u001b[0;34m.\u001b[0m\u001b[0m__dict__\u001b[0m\u001b[0;34m.\u001b[0m\u001b[0mget\u001b[0m\u001b[0;34m(\u001b[0m\u001b[0;34m'__repr__'\u001b[0m\u001b[0;34m)\u001b[0m\u001b[0;34m)\u001b[0m\u001b[0;34m:\u001b[0m\u001b[0;34m\u001b[0m\u001b[0;34m\u001b[0m\u001b[0m\n\u001b[0;32m--> 402\u001b[0;31m                             \u001b[0;32mreturn\u001b[0m \u001b[0m_repr_pprint\u001b[0m\u001b[0;34m(\u001b[0m\u001b[0mobj\u001b[0m\u001b[0;34m,\u001b[0m \u001b[0mself\u001b[0m\u001b[0;34m,\u001b[0m \u001b[0mcycle\u001b[0m\u001b[0;34m)\u001b[0m\u001b[0;34m\u001b[0m\u001b[0;34m\u001b[0m\u001b[0m\n\u001b[0m\u001b[1;32m    403\u001b[0m \u001b[0;34m\u001b[0m\u001b[0m\n\u001b[1;32m    404\u001b[0m             \u001b[0;32mreturn\u001b[0m \u001b[0m_default_pprint\u001b[0m\u001b[0;34m(\u001b[0m\u001b[0mobj\u001b[0m\u001b[0;34m,\u001b[0m \u001b[0mself\u001b[0m\u001b[0;34m,\u001b[0m \u001b[0mcycle\u001b[0m\u001b[0;34m)\u001b[0m\u001b[0;34m\u001b[0m\u001b[0;34m\u001b[0m\u001b[0m\n",
      "\u001b[0;32m~/opt/anaconda3/lib/python3.7/site-packages/IPython/lib/pretty.py\u001b[0m in \u001b[0;36m_repr_pprint\u001b[0;34m(obj, p, cycle)\u001b[0m\n\u001b[1;32m    695\u001b[0m     \u001b[0;34m\"\"\"A pprint that just redirects to the normal repr function.\"\"\"\u001b[0m\u001b[0;34m\u001b[0m\u001b[0;34m\u001b[0m\u001b[0m\n\u001b[1;32m    696\u001b[0m     \u001b[0;31m# Find newlines and replace them with p.break_()\u001b[0m\u001b[0;34m\u001b[0m\u001b[0;34m\u001b[0m\u001b[0;34m\u001b[0m\u001b[0m\n\u001b[0;32m--> 697\u001b[0;31m     \u001b[0moutput\u001b[0m \u001b[0;34m=\u001b[0m \u001b[0mrepr\u001b[0m\u001b[0;34m(\u001b[0m\u001b[0mobj\u001b[0m\u001b[0;34m)\u001b[0m\u001b[0;34m\u001b[0m\u001b[0;34m\u001b[0m\u001b[0m\n\u001b[0m\u001b[1;32m    698\u001b[0m     \u001b[0;32mfor\u001b[0m \u001b[0midx\u001b[0m\u001b[0;34m,\u001b[0m\u001b[0moutput_line\u001b[0m \u001b[0;32min\u001b[0m \u001b[0menumerate\u001b[0m\u001b[0;34m(\u001b[0m\u001b[0moutput\u001b[0m\u001b[0;34m.\u001b[0m\u001b[0msplitlines\u001b[0m\u001b[0;34m(\u001b[0m\u001b[0;34m)\u001b[0m\u001b[0;34m)\u001b[0m\u001b[0;34m:\u001b[0m\u001b[0;34m\u001b[0m\u001b[0;34m\u001b[0m\u001b[0m\n\u001b[1;32m    699\u001b[0m         \u001b[0;32mif\u001b[0m \u001b[0midx\u001b[0m\u001b[0;34m:\u001b[0m\u001b[0;34m\u001b[0m\u001b[0;34m\u001b[0m\u001b[0m\n",
      "\u001b[0;32m~/opt/anaconda3/lib/python3.7/site-packages/pandas/core/frame.py\u001b[0m in \u001b[0;36m__repr__\u001b[0;34m(self)\u001b[0m\n\u001b[1;32m    653\u001b[0m             \u001b[0mmax_cols\u001b[0m\u001b[0;34m=\u001b[0m\u001b[0mmax_cols\u001b[0m\u001b[0;34m,\u001b[0m\u001b[0;34m\u001b[0m\u001b[0;34m\u001b[0m\u001b[0m\n\u001b[1;32m    654\u001b[0m             \u001b[0mline_width\u001b[0m\u001b[0;34m=\u001b[0m\u001b[0mwidth\u001b[0m\u001b[0;34m,\u001b[0m\u001b[0;34m\u001b[0m\u001b[0;34m\u001b[0m\u001b[0m\n\u001b[0;32m--> 655\u001b[0;31m             \u001b[0mshow_dimensions\u001b[0m\u001b[0;34m=\u001b[0m\u001b[0mshow_dimensions\u001b[0m\u001b[0;34m,\u001b[0m\u001b[0;34m\u001b[0m\u001b[0;34m\u001b[0m\u001b[0m\n\u001b[0m\u001b[1;32m    656\u001b[0m         )\n\u001b[1;32m    657\u001b[0m \u001b[0;34m\u001b[0m\u001b[0m\n",
      "\u001b[0;32m~/opt/anaconda3/lib/python3.7/site-packages/pandas/core/frame.py\u001b[0m in \u001b[0;36mto_string\u001b[0;34m(self, buf, columns, col_space, header, index, na_rep, formatters, float_format, sparsify, index_names, justify, max_rows, min_rows, max_cols, show_dimensions, decimal, line_width)\u001b[0m\n\u001b[1;32m    759\u001b[0m             \u001b[0mline_width\u001b[0m\u001b[0;34m=\u001b[0m\u001b[0mline_width\u001b[0m\u001b[0;34m,\u001b[0m\u001b[0;34m\u001b[0m\u001b[0;34m\u001b[0m\u001b[0m\n\u001b[1;32m    760\u001b[0m         )\n\u001b[0;32m--> 761\u001b[0;31m         \u001b[0mformatter\u001b[0m\u001b[0;34m.\u001b[0m\u001b[0mto_string\u001b[0m\u001b[0;34m(\u001b[0m\u001b[0;34m)\u001b[0m\u001b[0;34m\u001b[0m\u001b[0;34m\u001b[0m\u001b[0m\n\u001b[0m\u001b[1;32m    762\u001b[0m \u001b[0;34m\u001b[0m\u001b[0m\n\u001b[1;32m    763\u001b[0m         \u001b[0;32mif\u001b[0m \u001b[0mbuf\u001b[0m \u001b[0;32mis\u001b[0m \u001b[0;32mNone\u001b[0m\u001b[0;34m:\u001b[0m\u001b[0;34m\u001b[0m\u001b[0;34m\u001b[0m\u001b[0m\n",
      "\u001b[0;32m~/opt/anaconda3/lib/python3.7/site-packages/pandas/io/formats/format.py\u001b[0m in \u001b[0;36mto_string\u001b[0;34m(self)\u001b[0m\n\u001b[1;32m    686\u001b[0m         \u001b[0;32melse\u001b[0m\u001b[0;34m:\u001b[0m\u001b[0;34m\u001b[0m\u001b[0;34m\u001b[0m\u001b[0m\n\u001b[1;32m    687\u001b[0m \u001b[0;34m\u001b[0m\u001b[0m\n\u001b[0;32m--> 688\u001b[0;31m             \u001b[0mstrcols\u001b[0m \u001b[0;34m=\u001b[0m \u001b[0mself\u001b[0m\u001b[0;34m.\u001b[0m\u001b[0m_to_str_columns\u001b[0m\u001b[0;34m(\u001b[0m\u001b[0;34m)\u001b[0m\u001b[0;34m\u001b[0m\u001b[0;34m\u001b[0m\u001b[0m\n\u001b[0m\u001b[1;32m    689\u001b[0m             \u001b[0;32mif\u001b[0m \u001b[0mself\u001b[0m\u001b[0;34m.\u001b[0m\u001b[0mline_width\u001b[0m \u001b[0;32mis\u001b[0m \u001b[0;32mNone\u001b[0m\u001b[0;34m:\u001b[0m  \u001b[0;31m# no need to wrap around just print\u001b[0m\u001b[0;34m\u001b[0m\u001b[0;34m\u001b[0m\u001b[0m\n\u001b[1;32m    690\u001b[0m                 \u001b[0;31m# the whole frame\u001b[0m\u001b[0;34m\u001b[0m\u001b[0;34m\u001b[0m\u001b[0;34m\u001b[0m\u001b[0m\n",
      "\u001b[0;32m~/opt/anaconda3/lib/python3.7/site-packages/pandas/io/formats/format.py\u001b[0m in \u001b[0;36m_to_str_columns\u001b[0;34m(self)\u001b[0m\n\u001b[1;32m    612\u001b[0m                 \u001b[0mstr_columns\u001b[0m \u001b[0;34m=\u001b[0m \u001b[0;34m[\u001b[0m\u001b[0;34m[\u001b[0m\u001b[0mlabel\u001b[0m\u001b[0;34m]\u001b[0m \u001b[0;32mfor\u001b[0m \u001b[0mlabel\u001b[0m \u001b[0;32min\u001b[0m \u001b[0mself\u001b[0m\u001b[0;34m.\u001b[0m\u001b[0mheader\u001b[0m\u001b[0;34m]\u001b[0m\u001b[0;34m\u001b[0m\u001b[0;34m\u001b[0m\u001b[0m\n\u001b[1;32m    613\u001b[0m             \u001b[0;32melse\u001b[0m\u001b[0;34m:\u001b[0m\u001b[0;34m\u001b[0m\u001b[0;34m\u001b[0m\u001b[0m\n\u001b[0;32m--> 614\u001b[0;31m                 \u001b[0mstr_columns\u001b[0m \u001b[0;34m=\u001b[0m \u001b[0mself\u001b[0m\u001b[0;34m.\u001b[0m\u001b[0m_get_formatted_column_labels\u001b[0m\u001b[0;34m(\u001b[0m\u001b[0mframe\u001b[0m\u001b[0;34m)\u001b[0m\u001b[0;34m\u001b[0m\u001b[0;34m\u001b[0m\u001b[0m\n\u001b[0m\u001b[1;32m    615\u001b[0m \u001b[0;34m\u001b[0m\u001b[0m\n\u001b[1;32m    616\u001b[0m             \u001b[0;32mif\u001b[0m \u001b[0mself\u001b[0m\u001b[0;34m.\u001b[0m\u001b[0mshow_row_idx_names\u001b[0m\u001b[0;34m:\u001b[0m\u001b[0;34m\u001b[0m\u001b[0;34m\u001b[0m\u001b[0m\n",
      "\u001b[0;32m~/opt/anaconda3/lib/python3.7/site-packages/pandas/io/formats/format.py\u001b[0m in \u001b[0;36m_get_formatted_column_labels\u001b[0;34m(self, frame)\u001b[0m\n\u001b[1;32m    883\u001b[0m             str_columns = [\n\u001b[1;32m    884\u001b[0m                 \u001b[0;34m[\u001b[0m\u001b[0;34m\" \"\u001b[0m \u001b[0;34m+\u001b[0m \u001b[0mx\u001b[0m \u001b[0;32mif\u001b[0m \u001b[0;32mnot\u001b[0m \u001b[0mself\u001b[0m\u001b[0;34m.\u001b[0m\u001b[0m_get_formatter\u001b[0m\u001b[0;34m(\u001b[0m\u001b[0mi\u001b[0m\u001b[0;34m)\u001b[0m \u001b[0;32mand\u001b[0m \u001b[0mneed_leadsp\u001b[0m\u001b[0;34m[\u001b[0m\u001b[0mx\u001b[0m\u001b[0;34m]\u001b[0m \u001b[0;32melse\u001b[0m \u001b[0mx\u001b[0m\u001b[0;34m]\u001b[0m\u001b[0;34m\u001b[0m\u001b[0;34m\u001b[0m\u001b[0m\n\u001b[0;32m--> 885\u001b[0;31m                 \u001b[0;32mfor\u001b[0m \u001b[0mi\u001b[0m\u001b[0;34m,\u001b[0m \u001b[0;34m(\u001b[0m\u001b[0mcol\u001b[0m\u001b[0;34m,\u001b[0m \u001b[0mx\u001b[0m\u001b[0;34m)\u001b[0m \u001b[0;32min\u001b[0m \u001b[0menumerate\u001b[0m\u001b[0;34m(\u001b[0m\u001b[0mzip\u001b[0m\u001b[0;34m(\u001b[0m\u001b[0mcolumns\u001b[0m\u001b[0;34m,\u001b[0m \u001b[0mfmt_columns\u001b[0m\u001b[0;34m)\u001b[0m\u001b[0;34m)\u001b[0m\u001b[0;34m\u001b[0m\u001b[0;34m\u001b[0m\u001b[0m\n\u001b[0m\u001b[1;32m    886\u001b[0m             ]\n\u001b[1;32m    887\u001b[0m         \u001b[0;31m# self.str_columns = str_columns\u001b[0m\u001b[0;34m\u001b[0m\u001b[0;34m\u001b[0m\u001b[0;34m\u001b[0m\u001b[0m\n",
      "\u001b[0;32m~/opt/anaconda3/lib/python3.7/site-packages/pandas/io/formats/format.py\u001b[0m in \u001b[0;36m<listcomp>\u001b[0;34m(.0)\u001b[0m\n\u001b[1;32m    883\u001b[0m             str_columns = [\n\u001b[1;32m    884\u001b[0m                 \u001b[0;34m[\u001b[0m\u001b[0;34m\" \"\u001b[0m \u001b[0;34m+\u001b[0m \u001b[0mx\u001b[0m \u001b[0;32mif\u001b[0m \u001b[0;32mnot\u001b[0m \u001b[0mself\u001b[0m\u001b[0;34m.\u001b[0m\u001b[0m_get_formatter\u001b[0m\u001b[0;34m(\u001b[0m\u001b[0mi\u001b[0m\u001b[0;34m)\u001b[0m \u001b[0;32mand\u001b[0m \u001b[0mneed_leadsp\u001b[0m\u001b[0;34m[\u001b[0m\u001b[0mx\u001b[0m\u001b[0;34m]\u001b[0m \u001b[0;32melse\u001b[0m \u001b[0mx\u001b[0m\u001b[0;34m]\u001b[0m\u001b[0;34m\u001b[0m\u001b[0;34m\u001b[0m\u001b[0m\n\u001b[0;32m--> 885\u001b[0;31m                 \u001b[0;32mfor\u001b[0m \u001b[0mi\u001b[0m\u001b[0;34m,\u001b[0m \u001b[0;34m(\u001b[0m\u001b[0mcol\u001b[0m\u001b[0;34m,\u001b[0m \u001b[0mx\u001b[0m\u001b[0;34m)\u001b[0m \u001b[0;32min\u001b[0m \u001b[0menumerate\u001b[0m\u001b[0;34m(\u001b[0m\u001b[0mzip\u001b[0m\u001b[0;34m(\u001b[0m\u001b[0mcolumns\u001b[0m\u001b[0;34m,\u001b[0m \u001b[0mfmt_columns\u001b[0m\u001b[0;34m)\u001b[0m\u001b[0;34m)\u001b[0m\u001b[0;34m\u001b[0m\u001b[0;34m\u001b[0m\u001b[0m\n\u001b[0m\u001b[1;32m    886\u001b[0m             ]\n\u001b[1;32m    887\u001b[0m         \u001b[0;31m# self.str_columns = str_columns\u001b[0m\u001b[0;34m\u001b[0m\u001b[0;34m\u001b[0m\u001b[0;34m\u001b[0m\u001b[0m\n",
      "\u001b[0;32m~/opt/anaconda3/lib/python3.7/site-packages/pandas/io/formats/format.py\u001b[0m in \u001b[0;36m_get_formatter\u001b[0;34m(self, i)\u001b[0m\n\u001b[1;32m    418\u001b[0m         \u001b[0;32melse\u001b[0m\u001b[0;34m:\u001b[0m\u001b[0;34m\u001b[0m\u001b[0;34m\u001b[0m\u001b[0m\n\u001b[1;32m    419\u001b[0m             \u001b[0;32mif\u001b[0m \u001b[0mis_integer\u001b[0m\u001b[0;34m(\u001b[0m\u001b[0mi\u001b[0m\u001b[0;34m)\u001b[0m \u001b[0;32mand\u001b[0m \u001b[0mi\u001b[0m \u001b[0;32mnot\u001b[0m \u001b[0;32min\u001b[0m \u001b[0mself\u001b[0m\u001b[0;34m.\u001b[0m\u001b[0mcolumns\u001b[0m\u001b[0;34m:\u001b[0m\u001b[0;34m\u001b[0m\u001b[0;34m\u001b[0m\u001b[0m\n\u001b[0;32m--> 420\u001b[0;31m                 \u001b[0mi\u001b[0m \u001b[0;34m=\u001b[0m \u001b[0mself\u001b[0m\u001b[0;34m.\u001b[0m\u001b[0mcolumns\u001b[0m\u001b[0;34m[\u001b[0m\u001b[0mi\u001b[0m\u001b[0;34m]\u001b[0m\u001b[0;34m\u001b[0m\u001b[0;34m\u001b[0m\u001b[0m\n\u001b[0m\u001b[1;32m    421\u001b[0m             \u001b[0;32mreturn\u001b[0m \u001b[0mself\u001b[0m\u001b[0;34m.\u001b[0m\u001b[0mformatters\u001b[0m\u001b[0;34m.\u001b[0m\u001b[0mget\u001b[0m\u001b[0;34m(\u001b[0m\u001b[0mi\u001b[0m\u001b[0;34m,\u001b[0m \u001b[0;32mNone\u001b[0m\u001b[0;34m)\u001b[0m\u001b[0;34m\u001b[0m\u001b[0;34m\u001b[0m\u001b[0m\n\u001b[1;32m    422\u001b[0m \u001b[0;34m\u001b[0m\u001b[0m\n",
      "\u001b[0;32m~/opt/anaconda3/lib/python3.7/site-packages/pandas/core/indexes/base.py\u001b[0m in \u001b[0;36m__getitem__\u001b[0;34m(self, key)\u001b[0m\n\u001b[1;32m   4278\u001b[0m         \u001b[0;32mif\u001b[0m \u001b[0mis_scalar\u001b[0m\u001b[0;34m(\u001b[0m\u001b[0mkey\u001b[0m\u001b[0;34m)\u001b[0m\u001b[0;34m:\u001b[0m\u001b[0;34m\u001b[0m\u001b[0;34m\u001b[0m\u001b[0m\n\u001b[1;32m   4279\u001b[0m             \u001b[0mkey\u001b[0m \u001b[0;34m=\u001b[0m \u001b[0mcom\u001b[0m\u001b[0;34m.\u001b[0m\u001b[0mcast_scalar_indexer\u001b[0m\u001b[0;34m(\u001b[0m\u001b[0mkey\u001b[0m\u001b[0;34m)\u001b[0m\u001b[0;34m\u001b[0m\u001b[0;34m\u001b[0m\u001b[0m\n\u001b[0;32m-> 4280\u001b[0;31m             \u001b[0;32mreturn\u001b[0m \u001b[0mgetitem\u001b[0m\u001b[0;34m(\u001b[0m\u001b[0mkey\u001b[0m\u001b[0;34m)\u001b[0m\u001b[0;34m\u001b[0m\u001b[0;34m\u001b[0m\u001b[0m\n\u001b[0m\u001b[1;32m   4281\u001b[0m \u001b[0;34m\u001b[0m\u001b[0m\n\u001b[1;32m   4282\u001b[0m         \u001b[0;32mif\u001b[0m \u001b[0misinstance\u001b[0m\u001b[0;34m(\u001b[0m\u001b[0mkey\u001b[0m\u001b[0;34m,\u001b[0m \u001b[0mslice\u001b[0m\u001b[0;34m)\u001b[0m\u001b[0;34m:\u001b[0m\u001b[0;34m\u001b[0m\u001b[0;34m\u001b[0m\u001b[0m\n",
      "\u001b[0;31mIndexError\u001b[0m: index 16 is out of bounds for axis 0 with size 16"
     ]
    },
    {
     "ename": "IndexError",
     "evalue": "index 16 is out of bounds for axis 0 with size 16",
     "output_type": "error",
     "traceback": [
      "\u001b[0;31m---------------------------------------------------------------------------\u001b[0m",
      "\u001b[0;31mIndexError\u001b[0m                                Traceback (most recent call last)",
      "\u001b[0;32m~/opt/anaconda3/lib/python3.7/site-packages/IPython/core/formatters.py\u001b[0m in \u001b[0;36m__call__\u001b[0;34m(self, obj)\u001b[0m\n\u001b[1;32m    343\u001b[0m             \u001b[0mmethod\u001b[0m \u001b[0;34m=\u001b[0m \u001b[0mget_real_method\u001b[0m\u001b[0;34m(\u001b[0m\u001b[0mobj\u001b[0m\u001b[0;34m,\u001b[0m \u001b[0mself\u001b[0m\u001b[0;34m.\u001b[0m\u001b[0mprint_method\u001b[0m\u001b[0;34m)\u001b[0m\u001b[0;34m\u001b[0m\u001b[0;34m\u001b[0m\u001b[0m\n\u001b[1;32m    344\u001b[0m             \u001b[0;32mif\u001b[0m \u001b[0mmethod\u001b[0m \u001b[0;32mis\u001b[0m \u001b[0;32mnot\u001b[0m \u001b[0;32mNone\u001b[0m\u001b[0;34m:\u001b[0m\u001b[0;34m\u001b[0m\u001b[0;34m\u001b[0m\u001b[0m\n\u001b[0;32m--> 345\u001b[0;31m                 \u001b[0;32mreturn\u001b[0m \u001b[0mmethod\u001b[0m\u001b[0;34m(\u001b[0m\u001b[0;34m)\u001b[0m\u001b[0;34m\u001b[0m\u001b[0;34m\u001b[0m\u001b[0m\n\u001b[0m\u001b[1;32m    346\u001b[0m             \u001b[0;32mreturn\u001b[0m \u001b[0;32mNone\u001b[0m\u001b[0;34m\u001b[0m\u001b[0;34m\u001b[0m\u001b[0m\n\u001b[1;32m    347\u001b[0m         \u001b[0;32melse\u001b[0m\u001b[0;34m:\u001b[0m\u001b[0;34m\u001b[0m\u001b[0;34m\u001b[0m\u001b[0m\n",
      "\u001b[0;32m~/opt/anaconda3/lib/python3.7/site-packages/pandas/core/frame.py\u001b[0m in \u001b[0;36m_repr_html_\u001b[0;34m(self)\u001b[0m\n\u001b[1;32m    685\u001b[0m                 \u001b[0mshow_dimensions\u001b[0m\u001b[0;34m=\u001b[0m\u001b[0mshow_dimensions\u001b[0m\u001b[0;34m,\u001b[0m\u001b[0;34m\u001b[0m\u001b[0;34m\u001b[0m\u001b[0m\n\u001b[1;32m    686\u001b[0m             )\n\u001b[0;32m--> 687\u001b[0;31m             \u001b[0mformatter\u001b[0m\u001b[0;34m.\u001b[0m\u001b[0mto_html\u001b[0m\u001b[0;34m(\u001b[0m\u001b[0mnotebook\u001b[0m\u001b[0;34m=\u001b[0m\u001b[0;32mTrue\u001b[0m\u001b[0;34m)\u001b[0m\u001b[0;34m\u001b[0m\u001b[0;34m\u001b[0m\u001b[0m\n\u001b[0m\u001b[1;32m    688\u001b[0m             \u001b[0;32mreturn\u001b[0m \u001b[0mformatter\u001b[0m\u001b[0;34m.\u001b[0m\u001b[0mbuf\u001b[0m\u001b[0;34m.\u001b[0m\u001b[0mgetvalue\u001b[0m\u001b[0;34m(\u001b[0m\u001b[0;34m)\u001b[0m\u001b[0;34m\u001b[0m\u001b[0;34m\u001b[0m\u001b[0m\n\u001b[1;32m    689\u001b[0m         \u001b[0;32melse\u001b[0m\u001b[0;34m:\u001b[0m\u001b[0;34m\u001b[0m\u001b[0;34m\u001b[0m\u001b[0m\n",
      "\u001b[0;32m~/opt/anaconda3/lib/python3.7/site-packages/pandas/io/formats/format.py\u001b[0m in \u001b[0;36mto_html\u001b[0;34m(self, classes, notebook, border)\u001b[0m\n\u001b[1;32m    838\u001b[0m \u001b[0;34m\u001b[0m\u001b[0m\n\u001b[1;32m    839\u001b[0m         \u001b[0mKlass\u001b[0m \u001b[0;34m=\u001b[0m \u001b[0mNotebookFormatter\u001b[0m \u001b[0;32mif\u001b[0m \u001b[0mnotebook\u001b[0m \u001b[0;32melse\u001b[0m \u001b[0mHTMLFormatter\u001b[0m\u001b[0;34m\u001b[0m\u001b[0;34m\u001b[0m\u001b[0m\n\u001b[0;32m--> 840\u001b[0;31m         \u001b[0mhtml\u001b[0m \u001b[0;34m=\u001b[0m \u001b[0mKlass\u001b[0m\u001b[0;34m(\u001b[0m\u001b[0mself\u001b[0m\u001b[0;34m,\u001b[0m \u001b[0mclasses\u001b[0m\u001b[0;34m=\u001b[0m\u001b[0mclasses\u001b[0m\u001b[0;34m,\u001b[0m \u001b[0mborder\u001b[0m\u001b[0;34m=\u001b[0m\u001b[0mborder\u001b[0m\u001b[0;34m)\u001b[0m\u001b[0;34m.\u001b[0m\u001b[0mrender\u001b[0m\u001b[0;34m(\u001b[0m\u001b[0;34m)\u001b[0m\u001b[0;34m\u001b[0m\u001b[0;34m\u001b[0m\u001b[0m\n\u001b[0m\u001b[1;32m    841\u001b[0m         \u001b[0;32mif\u001b[0m \u001b[0mhasattr\u001b[0m\u001b[0;34m(\u001b[0m\u001b[0mself\u001b[0m\u001b[0;34m.\u001b[0m\u001b[0mbuf\u001b[0m\u001b[0;34m,\u001b[0m \u001b[0;34m\"write\"\u001b[0m\u001b[0;34m)\u001b[0m\u001b[0;34m:\u001b[0m\u001b[0;34m\u001b[0m\u001b[0;34m\u001b[0m\u001b[0m\n\u001b[1;32m    842\u001b[0m             \u001b[0mbuffer_put_lines\u001b[0m\u001b[0;34m(\u001b[0m\u001b[0mself\u001b[0m\u001b[0;34m.\u001b[0m\u001b[0mbuf\u001b[0m\u001b[0;34m,\u001b[0m \u001b[0mhtml\u001b[0m\u001b[0;34m)\u001b[0m\u001b[0;34m\u001b[0m\u001b[0;34m\u001b[0m\u001b[0m\n",
      "\u001b[0;32m~/opt/anaconda3/lib/python3.7/site-packages/pandas/io/formats/html.py\u001b[0m in \u001b[0;36mrender\u001b[0;34m(self)\u001b[0m\n\u001b[1;32m    604\u001b[0m         \u001b[0mself\u001b[0m\u001b[0;34m.\u001b[0m\u001b[0mwrite\u001b[0m\u001b[0;34m(\u001b[0m\u001b[0;34m\"<div>\"\u001b[0m\u001b[0;34m)\u001b[0m\u001b[0;34m\u001b[0m\u001b[0;34m\u001b[0m\u001b[0m\n\u001b[1;32m    605\u001b[0m         \u001b[0mself\u001b[0m\u001b[0;34m.\u001b[0m\u001b[0mwrite_style\u001b[0m\u001b[0;34m(\u001b[0m\u001b[0;34m)\u001b[0m\u001b[0;34m\u001b[0m\u001b[0;34m\u001b[0m\u001b[0m\n\u001b[0;32m--> 606\u001b[0;31m         \u001b[0msuper\u001b[0m\u001b[0;34m(\u001b[0m\u001b[0;34m)\u001b[0m\u001b[0;34m.\u001b[0m\u001b[0mrender\u001b[0m\u001b[0;34m(\u001b[0m\u001b[0;34m)\u001b[0m\u001b[0;34m\u001b[0m\u001b[0;34m\u001b[0m\u001b[0m\n\u001b[0m\u001b[1;32m    607\u001b[0m         \u001b[0mself\u001b[0m\u001b[0;34m.\u001b[0m\u001b[0mwrite\u001b[0m\u001b[0;34m(\u001b[0m\u001b[0;34m\"</div>\"\u001b[0m\u001b[0;34m)\u001b[0m\u001b[0;34m\u001b[0m\u001b[0;34m\u001b[0m\u001b[0m\n\u001b[1;32m    608\u001b[0m         \u001b[0;32mreturn\u001b[0m \u001b[0mself\u001b[0m\u001b[0;34m.\u001b[0m\u001b[0melements\u001b[0m\u001b[0;34m\u001b[0m\u001b[0;34m\u001b[0m\u001b[0m\n",
      "\u001b[0;32m~/opt/anaconda3/lib/python3.7/site-packages/pandas/io/formats/html.py\u001b[0m in \u001b[0;36mrender\u001b[0;34m(self)\u001b[0m\n\u001b[1;32m    191\u001b[0m \u001b[0;34m\u001b[0m\u001b[0m\n\u001b[1;32m    192\u001b[0m     \u001b[0;32mdef\u001b[0m \u001b[0mrender\u001b[0m\u001b[0;34m(\u001b[0m\u001b[0mself\u001b[0m\u001b[0;34m)\u001b[0m \u001b[0;34m->\u001b[0m \u001b[0mList\u001b[0m\u001b[0;34m[\u001b[0m\u001b[0mstr\u001b[0m\u001b[0;34m]\u001b[0m\u001b[0;34m:\u001b[0m\u001b[0;34m\u001b[0m\u001b[0;34m\u001b[0m\u001b[0m\n\u001b[0;32m--> 193\u001b[0;31m         \u001b[0mself\u001b[0m\u001b[0;34m.\u001b[0m\u001b[0m_write_table\u001b[0m\u001b[0;34m(\u001b[0m\u001b[0;34m)\u001b[0m\u001b[0;34m\u001b[0m\u001b[0;34m\u001b[0m\u001b[0m\n\u001b[0m\u001b[1;32m    194\u001b[0m \u001b[0;34m\u001b[0m\u001b[0m\n\u001b[1;32m    195\u001b[0m         \u001b[0;32mif\u001b[0m \u001b[0mself\u001b[0m\u001b[0;34m.\u001b[0m\u001b[0mshould_show_dimensions\u001b[0m\u001b[0;34m:\u001b[0m\u001b[0;34m\u001b[0m\u001b[0;34m\u001b[0m\u001b[0m\n",
      "\u001b[0;32m~/opt/anaconda3/lib/python3.7/site-packages/pandas/io/formats/html.py\u001b[0m in \u001b[0;36m_write_table\u001b[0;34m(self, indent)\u001b[0m\n\u001b[1;32m    233\u001b[0m             \u001b[0mself\u001b[0m\u001b[0;34m.\u001b[0m\u001b[0m_write_header\u001b[0m\u001b[0;34m(\u001b[0m\u001b[0mindent\u001b[0m \u001b[0;34m+\u001b[0m \u001b[0mself\u001b[0m\u001b[0;34m.\u001b[0m\u001b[0mindent_delta\u001b[0m\u001b[0;34m)\u001b[0m\u001b[0;34m\u001b[0m\u001b[0;34m\u001b[0m\u001b[0m\n\u001b[1;32m    234\u001b[0m \u001b[0;34m\u001b[0m\u001b[0m\n\u001b[0;32m--> 235\u001b[0;31m         \u001b[0mself\u001b[0m\u001b[0;34m.\u001b[0m\u001b[0m_write_body\u001b[0m\u001b[0;34m(\u001b[0m\u001b[0mindent\u001b[0m \u001b[0;34m+\u001b[0m \u001b[0mself\u001b[0m\u001b[0;34m.\u001b[0m\u001b[0mindent_delta\u001b[0m\u001b[0;34m)\u001b[0m\u001b[0;34m\u001b[0m\u001b[0;34m\u001b[0m\u001b[0m\n\u001b[0m\u001b[1;32m    236\u001b[0m \u001b[0;34m\u001b[0m\u001b[0m\n\u001b[1;32m    237\u001b[0m         \u001b[0mself\u001b[0m\u001b[0;34m.\u001b[0m\u001b[0mwrite\u001b[0m\u001b[0;34m(\u001b[0m\u001b[0;34m\"</table>\"\u001b[0m\u001b[0;34m,\u001b[0m \u001b[0mindent\u001b[0m\u001b[0;34m)\u001b[0m\u001b[0;34m\u001b[0m\u001b[0;34m\u001b[0m\u001b[0m\n",
      "\u001b[0;32m~/opt/anaconda3/lib/python3.7/site-packages/pandas/io/formats/html.py\u001b[0m in \u001b[0;36m_write_body\u001b[0;34m(self, indent)\u001b[0m\n\u001b[1;32m    379\u001b[0m     \u001b[0;32mdef\u001b[0m \u001b[0m_write_body\u001b[0m\u001b[0;34m(\u001b[0m\u001b[0mself\u001b[0m\u001b[0;34m,\u001b[0m \u001b[0mindent\u001b[0m\u001b[0;34m:\u001b[0m \u001b[0mint\u001b[0m\u001b[0;34m)\u001b[0m \u001b[0;34m->\u001b[0m \u001b[0;32mNone\u001b[0m\u001b[0;34m:\u001b[0m\u001b[0;34m\u001b[0m\u001b[0;34m\u001b[0m\u001b[0m\n\u001b[1;32m    380\u001b[0m         \u001b[0mself\u001b[0m\u001b[0;34m.\u001b[0m\u001b[0mwrite\u001b[0m\u001b[0;34m(\u001b[0m\u001b[0;34m\"<tbody>\"\u001b[0m\u001b[0;34m,\u001b[0m \u001b[0mindent\u001b[0m\u001b[0;34m)\u001b[0m\u001b[0;34m\u001b[0m\u001b[0;34m\u001b[0m\u001b[0m\n\u001b[0;32m--> 381\u001b[0;31m         \u001b[0mfmt_values\u001b[0m \u001b[0;34m=\u001b[0m \u001b[0mself\u001b[0m\u001b[0;34m.\u001b[0m\u001b[0m_get_formatted_values\u001b[0m\u001b[0;34m(\u001b[0m\u001b[0;34m)\u001b[0m\u001b[0;34m\u001b[0m\u001b[0;34m\u001b[0m\u001b[0m\n\u001b[0m\u001b[1;32m    382\u001b[0m \u001b[0;34m\u001b[0m\u001b[0m\n\u001b[1;32m    383\u001b[0m         \u001b[0;31m# write values\u001b[0m\u001b[0;34m\u001b[0m\u001b[0;34m\u001b[0m\u001b[0;34m\u001b[0m\u001b[0m\n",
      "\u001b[0;32m~/opt/anaconda3/lib/python3.7/site-packages/pandas/io/formats/html.py\u001b[0m in \u001b[0;36m_get_formatted_values\u001b[0;34m(self)\u001b[0m\n\u001b[1;32m    568\u001b[0m \u001b[0;34m\u001b[0m\u001b[0m\n\u001b[1;32m    569\u001b[0m     \u001b[0;32mdef\u001b[0m \u001b[0m_get_formatted_values\u001b[0m\u001b[0;34m(\u001b[0m\u001b[0mself\u001b[0m\u001b[0;34m)\u001b[0m \u001b[0;34m->\u001b[0m \u001b[0mDict\u001b[0m\u001b[0;34m[\u001b[0m\u001b[0mint\u001b[0m\u001b[0;34m,\u001b[0m \u001b[0mList\u001b[0m\u001b[0;34m[\u001b[0m\u001b[0mstr\u001b[0m\u001b[0;34m]\u001b[0m\u001b[0;34m]\u001b[0m\u001b[0;34m:\u001b[0m\u001b[0;34m\u001b[0m\u001b[0;34m\u001b[0m\u001b[0m\n\u001b[0;32m--> 570\u001b[0;31m         \u001b[0;32mreturn\u001b[0m \u001b[0;34m{\u001b[0m\u001b[0mi\u001b[0m\u001b[0;34m:\u001b[0m \u001b[0mself\u001b[0m\u001b[0;34m.\u001b[0m\u001b[0mfmt\u001b[0m\u001b[0;34m.\u001b[0m\u001b[0m_format_col\u001b[0m\u001b[0;34m(\u001b[0m\u001b[0mi\u001b[0m\u001b[0;34m)\u001b[0m \u001b[0;32mfor\u001b[0m \u001b[0mi\u001b[0m \u001b[0;32min\u001b[0m \u001b[0mrange\u001b[0m\u001b[0;34m(\u001b[0m\u001b[0mself\u001b[0m\u001b[0;34m.\u001b[0m\u001b[0mncols\u001b[0m\u001b[0;34m)\u001b[0m\u001b[0;34m}\u001b[0m\u001b[0;34m\u001b[0m\u001b[0;34m\u001b[0m\u001b[0m\n\u001b[0m\u001b[1;32m    571\u001b[0m \u001b[0;34m\u001b[0m\u001b[0m\n\u001b[1;32m    572\u001b[0m     \u001b[0;32mdef\u001b[0m \u001b[0m_get_columns_formatted_values\u001b[0m\u001b[0;34m(\u001b[0m\u001b[0mself\u001b[0m\u001b[0;34m)\u001b[0m \u001b[0;34m->\u001b[0m \u001b[0mList\u001b[0m\u001b[0;34m[\u001b[0m\u001b[0mstr\u001b[0m\u001b[0;34m]\u001b[0m\u001b[0;34m:\u001b[0m\u001b[0;34m\u001b[0m\u001b[0;34m\u001b[0m\u001b[0m\n",
      "\u001b[0;32m~/opt/anaconda3/lib/python3.7/site-packages/pandas/io/formats/html.py\u001b[0m in \u001b[0;36m<dictcomp>\u001b[0;34m(.0)\u001b[0m\n\u001b[1;32m    568\u001b[0m \u001b[0;34m\u001b[0m\u001b[0m\n\u001b[1;32m    569\u001b[0m     \u001b[0;32mdef\u001b[0m \u001b[0m_get_formatted_values\u001b[0m\u001b[0;34m(\u001b[0m\u001b[0mself\u001b[0m\u001b[0;34m)\u001b[0m \u001b[0;34m->\u001b[0m \u001b[0mDict\u001b[0m\u001b[0;34m[\u001b[0m\u001b[0mint\u001b[0m\u001b[0;34m,\u001b[0m \u001b[0mList\u001b[0m\u001b[0;34m[\u001b[0m\u001b[0mstr\u001b[0m\u001b[0;34m]\u001b[0m\u001b[0;34m]\u001b[0m\u001b[0;34m:\u001b[0m\u001b[0;34m\u001b[0m\u001b[0;34m\u001b[0m\u001b[0m\n\u001b[0;32m--> 570\u001b[0;31m         \u001b[0;32mreturn\u001b[0m \u001b[0;34m{\u001b[0m\u001b[0mi\u001b[0m\u001b[0;34m:\u001b[0m \u001b[0mself\u001b[0m\u001b[0;34m.\u001b[0m\u001b[0mfmt\u001b[0m\u001b[0;34m.\u001b[0m\u001b[0m_format_col\u001b[0m\u001b[0;34m(\u001b[0m\u001b[0mi\u001b[0m\u001b[0;34m)\u001b[0m \u001b[0;32mfor\u001b[0m \u001b[0mi\u001b[0m \u001b[0;32min\u001b[0m \u001b[0mrange\u001b[0m\u001b[0;34m(\u001b[0m\u001b[0mself\u001b[0m\u001b[0;34m.\u001b[0m\u001b[0mncols\u001b[0m\u001b[0;34m)\u001b[0m\u001b[0;34m}\u001b[0m\u001b[0;34m\u001b[0m\u001b[0;34m\u001b[0m\u001b[0m\n\u001b[0m\u001b[1;32m    571\u001b[0m \u001b[0;34m\u001b[0m\u001b[0m\n\u001b[1;32m    572\u001b[0m     \u001b[0;32mdef\u001b[0m \u001b[0m_get_columns_formatted_values\u001b[0m\u001b[0;34m(\u001b[0m\u001b[0mself\u001b[0m\u001b[0;34m)\u001b[0m \u001b[0;34m->\u001b[0m \u001b[0mList\u001b[0m\u001b[0;34m[\u001b[0m\u001b[0mstr\u001b[0m\u001b[0;34m]\u001b[0m\u001b[0;34m:\u001b[0m\u001b[0;34m\u001b[0m\u001b[0;34m\u001b[0m\u001b[0m\n",
      "\u001b[0;32m~/opt/anaconda3/lib/python3.7/site-packages/pandas/io/formats/format.py\u001b[0m in \u001b[0;36m_format_col\u001b[0;34m(self, i)\u001b[0m\n\u001b[1;32m    807\u001b[0m     \u001b[0;32mdef\u001b[0m \u001b[0m_format_col\u001b[0m\u001b[0;34m(\u001b[0m\u001b[0mself\u001b[0m\u001b[0;34m,\u001b[0m \u001b[0mi\u001b[0m\u001b[0;34m)\u001b[0m\u001b[0;34m:\u001b[0m\u001b[0;34m\u001b[0m\u001b[0;34m\u001b[0m\u001b[0m\n\u001b[1;32m    808\u001b[0m         \u001b[0mframe\u001b[0m \u001b[0;34m=\u001b[0m \u001b[0mself\u001b[0m\u001b[0;34m.\u001b[0m\u001b[0mtr_frame\u001b[0m\u001b[0;34m\u001b[0m\u001b[0;34m\u001b[0m\u001b[0m\n\u001b[0;32m--> 809\u001b[0;31m         \u001b[0mformatter\u001b[0m \u001b[0;34m=\u001b[0m \u001b[0mself\u001b[0m\u001b[0;34m.\u001b[0m\u001b[0m_get_formatter\u001b[0m\u001b[0;34m(\u001b[0m\u001b[0mi\u001b[0m\u001b[0;34m)\u001b[0m\u001b[0;34m\u001b[0m\u001b[0;34m\u001b[0m\u001b[0m\n\u001b[0m\u001b[1;32m    810\u001b[0m         \u001b[0mvalues_to_format\u001b[0m \u001b[0;34m=\u001b[0m \u001b[0mframe\u001b[0m\u001b[0;34m.\u001b[0m\u001b[0miloc\u001b[0m\u001b[0;34m[\u001b[0m\u001b[0;34m:\u001b[0m\u001b[0;34m,\u001b[0m \u001b[0mi\u001b[0m\u001b[0;34m]\u001b[0m\u001b[0;34m.\u001b[0m\u001b[0m_formatting_values\u001b[0m\u001b[0;34m(\u001b[0m\u001b[0;34m)\u001b[0m\u001b[0;34m\u001b[0m\u001b[0;34m\u001b[0m\u001b[0m\n\u001b[1;32m    811\u001b[0m         return format_array(\n",
      "\u001b[0;32m~/opt/anaconda3/lib/python3.7/site-packages/pandas/io/formats/format.py\u001b[0m in \u001b[0;36m_get_formatter\u001b[0;34m(self, i)\u001b[0m\n\u001b[1;32m    418\u001b[0m         \u001b[0;32melse\u001b[0m\u001b[0;34m:\u001b[0m\u001b[0;34m\u001b[0m\u001b[0;34m\u001b[0m\u001b[0m\n\u001b[1;32m    419\u001b[0m             \u001b[0;32mif\u001b[0m \u001b[0mis_integer\u001b[0m\u001b[0;34m(\u001b[0m\u001b[0mi\u001b[0m\u001b[0;34m)\u001b[0m \u001b[0;32mand\u001b[0m \u001b[0mi\u001b[0m \u001b[0;32mnot\u001b[0m \u001b[0;32min\u001b[0m \u001b[0mself\u001b[0m\u001b[0;34m.\u001b[0m\u001b[0mcolumns\u001b[0m\u001b[0;34m:\u001b[0m\u001b[0;34m\u001b[0m\u001b[0;34m\u001b[0m\u001b[0m\n\u001b[0;32m--> 420\u001b[0;31m                 \u001b[0mi\u001b[0m \u001b[0;34m=\u001b[0m \u001b[0mself\u001b[0m\u001b[0;34m.\u001b[0m\u001b[0mcolumns\u001b[0m\u001b[0;34m[\u001b[0m\u001b[0mi\u001b[0m\u001b[0;34m]\u001b[0m\u001b[0;34m\u001b[0m\u001b[0;34m\u001b[0m\u001b[0m\n\u001b[0m\u001b[1;32m    421\u001b[0m             \u001b[0;32mreturn\u001b[0m \u001b[0mself\u001b[0m\u001b[0;34m.\u001b[0m\u001b[0mformatters\u001b[0m\u001b[0;34m.\u001b[0m\u001b[0mget\u001b[0m\u001b[0;34m(\u001b[0m\u001b[0mi\u001b[0m\u001b[0;34m,\u001b[0m \u001b[0;32mNone\u001b[0m\u001b[0;34m)\u001b[0m\u001b[0;34m\u001b[0m\u001b[0;34m\u001b[0m\u001b[0m\n\u001b[1;32m    422\u001b[0m \u001b[0;34m\u001b[0m\u001b[0m\n",
      "\u001b[0;32m~/opt/anaconda3/lib/python3.7/site-packages/pandas/core/indexes/base.py\u001b[0m in \u001b[0;36m__getitem__\u001b[0;34m(self, key)\u001b[0m\n\u001b[1;32m   4278\u001b[0m         \u001b[0;32mif\u001b[0m \u001b[0mis_scalar\u001b[0m\u001b[0;34m(\u001b[0m\u001b[0mkey\u001b[0m\u001b[0;34m)\u001b[0m\u001b[0;34m:\u001b[0m\u001b[0;34m\u001b[0m\u001b[0;34m\u001b[0m\u001b[0m\n\u001b[1;32m   4279\u001b[0m             \u001b[0mkey\u001b[0m \u001b[0;34m=\u001b[0m \u001b[0mcom\u001b[0m\u001b[0;34m.\u001b[0m\u001b[0mcast_scalar_indexer\u001b[0m\u001b[0;34m(\u001b[0m\u001b[0mkey\u001b[0m\u001b[0;34m)\u001b[0m\u001b[0;34m\u001b[0m\u001b[0;34m\u001b[0m\u001b[0m\n\u001b[0;32m-> 4280\u001b[0;31m             \u001b[0;32mreturn\u001b[0m \u001b[0mgetitem\u001b[0m\u001b[0;34m(\u001b[0m\u001b[0mkey\u001b[0m\u001b[0;34m)\u001b[0m\u001b[0;34m\u001b[0m\u001b[0;34m\u001b[0m\u001b[0m\n\u001b[0m\u001b[1;32m   4281\u001b[0m \u001b[0;34m\u001b[0m\u001b[0m\n\u001b[1;32m   4282\u001b[0m         \u001b[0;32mif\u001b[0m \u001b[0misinstance\u001b[0m\u001b[0;34m(\u001b[0m\u001b[0mkey\u001b[0m\u001b[0;34m,\u001b[0m \u001b[0mslice\u001b[0m\u001b[0;34m)\u001b[0m\u001b[0;34m:\u001b[0m\u001b[0;34m\u001b[0m\u001b[0;34m\u001b[0m\u001b[0m\n",
      "\u001b[0;31mIndexError\u001b[0m: index 16 is out of bounds for axis 0 with size 16"
     ]
    }
   ],
   "source": [
    "tuc1.df_result_ensemble"
   ]
  },
  {
   "cell_type": "code",
   "execution_count": 6,
   "metadata": {},
   "outputs": [
    {
     "name": "stderr",
     "output_type": "stream",
     "text": [
      "2021-06-27 00:36:29,597  uncertainty   INFO  Evaluating top-2 related uncertainty\n",
      "/Users/melih/Documents/Masters/KTH_DASE-ICT Innovation_Data Science/___Master Thesis/PyTorch_Exercise/arkusai/code/test_uncertainty_Softmax_v3.py:163: SettingWithCopyWarning: \n",
      "A value is trying to be set on a copy of a slice from a DataFrame\n",
      "\n",
      "See the caveats in the documentation: http://pandas.pydata.org/pandas-docs/stable/user_guide/indexing.html#returning-a-view-versus-a-copy\n",
      "  df_result_ensemble['outputs_all'][i] = output\n",
      "2021-06-27 00:36:39,764  uncertainty   INFO  Accuracy: 96.3463 ... correct_predictions: 9203 ... all_pictures: 9552\n",
      "2021-06-27 00:36:39,765  uncertainty   INFO  Out of 349 incorrect predictions, 114 of them were having the 2nd best predictions as the ground truth: 32.6648%\n",
      "  2%|▏         | 2/102 [00:00<00:07, 13.15it/s]"
     ]
    },
    {
     "name": "stdout",
     "output_type": "stream",
     "text": [
      "failed\n"
     ]
    },
    {
     "name": "stderr",
     "output_type": "stream",
     "text": [
      "100%|██████████| 102/102 [00:07<00:00, 13.42it/s]\n",
      "100%|██████████| 102/102 [00:01<00:00, 68.23it/s]\n",
      "100%|██████████| 102/102 [00:01<00:00, 66.86it/s]\n",
      "  7%|▋         | 7/102 [00:00<00:01, 65.79it/s]"
     ]
    },
    {
     "name": "stdout",
     "output_type": "stream",
     "text": [
      "43 values from 0.55 to               0.97 having work load < 10 and fail rate < 1.0\n",
      "workload from 3.507118927973199 to 9.453517587939698\n",
      "42 values from 57.0 to               98.0 having work load < 10 and fail rate < 1.0\n",
      "workload from 3.6955611390284755 to 9.42211055276382\n",
      "42 values from 0.02 to               0.43 having work load < 10 and fail rate < 1.0\n",
      "workload from 3.6955611390284755 to 9.42211055276382\n"
     ]
    },
    {
     "name": "stderr",
     "output_type": "stream",
     "text": [
      "100%|██████████| 102/102 [00:01<00:00, 75.38it/s]\n",
      "100%|██████████| 102/102 [00:01<00:00, 76.61it/s]"
     ]
    },
    {
     "name": "stdout",
     "output_type": "stream",
     "text": [
      "39 values from 0.05 to               0.43 having work load < 10 and fail rate < 1.0\n",
      "workload from 3.6118090452261304 to 9.767587939698492\n",
      "60 values from 0.36 to               0.9500000000000001 having work load < 10 and fail rate < 1.0\n",
      "workload from 3.6013400335008376 to 9.935092127303182\n"
     ]
    },
    {
     "name": "stderr",
     "output_type": "stream",
     "text": [
      "\n"
     ]
    }
   ],
   "source": [
    "# Resnet & Densenet\n",
    "#WL_max = 5; FR_min=0.5; FR_max=1.0\n",
    "\n",
    "# Squeezenet\n",
    "WL_max = 10; FR_min=0.5; FR_max=1.0\n",
    "# WL_max = 6; FR_min=0.5; FR_max=1.0\n",
    "\n",
    "pd.set_option('display.max_columns', 50)\n",
    "\n",
    "acc_res = tuc1.run()\n",
    "#acc_res = (accuracy, c_unmatch, c_2nd_match, lst_worst_acc)  # c=count\n",
    "df_results_eval = tuc1.df_uncertainty  # df_final\n",
    "df_final_summary = tuc1.df_final_summary\n",
    "\n",
    "l_column = tuc1.enhance_evaluations(lst_column)\n",
    "\n",
    "df_results_eval['v_entropy'] = tuc1.df_result_ensemble['v_entropy']\n",
    "df_results_eval['preds_rate'] = tuc1.df_result_ensemble['preds_rate']\n",
    "\n",
    "tuc1.min_max_norm(df_results_eval, metric='var')\n",
    "df_results_eval.rename(columns={'u_entr': 'u_entr1'}, inplace=True)\n",
    "tuc1.min_max_norm(df_results_eval, metric='entr')\n",
    "tuc1.min_max_norm(df_results_eval, metric='var')\n",
    "\n",
    "df_ensemble_res, df_flexible = tuc1.vertical_check(lst_column, upper_th=1, lower_th=0.5)\n",
    "\n",
    "#model_similarities(n_models)\n",
    "\n",
    "#tuc1.df_combine\n",
    "\n",
    "# fig, ((plt_sub1, plt_sub2)) = plt.subplots(nrows=1, ncols=2, figsize=(15,4))\n",
    "df_Softmax = tuc1.plot_metrics_test(plt_m=None, title='Softmax Score', metric_name='best_score', \n",
    "                                    step_size=0.01, is_norm=False, plus_minus = 5, plot_graph = False)\n",
    "df_Top2 = tuc1.plot_metrics_test(plt_m=None, title='Top-2 Difference', metric_name='Certainty', step_size=1, \n",
    "                            is_norm=False, plus_minus = 5, plot_graph = False)\n",
    "df_uncertainty = tuc1.plot_metrics_test(plt_m=None, title='Top-2_Uncertainty', metric_name='uncertainty', \n",
    "                        step_size=0.01, higher_better=False, is_norm=False, plus_minus = 5, plot_graph = False)\n",
    "\n",
    "#df_Softmax[df_Softmax['fail_rate']<0.5] # take the first row\n",
    "#df_Top2[df_Top2['fail_rate']<0.5] \n",
    "\n",
    "df_range_Softmax = tuc1.tolerance_range(df_Softmax, FR_min=FR_min, FR_max=FR_max, WL_max = WL_max)\n",
    "###### df_range_Softmax                      \n",
    "\n",
    "df_range_Top2 = tuc1.tolerance_range(df_Top2, FR_min=FR_min, FR_max=FR_max, WL_max = WL_max)\n",
    "\n",
    "df_range_uncertainty = tuc1.tolerance_range(df_uncertainty, FR_min=FR_min, FR_max=FR_max, WL_max = WL_max)\n",
    "###### df_range_Top2\n",
    "\n",
    "######  ************************** #######\n",
    "\n",
    "# df_Entropy_H = tuc1.plot_metrics_test(plt_m=None, title='Entropy of Ensemble-Softmax [sum of entr(means)]', \n",
    "#            metric_name='u_entr', step_size=0.0096, higher_better=False, is_norm=False, plus_minus = 5, \n",
    "#                                       plot_graph = False)\n",
    "\n",
    "# df_Var_H = tuc1.plot_metrics_test(plt_m=None, title='var', metric_name='var', step_size=0.0004, \n",
    "#                        higher_better=True, is_norm=False, plus_minus = 5, plot_graph = False)\n",
    "\n",
    "df_Entropy_H = tuc1.plot_metrics_test(plt_m=None, title='Entropy of Ensemble-Softmax [sum of entr(means)]', \n",
    "           metric_name='u_entr', step_size=0.01, higher_better=False, is_norm=False, plus_minus = 5, \n",
    "                                      plot_graph = False)\n",
    "\n",
    "df_Var_H = tuc1.plot_metrics_test(plt_m=None, title='u_var', metric_name='u_var', step_size=0.01, \n",
    "                       higher_better=True, is_norm=False, plus_minus = 5, plot_graph = False)\n",
    "\n",
    "###### df_Entropy_H[df_Entropy_H['fail_rate']>=0.45]\n",
    "df_range_Entropy_H = tuc1.tolerance_range(df_Entropy_H, FR_min=FR_min, FR_max=FR_max, WL_max = WL_max)\n",
    "###### df_range_Entropy_H\n",
    "\n",
    "######df_Var_H[df_Var_H['fail_rate']<0.5]\n",
    "df_range_Var_H = tuc1.tolerance_range(df_Var_H, FR_min=FR_min, FR_max=FR_max, WL_max = WL_max)\n",
    "###### df_range_Var_H\n",
    "\n",
    "model = df_results_eval.loc[0, 'model']\n",
    "#parse_metrics(model, acc_res, df_metric, df_range_metric, KPI='fail_rate', th_KPI = 0.5, is_smaller = True)\n",
    "df_Report_Softmax = tuc1.parse_metrics(model, acc_res, df_Softmax, df_range_Softmax)\n",
    "df_Report_Top2 = tuc1.parse_metrics(model, acc_res, df_Top2, df_range_Top2)\n",
    "df_Report_Uncertainty = tuc1.parse_metrics(model, acc_res, df_uncertainty, df_range_uncertainty)\n",
    "df_Report_Entr = tuc1.parse_metrics(model, acc_res, df_Entropy_H, df_range_Entropy_H)\n",
    "df_Report_Var = tuc1.parse_metrics(model, acc_res, df_Var_H, df_range_Var_H)\n",
    "\n",
    "dict_uncertainty = tuc1.find_mean(df_results_eval, metric = 'uncertainty')     # [0:100] lower better ... uncertainty: [0: 1]\n",
    "dict_Certainty = tuc1.find_mean(df_results_eval, metric = 'Certainty')     # [0:100] higher better ... uncertainty: [0: 1]\n",
    "dict_best_score = tuc1.find_mean(df_results_eval, metric = 'best_score')    # [0:100] higher better = Softmax\n",
    "dict_u_entr = tuc1.find_mean(df_results_eval, metric = 'u_entr')        # [0:1]   lower better  = normalized Entropy: e/e_max\n",
    "dict_u_var = tuc1.find_mean(df_results_eval, metric = 'u_var')         # [0:1]   higher better = normalized_min_max\n",
    "#tuc1.find_mean(df_results_eval, metric = 'var')          # [?:?]   higher better = NOT normalized\n",
    "#df_Report"
   ]
  },
  {
   "cell_type": "code",
   "execution_count": 7,
   "metadata": {},
   "outputs": [
    {
     "data": {
      "text/html": [
       "<div>\n",
       "<style scoped>\n",
       "    .dataframe tbody tr th:only-of-type {\n",
       "        vertical-align: middle;\n",
       "    }\n",
       "\n",
       "    .dataframe tbody tr th {\n",
       "        vertical-align: top;\n",
       "    }\n",
       "\n",
       "    .dataframe thead th {\n",
       "        text-align: right;\n",
       "    }\n",
       "</style>\n",
       "<table border=\"1\" class=\"dataframe\">\n",
       "  <thead>\n",
       "    <tr style=\"text-align: right;\">\n",
       "      <th></th>\n",
       "      <th>val</th>\n",
       "      <th>TP</th>\n",
       "      <th>FP</th>\n",
       "      <th>TN</th>\n",
       "      <th>FN</th>\n",
       "      <th>fail_rate</th>\n",
       "      <th>work_load</th>\n",
       "      <th>sum</th>\n",
       "      <th>diff</th>\n",
       "    </tr>\n",
       "  </thead>\n",
       "  <tbody>\n",
       "    <tr>\n",
       "      <td>55</td>\n",
       "      <td>0.55</td>\n",
       "      <td>9122</td>\n",
       "      <td>95</td>\n",
       "      <td>254</td>\n",
       "      <td>81</td>\n",
       "      <td>0.994556</td>\n",
       "      <td>3.507119</td>\n",
       "      <td>335</td>\n",
       "      <td>2.512563</td>\n",
       "    </tr>\n",
       "    <tr>\n",
       "      <td>56</td>\n",
       "      <td>0.56</td>\n",
       "      <td>9119</td>\n",
       "      <td>93</td>\n",
       "      <td>256</td>\n",
       "      <td>84</td>\n",
       "      <td>0.973618</td>\n",
       "      <td>3.559464</td>\n",
       "      <td>340</td>\n",
       "      <td>2.585846</td>\n",
       "    </tr>\n",
       "    <tr>\n",
       "      <td>57</td>\n",
       "      <td>0.57</td>\n",
       "      <td>9117</td>\n",
       "      <td>91</td>\n",
       "      <td>258</td>\n",
       "      <td>86</td>\n",
       "      <td>0.952680</td>\n",
       "      <td>3.601340</td>\n",
       "      <td>344</td>\n",
       "      <td>2.648660</td>\n",
       "    </tr>\n",
       "    <tr>\n",
       "      <td>58</td>\n",
       "      <td>0.58</td>\n",
       "      <td>9116</td>\n",
       "      <td>87</td>\n",
       "      <td>262</td>\n",
       "      <td>87</td>\n",
       "      <td>0.910804</td>\n",
       "      <td>3.653685</td>\n",
       "      <td>349</td>\n",
       "      <td>2.742881</td>\n",
       "    </tr>\n",
       "    <tr>\n",
       "      <td>59</td>\n",
       "      <td>0.59</td>\n",
       "      <td>9111</td>\n",
       "      <td>86</td>\n",
       "      <td>263</td>\n",
       "      <td>92</td>\n",
       "      <td>0.900335</td>\n",
       "      <td>3.716499</td>\n",
       "      <td>355</td>\n",
       "      <td>2.816164</td>\n",
       "    </tr>\n",
       "    <tr>\n",
       "      <td>60</td>\n",
       "      <td>0.60</td>\n",
       "      <td>9106</td>\n",
       "      <td>82</td>\n",
       "      <td>267</td>\n",
       "      <td>97</td>\n",
       "      <td>0.858459</td>\n",
       "      <td>3.810720</td>\n",
       "      <td>364</td>\n",
       "      <td>2.952261</td>\n",
       "    </tr>\n",
       "    <tr>\n",
       "      <td>61</td>\n",
       "      <td>0.61</td>\n",
       "      <td>9101</td>\n",
       "      <td>80</td>\n",
       "      <td>269</td>\n",
       "      <td>102</td>\n",
       "      <td>0.837521</td>\n",
       "      <td>3.884003</td>\n",
       "      <td>371</td>\n",
       "      <td>3.046482</td>\n",
       "    </tr>\n",
       "    <tr>\n",
       "      <td>62</td>\n",
       "      <td>0.62</td>\n",
       "      <td>9096</td>\n",
       "      <td>71</td>\n",
       "      <td>278</td>\n",
       "      <td>107</td>\n",
       "      <td>0.743300</td>\n",
       "      <td>4.030570</td>\n",
       "      <td>385</td>\n",
       "      <td>3.287270</td>\n",
       "    </tr>\n",
       "    <tr>\n",
       "      <td>63</td>\n",
       "      <td>0.63</td>\n",
       "      <td>9091</td>\n",
       "      <td>68</td>\n",
       "      <td>281</td>\n",
       "      <td>112</td>\n",
       "      <td>0.711893</td>\n",
       "      <td>4.114322</td>\n",
       "      <td>393</td>\n",
       "      <td>3.402429</td>\n",
       "    </tr>\n",
       "    <tr>\n",
       "      <td>64</td>\n",
       "      <td>0.64</td>\n",
       "      <td>9084</td>\n",
       "      <td>65</td>\n",
       "      <td>284</td>\n",
       "      <td>119</td>\n",
       "      <td>0.680486</td>\n",
       "      <td>4.219012</td>\n",
       "      <td>403</td>\n",
       "      <td>3.538526</td>\n",
       "    </tr>\n",
       "    <tr>\n",
       "      <td>65</td>\n",
       "      <td>0.65</td>\n",
       "      <td>9081</td>\n",
       "      <td>61</td>\n",
       "      <td>288</td>\n",
       "      <td>122</td>\n",
       "      <td>0.638610</td>\n",
       "      <td>4.292295</td>\n",
       "      <td>410</td>\n",
       "      <td>3.653685</td>\n",
       "    </tr>\n",
       "    <tr>\n",
       "      <td>66</td>\n",
       "      <td>0.66</td>\n",
       "      <td>9077</td>\n",
       "      <td>61</td>\n",
       "      <td>288</td>\n",
       "      <td>126</td>\n",
       "      <td>0.638610</td>\n",
       "      <td>4.334171</td>\n",
       "      <td>414</td>\n",
       "      <td>3.695561</td>\n",
       "    </tr>\n",
       "    <tr>\n",
       "      <td>67</td>\n",
       "      <td>0.67</td>\n",
       "      <td>9071</td>\n",
       "      <td>59</td>\n",
       "      <td>290</td>\n",
       "      <td>132</td>\n",
       "      <td>0.617672</td>\n",
       "      <td>4.417923</td>\n",
       "      <td>422</td>\n",
       "      <td>3.800251</td>\n",
       "    </tr>\n",
       "    <tr>\n",
       "      <td>68</td>\n",
       "      <td>0.68</td>\n",
       "      <td>9067</td>\n",
       "      <td>59</td>\n",
       "      <td>290</td>\n",
       "      <td>136</td>\n",
       "      <td>0.617672</td>\n",
       "      <td>4.459799</td>\n",
       "      <td>426</td>\n",
       "      <td>3.842127</td>\n",
       "    </tr>\n",
       "    <tr>\n",
       "      <td>69</td>\n",
       "      <td>0.69</td>\n",
       "      <td>9062</td>\n",
       "      <td>58</td>\n",
       "      <td>291</td>\n",
       "      <td>141</td>\n",
       "      <td>0.607203</td>\n",
       "      <td>4.522613</td>\n",
       "      <td>432</td>\n",
       "      <td>3.915410</td>\n",
       "    </tr>\n",
       "    <tr>\n",
       "      <td>70</td>\n",
       "      <td>0.70</td>\n",
       "      <td>9058</td>\n",
       "      <td>57</td>\n",
       "      <td>292</td>\n",
       "      <td>145</td>\n",
       "      <td>0.596734</td>\n",
       "      <td>4.574958</td>\n",
       "      <td>437</td>\n",
       "      <td>3.978224</td>\n",
       "    </tr>\n",
       "    <tr>\n",
       "      <td>71</td>\n",
       "      <td>0.71</td>\n",
       "      <td>9051</td>\n",
       "      <td>52</td>\n",
       "      <td>297</td>\n",
       "      <td>152</td>\n",
       "      <td>0.544389</td>\n",
       "      <td>4.700586</td>\n",
       "      <td>449</td>\n",
       "      <td>4.156198</td>\n",
       "    </tr>\n",
       "    <tr>\n",
       "      <td>72</td>\n",
       "      <td>0.72</td>\n",
       "      <td>9047</td>\n",
       "      <td>51</td>\n",
       "      <td>298</td>\n",
       "      <td>156</td>\n",
       "      <td>0.533920</td>\n",
       "      <td>4.752931</td>\n",
       "      <td>454</td>\n",
       "      <td>4.219012</td>\n",
       "    </tr>\n",
       "    <tr>\n",
       "      <td>73</td>\n",
       "      <td>0.73</td>\n",
       "      <td>9043</td>\n",
       "      <td>49</td>\n",
       "      <td>300</td>\n",
       "      <td>160</td>\n",
       "      <td>0.512982</td>\n",
       "      <td>4.815745</td>\n",
       "      <td>460</td>\n",
       "      <td>4.302764</td>\n",
       "    </tr>\n",
       "    <tr>\n",
       "      <td>74</td>\n",
       "      <td>0.74</td>\n",
       "      <td>9039</td>\n",
       "      <td>48</td>\n",
       "      <td>301</td>\n",
       "      <td>164</td>\n",
       "      <td>0.502513</td>\n",
       "      <td>4.868090</td>\n",
       "      <td>465</td>\n",
       "      <td>4.365578</td>\n",
       "    </tr>\n",
       "    <tr>\n",
       "      <td>75</td>\n",
       "      <td>0.75</td>\n",
       "      <td>9025</td>\n",
       "      <td>48</td>\n",
       "      <td>301</td>\n",
       "      <td>178</td>\n",
       "      <td>0.502513</td>\n",
       "      <td>5.014657</td>\n",
       "      <td>479</td>\n",
       "      <td>4.512144</td>\n",
       "    </tr>\n",
       "    <tr>\n",
       "      <td>76</td>\n",
       "      <td>0.76</td>\n",
       "      <td>9018</td>\n",
       "      <td>46</td>\n",
       "      <td>303</td>\n",
       "      <td>185</td>\n",
       "      <td>0.481575</td>\n",
       "      <td>5.108878</td>\n",
       "      <td>488</td>\n",
       "      <td>4.627303</td>\n",
       "    </tr>\n",
       "    <tr>\n",
       "      <td>77</td>\n",
       "      <td>0.77</td>\n",
       "      <td>9010</td>\n",
       "      <td>45</td>\n",
       "      <td>304</td>\n",
       "      <td>193</td>\n",
       "      <td>0.471106</td>\n",
       "      <td>5.203099</td>\n",
       "      <td>497</td>\n",
       "      <td>4.731993</td>\n",
       "    </tr>\n",
       "    <tr>\n",
       "      <td>78</td>\n",
       "      <td>0.78</td>\n",
       "      <td>9004</td>\n",
       "      <td>43</td>\n",
       "      <td>306</td>\n",
       "      <td>199</td>\n",
       "      <td>0.450168</td>\n",
       "      <td>5.286851</td>\n",
       "      <td>505</td>\n",
       "      <td>4.836683</td>\n",
       "    </tr>\n",
       "    <tr>\n",
       "      <td>79</td>\n",
       "      <td>0.79</td>\n",
       "      <td>8997</td>\n",
       "      <td>41</td>\n",
       "      <td>308</td>\n",
       "      <td>206</td>\n",
       "      <td>0.429229</td>\n",
       "      <td>5.381072</td>\n",
       "      <td>514</td>\n",
       "      <td>4.951843</td>\n",
       "    </tr>\n",
       "    <tr>\n",
       "      <td>80</td>\n",
       "      <td>0.80</td>\n",
       "      <td>8991</td>\n",
       "      <td>39</td>\n",
       "      <td>310</td>\n",
       "      <td>212</td>\n",
       "      <td>0.408291</td>\n",
       "      <td>5.464824</td>\n",
       "      <td>522</td>\n",
       "      <td>5.056533</td>\n",
       "    </tr>\n",
       "    <tr>\n",
       "      <td>81</td>\n",
       "      <td>0.81</td>\n",
       "      <td>8982</td>\n",
       "      <td>38</td>\n",
       "      <td>311</td>\n",
       "      <td>221</td>\n",
       "      <td>0.397822</td>\n",
       "      <td>5.569514</td>\n",
       "      <td>532</td>\n",
       "      <td>5.171692</td>\n",
       "    </tr>\n",
       "    <tr>\n",
       "      <td>82</td>\n",
       "      <td>0.82</td>\n",
       "      <td>8966</td>\n",
       "      <td>38</td>\n",
       "      <td>311</td>\n",
       "      <td>237</td>\n",
       "      <td>0.397822</td>\n",
       "      <td>5.737018</td>\n",
       "      <td>548</td>\n",
       "      <td>5.339196</td>\n",
       "    </tr>\n",
       "    <tr>\n",
       "      <td>83</td>\n",
       "      <td>0.83</td>\n",
       "      <td>8956</td>\n",
       "      <td>35</td>\n",
       "      <td>314</td>\n",
       "      <td>247</td>\n",
       "      <td>0.366415</td>\n",
       "      <td>5.873116</td>\n",
       "      <td>561</td>\n",
       "      <td>5.506700</td>\n",
       "    </tr>\n",
       "    <tr>\n",
       "      <td>84</td>\n",
       "      <td>0.84</td>\n",
       "      <td>8947</td>\n",
       "      <td>34</td>\n",
       "      <td>315</td>\n",
       "      <td>256</td>\n",
       "      <td>0.355946</td>\n",
       "      <td>5.977806</td>\n",
       "      <td>571</td>\n",
       "      <td>5.621859</td>\n",
       "    </tr>\n",
       "  </tbody>\n",
       "</table>\n",
       "</div>"
      ],
      "text/plain": [
       "     val    TP  FP   TN   FN  fail_rate  work_load  sum      diff\n",
       "55  0.55  9122  95  254  81   0.994556   3.507119   335  2.512563\n",
       "56  0.56  9119  93  256  84   0.973618   3.559464   340  2.585846\n",
       "57  0.57  9117  91  258  86   0.952680   3.601340   344  2.648660\n",
       "58  0.58  9116  87  262  87   0.910804   3.653685   349  2.742881\n",
       "59  0.59  9111  86  263  92   0.900335   3.716499   355  2.816164\n",
       "60  0.60  9106  82  267  97   0.858459   3.810720   364  2.952261\n",
       "61  0.61  9101  80  269  102  0.837521   3.884003   371  3.046482\n",
       "62  0.62  9096  71  278  107  0.743300   4.030570   385  3.287270\n",
       "63  0.63  9091  68  281  112  0.711893   4.114322   393  3.402429\n",
       "64  0.64  9084  65  284  119  0.680486   4.219012   403  3.538526\n",
       "65  0.65  9081  61  288  122  0.638610   4.292295   410  3.653685\n",
       "66  0.66  9077  61  288  126  0.638610   4.334171   414  3.695561\n",
       "67  0.67  9071  59  290  132  0.617672   4.417923   422  3.800251\n",
       "68  0.68  9067  59  290  136  0.617672   4.459799   426  3.842127\n",
       "69  0.69  9062  58  291  141  0.607203   4.522613   432  3.915410\n",
       "70  0.70  9058  57  292  145  0.596734   4.574958   437  3.978224\n",
       "71  0.71  9051  52  297  152  0.544389   4.700586   449  4.156198\n",
       "72  0.72  9047  51  298  156  0.533920   4.752931   454  4.219012\n",
       "73  0.73  9043  49  300  160  0.512982   4.815745   460  4.302764\n",
       "74  0.74  9039  48  301  164  0.502513   4.868090   465  4.365578\n",
       "75  0.75  9025  48  301  178  0.502513   5.014657   479  4.512144\n",
       "76  0.76  9018  46  303  185  0.481575   5.108878   488  4.627303\n",
       "77  0.77  9010  45  304  193  0.471106   5.203099   497  4.731993\n",
       "78  0.78  9004  43  306  199  0.450168   5.286851   505  4.836683\n",
       "79  0.79  8997  41  308  206  0.429229   5.381072   514  4.951843\n",
       "80  0.80  8991  39  310  212  0.408291   5.464824   522  5.056533\n",
       "81  0.81  8982  38  311  221  0.397822   5.569514   532  5.171692\n",
       "82  0.82  8966  38  311  237  0.397822   5.737018   548  5.339196\n",
       "83  0.83  8956  35  314  247  0.366415   5.873116   561  5.506700\n",
       "84  0.84  8947  34  315  256  0.355946   5.977806   571  5.621859"
      ]
     },
     "execution_count": 7,
     "metadata": {},
     "output_type": "execute_result"
    }
   ],
   "source": [
    "df_Softmax[(df_Softmax['work_load']<6) & (df_Softmax['fail_rate']<1)]"
   ]
  },
  {
   "cell_type": "code",
   "execution_count": 8,
   "metadata": {},
   "outputs": [
    {
     "data": {
      "text/html": [
       "<div>\n",
       "<style scoped>\n",
       "    .dataframe tbody tr th:only-of-type {\n",
       "        vertical-align: middle;\n",
       "    }\n",
       "\n",
       "    .dataframe tbody tr th {\n",
       "        vertical-align: top;\n",
       "    }\n",
       "\n",
       "    .dataframe thead th {\n",
       "        text-align: right;\n",
       "    }\n",
       "</style>\n",
       "<table border=\"1\" class=\"dataframe\">\n",
       "  <thead>\n",
       "    <tr style=\"text-align: right;\">\n",
       "      <th></th>\n",
       "      <th>val</th>\n",
       "      <th>TP</th>\n",
       "      <th>FP</th>\n",
       "      <th>TN</th>\n",
       "      <th>FN</th>\n",
       "      <th>fail_rate</th>\n",
       "      <th>work_load</th>\n",
       "      <th>sum</th>\n",
       "      <th>diff</th>\n",
       "    </tr>\n",
       "  </thead>\n",
       "  <tbody>\n",
       "    <tr>\n",
       "      <td>0</td>\n",
       "      <td>0.00</td>\n",
       "      <td>9203</td>\n",
       "      <td>349</td>\n",
       "      <td>0</td>\n",
       "      <td>0</td>\n",
       "      <td>3.653685</td>\n",
       "      <td>0.000000</td>\n",
       "      <td>0</td>\n",
       "      <td>-3.653685</td>\n",
       "    </tr>\n",
       "    <tr>\n",
       "      <td>1</td>\n",
       "      <td>0.01</td>\n",
       "      <td>9203</td>\n",
       "      <td>349</td>\n",
       "      <td>0</td>\n",
       "      <td>0</td>\n",
       "      <td>3.653685</td>\n",
       "      <td>0.000000</td>\n",
       "      <td>0</td>\n",
       "      <td>-3.653685</td>\n",
       "    </tr>\n",
       "    <tr>\n",
       "      <td>2</td>\n",
       "      <td>0.02</td>\n",
       "      <td>9203</td>\n",
       "      <td>349</td>\n",
       "      <td>0</td>\n",
       "      <td>0</td>\n",
       "      <td>3.653685</td>\n",
       "      <td>0.000000</td>\n",
       "      <td>0</td>\n",
       "      <td>-3.653685</td>\n",
       "    </tr>\n",
       "    <tr>\n",
       "      <td>3</td>\n",
       "      <td>0.03</td>\n",
       "      <td>9203</td>\n",
       "      <td>349</td>\n",
       "      <td>0</td>\n",
       "      <td>0</td>\n",
       "      <td>3.653685</td>\n",
       "      <td>0.000000</td>\n",
       "      <td>0</td>\n",
       "      <td>-3.653685</td>\n",
       "    </tr>\n",
       "    <tr>\n",
       "      <td>4</td>\n",
       "      <td>0.04</td>\n",
       "      <td>9203</td>\n",
       "      <td>349</td>\n",
       "      <td>0</td>\n",
       "      <td>0</td>\n",
       "      <td>3.653685</td>\n",
       "      <td>0.000000</td>\n",
       "      <td>0</td>\n",
       "      <td>-3.653685</td>\n",
       "    </tr>\n",
       "    <tr>\n",
       "      <td>...</td>\n",
       "      <td>...</td>\n",
       "      <td>...</td>\n",
       "      <td>...</td>\n",
       "      <td>...</td>\n",
       "      <td>...</td>\n",
       "      <td>...</td>\n",
       "      <td>...</td>\n",
       "      <td>...</td>\n",
       "      <td>...</td>\n",
       "    </tr>\n",
       "    <tr>\n",
       "      <td>97</td>\n",
       "      <td>0.97</td>\n",
       "      <td>8632</td>\n",
       "      <td>17</td>\n",
       "      <td>332</td>\n",
       "      <td>571</td>\n",
       "      <td>0.177973</td>\n",
       "      <td>9.453518</td>\n",
       "      <td>903</td>\n",
       "      <td>9.275544</td>\n",
       "    </tr>\n",
       "    <tr>\n",
       "      <td>98</td>\n",
       "      <td>0.98</td>\n",
       "      <td>8554</td>\n",
       "      <td>15</td>\n",
       "      <td>334</td>\n",
       "      <td>649</td>\n",
       "      <td>0.157035</td>\n",
       "      <td>10.291039</td>\n",
       "      <td>983</td>\n",
       "      <td>10.134003</td>\n",
       "    </tr>\n",
       "    <tr>\n",
       "      <td>99</td>\n",
       "      <td>0.99</td>\n",
       "      <td>8365</td>\n",
       "      <td>15</td>\n",
       "      <td>334</td>\n",
       "      <td>838</td>\n",
       "      <td>0.157035</td>\n",
       "      <td>12.269682</td>\n",
       "      <td>1172</td>\n",
       "      <td>12.112647</td>\n",
       "    </tr>\n",
       "    <tr>\n",
       "      <td>100</td>\n",
       "      <td>1.00</td>\n",
       "      <td>4900</td>\n",
       "      <td>5</td>\n",
       "      <td>344</td>\n",
       "      <td>4303</td>\n",
       "      <td>0.052345</td>\n",
       "      <td>48.649497</td>\n",
       "      <td>4647</td>\n",
       "      <td>48.597152</td>\n",
       "    </tr>\n",
       "    <tr>\n",
       "      <td>101</td>\n",
       "      <td>1.01</td>\n",
       "      <td>0</td>\n",
       "      <td>0</td>\n",
       "      <td>349</td>\n",
       "      <td>9203</td>\n",
       "      <td>0.000000</td>\n",
       "      <td>100.000000</td>\n",
       "      <td>9552</td>\n",
       "      <td>100.000000</td>\n",
       "    </tr>\n",
       "  </tbody>\n",
       "</table>\n",
       "<p>102 rows × 9 columns</p>\n",
       "</div>"
      ],
      "text/plain": [
       "      val    TP   FP   TN    FN  fail_rate   work_load   sum        diff\n",
       "0    0.00  9203  349  0    0     3.653685   0.000000    0    -3.653685  \n",
       "1    0.01  9203  349  0    0     3.653685   0.000000    0    -3.653685  \n",
       "2    0.02  9203  349  0    0     3.653685   0.000000    0    -3.653685  \n",
       "3    0.03  9203  349  0    0     3.653685   0.000000    0    -3.653685  \n",
       "4    0.04  9203  349  0    0     3.653685   0.000000    0    -3.653685  \n",
       "..    ...   ...  ... ..   ..          ...        ...   ..          ...  \n",
       "97   0.97  8632  17   332  571   0.177973   9.453518    903   9.275544  \n",
       "98   0.98  8554  15   334  649   0.157035   10.291039   983   10.134003 \n",
       "99   0.99  8365  15   334  838   0.157035   12.269682   1172  12.112647 \n",
       "100  1.00  4900  5    344  4303  0.052345   48.649497   4647  48.597152 \n",
       "101  1.01  0     0    349  9203  0.000000   100.000000  9552  100.000000\n",
       "\n",
       "[102 rows x 9 columns]"
      ]
     },
     "execution_count": 8,
     "metadata": {},
     "output_type": "execute_result"
    }
   ],
   "source": [
    "df_Softmax"
   ]
  },
  {
   "cell_type": "code",
   "execution_count": 9,
   "metadata": {},
   "outputs": [
    {
     "data": {
      "text/plain": [
       "{'mean_all': 0.9648, 'mean_correct': 0.9854, 'mean_incorrect': 0.4214}"
      ]
     },
     "execution_count": 9,
     "metadata": {},
     "output_type": "execute_result"
    }
   ],
   "source": [
    "dict_best_score"
   ]
  },
  {
   "cell_type": "code",
   "execution_count": 10,
   "metadata": {},
   "outputs": [
    {
     "data": {
      "text/plain": [
       "{'mean_all': 96.4424, 'mean_correct': 98.601, 'mean_incorrect': 39.5212}"
      ]
     },
     "execution_count": 10,
     "metadata": {},
     "output_type": "execute_result"
    }
   ],
   "source": [
    "dict_Certainty"
   ]
  },
  {
   "cell_type": "code",
   "execution_count": 11,
   "metadata": {},
   "outputs": [
    {
     "data": {
      "text/plain": [
       "{'mean_all': 0.0356, 'mean_correct': 0.014, 'mean_incorrect': 0.6048}"
      ]
     },
     "execution_count": 11,
     "metadata": {},
     "output_type": "execute_result"
    }
   ],
   "source": [
    "dict_uncertainty"
   ]
  },
  {
   "cell_type": "code",
   "execution_count": 12,
   "metadata": {},
   "outputs": [
    {
     "data": {
      "text/plain": [
       "{'mean_all': 0.0392, 'mean_correct': 0.0178, 'mean_incorrect': 0.6047}"
      ]
     },
     "execution_count": 12,
     "metadata": {},
     "output_type": "execute_result"
    }
   ],
   "source": [
    "dict_u_entr"
   ]
  },
  {
   "cell_type": "code",
   "execution_count": 13,
   "metadata": {},
   "outputs": [
    {
     "data": {
      "text/plain": [
       "{'mean_all': 0.9505, 'mean_correct': 0.9767, 'mean_incorrect': 0.2598}"
      ]
     },
     "execution_count": 13,
     "metadata": {},
     "output_type": "execute_result"
    }
   ],
   "source": [
    "dict_u_var"
   ]
  },
  {
   "cell_type": "code",
   "execution_count": 14,
   "metadata": {},
   "outputs": [],
   "source": [
    "dict_metrics = {'Softmax': dict_best_score, 'Certainty': dict_Certainty, 'uncertainty': dict_uncertainty\n",
    "               , 'Entropy': dict_u_entr, 'Variance': dict_u_var}"
   ]
  },
  {
   "cell_type": "code",
   "execution_count": 15,
   "metadata": {},
   "outputs": [
    {
     "data": {
      "text/plain": [
       "0.9648"
      ]
     },
     "execution_count": 15,
     "metadata": {},
     "output_type": "execute_result"
    }
   ],
   "source": [
    "dict_metrics['Softmax']['mean_all']"
   ]
  },
  {
   "cell_type": "code",
   "execution_count": 16,
   "metadata": {},
   "outputs": [],
   "source": [
    "# KPI = 'fail_rate'\n",
    "# th_KPI = 0.5\n",
    "# df_Softmax[df_Softmax[KPI] < th_KPI].idxmin()[0]\n"
   ]
  },
  {
   "cell_type": "code",
   "execution_count": 17,
   "metadata": {},
   "outputs": [
    {
     "data": {
      "text/html": [
       "<div>\n",
       "<style scoped>\n",
       "    .dataframe tbody tr th:only-of-type {\n",
       "        vertical-align: middle;\n",
       "    }\n",
       "\n",
       "    .dataframe tbody tr th {\n",
       "        vertical-align: top;\n",
       "    }\n",
       "\n",
       "    .dataframe thead th {\n",
       "        text-align: right;\n",
       "    }\n",
       "</style>\n",
       "<table border=\"1\" class=\"dataframe\">\n",
       "  <thead>\n",
       "    <tr style=\"text-align: right;\">\n",
       "      <th></th>\n",
       "      <th>model</th>\n",
       "      <th>acc_Ens</th>\n",
       "      <th>worst_acc</th>\n",
       "      <th>c_unmatch</th>\n",
       "      <th>c_2nd_match</th>\n",
       "      <th>val_m</th>\n",
       "      <th>fail_rate_m</th>\n",
       "      <th>work_load_m</th>\n",
       "      <th>range_min</th>\n",
       "      <th>range_max</th>\n",
       "      <th>range_len</th>\n",
       "    </tr>\n",
       "  </thead>\n",
       "  <tbody>\n",
       "    <tr>\n",
       "      <td>0</td>\n",
       "      <td>densenet121</td>\n",
       "      <td>96.3463</td>\n",
       "      <td>[(14, 0.8986), (22, 0.9211), (15, 0.9238), (21, 0.9402), (13, 0.9498), (y, 0.9574), (19, 0.9628)]</td>\n",
       "      <td>349</td>\n",
       "      <td>114</td>\n",
       "      <td>0.76</td>\n",
       "      <td>0.4816</td>\n",
       "      <td>5.1089</td>\n",
       "      <td>0.55</td>\n",
       "      <td>0.97</td>\n",
       "      <td>43</td>\n",
       "    </tr>\n",
       "  </tbody>\n",
       "</table>\n",
       "</div>"
      ],
      "text/plain": [
       "         model  acc_Ens  \\\n",
       "0  densenet121  96.3463   \n",
       "\n",
       "                                                                                           worst_acc  \\\n",
       "0  [(14, 0.8986), (22, 0.9211), (15, 0.9238), (21, 0.9402), (13, 0.9498), (y, 0.9574), (19, 0.9628)]   \n",
       "\n",
       "   c_unmatch  c_2nd_match  val_m  fail_rate_m  work_load_m  range_min  \\\n",
       "0  349        114          0.76   0.4816       5.1089       0.55        \n",
       "\n",
       "   range_max  range_len  \n",
       "0  0.97       43         "
      ]
     },
     "execution_count": 17,
     "metadata": {},
     "output_type": "execute_result"
    }
   ],
   "source": [
    "# df_Report = tuc1.parse_metrics(model, acc_res, df_Softmax, df_range_Softmax)\n",
    "df_Report_Softmax = tuc1.parse_metrics(model, acc_res, df_Softmax, df_range_Softmax)\n",
    "df_Report_Softmax"
   ]
  },
  {
   "cell_type": "code",
   "execution_count": 18,
   "metadata": {},
   "outputs": [
    {
     "data": {
      "text/html": [
       "<div>\n",
       "<style scoped>\n",
       "    .dataframe tbody tr th:only-of-type {\n",
       "        vertical-align: middle;\n",
       "    }\n",
       "\n",
       "    .dataframe tbody tr th {\n",
       "        vertical-align: top;\n",
       "    }\n",
       "\n",
       "    .dataframe thead th {\n",
       "        text-align: right;\n",
       "    }\n",
       "</style>\n",
       "<table border=\"1\" class=\"dataframe\">\n",
       "  <thead>\n",
       "    <tr style=\"text-align: right;\">\n",
       "      <th></th>\n",
       "      <th>model</th>\n",
       "      <th>acc_Ens</th>\n",
       "      <th>worst_acc</th>\n",
       "      <th>c_unmatch</th>\n",
       "      <th>c_2nd_match</th>\n",
       "      <th>val_m</th>\n",
       "      <th>fail_rate_m</th>\n",
       "      <th>work_load_m</th>\n",
       "      <th>range_min</th>\n",
       "      <th>range_max</th>\n",
       "      <th>range_len</th>\n",
       "    </tr>\n",
       "  </thead>\n",
       "  <tbody>\n",
       "    <tr>\n",
       "      <td>0</td>\n",
       "      <td>densenet121</td>\n",
       "      <td>96.3463</td>\n",
       "      <td>[(14, 0.8986), (22, 0.9211), (15, 0.9238), (21, 0.9402), (13, 0.9498), (y, 0.9574), (19, 0.9628)]</td>\n",
       "      <td>349</td>\n",
       "      <td>114</td>\n",
       "      <td>84.0</td>\n",
       "      <td>0.492</td>\n",
       "      <td>5.5486</td>\n",
       "      <td>57.0</td>\n",
       "      <td>98.0</td>\n",
       "      <td>42</td>\n",
       "    </tr>\n",
       "  </tbody>\n",
       "</table>\n",
       "</div>"
      ],
      "text/plain": [
       "         model  acc_Ens  \\\n",
       "0  densenet121  96.3463   \n",
       "\n",
       "                                                                                           worst_acc  \\\n",
       "0  [(14, 0.8986), (22, 0.9211), (15, 0.9238), (21, 0.9402), (13, 0.9498), (y, 0.9574), (19, 0.9628)]   \n",
       "\n",
       "   c_unmatch  c_2nd_match  val_m  fail_rate_m  work_load_m  range_min  \\\n",
       "0  349        114          84.0   0.492        5.5486       57.0        \n",
       "\n",
       "   range_max  range_len  \n",
       "0  98.0       42         "
      ]
     },
     "execution_count": 18,
     "metadata": {},
     "output_type": "execute_result"
    }
   ],
   "source": [
    "df_Report_Top2 = tuc1.parse_metrics(model, acc_res, df_Top2, df_range_Top2)\n",
    "df_Report_Top2"
   ]
  },
  {
   "cell_type": "code",
   "execution_count": 19,
   "metadata": {},
   "outputs": [
    {
     "data": {
      "text/html": [
       "<div>\n",
       "<style scoped>\n",
       "    .dataframe tbody tr th:only-of-type {\n",
       "        vertical-align: middle;\n",
       "    }\n",
       "\n",
       "    .dataframe tbody tr th {\n",
       "        vertical-align: top;\n",
       "    }\n",
       "\n",
       "    .dataframe thead th {\n",
       "        text-align: right;\n",
       "    }\n",
       "</style>\n",
       "<table border=\"1\" class=\"dataframe\">\n",
       "  <thead>\n",
       "    <tr style=\"text-align: right;\">\n",
       "      <th></th>\n",
       "      <th>model</th>\n",
       "      <th>acc_Ens</th>\n",
       "      <th>worst_acc</th>\n",
       "      <th>c_unmatch</th>\n",
       "      <th>c_2nd_match</th>\n",
       "      <th>val_m</th>\n",
       "      <th>fail_rate_m</th>\n",
       "      <th>work_load_m</th>\n",
       "      <th>range_min</th>\n",
       "      <th>range_max</th>\n",
       "      <th>range_len</th>\n",
       "    </tr>\n",
       "  </thead>\n",
       "  <tbody>\n",
       "    <tr>\n",
       "      <td>0</td>\n",
       "      <td>densenet121</td>\n",
       "      <td>96.3463</td>\n",
       "      <td>[(14, 0.8986), (22, 0.9211), (15, 0.9238), (21, 0.9402), (13, 0.9498), (y, 0.9574), (19, 0.9628)]</td>\n",
       "      <td>349</td>\n",
       "      <td>114</td>\n",
       "      <td>0.17</td>\n",
       "      <td>0.5025</td>\n",
       "      <td>5.4229</td>\n",
       "      <td>0.02</td>\n",
       "      <td>0.43</td>\n",
       "      <td>42</td>\n",
       "    </tr>\n",
       "  </tbody>\n",
       "</table>\n",
       "</div>"
      ],
      "text/plain": [
       "         model  acc_Ens  \\\n",
       "0  densenet121  96.3463   \n",
       "\n",
       "                                                                                           worst_acc  \\\n",
       "0  [(14, 0.8986), (22, 0.9211), (15, 0.9238), (21, 0.9402), (13, 0.9498), (y, 0.9574), (19, 0.9628)]   \n",
       "\n",
       "   c_unmatch  c_2nd_match  val_m  fail_rate_m  work_load_m  range_min  \\\n",
       "0  349        114          0.17   0.5025       5.4229       0.02        \n",
       "\n",
       "   range_max  range_len  \n",
       "0  0.43       42         "
      ]
     },
     "execution_count": 19,
     "metadata": {},
     "output_type": "execute_result"
    }
   ],
   "source": [
    "df_Report_uncertainty = tuc1.parse_metrics(model, acc_res, df_uncertainty, df_range_uncertainty, KPI='fail_rate', \n",
    "                                    th_KPI = 0.5, is_smaller = False)\n",
    "df_Report_uncertainty"
   ]
  },
  {
   "cell_type": "code",
   "execution_count": 20,
   "metadata": {},
   "outputs": [
    {
     "data": {
      "text/html": [
       "<div>\n",
       "<style scoped>\n",
       "    .dataframe tbody tr th:only-of-type {\n",
       "        vertical-align: middle;\n",
       "    }\n",
       "\n",
       "    .dataframe tbody tr th {\n",
       "        vertical-align: top;\n",
       "    }\n",
       "\n",
       "    .dataframe thead th {\n",
       "        text-align: right;\n",
       "    }\n",
       "</style>\n",
       "<table border=\"1\" class=\"dataframe\">\n",
       "  <thead>\n",
       "    <tr style=\"text-align: right;\">\n",
       "      <th></th>\n",
       "      <th>model</th>\n",
       "      <th>acc_Ens</th>\n",
       "      <th>worst_acc</th>\n",
       "      <th>c_unmatch</th>\n",
       "      <th>c_2nd_match</th>\n",
       "      <th>val_m</th>\n",
       "      <th>fail_rate_m</th>\n",
       "      <th>work_load_m</th>\n",
       "      <th>range_min</th>\n",
       "      <th>range_max</th>\n",
       "      <th>range_len</th>\n",
       "    </tr>\n",
       "  </thead>\n",
       "  <tbody>\n",
       "    <tr>\n",
       "      <td>0</td>\n",
       "      <td>densenet121</td>\n",
       "      <td>96.3463</td>\n",
       "      <td>[(14, 0.8986), (22, 0.9211), (15, 0.9238), (21, 0.9402), (13, 0.9498), (y, 0.9574), (19, 0.9628)]</td>\n",
       "      <td>349</td>\n",
       "      <td>114</td>\n",
       "      <td>0.28</td>\n",
       "      <td>0.5235</td>\n",
       "      <td>4.8681</td>\n",
       "      <td>0.05</td>\n",
       "      <td>0.43</td>\n",
       "      <td>39</td>\n",
       "    </tr>\n",
       "  </tbody>\n",
       "</table>\n",
       "</div>"
      ],
      "text/plain": [
       "         model  acc_Ens  \\\n",
       "0  densenet121  96.3463   \n",
       "\n",
       "                                                                                           worst_acc  \\\n",
       "0  [(14, 0.8986), (22, 0.9211), (15, 0.9238), (21, 0.9402), (13, 0.9498), (y, 0.9574), (19, 0.9628)]   \n",
       "\n",
       "   c_unmatch  c_2nd_match  val_m  fail_rate_m  work_load_m  range_min  \\\n",
       "0  349        114          0.28   0.5235       4.8681       0.05        \n",
       "\n",
       "   range_max  range_len  \n",
       "0  0.43       39         "
      ]
     },
     "execution_count": 20,
     "metadata": {},
     "output_type": "execute_result"
    }
   ],
   "source": [
    "df_Report_Entr = tuc1.parse_metrics(model, acc_res, df_Entropy_H, df_range_Entropy_H, KPI='fail_rate', \n",
    "                                    th_KPI = 0.5, is_smaller = False)\n",
    "df_Report_Entr"
   ]
  },
  {
   "cell_type": "code",
   "execution_count": 21,
   "metadata": {},
   "outputs": [
    {
     "data": {
      "text/html": [
       "<div>\n",
       "<style scoped>\n",
       "    .dataframe tbody tr th:only-of-type {\n",
       "        vertical-align: middle;\n",
       "    }\n",
       "\n",
       "    .dataframe tbody tr th {\n",
       "        vertical-align: top;\n",
       "    }\n",
       "\n",
       "    .dataframe thead th {\n",
       "        text-align: right;\n",
       "    }\n",
       "</style>\n",
       "<table border=\"1\" class=\"dataframe\">\n",
       "  <thead>\n",
       "    <tr style=\"text-align: right;\">\n",
       "      <th></th>\n",
       "      <th>model</th>\n",
       "      <th>acc_Ens</th>\n",
       "      <th>worst_acc</th>\n",
       "      <th>c_unmatch</th>\n",
       "      <th>c_2nd_match</th>\n",
       "      <th>val_m</th>\n",
       "      <th>fail_rate_m</th>\n",
       "      <th>work_load_m</th>\n",
       "      <th>range_min</th>\n",
       "      <th>range_max</th>\n",
       "      <th>range_len</th>\n",
       "    </tr>\n",
       "  </thead>\n",
       "  <tbody>\n",
       "    <tr>\n",
       "      <td>0</td>\n",
       "      <td>densenet121</td>\n",
       "      <td>96.3463</td>\n",
       "      <td>[(14, 0.8986), (22, 0.9211), (15, 0.9238), (21, 0.9402), (13, 0.9498), (y, 0.9574), (19, 0.9628)]</td>\n",
       "      <td>349</td>\n",
       "      <td>114</td>\n",
       "      <td>0.58</td>\n",
       "      <td>0.492</td>\n",
       "      <td>5.0565</td>\n",
       "      <td>0.36</td>\n",
       "      <td>0.95</td>\n",
       "      <td>60</td>\n",
       "    </tr>\n",
       "  </tbody>\n",
       "</table>\n",
       "</div>"
      ],
      "text/plain": [
       "         model  acc_Ens  \\\n",
       "0  densenet121  96.3463   \n",
       "\n",
       "                                                                                           worst_acc  \\\n",
       "0  [(14, 0.8986), (22, 0.9211), (15, 0.9238), (21, 0.9402), (13, 0.9498), (y, 0.9574), (19, 0.9628)]   \n",
       "\n",
       "   c_unmatch  c_2nd_match  val_m  fail_rate_m  work_load_m  range_min  \\\n",
       "0  349        114          0.58   0.492        5.0565       0.36        \n",
       "\n",
       "   range_max  range_len  \n",
       "0  0.95       60         "
      ]
     },
     "execution_count": 21,
     "metadata": {},
     "output_type": "execute_result"
    }
   ],
   "source": [
    "df_Report_Var = tuc1.parse_metrics(model, acc_res, df_Var_H, df_range_Var_H)\n",
    "df_Report_Var"
   ]
  },
  {
   "cell_type": "code",
   "execution_count": 22,
   "metadata": {},
   "outputs": [],
   "source": [
    "dict_reports = {'Softmax': df_Report_Softmax, 'Certainty': df_Report_Top2, 'uncertainty': df_Report_uncertainty\n",
    "               , 'Entropy': df_Report_Entr, 'Variance': df_Report_Var}"
   ]
  },
  {
   "cell_type": "code",
   "execution_count": 23,
   "metadata": {},
   "outputs": [
    {
     "data": {
      "text/html": [
       "<div>\n",
       "<style scoped>\n",
       "    .dataframe tbody tr th:only-of-type {\n",
       "        vertical-align: middle;\n",
       "    }\n",
       "\n",
       "    .dataframe tbody tr th {\n",
       "        vertical-align: top;\n",
       "    }\n",
       "\n",
       "    .dataframe thead th {\n",
       "        text-align: right;\n",
       "    }\n",
       "</style>\n",
       "<table border=\"1\" class=\"dataframe\">\n",
       "  <thead>\n",
       "    <tr style=\"text-align: right;\">\n",
       "      <th></th>\n",
       "      <th>DataSet</th>\n",
       "      <th>Model</th>\n",
       "      <th>Data</th>\n",
       "      <th>Accuracy</th>\n",
       "      <th>Metric</th>\n",
       "      <th>Fail_Rate</th>\n",
       "      <th>Work_Load_P</th>\n",
       "      <th>Value</th>\n",
       "      <th>Tolerance_Range</th>\n",
       "      <th>Mean_ALL</th>\n",
       "      <th>Mean_Correct</th>\n",
       "      <th>Mean_Incorrect</th>\n",
       "      <th>Acc_Per_Model</th>\n",
       "      <th>Worst_Acc_Per_Class</th>\n",
       "    </tr>\n",
       "  </thead>\n",
       "  <tbody>\n",
       "    <tr>\n",
       "      <td>0</td>\n",
       "      <td>arkusai</td>\n",
       "      <td>alexnet</td>\n",
       "      <td>VAL</td>\n",
       "      <td>(96.3463, 349, 114, [(14, 0.8986), (22, 0.9211), (15, 0.9238), (21, 0.9402), (13, 0.9498), (y, 0.9574), (19, 0.9628)])</td>\n",
       "      <td>Softmax</td>\n",
       "      <td>0.4816</td>\n",
       "      <td>5.1089</td>\n",
       "      <td>0.76</td>\n",
       "      <td>43 (0.55-0.97)</td>\n",
       "      <td>0.9648</td>\n",
       "      <td>0.9854</td>\n",
       "      <td>0.4214</td>\n",
       "      <td>[96.1893, 95.9904, 96.1265, 96.1369, 95.9694, 95.938, 96.0846, 96.0741, 96.0846, 96.0741, 96.0113, 96.116]</td>\n",
       "      <td>[(14, 0.8986), (22, 0.9211), (15, 0.9238), (21, 0.9402), (13, 0.9498), (y, 0.9574), (19, 0.9628)]</td>\n",
       "    </tr>\n",
       "    <tr>\n",
       "      <td>1</td>\n",
       "      <td>arkusai</td>\n",
       "      <td>alexnet</td>\n",
       "      <td>VAL</td>\n",
       "      <td>(96.3463, 349, 114, [(14, 0.8986), (22, 0.9211), (15, 0.9238), (21, 0.9402), (13, 0.9498), (y, 0.9574), (19, 0.9628)])</td>\n",
       "      <td>Certainty</td>\n",
       "      <td>0.4920</td>\n",
       "      <td>5.5486</td>\n",
       "      <td>84.00</td>\n",
       "      <td>42 (57.0-98.0)</td>\n",
       "      <td>96.4424</td>\n",
       "      <td>98.6010</td>\n",
       "      <td>39.5212</td>\n",
       "      <td>[96.1893, 95.9904, 96.1265, 96.1369, 95.9694, 95.938, 96.0846, 96.0741, 96.0846, 96.0741, 96.0113, 96.116]</td>\n",
       "      <td>[(14, 0.8986), (22, 0.9211), (15, 0.9238), (21, 0.9402), (13, 0.9498), (y, 0.9574), (19, 0.9628)]</td>\n",
       "    </tr>\n",
       "    <tr>\n",
       "      <td>2</td>\n",
       "      <td>arkusai</td>\n",
       "      <td>alexnet</td>\n",
       "      <td>VAL</td>\n",
       "      <td>(96.3463, 349, 114, [(14, 0.8986), (22, 0.9211), (15, 0.9238), (21, 0.9402), (13, 0.9498), (y, 0.9574), (19, 0.9628)])</td>\n",
       "      <td>uncertainty</td>\n",
       "      <td>0.5025</td>\n",
       "      <td>5.4229</td>\n",
       "      <td>0.17</td>\n",
       "      <td>42 (0.02-0.43)</td>\n",
       "      <td>0.0356</td>\n",
       "      <td>0.0140</td>\n",
       "      <td>0.6048</td>\n",
       "      <td>[96.1893, 95.9904, 96.1265, 96.1369, 95.9694, 95.938, 96.0846, 96.0741, 96.0846, 96.0741, 96.0113, 96.116]</td>\n",
       "      <td>[(14, 0.8986), (22, 0.9211), (15, 0.9238), (21, 0.9402), (13, 0.9498), (y, 0.9574), (19, 0.9628)]</td>\n",
       "    </tr>\n",
       "    <tr>\n",
       "      <td>3</td>\n",
       "      <td>arkusai</td>\n",
       "      <td>alexnet</td>\n",
       "      <td>VAL</td>\n",
       "      <td>(96.3463, 349, 114, [(14, 0.8986), (22, 0.9211), (15, 0.9238), (21, 0.9402), (13, 0.9498), (y, 0.9574), (19, 0.9628)])</td>\n",
       "      <td>Entropy</td>\n",
       "      <td>0.5235</td>\n",
       "      <td>4.8681</td>\n",
       "      <td>0.28</td>\n",
       "      <td>39 (0.05-0.43)</td>\n",
       "      <td>0.0392</td>\n",
       "      <td>0.0178</td>\n",
       "      <td>0.6047</td>\n",
       "      <td>[96.1893, 95.9904, 96.1265, 96.1369, 95.9694, 95.938, 96.0846, 96.0741, 96.0846, 96.0741, 96.0113, 96.116]</td>\n",
       "      <td>[(14, 0.8986), (22, 0.9211), (15, 0.9238), (21, 0.9402), (13, 0.9498), (y, 0.9574), (19, 0.9628)]</td>\n",
       "    </tr>\n",
       "    <tr>\n",
       "      <td>4</td>\n",
       "      <td>arkusai</td>\n",
       "      <td>alexnet</td>\n",
       "      <td>VAL</td>\n",
       "      <td>(96.3463, 349, 114, [(14, 0.8986), (22, 0.9211), (15, 0.9238), (21, 0.9402), (13, 0.9498), (y, 0.9574), (19, 0.9628)])</td>\n",
       "      <td>Variance</td>\n",
       "      <td>0.4920</td>\n",
       "      <td>5.0565</td>\n",
       "      <td>0.58</td>\n",
       "      <td>60 (0.36-0.9500000000000001)</td>\n",
       "      <td>0.9505</td>\n",
       "      <td>0.9767</td>\n",
       "      <td>0.2598</td>\n",
       "      <td>[96.1893, 95.9904, 96.1265, 96.1369, 95.9694, 95.938, 96.0846, 96.0741, 96.0846, 96.0741, 96.0113, 96.116]</td>\n",
       "      <td>[(14, 0.8986), (22, 0.9211), (15, 0.9238), (21, 0.9402), (13, 0.9498), (y, 0.9574), (19, 0.9628)]</td>\n",
       "    </tr>\n",
       "  </tbody>\n",
       "</table>\n",
       "</div>"
      ],
      "text/plain": [
       "     DataSet    Model Data  \\\n",
       "0  arkusai  alexnet  VAL   \n",
       "1  arkusai  alexnet  VAL   \n",
       "2  arkusai  alexnet  VAL   \n",
       "3  arkusai  alexnet  VAL   \n",
       "4  arkusai  alexnet  VAL   \n",
       "\n",
       "                                                                                                                 Accuracy  \\\n",
       "0  (96.3463, 349, 114, [(14, 0.8986), (22, 0.9211), (15, 0.9238), (21, 0.9402), (13, 0.9498), (y, 0.9574), (19, 0.9628)])   \n",
       "1  (96.3463, 349, 114, [(14, 0.8986), (22, 0.9211), (15, 0.9238), (21, 0.9402), (13, 0.9498), (y, 0.9574), (19, 0.9628)])   \n",
       "2  (96.3463, 349, 114, [(14, 0.8986), (22, 0.9211), (15, 0.9238), (21, 0.9402), (13, 0.9498), (y, 0.9574), (19, 0.9628)])   \n",
       "3  (96.3463, 349, 114, [(14, 0.8986), (22, 0.9211), (15, 0.9238), (21, 0.9402), (13, 0.9498), (y, 0.9574), (19, 0.9628)])   \n",
       "4  (96.3463, 349, 114, [(14, 0.8986), (22, 0.9211), (15, 0.9238), (21, 0.9402), (13, 0.9498), (y, 0.9574), (19, 0.9628)])   \n",
       "\n",
       "        Metric  Fail_Rate  Work_Load_P  Value               Tolerance_Range  \\\n",
       "0  Softmax      0.4816     5.1089       0.76   43 (0.55-0.97)                 \n",
       "1  Certainty    0.4920     5.5486       84.00  42 (57.0-98.0)                 \n",
       "2  uncertainty  0.5025     5.4229       0.17   42 (0.02-0.43)                 \n",
       "3  Entropy      0.5235     4.8681       0.28   39 (0.05-0.43)                 \n",
       "4  Variance     0.4920     5.0565       0.58   60 (0.36-0.9500000000000001)   \n",
       "\n",
       "   Mean_ALL  Mean_Correct  Mean_Incorrect  \\\n",
       "0  0.9648    0.9854        0.4214           \n",
       "1  96.4424   98.6010       39.5212          \n",
       "2  0.0356    0.0140        0.6048           \n",
       "3  0.0392    0.0178        0.6047           \n",
       "4  0.9505    0.9767        0.2598           \n",
       "\n",
       "                                                                                                Acc_Per_Model  \\\n",
       "0  [96.1893, 95.9904, 96.1265, 96.1369, 95.9694, 95.938, 96.0846, 96.0741, 96.0846, 96.0741, 96.0113, 96.116]   \n",
       "1  [96.1893, 95.9904, 96.1265, 96.1369, 95.9694, 95.938, 96.0846, 96.0741, 96.0846, 96.0741, 96.0113, 96.116]   \n",
       "2  [96.1893, 95.9904, 96.1265, 96.1369, 95.9694, 95.938, 96.0846, 96.0741, 96.0846, 96.0741, 96.0113, 96.116]   \n",
       "3  [96.1893, 95.9904, 96.1265, 96.1369, 95.9694, 95.938, 96.0846, 96.0741, 96.0846, 96.0741, 96.0113, 96.116]   \n",
       "4  [96.1893, 95.9904, 96.1265, 96.1369, 95.9694, 95.938, 96.0846, 96.0741, 96.0846, 96.0741, 96.0113, 96.116]   \n",
       "\n",
       "                                                                                 Worst_Acc_Per_Class  \n",
       "0  [(14, 0.8986), (22, 0.9211), (15, 0.9238), (21, 0.9402), (13, 0.9498), (y, 0.9574), (19, 0.9628)]  \n",
       "1  [(14, 0.8986), (22, 0.9211), (15, 0.9238), (21, 0.9402), (13, 0.9498), (y, 0.9574), (19, 0.9628)]  \n",
       "2  [(14, 0.8986), (22, 0.9211), (15, 0.9238), (21, 0.9402), (13, 0.9498), (y, 0.9574), (19, 0.9628)]  \n",
       "3  [(14, 0.8986), (22, 0.9211), (15, 0.9238), (21, 0.9402), (13, 0.9498), (y, 0.9574), (19, 0.9628)]  \n",
       "4  [(14, 0.8986), (22, 0.9211), (15, 0.9238), (21, 0.9402), (13, 0.9498), (y, 0.9574), (19, 0.9628)]  "
      ]
     },
     "execution_count": 23,
     "metadata": {},
     "output_type": "execute_result"
    }
   ],
   "source": [
    "col_names =  ['DataSet', 'Model', 'Data', 'Accuracy', 'Metric', 'Fail_Rate', 'Work_Load_P', 'Value'\n",
    "              , 'Tolerance_Range', 'Mean_ALL', 'Mean_Correct', 'Mean_Incorrect', 'Acc_Per_Model'\n",
    "              , 'Worst_Acc_Per_Class']\n",
    "df_Summary  = pd.DataFrame(columns = col_names)\n",
    "\n",
    "# u_Dataset, u_Model, u_Data\n",
    "# Softmax, Certainty, uncertainty, Entropy, Variance\n",
    "for i, metric in enumerate(dict_metrics.keys()):\n",
    "    temp_row = [u_Dataset, u_Model, u_Data, acc_res, metric, dict_reports[metric]['fail_rate_m'][0]\n",
    "               , dict_reports[metric]['work_load_m'][0], dict_reports[metric]['val_m'][0]\n",
    "               ,f\"{dict_reports[metric]['range_len'][0]} ({dict_reports[metric]['range_min'][0]}-\\\n",
    "{dict_reports[metric]['range_max'][0]})\"\n",
    ", dict_metrics[metric]['mean_all'], dict_metrics[metric]['mean_correct'], dict_metrics[metric]['mean_incorrect']\n",
    "        , lst_acc_models,  dict_reports[metric]['worst_acc'][0]]\n",
    "    df_Summary.loc[i] = temp_row\n",
    "\n",
    "df_Summary"
   ]
  },
  {
   "cell_type": "code",
   "execution_count": 24,
   "metadata": {},
   "outputs": [
    {
     "data": {
      "text/plain": [
       "'uncertainty_arkusai_alexnet_VAL'"
      ]
     },
     "execution_count": 24,
     "metadata": {},
     "output_type": "execute_result"
    }
   ],
   "source": [
    "save_name = f'uncertainty_{u_Dataset}_{u_Model}_{u_Data}'\n",
    "df_Summary.to_csv(f'{save_name}.csv')\n",
    "save_name"
   ]
  },
  {
   "cell_type": "code",
   "execution_count": 25,
   "metadata": {},
   "outputs": [],
   "source": [
    "# dict_save_all = {'tuc1': tuc1\n",
    "# with open('config.dictionary', 'wb') as dictionary:\n",
    "#     pickle.dump(config_dictionary, config_dictionary_file)\n",
    "\n",
    "a_file = open(f'{save_name}.pkl', 'wb')\n",
    "pickle. dump(tuc1, a_file)\n",
    "a_file.close()"
   ]
  },
  {
   "cell_type": "code",
   "execution_count": null,
   "metadata": {},
   "outputs": [],
   "source": []
  },
  {
   "cell_type": "markdown",
   "metadata": {},
   "source": [
    "## PLOTS - 1"
   ]
  },
  {
   "cell_type": "code",
   "execution_count": 27,
   "metadata": {},
   "outputs": [
    {
     "name": "stderr",
     "output_type": "stream",
     "text": [
      "  2%|▏         | 2/102 [00:00<00:07, 12.51it/s]"
     ]
    },
    {
     "name": "stdout",
     "output_type": "stream",
     "text": [
      "max: 1.0 .. min: 0.13330000638961792 .. mean: 0.964822 .. var: 0.018617\n"
     ]
    },
    {
     "name": "stderr",
     "output_type": "stream",
     "text": [
      "100%|██████████| 102/102 [00:07<00:00, 13.51it/s]\n",
      "  7%|▋         | 7/102 [00:00<00:01, 62.15it/s]"
     ]
    },
    {
     "name": "stdout",
     "output_type": "stream",
     "text": [
      "argmax:29\n",
      "\n",
      "When threshold=0.29:\n",
      "TP: 9169 .. FP: 192 .. TN: 157 .. FN: 34\n",
      "..... 0.0205% of correctly classified images are below the threshold (FDR)\n",
      "while 0.822% of incorrectly classified images are below the threshold (NPV)\n",
      "precision: 0.98\n",
      "recall: 1.0\n",
      " threshold  fail_rate  work_load  total_mistakes  total_mistakes(%)     FP(%)\n",
      " 0.24       2.627722   1.266750   274             0.028685           0.026277\n",
      " 0.25       2.397404   1.538945   256             0.026801           0.023974\n",
      " 0.26       2.167085   1.779732   235             0.024602           0.021671\n",
      " 0.27       2.093802   1.894891   232             0.024288           0.020938\n",
      " 0.28       2.041457   1.957705   228             0.023869           0.020415\n",
      " 0.29       2.010050   1.999581   226             0.023660           0.020101\n",
      " 0.30       1.968174   2.041457   222             0.023241           0.019682\n",
      " 0.31       1.894891   2.146147   218             0.022822           0.018949\n",
      " 0.32       1.842546   2.219430   215             0.022508           0.018425\n",
      " 0.33       1.800670   2.261307   211             0.022090           0.018007\n",
      "max: 100.0 .. min: 0.247932 .. mean: 96.442405 .. var: 216.989471\n"
     ]
    },
    {
     "name": "stderr",
     "output_type": "stream",
     "text": [
      "100%|██████████| 102/102 [00:01<00:00, 65.85it/s]\n"
     ]
    },
    {
     "name": "stdout",
     "output_type": "stream",
     "text": [
      "argmax:27\n",
      "\n",
      "When threshold=27.0:\n",
      "TP: 9165 .. FP: 193 .. TN: 156 .. FN: 38\n",
      "..... 0.0206% of correctly classified images are below the threshold (FDR)\n",
      "while 0.8041% of incorrectly classified images are below the threshold (NPV)\n",
      "precision: 0.98\n",
      "recall: 1.0\n",
      " threshold  fail_rate  work_load  total_mistakes  total_mistakes(%)     FP(%)\n",
      " 22.0       2.355528   1.633166   257             0.026905           0.023555\n",
      " 23.0       2.292714   1.706449   252             0.026382           0.022927\n",
      " 24.0       2.229899   1.779732   247             0.025858           0.022299\n",
      " 25.0       2.177554   1.853015   244             0.025544           0.021776\n",
      " 26.0       2.104271   1.936767   238             0.024916           0.021043\n",
      " 27.0       2.020519   2.030988   231             0.024183           0.020205\n",
      " 28.0       1.947236   2.156616   229             0.023974           0.019472\n",
      " 29.0       1.905360   2.208961   226             0.023660           0.019054\n",
      " 30.0       1.863484   2.271776   224             0.023451           0.018635\n",
      " 31.0       1.811139   2.345059   221             0.023137           0.018111\n"
     ]
    },
    {
     "data": {
      "image/png": "[encoded data removed]",
      "text/plain": [
       "<Figure size 1080x288 with 2 Axes>"
      ]
     },
     "metadata": {
      "needs_background": "light"
     },
     "output_type": "display_data"
    }
   ],
   "source": [
    "# fig, ((plt_sub1, plt_sub2)) = plt.subplots(nrows=1, ncols=2, figsize=(15,4))\n",
    "\n",
    "# df_Softmax = tuc1.plot_metrics_test(plt_m=plt_sub1, title='Softmax Score', metric_name='best_score', \n",
    "#                                     step_size=0.01, is_norm=False, plus_minus = 5, plot_graph = True)\n",
    "\n",
    "# df_Top2 = tuc1.plot_metrics_test(plt_m=plt_sub2, title='Top-2 Difference', metric_name='Certainty', step_size=1, \n",
    "#                             is_norm=False, plus_minus = 5, plot_graph = True)\n",
    "\n",
    "# plt.savefig('../figures/test.png')\n",
    "# plt.show()\n",
    "# # plt.tight_layout()"
   ]
  },
  {
   "cell_type": "code",
   "execution_count": 32,
   "metadata": {},
   "outputs": [
    {
     "name": "stderr",
     "output_type": "stream",
     "text": [
      "  1%|          | 1/102 [00:00<00:10,  9.45it/s]"
     ]
    },
    {
     "name": "stdout",
     "output_type": "stream",
     "text": [
      "max: 1.0 .. min: 0.13330000638961792 .. mean: 0.964822 .. var: 0.018617\n"
     ]
    },
    {
     "name": "stderr",
     "output_type": "stream",
     "text": [
      "100%|██████████| 102/102 [00:07<00:00, 13.38it/s]\n",
      "  7%|▋         | 7/102 [00:00<00:01, 61.68it/s]"
     ]
    },
    {
     "name": "stdout",
     "output_type": "stream",
     "text": [
      "argmax:29\n",
      "\n",
      "When threshold=0.29:\n",
      "TP: 9169 .. FP: 192 .. TN: 157 .. FN: 34\n",
      "..... 0.0205% of correctly classified images are below the threshold (FDR)\n",
      "while 0.822% of incorrectly classified images are below the threshold (NPV)\n",
      "precision: 0.98\n",
      "recall: 1.0\n",
      " threshold  fail_rate  work_load  total_mistakes  total_mistakes(%)     FP(%)\n",
      " 0.24       2.627722   1.266750   274             0.028685           0.026277\n",
      " 0.25       2.397404   1.538945   256             0.026801           0.023974\n",
      " 0.26       2.167085   1.779732   235             0.024602           0.021671\n",
      " 0.27       2.093802   1.894891   232             0.024288           0.020938\n",
      " 0.28       2.041457   1.957705   228             0.023869           0.020415\n",
      " 0.29       2.010050   1.999581   226             0.023660           0.020101\n",
      " 0.30       1.968174   2.041457   222             0.023241           0.019682\n",
      " 0.31       1.894891   2.146147   218             0.022822           0.018949\n",
      " 0.32       1.842546   2.219430   215             0.022508           0.018425\n",
      " 0.33       1.800670   2.261307   211             0.022090           0.018007\n",
      "max: 100.0 .. min: 0.247932 .. mean: 96.442405 .. var: 216.989471\n"
     ]
    },
    {
     "name": "stderr",
     "output_type": "stream",
     "text": [
      "100%|██████████| 102/102 [00:01<00:00, 65.22it/s]\n",
      "  6%|▌         | 6/102 [00:00<00:01, 58.66it/s]"
     ]
    },
    {
     "name": "stdout",
     "output_type": "stream",
     "text": [
      "argmax:27\n",
      "\n",
      "When threshold=27.0:\n",
      "TP: 9165 .. FP: 193 .. TN: 156 .. FN: 38\n",
      "..... 0.0206% of correctly classified images are below the threshold (FDR)\n",
      "while 0.8041% of incorrectly classified images are below the threshold (NPV)\n",
      "precision: 0.98\n",
      "recall: 1.0\n",
      " threshold  fail_rate  work_load  total_mistakes  total_mistakes(%)     FP(%)\n",
      " 22.0       2.355528   1.633166   257             0.026905           0.023555\n",
      " 23.0       2.292714   1.706449   252             0.026382           0.022927\n",
      " 24.0       2.229899   1.779732   247             0.025858           0.022299\n",
      " 25.0       2.177554   1.853015   244             0.025544           0.021776\n",
      " 26.0       2.104271   1.936767   238             0.024916           0.021043\n",
      " 27.0       2.020519   2.030988   231             0.024183           0.020205\n",
      " 28.0       1.947236   2.156616   229             0.023974           0.019472\n",
      " 29.0       1.905360   2.208961   226             0.023660           0.019054\n",
      " 30.0       1.863484   2.271776   224             0.023451           0.018635\n",
      " 31.0       1.811139   2.345059   221             0.023137           0.018111\n",
      "max: 1.0 .. min: 0.0 .. mean: 0.039244 .. var: 0.020677\n"
     ]
    },
    {
     "name": "stderr",
     "output_type": "stream",
     "text": [
      "100%|██████████| 102/102 [00:01<00:00, 71.99it/s]\n",
      "  6%|▌         | 6/102 [00:00<00:01, 55.82it/s]"
     ]
    },
    {
     "name": "stdout",
     "output_type": "stream",
     "text": [
      "argmax:70\n",
      "\n",
      "When threshold=0.7:\n",
      "TP: 9170 .. FP: 193 .. TN: 156 .. FN: 33\n",
      "..... 0.0206% of correctly classified images are below the threshold (FDR)\n",
      "while 0.8254% of incorrectly classified images are below the threshold (NPV)\n",
      "precision: 0.98\n",
      "recall: 1.0\n",
      " threshold  fail_rate  work_load  total_mistakes  total_mistakes(%)     FP(%)\n",
      " 0.65       1.800670   2.261307   211             0.022090           0.018007\n",
      " 0.66       1.842546   2.208961   214             0.022404           0.018425\n",
      " 0.67       1.873953   2.156616   215             0.022508           0.018740\n",
      " 0.68       1.894891   2.114740   215             0.022508           0.018949\n",
      " 0.69       1.968174   2.030988   221             0.023137           0.019682\n",
      " 0.70       2.020519   1.978643   226             0.023660           0.020205\n",
      " 0.71       2.072864   1.915829   230             0.024079           0.020729\n",
      " 0.72       2.156616   1.821608   237             0.024812           0.021566\n",
      " 0.73       2.188023   1.769263   238             0.024916           0.021880\n",
      " 0.74       2.198492   1.737856   237             0.024812           0.021985\n",
      "max: 1.0 .. min: 0.0 .. mean: 0.950489 .. var: 0.031048\n"
     ]
    },
    {
     "name": "stderr",
     "output_type": "stream",
     "text": [
      "100%|██████████| 102/102 [00:01<00:00, 70.55it/s]\n"
     ]
    },
    {
     "name": "stdout",
     "output_type": "stream",
     "text": [
      "argmax:12\n",
      "\n",
      "When threshold=0.12:\n",
      "TP: 9170 .. FP: 198 .. TN: 151 .. FN: 33\n",
      "..... 0.0211% of correctly classified images are below the threshold (FDR)\n",
      "while 0.8207% of incorrectly classified images are below the threshold (NPV)\n",
      "precision: 0.98\n",
      "recall: 1.0\n",
      " threshold  fail_rate  work_load  total_mistakes  total_mistakes(%)     FP(%)\n",
      " 0.07       2.669598   1.151591   271             0.028371           0.026696\n",
      " 0.08       2.543970   1.298157   261             0.027324           0.025440\n",
      " 0.09       2.439280   1.444724   255             0.026696           0.024393\n",
      " 0.10       2.261307   1.664573   242             0.025335           0.022613\n",
      " 0.11       2.125209   1.853015   234             0.024497           0.021252\n",
      " 0.12       2.072864   1.926298   231             0.024183           0.020729\n",
      " 0.13       1.915829   2.093802   217             0.022718           0.019158\n",
      " 0.14       1.842546   2.177554   211             0.022090           0.018425\n",
      " 0.15       1.779732   2.282245   209             0.021880           0.017797\n",
      " 0.16       1.706449   2.407873   207             0.021671           0.017064\n"
     ]
    },
    {
     "data": {
      "image/png": "[encoded data removed]",
      "text/plain": [
       "<Figure size 1080x576 with 4 Axes>"
      ]
     },
     "metadata": {
      "needs_background": "light"
     },
     "output_type": "display_data"
    }
   ],
   "source": [
    "# plt.close('all')\n",
    "fig, ((plt_sub1, plt_sub2), (plt_sub3, plt_sub4)) = plt.subplots(nrows=2, ncols=2, figsize=(15,8))\n",
    "\n",
    "df_Softmax = tuc1.plot_metrics_test(plt_m=plt_sub1, title='Softmax Score', metric_name='best_score', \n",
    "                                    step_size=0.01, is_norm=False, plus_minus = 5, plot_graph = True)\n",
    "\n",
    "df_Top2 = tuc1.plot_metrics_test(plt_m=plt_sub2, title='Top-2 Difference', metric_name='Certainty', step_size=1, \n",
    "                            is_norm=False, plus_minus = 5, plot_graph = True)\n",
    "\n",
    "df_Entropy_H = tuc1.plot_metrics_test(plt_m=plt_sub3, title='u_entr', metric_name='u_entr', \n",
    "                step_size=0.01, higher_better=False, is_norm=False, plus_minus = 5, plot_graph = True)\n",
    "\n",
    "df_Var_H = tuc1.plot_metrics_test(plt_m=plt_sub4, title='u_var', metric_name='u_var', step_size=0.01, \n",
    "                            is_norm=False, plus_minus = 5, plot_graph = True)\n",
    "plt.tight_layout()\n",
    "plt.savefig('../figures/test3.png')\n",
    "plt.show()\n"
   ]
  },
  {
   "cell_type": "code",
   "execution_count": null,
   "metadata": {},
   "outputs": [],
   "source": [
    "# fig, ((plt_sub1, plt_sub2)) = plt.subplots(nrows=1, ncols=2, figsize=(15,4))\n",
    "\n",
    "# df_Entropy_H = tuc1.plot_metrics_test(plt_m=plt_sub1, title='u_entr', metric_name='u_entr', \n",
    "#                 step_size=0.01, higher_better=False, is_norm=False, plus_minus = 5, plot_graph = True)\n",
    "\n",
    "# df_Var_H = tuc1.plot_metrics_test(plt_m=plt_sub2, title='u_var', metric_name='u_var', step_size=0.01, \n",
    "#                             is_norm=False, plus_minus = 5, plot_graph = True)\n",
    "\n",
    "# plt.savefig('../figures/test2.png')"
   ]
  },
  {
   "cell_type": "markdown",
   "metadata": {},
   "source": [
    "## PLOTS - 2"
   ]
  },
  {
   "cell_type": "code",
   "execution_count": 33,
   "metadata": {},
   "outputs": [],
   "source": [
    "df_results_eval_test=df_results_eval.loc[:,['Certainty','uncertainty', 'Incorrect', \n",
    "                                            'best_score', 'u_entr', 'u_var']]\n",
    "df_results_eval_test = df_results_eval_test.astype(float)"
   ]
  },
  {
   "cell_type": "code",
   "execution_count": 41,
   "metadata": {},
   "outputs": [],
   "source": [
    "def histogram_OLD(data_1, data_2, style='darkgrid', kde=True, bins=10):\n",
    "    sns.set_style(style)\n",
    "    sns.distplot(data_1, kde=kde, bins=bins)\n",
    "    sns_plot = sns.distplot(data_2, kde=kde, bins=bins)\n",
    "    \n",
    "    return sns_plot"
   ]
  },
  {
   "cell_type": "code",
   "execution_count": 42,
   "metadata": {},
   "outputs": [
    {
     "name": "stderr",
     "output_type": "stream",
     "text": [
      "/Users/melih/opt/anaconda3/lib/python3.7/site-packages/seaborn/distributions.py:2557: FutureWarning: `distplot` is a deprecated function and will be removed in a future version. Please adapt your code to use either `displot` (a figure-level function with similar flexibility) or `histplot` (an axes-level function for histograms).\n",
      "  warnings.warn(msg, FutureWarning)\n"
     ]
    },
    {
     "data": {
      "image/png": "[encoded data removed]",
      "text/plain": [
       "<Figure size 432x288 with 1 Axes>"
      ]
     },
     "metadata": {},
     "output_type": "display_data"
    }
   ],
   "source": [
    "#metric='uncertainty'\n",
    "metric='uncertainty'\n",
    "d_match = df_results_eval[df_results_eval['actual_class'] == df_results_eval['best_pred']][metric]\n",
    "d_unmatch = df_results_eval[df_results_eval['actual_class'] != df_results_eval['best_pred']][metric]\n",
    "# histogram_OLD(d_match, d_unmatch)\n",
    "sns_plot = histogram_OLD(d_match, d_unmatch)\n",
    "# sns_plot.figure.savefig(\"output.png\")\n",
    "#sns_plot.figure.savefig(\"../figures/output.png\")"
   ]
  },
  {
   "cell_type": "code",
   "execution_count": 43,
   "metadata": {},
   "outputs": [
    {
     "name": "stderr",
     "output_type": "stream",
     "text": [
      "/Users/melih/opt/anaconda3/lib/python3.7/site-packages/seaborn/distributions.py:2557: FutureWarning: `distplot` is a deprecated function and will be removed in a future version. Please adapt your code to use either `displot` (a figure-level function with similar flexibility) or `histplot` (an axes-level function for histograms).\n",
      "  warnings.warn(msg, FutureWarning)\n",
      "/Users/melih/opt/anaconda3/lib/python3.7/site-packages/seaborn/distributions.py:2557: FutureWarning: `distplot` is a deprecated function and will be removed in a future version. Please adapt your code to use either `displot` (a figure-level function with similar flexibility) or `histplot` (an axes-level function for histograms).\n",
      "  warnings.warn(msg, FutureWarning)\n"
     ]
    },
    {
     "data": {
      "text/plain": [
       "<matplotlib.axes._subplots.AxesSubplot at 0x7fb6a86b9a10>"
      ]
     },
     "execution_count": 43,
     "metadata": {},
     "output_type": "execute_result"
    },
    {
     "data": {
      "image/png": "[encoded data removed]",
      "text/plain": [
       "<Figure size 432x288 with 1 Axes>"
      ]
     },
     "metadata": {},
     "output_type": "display_data"
    }
   ],
   "source": [
    "metric='u_var'\n",
    "d_match = df_results_eval[df_results_eval['actual_class'] == df_results_eval['best_pred']][metric]\n",
    "d_unmatch = df_results_eval[df_results_eval['actual_class'] != df_results_eval['best_pred']][metric]\n",
    "histogram_OLD(d_match, d_unmatch)\n",
    "\n",
    "# NEW one (but the old one is better)\n",
    "# sns.displot(df_results_eval_test, x='uncertainty', hue='Incorrect', kind='kde',\n",
    "#           common_norm=False, aspect=2, height=5)"
   ]
  },
  {
   "cell_type": "code",
   "execution_count": 44,
   "metadata": {},
   "outputs": [
    {
     "data": {
      "text/plain": [
       "<seaborn.axisgrid.FacetGrid at 0x7fb6a87b99d0>"
      ]
     },
     "execution_count": 44,
     "metadata": {},
     "output_type": "execute_result"
    },
    {
     "data": {
      "image/png": "[encoded data removed]",
      "text/plain": [
       "<Figure size 769.875x360 with 1 Axes>"
      ]
     },
     "metadata": {},
     "output_type": "display_data"
    }
   ],
   "source": [
    "sns.displot(df_results_eval_test, x='uncertainty', hue='Incorrect', stat='probability',\n",
    "           common_norm=False, aspect=2, height=5, bins=10)"
   ]
  },
  {
   "cell_type": "code",
   "execution_count": 45,
   "metadata": {},
   "outputs": [
    {
     "data": {
      "text/plain": [
       "<seaborn.axisgrid.JointGrid at 0x7fb689d75d90>"
      ]
     },
     "execution_count": 45,
     "metadata": {},
     "output_type": "execute_result"
    },
    {
     "data": {
      "image/png": "[encoded data removed]",
      "text/plain": [
       "<Figure size 432x432 with 3 Axes>"
      ]
     },
     "metadata": {},
     "output_type": "display_data"
    }
   ],
   "source": [
    "sns.jointplot(\n",
    "    data=df_results_eval_test[df_results_eval_test['Incorrect']==1], x=\"uncertainty\", y=\"best_score\",\n",
    "    marker=\"+\", s=50, marginal_kws=dict(bins=10, fill=False),\n",
    ")"
   ]
  },
  {
   "cell_type": "code",
   "execution_count": 46,
   "metadata": {},
   "outputs": [
    {
     "data": {
      "text/plain": [
       "<seaborn.axisgrid.JointGrid at 0x7fb68a64f410>"
      ]
     },
     "execution_count": 46,
     "metadata": {},
     "output_type": "execute_result"
    },
    {
     "data": {
      "image/png": "[encoded data removed]",
      "text/plain": [
       "<Figure size 432x432 with 3 Axes>"
      ]
     },
     "metadata": {},
     "output_type": "display_data"
    }
   ],
   "source": [
    "sns.jointplot(\n",
    "    data=df_results_eval_test[df_results_eval_test['Incorrect']==0], x=\"uncertainty\", y=\"best_score\",\n",
    "    marker=\"+\", s=50, marginal_kws=dict(bins=10, fill=False),\n",
    ")"
   ]
  },
  {
   "cell_type": "code",
   "execution_count": 47,
   "metadata": {},
   "outputs": [
    {
     "data": {
      "text/plain": [
       "<seaborn.axisgrid.JointGrid at 0x7fb689d66550>"
      ]
     },
     "execution_count": 47,
     "metadata": {},
     "output_type": "execute_result"
    },
    {
     "data": {
      "image/png": "[encoded data removed]",
      "text/plain": [
       "<Figure size 432x432 with 3 Axes>"
      ]
     },
     "metadata": {},
     "output_type": "display_data"
    }
   ],
   "source": [
    "# takes time=30 secs\n",
    "sns.jointplot(data=df_results_eval_test, x='uncertainty', y='best_score', hue='Incorrect',\n",
    "             kind='kde', common_norm=False)"
   ]
  },
  {
   "cell_type": "code",
   "execution_count": 48,
   "metadata": {},
   "outputs": [
    {
     "data": {
      "text/plain": [
       "<seaborn.axisgrid.JointGrid at 0x7fb68af44bd0>"
      ]
     },
     "execution_count": 48,
     "metadata": {},
     "output_type": "execute_result"
    },
    {
     "data": {
      "image/png": "[encoded data removed]",
      "text/plain": [
       "<Figure size 432x432 with 3 Axes>"
      ]
     },
     "metadata": {},
     "output_type": "display_data"
    }
   ],
   "source": [
    "sns.jointplot(data=df_results_eval_test, x='uncertainty', y='best_score', hue='Incorrect')"
   ]
  },
  {
   "cell_type": "code",
   "execution_count": 49,
   "metadata": {},
   "outputs": [
    {
     "data": {
      "text/plain": [
       "<seaborn.axisgrid.FacetGrid at 0x7fb68b0a7c90>"
      ]
     },
     "execution_count": 49,
     "metadata": {},
     "output_type": "execute_result"
    },
    {
     "data": {
      "image/png": "[encoded data removed]",
      "text/plain": [
       "<Figure size 360x360 with 1 Axes>"
      ]
     },
     "metadata": {},
     "output_type": "display_data"
    }
   ],
   "source": [
    "sns.catplot(x='Incorrect', y='uncertainty', kind='boxen',\n",
    "           data=df_results_eval_test.sort_values('Incorrect'))"
   ]
  },
  {
   "cell_type": "code",
   "execution_count": 50,
   "metadata": {},
   "outputs": [
    {
     "data": {
      "text/plain": [
       "<seaborn.axisgrid.FacetGrid at 0x7fb68b072f50>"
      ]
     },
     "execution_count": 50,
     "metadata": {},
     "output_type": "execute_result"
    },
    {
     "data": {
      "image/png": "[encoded data removed]",
      "text/plain": [
       "<Figure size 1296x648 with 2 Axes>"
      ]
     },
     "metadata": {},
     "output_type": "display_data"
    }
   ],
   "source": [
    "# takes time=90 secs\n",
    "sns.catplot(x='uncertainty', y='best_score', row='Incorrect', kind='box',\n",
    "            orient='v', height=4.5, aspect=4,\n",
    "           data=df_results_eval_test.query('best_score>0.0'))"
   ]
  },
  {
   "cell_type": "code",
   "execution_count": 53,
   "metadata": {},
   "outputs": [
    {
     "data": {
      "text/plain": [
       "<seaborn.axisgrid.FacetGrid at 0x7fb693c33890>"
      ]
     },
     "execution_count": 53,
     "metadata": {},
     "output_type": "execute_result"
    },
    {
     "data": {
      "image/png": "[encoded data removed]",
      "text/plain": [
       "<Figure size 1296x648 with 2 Axes>"
      ]
     },
     "metadata": {},
     "output_type": "display_data"
    }
   ],
   "source": [
    "# takes time=90 secs\n",
    "sns.catplot(x='best_score', y='u_var', row='Incorrect', kind='box',\n",
    "            orient='v', height=4.5, aspect=4,\n",
    "           data=df_results_eval_test)\n",
    "\n",
    "#data=df_results_eval_test.query('best_score>0.0'))"
   ]
  },
  {
   "cell_type": "code",
   "execution_count": null,
   "metadata": {},
   "outputs": [],
   "source": [
    "print(RUN_UNTIL_HERE)"
   ]
  },
  {
   "cell_type": "code",
   "execution_count": null,
   "metadata": {},
   "outputs": [],
   "source": [
    "#takes too much time and not that good visualisation\n",
    "g=sns.JointGrid()\n",
    "x, y = df_results_eval_test[df_results_eval_test['Incorrect']==1]['uncertainty'], df_results_eval_test['best_score']\n",
    "sns.scatterplot(x=x,y=y,ec='b',fc='none',s=100,linewidth=1.5,ax=g.ax_joint)\n",
    "sns.histplot(x=x,fill=False,linewidth=2,ax=g.ax_marg_x)\n",
    "sns.kdeplot(y=y, linewidth=2,ax=g.ax_marg_y)"
   ]
  },
  {
   "cell_type": "code",
   "execution_count": null,
   "metadata": {},
   "outputs": [],
   "source": [
    "#takes too much time and not that good visualisation\n",
    "g=sns.JointGrid()\n",
    "x, y = df_results_eval_test[df_results_eval_test['Incorrect']==0]['uncertainty'], df_results_eval_test['best_score']\n",
    "sns.scatterplot(x=x,y=y,ec='b',fc='none',s=100,linewidth=1.5,ax=g.ax_joint)\n",
    "sns.histplot(x=x,fill=False,linewidth=2,ax=g.ax_marg_x)\n",
    "sns.kdeplot(y=y, linewidth=2,ax=g.ax_marg_y)"
   ]
  },
  {
   "cell_type": "code",
   "execution_count": null,
   "metadata": {},
   "outputs": [],
   "source": [
    "sns.catplot(x='uncertainty', y='best_score', row='Incorrect', kind='box',\n",
    "            orient='v', height=4.5, aspect=4,\n",
    "           data=df_results_eval_test)"
   ]
  },
  {
   "cell_type": "code",
   "execution_count": null,
   "metadata": {},
   "outputs": [],
   "source": [
    "print(RUN_UNTIL_HERE)"
   ]
  },
  {
   "cell_type": "code",
   "execution_count": null,
   "metadata": {},
   "outputs": [],
   "source": [
    "#import seaborn as sns\n",
    "metric = 'uncertainty'\n",
    "d_match = df_results_eval[df_results_eval['actual_class'] == df_results_eval['best_pred']][metric]\n",
    "d_match = d_match.astype(float)\n",
    "d_unmatch = df_results_eval[df_results_eval['actual_class'] != df_results_eval['best_pred']][metric]\n",
    "d_unmatch = d_unmatch.astype(float)\n",
    "# sns.displot(data=df_results_eval_test, x=\"uncertainty\", hue=\"Incorrect\", kind=\"kde\")\n",
    "# sns.displot(data=df_results_eval_test, x=\"uncertainty\", hue=\"Incorrect\", multiple=\"stack\", kind=\"kde\")\n",
    "# sns.histplot(df_results_eval_test, x=\"uncertainty\", hue=\"Incorrect\", element=\"poly\")\n",
    "#sns.histplot(df_results_eval_test, x=\"uncertainty\", hue=\"Incorrect\", element=\"step\", kde=True, stat='probability')\n",
    "sns.histplot(data=df_results_eval_test, x=\"uncertainty\", hue=\"Incorrect\", multiple=\"dodge\", shrink=.9, kde=True)\n",
    "#sns.displot(data=df_results_eval_test, x=\"uncertainty\", kde=True)\n",
    "# sns.displot(data=d_match, kind=\"kde\")\n",
    "# sns.displot(data=d_unmatch, kind=\"kde\")\n",
    "# sns.histplot(data=d_match, stat='density')\n",
    "#sns.histplot(data=d_unmatch, stat='density', color='y')\n",
    "# sns.displot(df_results_eval_test, x=metric, hue=\"Incorrect\", stat=\"density\", common_norm=False)\n",
    "# sns.displot(df_results_eval_test, x=metric, hue=\"Incorrect\", stat=\"probability\",\n",
    "#             common_norm=False,aspect=2, height=5)\n",
    "#sns.displot(df_results_eval_test, x=metric, hue=\"Incorrect\", kind=\"kde\",common_norm=False,aspect=1.5)\n",
    "plt.show()"
   ]
  },
  {
   "cell_type": "code",
   "execution_count": null,
   "metadata": {},
   "outputs": [],
   "source": [
    "model_similarities(n_models)"
   ]
  },
  {
   "cell_type": "code",
   "execution_count": null,
   "metadata": {},
   "outputs": [],
   "source": [
    "tuc1.df_combine"
   ]
  },
  {
   "cell_type": "code",
   "execution_count": null,
   "metadata": {},
   "outputs": [],
   "source": [
    "fig = plt.figure()\n",
    "ax1 = fig.add_subplot(2, 1, 1)\n",
    "ax2 = fig.add_subplot(2, 1, 2)\n",
    "\n",
    "line1, = ax1.plot(list(df_Softmax['fail_rate']), color='blue', lw=2)\n",
    "line2, = ax2.plot(list(df_Softmax['work_load']), color='blue', lw=2)\n",
    "\n",
    "pylab.show()"
   ]
  },
  {
   "cell_type": "code",
   "execution_count": null,
   "metadata": {},
   "outputs": [],
   "source": [
    "sns.displot(df_results_eval_test, x=metric, hue=\"Incorrect\", kind=\"kde\", common_norm=False, aspect=2, height=5)"
   ]
  },
  {
   "cell_type": "code",
   "execution_count": null,
   "metadata": {},
   "outputs": [],
   "source": [
    "import seaborn as sns\n",
    "\n",
    "def plot_histogram(metric = 'uncertainty', kde=True):\n",
    "    d_match = df_results_eval[df_results_eval['actual_class'] == df_results_eval['best_pred']][metric]\n",
    "    d_unmatch = df_results_eval[df_results_eval['actual_class'] != df_results_eval['best_pred']][metric]\n",
    "    sns.set_style('darkgrid')\n",
    "    sns.distplot(d_match, kde=kde)  # , rug=True\n",
    "    sns.distplot(d_unmatch, kde=kde, rug=True)\n",
    "    \n",
    "    print(f'min: {round(min(df_results_eval[metric]), 4)}, max: {max(df_results_eval[metric])}, \\\n",
    "          mean: {round(np.mean(df_results_eval[metric]),4)}, median: {np.median(df_results_eval[metric])}')\n",
    "    \n",
    "def plot_histogram_seaborn(data_frame, col_stat, col_type, is_stat=True, common_norm=False, aspect=2):\n",
    "    # height=5\n",
    "    if is_stat:\n",
    "        sns.displot(data_frame, x=col_stat, hue=col_type, common_norm=common_norm, \n",
    "                    aspect=aspect, stat=\"probability\")    \n",
    "    else:\n",
    "        sns.displot(data_frame, x=col_stat, hue=col_type, common_norm=common_norm, \n",
    "                    aspect=aspect, kind=\"kde\")"
   ]
  },
  {
   "cell_type": "code",
   "execution_count": null,
   "metadata": {},
   "outputs": [],
   "source": [
    "#df_results_eval_test.loc[:5,[d_stat, d_type]]\n",
    "np.min(df_results_eval_test['Incorrect'])"
   ]
  },
  {
   "cell_type": "code",
   "execution_count": null,
   "metadata": {},
   "outputs": [],
   "source": [
    "d_stat = 'uncertainty'\n",
    "d_type = 'Incorrect'\n",
    "plot_histogram_seaborn(df_results_eval_test, d_stat, d_type,common_norm=True)"
   ]
  },
  {
   "cell_type": "code",
   "execution_count": null,
   "metadata": {},
   "outputs": [],
   "source": [
    "plot_histogram_seaborn(df_results_eval_test, d_stat, d_type, is_stat=False)"
   ]
  },
  {
   "cell_type": "code",
   "execution_count": null,
   "metadata": {},
   "outputs": [],
   "source": [
    "sns.jointplot(data=df_results_eval_test, x=\"uncertainty\", y=\"best_score\", height=5, ratio=2, marginal_ticks=True)"
   ]
  },
  {
   "cell_type": "code",
   "execution_count": null,
   "metadata": {},
   "outputs": [],
   "source": [
    "sns.jointplot(\n",
    "    data=df_results_eval_test, x=\"uncertainty\", y=\"best_score\",\n",
    "    marker=\"+\", s=100, marginal_kws=dict(bins=25, fill=False),\n",
    ")"
   ]
  },
  {
   "cell_type": "code",
   "execution_count": null,
   "metadata": {},
   "outputs": [],
   "source": [
    "# sns.jointplot(data=df_results_eval_test, x=\"uncertainty\", y=\"best_score\", kind=\"hex\")\n",
    "# sns.jointplot(data=df_results_eval_test, x=\"uncertainty\", y=\"best_score\", kind=\"hist\")\n",
    "# sns.jointplot(data=df_results_eval_test, x=\"uncertainty\", y=\"best_score\", kind=\"reg\")\n",
    "sns.jointplot(data=df_results_eval_test, x=\"uncertainty\", y=\"best_score\", hue=\"Incorrect\", \n",
    "              kind=\"kde\", common_norm=False)"
   ]
  },
  {
   "cell_type": "code",
   "execution_count": null,
   "metadata": {},
   "outputs": [],
   "source": [
    "sns.jointplot(data=df_results_eval_test, x=\"uncertainty\", y=\"best_score\", hue=\"Incorrect\")"
   ]
  },
  {
   "cell_type": "code",
   "execution_count": null,
   "metadata": {},
   "outputs": [],
   "source": [
    "d_stat = 'best_score'\n",
    "d_type = 'Incorrect'\n",
    "plot_histogram_seaborn(df_results_eval_test, d_stat, d_type)"
   ]
  },
  {
   "cell_type": "code",
   "execution_count": null,
   "metadata": {},
   "outputs": [],
   "source": [
    "plot_histogram_seaborn(df_results_eval_test, d_stat, d_type, is_stat=False)"
   ]
  },
  {
   "cell_type": "code",
   "execution_count": null,
   "metadata": {},
   "outputs": [],
   "source": [
    "plot_histogram(metric = 'uncertainty', kde=True)\n",
    "# sns.displot(df_results_eval_test, x='uncertainty', hue='Incorrect', \n",
    "#                     aspect=2, kind=\"ecdf\")"
   ]
  },
  {
   "cell_type": "code",
   "execution_count": null,
   "metadata": {},
   "outputs": [],
   "source": [
    "plot_histogram(metric = 'best_score')"
   ]
  },
  {
   "cell_type": "code",
   "execution_count": null,
   "metadata": {},
   "outputs": [],
   "source": [
    "plot_histogram(metric = 'u_entr')"
   ]
  },
  {
   "cell_type": "code",
   "execution_count": null,
   "metadata": {},
   "outputs": [],
   "source": [
    "sns.distplot(df_results_eval_test, fit=stats.laplace, kde=False)"
   ]
  },
  {
   "cell_type": "code",
   "execution_count": null,
   "metadata": {},
   "outputs": [],
   "source": [
    "len(df_results_eval)"
   ]
  },
  {
   "cell_type": "code",
   "execution_count": null,
   "metadata": {},
   "outputs": [],
   "source": [
    "# https://www.python-graph-gallery.com/25-histogram-with-several-variables-seaborn\n",
    "# libraries & dataset\n",
    "# import seaborn as sns\n",
    "# import matplotlib.pyplot as plt\n",
    "# set a grey background (use sns.set_theme() if seaborn version 0.11.0 or above) \n",
    "sns.set(style=\"darkgrid\")\n",
    "df = sns.load_dataset(\"iris\")\n",
    "\n",
    "sns.histplot(data=df_results_eval, x=\"uncertainty\", color=\"skyblue\", label=\"Sepal Length\", kde=True)\n",
    "sns.histplot(data=df_results_eval, x=\"best_score\", color=\"red\", label=\"Sepal Width\", kde=True)\n",
    "\n",
    "plt.legend() \n",
    "plt.show()"
   ]
  },
  {
   "cell_type": "code",
   "execution_count": null,
   "metadata": {},
   "outputs": [],
   "source": [
    "fig, ((plt_sub1)) = plt.subplots(nrows=1, ncols=1, figsize=(9,6))\n",
    "df_preds_rate = plot_metrics_test(plt_sub1, title='preds_rate', metric_name='preds_rate', step_size=0.01, higher_better=True, is_norm=False)\n",
    "plt.show()"
   ]
  },
  {
   "cell_type": "code",
   "execution_count": null,
   "metadata": {},
   "outputs": [],
   "source": [
    "df_flexible = df_preds_rate[(df_preds_rate['work_load']<=5) & (df_preds_rate['fail_rate']<=1)] \n",
    "lst_flexible = list(df_flexible['val'])\n",
    "lst_flexible_workload = list(df_flexible['work_load'])\n",
    "print(f'{len(lst_flexible)} values from {min(lst_flexible)} to {max(lst_flexible)} having fail rate between 0.5 and 1.0')\n",
    "print(f'workload from {min(lst_flexible_workload)} to {max(lst_flexible_workload)}')\n",
    "\n",
    "print(3.753371-3.622185)\n",
    "print((3.753371-3.622185)/3.622185*100)\n",
    "\n",
    "df_flexible"
   ]
  },
  {
   "cell_type": "code",
   "execution_count": null,
   "metadata": {},
   "outputs": [],
   "source": [
    "df_preds_rate[df_preds_rate['fail_rate']<=3] "
   ]
  },
  {
   "cell_type": "code",
   "execution_count": null,
   "metadata": {},
   "outputs": [],
   "source": [
    "244/13721"
   ]
  },
  {
   "cell_type": "code",
   "execution_count": null,
   "metadata": {},
   "outputs": [],
   "source": [
    "fig, ((plt_sub1)) = plt.subplots(nrows=1, ncols=1, figsize=(9,6))\n",
    "plot_metrics(plt_sub1, title='Entr', metric_name='entr', step_size=0.01, higher_better=False, is_norm=False)\n",
    "plt.show()"
   ]
  },
  {
   "cell_type": "markdown",
   "metadata": {},
   "source": [
    "## STD (Horizontal - Between classes [after averaging the results for the ensembles])"
   ]
  },
  {
   "cell_type": "code",
   "execution_count": null,
   "metadata": {},
   "outputs": [],
   "source": [
    "#plot_metrics(title='std', metric_name='std', min_max_step=(0.9, 0.99, 0.01), is_norm=False)\n",
    "fig, ((plt_sub1)) = plt.subplots(nrows=1, ncols=1, figsize=(9,6))\n",
    "plot_metrics(plt_sub1, title='std', metric_name='std', step_size=0.001, higher_better=True, is_norm=False)\n",
    "plt.show()"
   ]
  },
  {
   "cell_type": "code",
   "execution_count": null,
   "metadata": {},
   "outputs": [],
   "source": [
    "#tuc1.df_result_ensemble[:1]\n",
    "pd.set_option('display.max_columns', None)\n",
    "pd.set_option('display.max_rows', None)\n",
    "c_list = ['picture','uncertainty', 'actual_class', 'best_pred','best_score', 'best_2nd_score', 'P_jsd', 'P_info', 'std', 'u_entr', 'var_Top1']\n",
    "df_results_eval[df_results_eval['actual_class'] != df_results_eval['best_pred']][c_list]"
   ]
  },
  {
   "cell_type": "code",
   "execution_count": null,
   "metadata": {},
   "outputs": [],
   "source": [
    "df_results_eval[df_results_eval['actual_class'] == df_results_eval['best_pred']][c_list][:2]"
   ]
  },
  {
   "cell_type": "code",
   "execution_count": null,
   "metadata": {},
   "outputs": [],
   "source": [
    "tuc1.df_result_ensemble[tuc1.df_result_ensemble['picture'] == 'MA160814197500041.070-K_4_0_.png']"
   ]
  },
  {
   "cell_type": "code",
   "execution_count": null,
   "metadata": {},
   "outputs": [],
   "source": [
    "round(100-np.mean(df_results_eval.loc[:, 'Certainty']), 2)"
   ]
  },
  {
   "cell_type": "code",
   "execution_count": null,
   "metadata": {},
   "outputs": [],
   "source": [
    "round(100-np.mean(df_results_eval[df_results_eval['actual_class']==df_results_eval['best_pred']]['Certainty']), 2)"
   ]
  },
  {
   "cell_type": "code",
   "execution_count": null,
   "metadata": {},
   "outputs": [],
   "source": [
    "round(100-np.mean(df_results_eval[df_results_eval['actual_class']!=df_results_eval['best_pred']]['Certainty']), 2)"
   ]
  },
  {
   "cell_type": "code",
   "execution_count": null,
   "metadata": {},
   "outputs": [],
   "source": [
    "round(1-np.mean(df_results_eval.loc[:, 'best_score']), 2)"
   ]
  },
  {
   "cell_type": "code",
   "execution_count": null,
   "metadata": {},
   "outputs": [],
   "source": [
    "round(1-np.mean(df_results_eval[df_results_eval['actual_class']==df_results_eval['best_pred']]['best_score']), 2)"
   ]
  },
  {
   "cell_type": "code",
   "execution_count": null,
   "metadata": {},
   "outputs": [],
   "source": [
    "round(1-np.mean(df_results_eval[df_results_eval['actual_class']!=df_results_eval['best_pred']]['best_score']), 2)"
   ]
  },
  {
   "cell_type": "code",
   "execution_count": null,
   "metadata": {},
   "outputs": [],
   "source": [
    "np.max(df_results_eval.loc[:, 'u_entr'])"
   ]
  },
  {
   "cell_type": "code",
   "execution_count": null,
   "metadata": {},
   "outputs": [],
   "source": [
    "round(np.mean(df_results_eval.loc[:, 'u_entr']), 2)"
   ]
  },
  {
   "cell_type": "code",
   "execution_count": null,
   "metadata": {},
   "outputs": [],
   "source": [
    "round(np.mean(df_results_eval[df_results_eval['actual_class']==df_results_eval['best_pred']]['u_entr']), 2)"
   ]
  },
  {
   "cell_type": "code",
   "execution_count": null,
   "metadata": {},
   "outputs": [],
   "source": [
    "round(np.mean(df_results_eval[df_results_eval['actual_class']!=df_results_eval['best_pred']]['u_entr']), 2)"
   ]
  },
  {
   "cell_type": "code",
   "execution_count": null,
   "metadata": {},
   "outputs": [],
   "source": [
    "import seaborn as sns\n",
    "import matplotlib.pyplot as plt\n",
    "# set a grey background (use sns.set_theme() if seaborn version 0.11.0 or above) \n",
    "sns.set(style=\"darkgrid\")\n",
    "df = sns.load_dataset(\"iris\")\n",
    "\n",
    "sns.histplot(data=df_results_eval, x=\"Certainty\", color=\"skyblue\", label=\"Sepal Length\", kde=True)\n",
    "sns.histplot(data=df_results_eval, x=\"best_score\", color=\"red\", label=\"Sepal Width\", kde=True)\n",
    "\n",
    "plt.legend() \n",
    "plt.show()"
   ]
  },
  {
   "cell_type": "code",
   "execution_count": null,
   "metadata": {},
   "outputs": [],
   "source": [
    "df_results_eval.loc[:2,:]"
   ]
  },
  {
   "cell_type": "code",
   "execution_count": null,
   "metadata": {},
   "outputs": [],
   "source": [
    "from collections import Counter\n",
    "# xx=np.array([1,2,3,4,0])\n",
    "xx=np.array([1/5,1/5,1/5,1/5,1/5])\n",
    "Counter(xx)\n",
    "# print(np.bincount(xx))\n",
    "# np.var(np.bincount(xx))\n",
    "# entr(np.bincount(xx))"
   ]
  },
  {
   "cell_type": "code",
   "execution_count": null,
   "metadata": {},
   "outputs": [],
   "source": [
    "tuc1.df_result_ensemble[tuc1.df_result_ensemble['picture'] ==\n",
    "                        'MA160873676300027.057-K_20_1_.png']['outputs_all'][2]"
   ]
  },
  {
   "cell_type": "code",
   "execution_count": null,
   "metadata": {},
   "outputs": [],
   "source": [
    "df_results_eval.columns"
   ]
  },
  {
   "cell_type": "code",
   "execution_count": null,
   "metadata": {},
   "outputs": [],
   "source": [
    "np.mean(df_results_eval[df_results_eval['actual_class'] == '1']['uncertainty'])"
   ]
  },
  {
   "cell_type": "code",
   "execution_count": null,
   "metadata": {},
   "outputs": [],
   "source": [
    "np.mean(df_results_eval['uncertainty'])"
   ]
  },
  {
   "cell_type": "code",
   "execution_count": null,
   "metadata": {},
   "outputs": [],
   "source": [
    "np.mean(df_results_eval[df_results_eval['actual_class'] == df_results_eval['best_pred']]['uncertainty'])"
   ]
  },
  {
   "cell_type": "code",
   "execution_count": null,
   "metadata": {},
   "outputs": [],
   "source": [
    "np.mean(df_results_eval[df_results_eval['actual_class'] != df_results_eval['best_pred']]['uncertainty'])"
   ]
  },
  {
   "cell_type": "code",
   "execution_count": null,
   "metadata": {},
   "outputs": [],
   "source": [
    "def find_mean(df_results_eval, metric = 'uncertainty'):\n",
    "    mean_all = round(np.mean(df_results_eval[metric]), 4)\n",
    "    mean_correct = round(np.mean(df_results_eval[df_results_eval['actual_class'] == \n",
    "                                           df_results_eval['best_pred']][metric]), 4)\n",
    "    mean_incorrect = round(np.mean(df_results_eval[df_results_eval['actual_class'] != \n",
    "                                             df_results_eval['best_pred']][metric]), 4)\n",
    "    \n",
    "    return {'mean_all': mean_all, 'mean_correct': mean_correct, 'mean_incorrect': mean_incorrect}    \n",
    "    "
   ]
  },
  {
   "cell_type": "code",
   "execution_count": null,
   "metadata": {},
   "outputs": [],
   "source": [
    "print(find_mean(df_results_eval, metric = 'uncertainty'))"
   ]
  },
  {
   "cell_type": "code",
   "execution_count": null,
   "metadata": {},
   "outputs": [],
   "source": [
    "print(find_mean(df_results_eval, metric = 'Certainty'))"
   ]
  },
  {
   "cell_type": "code",
   "execution_count": null,
   "metadata": {},
   "outputs": [],
   "source": [
    "min(df_results_eval['uncertainty'])"
   ]
  },
  {
   "cell_type": "code",
   "execution_count": null,
   "metadata": {},
   "outputs": [],
   "source": [
    "df_results_eval[df_results_eval['actual_class'] == '1']['uncertainty']"
   ]
  },
  {
   "cell_type": "code",
   "execution_count": null,
   "metadata": {},
   "outputs": [],
   "source": [
    "tuc1.show_results(result = 'ALL') # mean=mean top-2 uncertainty of the given class"
   ]
  },
  {
   "cell_type": "code",
   "execution_count": null,
   "metadata": {},
   "outputs": [],
   "source": [
    "xx=np.array([1,2,8,4,5])\n",
    "np.argmax(xx)"
   ]
  },
  {
   "cell_type": "code",
   "execution_count": null,
   "metadata": {},
   "outputs": [],
   "source": [
    "tuc1.show_results(result = 'match')"
   ]
  },
  {
   "cell_type": "code",
   "execution_count": null,
   "metadata": {},
   "outputs": [],
   "source": [
    "tuc1.show_results(result = 'unmatch')"
   ]
  },
  {
   "cell_type": "code",
   "execution_count": null,
   "metadata": {},
   "outputs": [],
   "source": [
    "tuc1.show_results(result = 'combined')"
   ]
  },
  {
   "cell_type": "code",
   "execution_count": null,
   "metadata": {},
   "outputs": [],
   "source": [
    "pd.set_option('display.max_rows', None)\n",
    "tuc1.show_results(result = 'ALL2nd')"
   ]
  },
  {
   "cell_type": "code",
   "execution_count": null,
   "metadata": {},
   "outputs": [],
   "source": [
    "df_results_eval[df_results_eval['actual_class'] != \n",
    "                df_results_eval['best_pred']].loc[:,['picture','actual_class', 'best_pred', 'Certainty']]"
   ]
  },
  {
   "cell_type": "code",
   "execution_count": null,
   "metadata": {},
   "outputs": [],
   "source": [
    "df_results_eval.loc[2,:]"
   ]
  },
  {
   "cell_type": "code",
   "execution_count": null,
   "metadata": {},
   "outputs": [],
   "source": [
    "tuc1.df_uncertainty.loc[2,:]"
   ]
  },
  {
   "cell_type": "code",
   "execution_count": null,
   "metadata": {},
   "outputs": [],
   "source": [
    "df_results_eval[df_results_eval['actual_class'] == \n",
    "                df_results_eval['best_pred']].loc[:,['picture','actual_class', 'best_pred', 'Certainty']]\n"
   ]
  },
  {
   "cell_type": "code",
   "execution_count": null,
   "metadata": {},
   "outputs": [],
   "source": [
    "import itertools\n",
    "plt.figure()\n",
    "class_names = range(24)\n",
    "plot_confusion_matrix(confusion, classes=class_names, normalize=False,title='Normalized confusion matrix')\n",
    "# plot_confusion_matrix(confusion, normalize=True,title='Normalized confusion matrix')"
   ]
  },
  {
   "cell_type": "code",
   "execution_count": null,
   "metadata": {},
   "outputs": [],
   "source": [
    "def plot_confusion_matrix(cm, classes,\n",
    "                          normalize=False,\n",
    "                          title='Confusion matrix',\n",
    "                          cmap=plt.cm.Blues):\n",
    "    \"\"\"\n",
    "    This function prints and plots the confusion matrix.\n",
    "    Normalization can be applied by setting `normalize=True`.\n",
    "    \"\"\"\n",
    "    plt.imshow(cm, interpolation='nearest', cmap=cmap)\n",
    "    plt.title(title)\n",
    "    plt.colorbar()\n",
    "    tick_marks = np.arange(len(classes))\n",
    "    plt.xticks(tick_marks, classes, rotation=45)\n",
    "    plt.yticks(tick_marks, classes)\n",
    "\n",
    "    if normalize:\n",
    "        cm = cm.astype('float') / cm.sum(axis=1)[:, np.newaxis]\n",
    "        print(\"Normalized confusion matrix\")\n",
    "    else:\n",
    "        print('Confusion matrix, without normalization')\n",
    "\n",
    "    print(cm)\n",
    "\n",
    "    thresh = cm.max() / 2.\n",
    "    for i, j in itertools.product(range(cm.shape[0]), range(cm.shape[1])):\n",
    "        plt.text(j, i, cm[i, j],\n",
    "                 horizontalalignment=\"center\",\n",
    "                 color=\"white\" if cm[i, j] > thresh else \"black\")\n",
    "\n",
    "    plt.tight_layout()\n",
    "    plt.ylabel('True label')\n",
    "    plt.xlabel('Predicted label')"
   ]
  },
  {
   "cell_type": "code",
   "execution_count": null,
   "metadata": {},
   "outputs": [],
   "source": [
    "#https://stackoverflow.com/questions/35572000/how-can-i-plot-a-confusion-matrix\n",
    "l_label = list(df_results_eval['actual_class'])\n",
    "l_pred = list(df_results_eval['best_pred'])\n",
    "performance.plot_confusion_matrix(l_label, l_pred)"
   ]
  },
  {
   "cell_type": "code",
   "execution_count": null,
   "metadata": {},
   "outputs": [],
   "source": [
    "cnf_matrix = confusion_matrix(l_label, l_pred)\n",
    "cnf_matrix"
   ]
  },
  {
   "cell_type": "code",
   "execution_count": null,
   "metadata": {},
   "outputs": [],
   "source": [
    "#https://towardsdatascience.com/multi-class-classification-extracting-performance-metrics-from-the-confusion-matrix-b379b427a872\n",
    "#https://towardsdatascience.com/confusion-matrix-for-your-multi-class-machine-learning-model-ff9aa3bf7826#:~:text=False%20Positive%20(FP)%3A%20It,the%20positive%20class%20as%20negative.\n",
    "FP = cnf_matrix.sum(axis=0) - np.diag(cnf_matrix) \n",
    "FN = cnf_matrix.sum(axis=1) - np.diag(cnf_matrix)\n",
    "TP = np.diag(cnf_matrix)\n",
    "TN = cnf_matrix.sum() - (FP + FN + TP)\n",
    "FP = FP.astype(float)\n",
    "FN = FN.astype(float)\n",
    "TP = TP.astype(float)\n",
    "TN = TN.astype(float)\n",
    "# Sensitivity, hit rate, recall, or true positive rate\n",
    "TPR = TP/(TP+FN)\n",
    "# Specificity or true negative rate\n",
    "TNR = TN/(TN+FP) \n",
    "# Precision or positive predictive value\n",
    "PPV = TP/(TP+FP)\n",
    "# Negative predictive value\n",
    "NPV = TN/(TN+FN)\n",
    "# Fall out or false positive rate\n",
    "FPR = FP/(FP+TN)\n",
    "# False negative rate\n",
    "FNR = FN/(TP+FN)\n",
    "# False discovery rate\n",
    "FDR = FP/(TP+FP)\n",
    "# Overall accuracy for each class\n",
    "ACC = (TP+TN)/(TP+FP+FN+TN)"
   ]
  },
  {
   "cell_type": "code",
   "execution_count": null,
   "metadata": {},
   "outputs": [],
   "source": [
    "ACC*100"
   ]
  },
  {
   "cell_type": "code",
   "execution_count": null,
   "metadata": {},
   "outputs": [],
   "source": [
    "(sum_TP)/(sum_TP+sum_FP)"
   ]
  },
  {
   "cell_type": "code",
   "execution_count": null,
   "metadata": {},
   "outputs": [],
   "source": [
    "sum_TP = sum(TP)\n",
    "sum_TN = sum(TN)\n",
    "sum_FN = sum(FN)\n",
    "sum_FP = sum(FP)\n",
    "sum_FN/(sum_TP+sum_FN)"
   ]
  },
  {
   "cell_type": "code",
   "execution_count": null,
   "metadata": {},
   "outputs": [],
   "source": [
    "(sum_TP+sum_TN)/(sum_TP+sum_FP+sum_FN+sum_TN)"
   ]
  },
  {
   "cell_type": "code",
   "execution_count": null,
   "metadata": {},
   "outputs": [],
   "source": [
    "np.mean(FNR)"
   ]
  },
  {
   "cell_type": "code",
   "execution_count": null,
   "metadata": {},
   "outputs": [],
   "source": [
    "sum_FN/(sum_TP+sum_FN)"
   ]
  },
  {
   "cell_type": "code",
   "execution_count": null,
   "metadata": {},
   "outputs": [],
   "source": [
    "l_label_idx = list(df_results_eval['class_idx'])\n",
    "l_pred_idx = list(df_results_eval['best_index'])\n",
    "l_predict_proba = list(df_results_eval['Mean'])\n",
    "roc_auc_score(l_label_idx, l_predict_proba, multi_class='ovr')"
   ]
  },
  {
   "cell_type": "code",
   "execution_count": null,
   "metadata": {},
   "outputs": [],
   "source": [
    "fpr = dict()\n",
    "tpr = dict()\n",
    "roc_auc = dict()\n",
    "\n",
    "arr_label_idx = np.array(l_label_idx).reshape(-1,1)\n",
    "arr_predict_proba = np.array(l_predict_proba)\n",
    "\n",
    "#label_encoder = LabelEncoder()\n",
    "#l_label_int = label_encoder.fit_transform(l_label_int)    \n",
    "onehot_encoder = OneHotEncoder(sparse=False)\n",
    "onehot_encoded = onehot_encoder.fit_transform(arr_label_idx)   # onehot_encoded => array(852,24)=(n_samples, n_classes)\n",
    "\n",
    "# Compute micro-average ROC curve and ROC area\n",
    "fpr[\"ALL\"], tpr[\"ALL\"], _ = roc_curve(onehot_encoded.ravel(), arr_predict_proba.ravel())\n",
    "roc_auc[\"ALL\"] = auc(fpr[\"ALL\"], tpr[\"ALL\"])\n",
    "\n",
    "plt.figure()\n",
    "lw = 2\n",
    "plt.plot(fpr[\"ALL\"], tpr[\"ALL\"], color='darkorange',\n",
    "lw=lw, label='ROC curve (area = %0.2f)' % roc_auc[\"ALL\"])\n",
    "plt.plot([0, 1], [0, 1], color='navy', lw=lw, linestyle='--')\n",
    "plt.xlim([0.0, 1.0])\n",
    "plt.ylim([0.0, 1.05])\n",
    "plt.xlabel('False Positive Rate')\n",
    "plt.ylabel('True Positive Rate')\n",
    "plt.title('Receiver operating characteristic example')\n",
    "plt.legend(loc=\"lower right\")\n",
    "plt.show()\n",
    "\n",
    "fpr_ALL, tpr_ALL, roc_auc_val = fpr['ALL'], tpr['ALL'], roc_auc[\"ALL\"]\n",
    "# print(f\"fpr_ALL: {fpr_ALL} .. ttpr_ALL: {tpr_ALL} .. roc_auc_val: {roc_auc_val}\")\n"
   ]
  },
  {
   "cell_type": "code",
   "execution_count": null,
   "metadata": {},
   "outputs": [],
   "source": [
    "len(arr_label_idx)"
   ]
  },
  {
   "cell_type": "code",
   "execution_count": null,
   "metadata": {},
   "outputs": [],
   "source": [
    "# print(metrics.confusion_matrix(l_label, l_pred))\n",
    "print(metrics.classification_report(l_label, l_pred, digits=4))"
   ]
  },
  {
   "cell_type": "code",
   "execution_count": null,
   "metadata": {},
   "outputs": [],
   "source": [
    "arr_label_idx = np.array(l_label_idx).reshape(-1,1)\n",
    "arr_predict_proba = np.array(l_predict_proba)\n",
    "\n",
    "# plt_class = for which class you want to plot the ROC CURVE\n",
    "fpr_micro, tpr_micro, roc_auc_val = \\\n",
    "performance.plot_roc_curve(arr_label_idx, arr_predict_proba, n_classes=24, plt_class=22)\n",
    "\n",
    "print(round(roc_auc_val,4))"
   ]
  },
  {
   "cell_type": "code",
   "execution_count": null,
   "metadata": {},
   "outputs": [],
   "source": [
    "df_results_eval.iloc[0:10]"
   ]
  },
  {
   "cell_type": "code",
   "execution_count": null,
   "metadata": {},
   "outputs": [],
   "source": [
    "pd.set_option('display.max_columns', None)\n",
    "df_results_eval[df_results_eval['picture']=='MA160814197500042.017-K_9_0_.png']"
   ]
  },
  {
   "cell_type": "code",
   "execution_count": null,
   "metadata": {},
   "outputs": [],
   "source": [
    "df_results_eval.columns"
   ]
  },
  {
   "cell_type": "code",
   "execution_count": null,
   "metadata": {},
   "outputs": [],
   "source": [
    "# df_results_eval\n",
    "# output = tuc1.softmax_and_reshape(tuc1.df_result_ensemble.loc[0,'outputs_all'])\n",
    "# output"
   ]
  },
  {
   "cell_type": "code",
   "execution_count": null,
   "metadata": {},
   "outputs": [],
   "source": [
    "# from scipy.special import entr\n",
    "# entr(output[:,8]).sum()"
   ]
  },
  {
   "cell_type": "code",
   "execution_count": null,
   "metadata": {},
   "outputs": [],
   "source": [
    "\n",
    "# entr_per_model=entr(output).sum(axis=1)/np.log(2)\n",
    "# entr_per_model2=entr(output).sum(axis=0)/np.log(2)\n",
    "# print(entr_per_model)\n",
    "# print(np.mean(entr_per_model))\n",
    "# print(entr_per_model2)\n",
    "# print(np.mean(entr_per_model2))"
   ]
  },
  {
   "cell_type": "code",
   "execution_count": null,
   "metadata": {},
   "outputs": [],
   "source": [
    "# x=0\n",
    "# # variance of the scores of the best prediction (pred with the highest score)\n",
    "# # indexes are preserved between 2 dataframes\n",
    "# np.var(tuc1.normalize_array_preprocess(tuc1.df_result_ensemble.loc[x,\n",
    "#                                         'outputs_all'])[:,df_results_eval.loc[x,'best_index']])\n"
   ]
  },
  {
   "cell_type": "code",
   "execution_count": null,
   "metadata": {},
   "outputs": [],
   "source": [
    "for i in range(len(df_results_eval)):\n",
    "    if i %1000 == 0:\n",
    "        pic1 = df_results_eval.loc[i,'picture']\n",
    "        pic2 = tuc1.df_result_ensemble.loc[i,'picture']\n",
    "        print(f'df_results_eval: {pic1} ... df_result_ensemble: {pic2}')\n",
    "    if df_results_eval.loc[i,'picture'] != tuc1.df_result_ensemble.loc[i,'picture']:\n",
    "        print('mismatch')"
   ]
  },
  {
   "cell_type": "code",
   "execution_count": null,
   "metadata": {},
   "outputs": [],
   "source": [
    "tuc1.df_result_ensemble.iloc[0:10,:]"
   ]
  },
  {
   "cell_type": "code",
   "execution_count": null,
   "metadata": {},
   "outputs": [],
   "source": [
    "tuc1.df_result_ensemble.loc[0,'outputs_all'][0]"
   ]
  },
  {
   "cell_type": "code",
   "execution_count": null,
   "metadata": {},
   "outputs": [],
   "source": [
    "tuc1.df_result_ensemble.loc[:0,:]"
   ]
  },
  {
   "cell_type": "code",
   "execution_count": null,
   "metadata": {},
   "outputs": [],
   "source": [
    "tuc1.df_result_ensemble['outputs_all'][0]"
   ]
  },
  {
   "cell_type": "code",
   "execution_count": null,
   "metadata": {},
   "outputs": [],
   "source": [
    "x=0\n",
    "t_test=tuc1.softmax_and_reshape(tuc1.df_result_ensemble.loc[x, 'outputs_all'])[:,df_results_eval.loc[x,'best_index']]\n",
    "t_test"
   ]
  },
  {
   "cell_type": "code",
   "execution_count": null,
   "metadata": {},
   "outputs": [],
   "source": [
    "np.sum(tuc1.df_result_ensemble.loc[0, 'outputs_all'], axis=1)"
   ]
  },
  {
   "cell_type": "code",
   "execution_count": null,
   "metadata": {},
   "outputs": [],
   "source": [
    "tuc1.df_result_ensemble.loc[0, 'outputs_all'].shape"
   ]
  },
  {
   "cell_type": "code",
   "execution_count": null,
   "metadata": {},
   "outputs": [],
   "source": [
    "tuc1.df_result_ensemble.loc[0, 'outputs_all'][:,8]"
   ]
  },
  {
   "cell_type": "code",
   "execution_count": null,
   "metadata": {},
   "outputs": [],
   "source": [
    "from scipy.special import softmax\n",
    "softmax(tuc1.df_result_ensemble.loc[0, 'outputs_all'][:,8])"
   ]
  },
  {
   "cell_type": "code",
   "execution_count": null,
   "metadata": {},
   "outputs": [],
   "source": [
    "x=0\n",
    "tuc1.normalize_array_preprocess(tuc1.df_result_ensemble.loc[x,'outputs_all'])[:,:]"
   ]
  },
  {
   "cell_type": "code",
   "execution_count": null,
   "metadata": {},
   "outputs": [],
   "source": [
    "tuc1.normalize_array_preprocess(tuc1.df_result_ensemble.loc[x,'outputs_all'])[:2,:]"
   ]
  },
  {
   "cell_type": "code",
   "execution_count": null,
   "metadata": {},
   "outputs": [],
   "source": [
    "x=0\n",
    "np.argmax(tuc1.normalize_array_preprocess(tuc1.df_result_ensemble.loc[x,'outputs_all'])[1:2,:])"
   ]
  },
  {
   "cell_type": "code",
   "execution_count": null,
   "metadata": {},
   "outputs": [],
   "source": [
    "tuc1.df_result_ensemble.loc[:10,:]"
   ]
  },
  {
   "cell_type": "code",
   "execution_count": null,
   "metadata": {},
   "outputs": [],
   "source": [
    "x=0\n",
    "np.argmax(tuc1.df_result_ensemble.loc[:,'outputs_all'][x][0])"
   ]
  }
 ],
 "metadata": {
  "kernelspec": {
   "display_name": "Python 3",
   "language": "python",
   "name": "python3"
  },
  "language_info": {
   "codemirror_mode": {
    "name": "ipython",
    "version": 3
   },
   "file_extension": ".py",
   "mimetype": "text/x-python",
   "name": "python",
   "nbconvert_exporter": "python",
   "pygments_lexer": "ipython3",
   "version": "3.7.4"
  }
 },
 "nbformat": 4,
 "nbformat_minor": 2
}
