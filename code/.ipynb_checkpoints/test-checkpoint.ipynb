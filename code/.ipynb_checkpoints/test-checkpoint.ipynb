{
 "cells": [
  {
   "cell_type": "code",
   "execution_count": null,
   "metadata": {},
   "outputs": [],
   "source": [
    "from datetime import datetime as dt\n",
    "from humanfriendly import format_timespan"
   ]
  },
  {
   "cell_type": "code",
   "execution_count": 3,
   "metadata": {},
   "outputs": [
    {
     "name": "stdout",
     "output_type": "stream",
     "text": [
      "reading the DataFrame of the ensemble results\n"
     ]
    },
    {
     "name": "stderr",
     "output_type": "stream",
     "text": [
      "2021-06-28 12:48:17,332  uncertainty   INFO  initializing uncertainty calculations\n",
      "2021-06-28 12:48:17,332  uncertainty   INFO  initializing uncertainty calculations\n"
     ]
    },
    {
     "name": "stdout",
     "output_type": "stream",
     "text": [
      "picking the models to be used\n",
      "date and time = 28.06.2021_12.48.17\n"
     ]
    },
    {
     "name": "stderr",
     "output_type": "stream",
     "text": [
      "2021-06-28 12:48:19,358  uncertainty   INFO  Evaluating top-2 related uncertainty\n",
      "2021-06-28 12:48:19,358  uncertainty   INFO  Evaluating top-2 related uncertainty\n",
      "/Users/melih/Documents/Masters/KTH_DASE-ICT Innovation_Data Science/___Master Thesis/PyTorch_Exercise/arkusai/code/test_uncertainty_Softmax_v4.py:163: SettingWithCopyWarning: \n",
      "A value is trying to be set on a copy of a slice from a DataFrame\n",
      "\n",
      "See the caveats in the documentation: http://pandas.pydata.org/pandas-docs/stable/user_guide/indexing.html#returning-a-view-versus-a-copy\n",
      "  df_result_ensemble['outputs_all'][i] = output\n",
      "2021-06-28 12:48:29,866  uncertainty   INFO  Accuracy: 96.3463 ... correct_predictions: 9203 ... all_pictures: 9552\n",
      "2021-06-28 12:48:29,866  uncertainty   INFO  Accuracy: 96.3463 ... correct_predictions: 9203 ... all_pictures: 9552\n",
      "2021-06-28 12:48:29,868  uncertainty   INFO  Out of 349 incorrect predictions, 114 of them were having the 2nd best predictions as the ground truth: 32.6648%\n",
      "2021-06-28 12:48:29,868  uncertainty   INFO  Out of 349 incorrect predictions, 114 of them were having the 2nd best predictions as the ground truth: 32.6648%\n",
      "  0%|          | 0/102 [00:00<?, ?it/s]"
     ]
    },
    {
     "name": "stdout",
     "output_type": "stream",
     "text": [
      "failed\n",
      "max: 1.0 .. min: 0.13330000638961792 .. mean: 0.964822 .. var: 0.018617\n"
     ]
    },
    {
     "name": "stderr",
     "output_type": "stream",
     "text": [
      " 29%|██▉       | 30/102 [00:02<00:05, 12.41it/s]\n"
     ]
    },
    {
     "ename": "KeyboardInterrupt",
     "evalue": "",
     "output_type": "error",
     "traceback": [
      "\u001b[0;31m---------------------------------------------------------------------------\u001b[0m",
      "\u001b[0;31mKeyboardInterrupt\u001b[0m                         Traceback (most recent call last)",
      "\u001b[0;32m<ipython-input-3-16399f8acb3b>\u001b[0m in \u001b[0;36m<module>\u001b[0;34m\u001b[0m\n\u001b[1;32m      1\u001b[0m \u001b[0;32mimport\u001b[0m \u001b[0mTEST_model_Softmax_summary_v4_GENERIC\u001b[0m \u001b[0;32mas\u001b[0m \u001b[0muncertainty\u001b[0m\u001b[0;34m\u001b[0m\u001b[0;34m\u001b[0m\u001b[0m\n\u001b[0;32m----> 2\u001b[0;31m \u001b[0muncertainty\u001b[0m\u001b[0;34m.\u001b[0m\u001b[0mrun\u001b[0m\u001b[0;34m(\u001b[0m\u001b[0msave_results\u001b[0m\u001b[0;34m=\u001b[0m\u001b[0;32mFalse\u001b[0m\u001b[0;34m)\u001b[0m\u001b[0;34m\u001b[0m\u001b[0;34m\u001b[0m\u001b[0m\n\u001b[0m",
      "\u001b[0;32m~/Documents/Masters/KTH_DASE-ICT Innovation_Data Science/___Master Thesis/PyTorch_Exercise/arkusai/code/TEST_model_Softmax_summary_v4_GENERIC.py\u001b[0m in \u001b[0;36mrun\u001b[0;34m(config_file, sample_weights, save_figure, u_Dataset, idx2class, save_results, WL_max, FR_min, FR_max, step_size1, step_size2, plus_minus)\u001b[0m\n\u001b[1;32m     73\u001b[0m \u001b[0;31m#     fig2, ((plt_sub12, plt_sub22), (plt_sub32, plt_sub42)) = plt.subplots(nrows=2, ncols=2, figsize=(15,8))\u001b[0m\u001b[0;34m\u001b[0m\u001b[0;34m\u001b[0m\u001b[0;34m\u001b[0m\u001b[0m\n\u001b[1;32m     74\u001b[0m     df_Softmax = tuc1.plot_metrics_test(plt_m=plt_sub1, title='Softmax Score', metric_name='best_score', \n\u001b[0;32m---> 75\u001b[0;31m                             step_size=step_size2, is_norm=False, plus_minus = plus_minus, plot_graph = True)\n\u001b[0m\u001b[1;32m     76\u001b[0m     \u001b[0mdf_Top2\u001b[0m \u001b[0;34m=\u001b[0m \u001b[0mtuc1\u001b[0m\u001b[0;34m.\u001b[0m\u001b[0mplot_metrics_test\u001b[0m\u001b[0;34m(\u001b[0m\u001b[0mplt_m\u001b[0m\u001b[0;34m=\u001b[0m\u001b[0mplt_sub2\u001b[0m\u001b[0;34m,\u001b[0m \u001b[0mtitle\u001b[0m\u001b[0;34m=\u001b[0m\u001b[0;34m'Top-2 Difference'\u001b[0m\u001b[0;34m,\u001b[0m \u001b[0mmetric_name\u001b[0m\u001b[0;34m=\u001b[0m\u001b[0;34m'Certainty'\u001b[0m\u001b[0;34m,\u001b[0m \u001b[0mstep_size\u001b[0m\u001b[0;34m=\u001b[0m\u001b[0mstep_size1\u001b[0m\u001b[0;34m,\u001b[0m \u001b[0mis_norm\u001b[0m\u001b[0;34m=\u001b[0m\u001b[0;32mFalse\u001b[0m\u001b[0;34m,\u001b[0m \u001b[0mplus_minus\u001b[0m \u001b[0;34m=\u001b[0m \u001b[0mplus_minus\u001b[0m\u001b[0;34m,\u001b[0m \u001b[0mplot_graph\u001b[0m \u001b[0;34m=\u001b[0m \u001b[0;32mTrue\u001b[0m\u001b[0;34m)\u001b[0m\u001b[0;34m\u001b[0m\u001b[0;34m\u001b[0m\u001b[0m\n\u001b[1;32m     77\u001b[0m     df_uncertainty = tuc1.plot_metrics_test(plt_m=None, title='Top-2_Uncertainty', metric_name='uncertainty', \n",
      "\u001b[0;32m~/Documents/Masters/KTH_DASE-ICT Innovation_Data Science/___Master Thesis/PyTorch_Exercise/arkusai/code/test_uncertainty_Softmax_v4.py\u001b[0m in \u001b[0;36mplot_metrics_test\u001b[0;34m(self, plt_m, title, metric_name, step_size, higher_better, is_norm, plus_minus, plot_graph, save_graph)\u001b[0m\n\u001b[1;32m    506\u001b[0m             \u001b[0;32mif\u001b[0m \u001b[0mhigher_better\u001b[0m\u001b[0;34m:\u001b[0m\u001b[0;34m\u001b[0m\u001b[0;34m\u001b[0m\u001b[0m\n\u001b[1;32m    507\u001b[0m                 TP_temp =len(df_results_eval[(df_results_eval['actual_class'] == df_results_eval['best_pred']) &\n\u001b[0;32m--> 508\u001b[0;31m                                              (df_results_eval[metric_name] >= val)])                            \n\u001b[0m\u001b[1;32m    509\u001b[0m                 FP_temp = len(df_results_eval[(df_results_eval['actual_class'] != df_results_eval['best_pred']) &\n\u001b[1;32m    510\u001b[0m                                              (df_results_eval[metric_name] >= val)])\n",
      "\u001b[0;32m~/opt/anaconda3/lib/python3.7/site-packages/pandas/core/ops/__init__.py\u001b[0m in \u001b[0;36mwrapper\u001b[0;34m(self, other, axis)\u001b[0m\n\u001b[1;32m   1227\u001b[0m \u001b[0;34m\u001b[0m\u001b[0m\n\u001b[1;32m   1228\u001b[0m             \u001b[0;32mwith\u001b[0m \u001b[0mnp\u001b[0m\u001b[0;34m.\u001b[0m\u001b[0merrstate\u001b[0m\u001b[0;34m(\u001b[0m\u001b[0mall\u001b[0m\u001b[0;34m=\u001b[0m\u001b[0;34m\"ignore\"\u001b[0m\u001b[0;34m)\u001b[0m\u001b[0;34m:\u001b[0m\u001b[0;34m\u001b[0m\u001b[0;34m\u001b[0m\u001b[0m\n\u001b[0;32m-> 1229\u001b[0;31m                 \u001b[0mres\u001b[0m \u001b[0;34m=\u001b[0m \u001b[0mna_op\u001b[0m\u001b[0;34m(\u001b[0m\u001b[0mvalues\u001b[0m\u001b[0;34m,\u001b[0m \u001b[0mother\u001b[0m\u001b[0;34m)\u001b[0m\u001b[0;34m\u001b[0m\u001b[0;34m\u001b[0m\u001b[0m\n\u001b[0m\u001b[1;32m   1230\u001b[0m             \u001b[0;32mif\u001b[0m \u001b[0mis_scalar\u001b[0m\u001b[0;34m(\u001b[0m\u001b[0mres\u001b[0m\u001b[0;34m)\u001b[0m\u001b[0;34m:\u001b[0m\u001b[0;34m\u001b[0m\u001b[0;34m\u001b[0m\u001b[0m\n\u001b[1;32m   1231\u001b[0m                 raise TypeError(\n",
      "\u001b[0;32m~/opt/anaconda3/lib/python3.7/site-packages/pandas/core/ops/__init__.py\u001b[0m in \u001b[0;36mna_op\u001b[0;34m(x, y)\u001b[0m\n\u001b[1;32m   1089\u001b[0m \u001b[0;34m\u001b[0m\u001b[0m\n\u001b[1;32m   1090\u001b[0m         \u001b[0;32mif\u001b[0m \u001b[0mis_object_dtype\u001b[0m\u001b[0;34m(\u001b[0m\u001b[0mx\u001b[0m\u001b[0;34m.\u001b[0m\u001b[0mdtype\u001b[0m\u001b[0;34m)\u001b[0m\u001b[0;34m:\u001b[0m\u001b[0;34m\u001b[0m\u001b[0;34m\u001b[0m\u001b[0m\n\u001b[0;32m-> 1091\u001b[0;31m             \u001b[0mresult\u001b[0m \u001b[0;34m=\u001b[0m \u001b[0m_comp_method_OBJECT_ARRAY\u001b[0m\u001b[0;34m(\u001b[0m\u001b[0mop\u001b[0m\u001b[0;34m,\u001b[0m \u001b[0mx\u001b[0m\u001b[0;34m,\u001b[0m \u001b[0my\u001b[0m\u001b[0;34m)\u001b[0m\u001b[0;34m\u001b[0m\u001b[0;34m\u001b[0m\u001b[0m\n\u001b[0m\u001b[1;32m   1092\u001b[0m \u001b[0;34m\u001b[0m\u001b[0m\n\u001b[1;32m   1093\u001b[0m         \u001b[0;32melif\u001b[0m \u001b[0mis_datetimelike_v_numeric\u001b[0m\u001b[0;34m(\u001b[0m\u001b[0mx\u001b[0m\u001b[0;34m,\u001b[0m \u001b[0my\u001b[0m\u001b[0;34m)\u001b[0m\u001b[0;34m:\u001b[0m\u001b[0;34m\u001b[0m\u001b[0;34m\u001b[0m\u001b[0m\n",
      "\u001b[0;32m~/opt/anaconda3/lib/python3.7/site-packages/pandas/core/ops/__init__.py\u001b[0m in \u001b[0;36m_comp_method_OBJECT_ARRAY\u001b[0;34m(op, x, y)\u001b[0m\n\u001b[1;32m   1067\u001b[0m         \u001b[0mresult\u001b[0m \u001b[0;34m=\u001b[0m \u001b[0mlibops\u001b[0m\u001b[0;34m.\u001b[0m\u001b[0mvec_compare\u001b[0m\u001b[0;34m(\u001b[0m\u001b[0mx\u001b[0m\u001b[0;34m,\u001b[0m \u001b[0my\u001b[0m\u001b[0;34m,\u001b[0m \u001b[0mop\u001b[0m\u001b[0;34m)\u001b[0m\u001b[0;34m\u001b[0m\u001b[0;34m\u001b[0m\u001b[0m\n\u001b[1;32m   1068\u001b[0m     \u001b[0;32melse\u001b[0m\u001b[0;34m:\u001b[0m\u001b[0;34m\u001b[0m\u001b[0;34m\u001b[0m\u001b[0m\n\u001b[0;32m-> 1069\u001b[0;31m         \u001b[0mresult\u001b[0m \u001b[0;34m=\u001b[0m \u001b[0mlibops\u001b[0m\u001b[0;34m.\u001b[0m\u001b[0mscalar_compare\u001b[0m\u001b[0;34m(\u001b[0m\u001b[0mx\u001b[0m\u001b[0;34m,\u001b[0m \u001b[0my\u001b[0m\u001b[0;34m,\u001b[0m \u001b[0mop\u001b[0m\u001b[0;34m)\u001b[0m\u001b[0;34m\u001b[0m\u001b[0;34m\u001b[0m\u001b[0m\n\u001b[0m\u001b[1;32m   1070\u001b[0m     \u001b[0;32mreturn\u001b[0m \u001b[0mresult\u001b[0m\u001b[0;34m\u001b[0m\u001b[0;34m\u001b[0m\u001b[0m\n\u001b[1;32m   1071\u001b[0m \u001b[0;34m\u001b[0m\u001b[0m\n",
      "\u001b[0;31mKeyboardInterrupt\u001b[0m: "
     ]
    },
    {
     "data": {
      "image/png": "[encoded data removed]",
      "text/plain": [
       "<Figure size 1080x576 with 4 Axes>"
      ]
     },
     "metadata": {
      "needs_background": "light"
     },
     "output_type": "display_data"
    }
   ],
   "source": [
    "import TEST_model_Softmax_summary_v4_GENERIC as uncertainty\n",
    "uncertainty.run(save_results=False)"
   ]
  },
  {
   "cell_type": "code",
   "execution_count": null,
   "metadata": {},
   "outputs": [],
   "source": [
    "print(mel)"
   ]
  },
  {
   "cell_type": "code",
   "execution_count": null,
   "metadata": {},
   "outputs": [],
   "source": [
    "models = ['alexnet', 'squeezenet1_0', 'resnet18', 'densenet121']\n",
    "datasets = ['VAL', 'TEST']\n",
    "#types = ['SCRATCH', 'SNAP', 'TTA', 'DROPOUT']  ### **** TTA needs to be reviewed!\n",
    "types = ['SCRATCH', 'SNAP', 'DROPOUT']\n",
    "\n",
    "u_Dataset = 'arkusai'\n",
    "u_Model = 'squeezenet1_0'\n",
    "u_Data = 'VAL'\n",
    "u_type = 'SCRATCH'\n",
    "sample_weights = [-1]\n",
    "\n",
    "#config_file = f'../config/{u_Data}/config_{u_Model}_{u_type}.ini'\n",
    "\n",
    "idx2class = '../data/index_to_class.csv'\n",
    "WL_max = 10  # 5\n",
    "FR_min = 0.5\n",
    "FR_max = 1.0\n",
    "step_size1 = 1\n",
    "step_size2 = 0.01\n",
    "plus_minus = 5"
   ]
  },
  {
   "cell_type": "code",
   "execution_count": null,
   "metadata": {},
   "outputs": [],
   "source": [
    "start_time_all = dt.now()\n",
    "l_problems = []\n",
    "for model in models:\n",
    "    for dataset in datasets:\n",
    "        for d_type in types:\n",
    "            u_Model = model\n",
    "            u_Data = dataset\n",
    "            u_type = d_type\n",
    "            \n",
    "            print('*'*30)\n",
    "            print(f'{u_Model}---{u_Data}---{u_type}')\n",
    "            print('*'*30)\n",
    "            config_file = f'../config/{u_Data}/config_{u_Model}_{u_type}.ini'\n",
    "            \n",
    "            start_time = dt.now()\n",
    "            try:\n",
    "                uncertainty.run(config_file, sample_weights, u_Dataset, idx2class \\\n",
    "                                , WL_max, FR_min, FR_max, step_size1, step_size2, plus_minus)\n",
    "            except:\n",
    "                l_problems.append(f'{u_Model}_{u_Data}_{u_type}')\n",
    "                print('something went wrong')\n",
    "                \n",
    "            end_time = dt.now()\n",
    "            time_spent = end_time - start_time\n",
    "            print(format_timespan(time_spent))\n",
    "            \n",
    "end_time_all = dt.now()\n",
    "time_spent_all = end_time_all - start_time_all\n",
    "print(format_timespan(time_spent_all))\n",
    "print(f'failed calculations: {l_problems})"
   ]
  },
  {
   "cell_type": "code",
   "execution_count": null,
   "metadata": {},
   "outputs": [],
   "source": [
    "# tuc1 = tuc.test_uncertainty('../config/config_squeezenet1_0.ini')\n",
    "# tuc1 = tuc.test_uncertainty('../config/config_alexnet.ini')\n",
    "# tuc1 = tuc.test_uncertainty('../config/config_resnet18.ini')\n",
    "# use_sample_weights = [0,1,3,5,6]\n",
    "use_sample_weights = [-1]  # if -1 then use all weights in the given ***** result pkl ******\n",
    "#tuc1 = tuc.test_uncertainty('../config/VAL/config_densenet121_TTA.ini', use_sample_weights)\n",
    "#tuc1 = tuc.test_uncertainty('../config/config_resnet18.ini', use_sample_weights)\n",
    "tuc1 = tuc.test_uncertainty('../config/VAL/config_densenet121_SCRATCH.ini', use_sample_weights)\n",
    "#tuc1 = tuc.test_uncertainty('../config/TEST/config_densenet121_DROPOUT.ini', use_sample_weights)\n",
    "u_Dataset = 'arkusai'\n",
    "u_Model = 'alexnet'\n",
    "u_Data = 'VAL'\n",
    "#tuc1 = tuc.test_uncertainty('../config/VAL/config_resnet18_SCRATCH.ini', use_sample_weights)\n",
    "print(list(range(len(tuc1.df_result_ensemble.loc[0,'outputs_all']))))\n",
    "\n",
    "index_to_class = pd.read_csv('../data/index_to_class.csv')\n",
    "class_to_index = index_to_class.set_index('class')\n",
    "class_to_index.columns=['idx']"
   ]
  },
  {
   "cell_type": "code",
   "execution_count": null,
   "metadata": {},
   "outputs": [],
   "source": [
    "Path(f'../figures/{u_Data}/{u_Model}').mkdir(parents=True, exist_ok=True)"
   ]
  },
  {
   "cell_type": "code",
   "execution_count": null,
   "metadata": {},
   "outputs": [],
   "source": [
    "Path(f'../figures/test').mkdir(parents=False, exist_ok=True)"
   ]
  },
  {
   "cell_type": "code",
   "execution_count": null,
   "metadata": {},
   "outputs": [],
   "source": [
    "lst_acc_models, lst_column = tuc1.accuracy_per_model(use_sample_weights)\n",
    "print(lst_acc_models)"
   ]
  },
  {
   "cell_type": "code",
   "execution_count": null,
   "metadata": {},
   "outputs": [],
   "source": [
    "def plot_metrics_test(self, plt_m, title='Softmax Score', metric_name='best_score',\n",
    "                      step_size=0.01, higher_better=True, is_norm=False, plus_minus = 5, plot_graph=True):\n",
    "        df_results_eval = self.df_uncertainty\n",
    "        max_val = round(max(df_results_eval[metric_name]), 6)\n",
    "        min_val = round(min(df_results_eval[metric_name]), 6)\n",
    "        mean_val = round(np.mean(df_results_eval[metric_name]), 6)\n",
    "        var_val = round(np.var(df_results_eval[metric_name]), 6)\n",
    "\n",
    "        norm_name = f'{metric_name}_Norm'\n",
    "        if is_norm and norm_name not in df_results_eval.columns:\n",
    "            df_results_eval[norm_name]=df_results_eval[metric_name].apply(lambda x: (x-min_score)/\n",
    "                                                                          (max_score-min_score)*100)\n",
    "#         if plot_graph:\n",
    "#             print(f'max: {max_val} .. min: {min_val} .. mean: {mean_val} .. var: {var_val}')\n",
    "\n",
    "        x=[];\n",
    "        TP_temp, FP_temp, TN_temp, FN_temp = 0, 0, 0, 0\n",
    "        TP, FP, TN, FN, TPR, TNR, FPR, FDR, NPV = [], [], [], [], [], [], [], [], []\n",
    "        fail_rate_temp, work_load_temp, fail_rate, work_load = 0, 0, [], []\n",
    "        #for val in tqdm(np.arange(min_val+0.0001, max_val + step_size, step_size)):\n",
    "        for val in tqdm(np.arange(0, max_val + 2*step_size, step_size)):\n",
    "            # All Correct predictions\n",
    "            len_Correct = len(df_results_eval[df_results_eval['actual_class'] == df_results_eval['best_pred']])\n",
    "            # All INcorrect predictions\n",
    "            len_Incorrect = len(df_results_eval[df_results_eval['actual_class'] != df_results_eval['best_pred']])\n",
    "\n",
    "            if higher_better:\n",
    "                TP_temp =len(df_results_eval[(df_results_eval['actual_class'] == df_results_eval['best_pred']) &\n",
    "                                             (df_results_eval[metric_name] >= val)])                            \n",
    "                FP_temp = len(df_results_eval[(df_results_eval['actual_class'] != df_results_eval['best_pred']) &\n",
    "                                             (df_results_eval[metric_name] >= val)])\n",
    "                TN_temp = len(df_results_eval[(df_results_eval['actual_class'] != df_results_eval['best_pred']) &\n",
    "                                             (df_results_eval[metric_name] < val)])\n",
    "                FN_temp = len(df_results_eval[(df_results_eval['actual_class'] == df_results_eval['best_pred']) &\n",
    "                                             (df_results_eval[metric_name] < val)])        \n",
    "            else:\n",
    "                TP_temp =len(df_results_eval[(df_results_eval['actual_class'] == df_results_eval['best_pred']) &\n",
    "                                             (df_results_eval[metric_name] < val)])                            \n",
    "                FP_temp = len(df_results_eval[(df_results_eval['actual_class'] != df_results_eval['best_pred']) &\n",
    "                                             (df_results_eval[metric_name] < val)])\n",
    "                TN_temp = len(df_results_eval[(df_results_eval['actual_class'] != df_results_eval['best_pred']) &\n",
    "                                             (df_results_eval[metric_name] >= val)])\n",
    "                FN_temp = len(df_results_eval[(df_results_eval['actual_class'] == df_results_eval['best_pred']) &\n",
    "                                             (df_results_eval[metric_name] >= val)])\n",
    "\n",
    "            TP.append(TP_temp); FP.append(FP_temp); FN.append(FN_temp); TN.append(TN_temp)\n",
    "            fail_rate.append(FP_temp/len(df_results_eval)*100)\n",
    "            work_load_temp = (TN_temp + FN_temp)/len(df_results_eval)*100\n",
    "            work_load.append(work_load_temp)\n",
    "\n",
    "            TPR_temp = 0 if (TP_temp+FN_temp)==0 else TP_temp/(TP_temp+FN_temp)\n",
    "            TNR_temp = 0 if (TN_temp+FP_temp)==0 else TN_temp/(TN_temp+FP_temp)\n",
    "            FPR_temp = 0 if (FP_temp+TN_temp)==0 else FP_temp/(FP_temp+TN_temp)\n",
    "            # FDR (False Discovery Rate) = FP/(FP+TP)  ... FDR = 1 - precision=1-PPV\n",
    "            FDR_temp = 0 if (FP_temp+TP_temp)==0 else FP_temp/(FP_temp+TP_temp)\n",
    "            # NPV (Negative Predictive Value) = TN/(TN+FN)\n",
    "            NPV_temp = 0 if (TN_temp+FN_temp)==0 else TN_temp/(TN_temp+FN_temp)\n",
    "\n",
    "            # https://en.wikipedia.org/wiki/Sensitivity_and_specificity\n",
    "            x.append(val)\n",
    "            TPR.append(round(TPR_temp,4))  # TP/(TP+FN) = True Positive Rate (sensitivity, recall)\n",
    "            TNR.append(round(TNR_temp,4))  # TN/(TN+FP) = True Negative Rate (pecificity, selectivity)\n",
    "            FPR.append(round(FPR_temp,4))  # FP/(FP+TN) = False Positive Rate (fall-out)\n",
    "            FDR.append(round(FDR_temp,4))  # FP/(FP+TP) = False Discovery Rate \n",
    "            NPV.append(round(NPV_temp,4))  # TN/(TN+FN) = Negative Predictive Value \n",
    "\n",
    "        df_Res = pd.DataFrame({'val': x, 'TP': TP, 'FP': FP, 'TN': TN, 'FN': FN, 'fail_rate': fail_rate,\n",
    "                              'work_load': work_load})\n",
    "        df_Res['sum'] = df_Res['TN'] + df_Res['FN']\n",
    "        df_Res['diff'] = df_Res['work_load'] - df_Res['fail_rate']\n",
    "\n",
    "        #arr_diff=np.array(TNR)-np.array(FPR)\n",
    "        # What is the threshold to capture the min. number of False Negative decisions\n",
    "        #arr_diff=np.array(NPV)-np.array(FDR)\n",
    "        arr_diff=np.array(work_load)-np.array(fail_rate)\n",
    "        # What is the threshold to capture the min. number of False Positive decisions\n",
    "    #     arr_diff=np.array(FDR)-np.array(NPV)\n",
    "\n",
    "        # find the threshold giving the max diff between NPV (correct-NEGATIVE predictions) \n",
    "        #                                            and FDR (incorrect-POSITIVE predictions)\n",
    "        argmax = np.argmin(np.array(df_Res['diff']**2))\n",
    "        if plot_graph:\n",
    "            print(f'argmax:{argmax}')\n",
    "        best_threshold = round(x[argmax], 2)\n",
    "\n",
    "        lst_threshold = x[argmax-plus_minus:argmax+plus_minus]\n",
    "    #     FDR_th = FDR[argmax-plus_minus:argmax+plus_minus]\n",
    "    #     NPV_th = NPV[argmax-plus_minus:argmax+plus_minus]\n",
    "        lst_fail_rate = fail_rate[argmax-plus_minus:argmax+plus_minus]\n",
    "        lst_work_load = work_load[argmax-plus_minus:argmax+plus_minus]\n",
    "        # number of images expected to be incorrectly predicted after uncertainty/certainty filtering\n",
    "        n_total_mistakes = np.array(FP[argmax-plus_minus:argmax+plus_minus]) \\\n",
    "                         + np.array(FN[argmax-plus_minus:argmax+plus_minus])\n",
    "        rate_total_mistakes = np.array(n_total_mistakes)/len(df_results_eval)\n",
    "        rate_FP = np.array(FP[argmax-plus_minus:argmax+plus_minus])/len(df_results_eval)\n",
    "\n",
    "        df_threshold = pd.DataFrame({'threshold': lst_threshold, 'fail_rate': lst_fail_rate, \n",
    "                                     'work_load': lst_work_load, 'total_mistakes': n_total_mistakes, \n",
    "                                     'total_mistakes(%)': rate_total_mistakes, 'FP(%)': rate_FP})\n",
    "\n",
    "        if plot_graph:\n",
    "            print(f'\\nWhen threshold={best_threshold}:')\n",
    "            print(f'TP: {TP[argmax]} .. FP: {FP[argmax]} .. TN: {TN[argmax]} .. FN: {FN[argmax]}')\n",
    "            print(f'..... {FDR[argmax]}% of correctly classified images are below the threshold (FDR)')\n",
    "            print(f'while {NPV[argmax]}% of incorrectly classified images are below the threshold (NPV)')    \n",
    "            print(f'precision: {round(TP[argmax]/(TP[argmax]+FP[argmax]), 2)}')\n",
    "            print(f'recall: {round(TP[argmax]/(TP[argmax]+FN[argmax]), 2)}')\n",
    "        \n",
    "            plt_m.plot(x, fail_rate)\n",
    "            plt_m.plot(x, work_load)\n",
    "            th_best = np.zeros(len(x))\n",
    "            lst_line = [i for i in range(len(x))]\n",
    "            th_best.fill(x[argmax])\n",
    "            th_best = list(th_best)\n",
    "            plt_m.plot(th_best, lst_line)\n",
    "            #     plt.plot(x, fail_rate)\n",
    "            #     plt.plot(x, work_load)\n",
    "\n",
    "            #plt.legend(['FDR', 'NPV', 'th_best', 'fail_rate', 'work_load'])\n",
    "            plt_m.legend(['fail_rate', 'work_load', 'th_best'])\n",
    "            #     plt.xlabel('Threshold')\n",
    "            #     plt.ylabel('% of Images')\n",
    "            plt_m.set_xlabel('Threshold')\n",
    "            plt_m.set_ylabel('% of Images')\n",
    "            #plt.tight_layout(pad=0.4, w_pad=0.5, h_pad=1.0)\n",
    "            #     plt.title(title)\n",
    "            plt_m.set_title(title)\n",
    "\n",
    "            plt_m.text(x[argmax]-0.2*x[argmax], .6, f'best threshold={round(x[argmax],2)}')  \n",
    "            \n",
    "\n",
    "        #return df_Res"
   ]
  }
 ],
 "metadata": {
  "kernelspec": {
   "display_name": "Python 3",
   "language": "python",
   "name": "python3"
  },
  "language_info": {
   "codemirror_mode": {
    "name": "ipython",
    "version": 3
   },
   "file_extension": ".py",
   "mimetype": "text/x-python",
   "name": "python",
   "nbconvert_exporter": "python",
   "pygments_lexer": "ipython3",
   "version": "3.7.4"
  }
 },
 "nbformat": 4,
 "nbformat_minor": 2
}
