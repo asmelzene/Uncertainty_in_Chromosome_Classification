{
 "cells": [
  {
   "cell_type": "code",
   "execution_count": 3,
   "metadata": {},
   "outputs": [
    {
     "name": "stdout",
     "output_type": "stream",
     "text": [
      "PyTorch Version:  1.7.1\n",
      "Torchvision Version:  0.8.2\n"
     ]
    }
   ],
   "source": [
    "import datetime                  # test + Uncertainty\n",
    "import pandas as pd              # test + Uncertainty\n",
    "import numpy as np               # test + Uncertainty\n",
    "import pickle5 as pickle                    # Uncertainty\n",
    "from tqdm import tqdm\n",
    "\n",
    "#import test_model as tm          # test\n",
    "import test_uncertainty_Softmax_v2 as tuc   # Uncertainty\n",
    "from humanfriendly import format_timespan\n",
    "\n",
    "from sklearn import metrics\n",
    "import matplotlib.pyplot as plt\n",
    "from sklearn.metrics import auc\n",
    "from sklearn.metrics import plot_roc_curve\n",
    "\n",
    "from sklearn.metrics import roc_auc_score\n",
    "import performance\n",
    "\n",
    "from sklearn.preprocessing import LabelEncoder\n",
    "from sklearn.preprocessing import OneHotEncoder\n",
    "\n",
    "import seaborn as sns\n",
    "from sklearn import metrics\n",
    "from sklearn.metrics import roc_auc_score\n",
    "\n",
    "import matplotlib.pyplot as plt\n",
    "from sklearn.metrics import auc\n",
    "from sklearn.metrics import plot_roc_curve\n",
    "from sklearn.metrics import roc_curve, auc\n",
    "from sklearn.metrics import confusion_matrix\n",
    "\n",
    "from scipy.special import entr\n",
    "from collections import Counter\n"
   ]
  },
  {
   "cell_type": "code",
   "execution_count": 4,
   "metadata": {},
   "outputs": [],
   "source": [
    "import torch\n",
    "from torch.utils.data import DataLoader\n",
    "import pytorch_pretrained_models as ppm\n",
    "\n",
    "import numpy as np\n",
    "import pandas as pd\n",
    "from tqdm import tqdm\n",
    "from pathlib import Path\n",
    "import argparse\n",
    "from configparser import ConfigParser\n",
    "import custom_dataset_TTA as cds\n",
    "import data_ops as do\n",
    "\n",
    "from PIL import Image\n",
    "import numpy as np\n",
    "from matplotlib import pyplot as plt\n",
    "from torchvision import datasets, models, transforms\n",
    "from scipy.special import softmax\n",
    "import albumentations as A\n",
    "from albumentations.pytorch import ToTensorV2\n",
    "import cv2"
   ]
  },
  {
   "cell_type": "code",
   "execution_count": 5,
   "metadata": {},
   "outputs": [
    {
     "name": "stdout",
     "output_type": "stream",
     "text": [
      "2021-06-27 11:12:54.369914\n"
     ]
    }
   ],
   "source": [
    "from datetime import datetime\n",
    "print(datetime.now())"
   ]
  },
  {
   "cell_type": "code",
   "execution_count": 96,
   "metadata": {},
   "outputs": [],
   "source": [
    "class ResizeLargerSide(object):\n",
    "    def __init__(self, output_size):\n",
    "        super().__init__()\n",
    "        self.output_size = output_size\n",
    "    def __call__(self, img):\n",
    "        w, h = img.size\n",
    "        if h < w:\n",
    "            new_w = self.output_size\n",
    "            new_h = int(h*(self.output_size/w))\n",
    "        elif w < h:\n",
    "            new_h = self.output_size\n",
    "            new_w = int(w*(self.output_size/h))\n",
    "        else:  # w == h\n",
    "            new_w = self.output_size\n",
    "            new_h = self.output_size\n",
    "        resized_img = img.resize((new_w, new_h))\n",
    "        return resized_img\n",
    "\n",
    "class RandomPad(object):\n",
    "    def __init__(self, output_size):\n",
    "        assert isinstance(output_size, (int, tuple))\n",
    "        if isinstance(output_size, int):\n",
    "            self.output_size = (output_size, output_size)\n",
    "        else:\n",
    "            assert len(output_size) == 2\n",
    "            self.output_size = output_size\n",
    "    def __call__(self, image):\n",
    "        w, h = image.size\n",
    "        new_h, new_w = self.output_size\n",
    "        color = (255, 255, 255)\n",
    "        pad_top, pad_bottom, pad_l, pad_r = 0, 0, 0, 0\n",
    "        if h < new_h:  # need to pad height\n",
    "            pad_top = np.random.randint(0, new_h - h)\n",
    "        if w < new_w:  # need to pad width\n",
    "            pad_l = np.random.randint(0, new_w - w)\n",
    "        padded_img = Image.new(image.mode, (new_w, new_h), color)\n",
    "        padded_img.paste(image, (pad_l, pad_top))\n",
    "        return padded_img\n",
    "    \n",
    "# MEAN = [0.6802, 0.6802, 0.6802]\n",
    "# STD = [0.2875, 0.2875, 0.2875]\n",
    "MEAN = [0, 0, 0]\n",
    "STD = [1, 1, 1]\n",
    "#MEAN = [0.485, 0.456, 0.406]\n",
    "#STD = [0.229, 0.224, 0.225]\n",
    "SIZE = 224\n",
    "RESIZE_RATIO = 0.9\n",
    "input_size=224\n",
    "\n",
    "IMAGE_SIZE=224\n",
    "scale = 1.1"
   ]
  },
  {
   "cell_type": "code",
   "execution_count": 91,
   "metadata": {},
   "outputs": [],
   "source": [
    "def _random_colour_space(x):\n",
    "    output = x.convert(\"HSV\") # HSV, YUV, and LAB\n",
    "    return output\n",
    "\n",
    "class GaussianNoise():\n",
    "    \"\"\"Adds gaussian noise to a tensor.\n",
    "\n",
    "        >>> transforms.Compose([\n",
    "        >>>     transforms.ToTensor(),\n",
    "        >>>     Noise(0.1, 0.05)),\n",
    "        >>> ])\n",
    "\n",
    "    \"\"\"\n",
    "    def __init__(self, mean, stddev):\n",
    "        self.mean = mean\n",
    "        self.stddev = stddev\n",
    "\n",
    "    def __call__(self, tensor):\n",
    "        noise = torch.zeros_like(tensor).normal_(self.mean, self.stddev)\n",
    "        return tensor.add_(noise)\n",
    "\n",
    "    def __repr__(self):\n",
    "        repr = f\"{self.__class__.__name__  }(mean={self.mean}, stddev={self.stddev})\"\n",
    "        return repr"
   ]
  },
  {
   "cell_type": "code",
   "execution_count": 97,
   "metadata": {},
   "outputs": [],
   "source": [
    "data_transforms_augmentation = {\n",
    "                'train': transforms.Compose([\n",
    "                    transforms.RandomHorizontalFlip(),\n",
    "                    #transforms.RandomRotation(80, expand=True, center=None, fill=255),\n",
    "                    ResizeLargerSide(int(RESIZE_RATIO*SIZE)),\n",
    "                    #RandomPad(SIZE),\n",
    "                    transforms.CenterCrop(SIZE),\n",
    "                    #transforms.ColorJitter(brightness=0.1, contrast=0.1),\n",
    "                    transforms.ToTensor(),\n",
    "                    transforms.Normalize(MEAN, STD)\n",
    "                ]), \n",
    "    \n",
    "                'val2': transforms.Compose([\n",
    "                      transforms.Resize(input_size),\n",
    "#                     transforms.Scale(SIZE),\n",
    "                      #transforms.TenCrop(input_size),\n",
    "#                       transforms.RandomRotation(180, expand=True, center=None, fill=255),\n",
    "                      ResizeLargerSide(int(RESIZE_RATIO*SIZE)),\n",
    "                      transforms.CenterCrop(SIZE),\n",
    "                      transforms.ColorJitter(brightness=0.5, contrast=0.5),\n",
    "#                       transforms.Lambda(lambda normal: torch.stack([transforms.Normalize(MEAN, STD)(normalize) for normalize in normal]))\n",
    "                      transforms.ToTensor(),\n",
    "                      transforms.Normalize(MEAN, STD)\n",
    "                 ]),\n",
    "    \n",
    "                'val': transforms.Compose([                    \n",
    "                    ResizeLargerSide(int(RESIZE_RATIO*SIZE)),\n",
    "                    transforms.Pad(SIZE//2, 255),\n",
    "                    transforms.CenterCrop(SIZE),\n",
    "                    #transforms.RandomHorizontalFlip(),\n",
    "                    transforms.ToTensor(),\n",
    "                    transforms.ColorJitter(brightness=0.5, contrast=0.5),\n",
    "                    transforms.Normalize(MEAN, STD)\n",
    "                ]),\n",
    "                'val4': transforms.Compose([\n",
    "                    # order is also impostant, when I added this to the end, it failed to work\n",
    "                    #transforms.RandomResizedCrop(200, scale=(0.08, 1.0), ratio=(0.75, 1.33)), # bad=12.5\n",
    "                    transforms.ColorJitter(brightness=0.6, contrast=0.6), # bad=10%\n",
    "                    #transforms.RandomPerspective(distortion_scale=0.5, p=0.5, fill=0), # bad=95% to 83%\n",
    "                    #transforms.RandomRotation(18, expand=True, center=None, fill=255),#no impact\n",
    "                    #transforms.RandomRotation(18), # bad=53% if applied before standard transformations\n",
    "                    #transforms.RandomErasing(p=0.5, scale=(0.02, 0.33), ratio=(0.3, 3.3), value=0, inplace=False),\n",
    "                    #transforms.RandomErasing(p=0.5, scale=(0.02, 0.15), ratio=(0.1, 0.8), value=1, inplace=False),  # 10%\n",
    "                    #transforms.functional.autocontrast(),\n",
    "#                     transforms.Lambda(lambda x: _random_colour_space(x)),\n",
    "                    #RGB, HSV, YUV, and LAB > this transform is applied to Image object so, it must be used\n",
    "                    # before ToTensor()\n",
    "                    #transforms.RandomApply([transforms.Lambda(lambda x: _random_colour_space(x))]), # no impact\n",
    "                    #transforms.RandomHorizontalFlip(), # doesn't make any effect\n",
    "                    ResizeLargerSide(int(RESIZE_RATIO*SIZE)),\n",
    "                    transforms.Pad(SIZE//2, 255),\n",
    "#                     transforms.RandomCrop(0.5, padding=None, pad_if_needed=False, fill=0, padding_mode='constant'),\n",
    "                    transforms.CenterCrop(SIZE),\n",
    "                    transforms.ToTensor(),\n",
    "                    transforms.Normalize(MEAN, STD),   \n",
    "                    #transforms.RandomRotation(18), # if used after standard transformations, just slightly drops the accuracy > 93.75\n",
    "                    #transforms.GaussianBlur(11, sigma=(0.1, 2.0)) # no impact\n",
    "                    #transforms.RandomErasing(p=0.5, scale=(0.02, 0.33), ratio=(0.3, 3.3), value=0, inplace=False), # no impact\n",
    "                    #transforms.RandomErasing(p=0.5, scale=(0.02, 0.15), ratio=(0.1, 0.8), value=1, inplace=False),  # no impact\n",
    "                    #transforms.RandomPerspective(distortion_scale=0.2, p=0.5, fill=0), # bad=95% to 93.75%\n",
    "                    #transforms.RandomGrayscale(p=0.01), # ok=no impact=95.3125%\n",
    "                    #GaussianNoise(mean=0.1,sttdev=0.05)\n",
    "                    #GaussianNoise(0.1,0.05) #bad = 4.7%\n",
    "#                     A.ColorJitter(brightness=0.6, contrast=0.6, saturation=0.6, hue=0.6, p=0.4),\n",
    "                ]),\n",
    "                'albumentations': A.Compose(\n",
    "                        [\n",
    "                            A.LongestMaxSize(max_size=int(IMAGE_SIZE * scale)),\n",
    "                            A.PadIfNeeded(\n",
    "                                min_height=int(IMAGE_SIZE * scale),\n",
    "                                min_width=int(IMAGE_SIZE * scale),\n",
    "                                border_mode=cv2.BORDER_CONSTANT,\n",
    "                            ),\n",
    "#                             A.RandomCrop(width=IMAGE_SIZE, height=IMAGE_SIZE),\n",
    "#                             A.ColorJitter(brightness=0.6, contrast=0.6, saturation=0.6, hue=0.6, p=0.4),\n",
    "#                             A.OneOf(\n",
    "#                                 [\n",
    "#                                     A.ShiftScaleRotate(\n",
    "#                                         rotate_limit=20, p=0.5, border_mode=cv2.BORDER_CONSTANT\n",
    "#                                     ),\n",
    "#                                     A.IAAAffine(shear=15, p=0.5, mode=\"constant\"),\n",
    "#                                 ],\n",
    "#                                 p=1.0,\n",
    "#                             ),\n",
    "#                             A.HorizontalFlip(p=0.5),\n",
    "#                             A.Blur(p=0.1),\n",
    "#                             A.CLAHE(p=0.1),\n",
    "#                             A.Posterize(p=0.1),\n",
    "#                             A.ToGray(p=0.1),\n",
    "#                             A.ChannelShuffle(p=0.05),\n",
    "                            A.Normalize(mean=[0, 0, 0], std=[1, 1, 1], max_pixel_value=255,),\n",
    "                            #A.Normalize(mean=MEAN, std=STD, max_pixel_value=255,),\n",
    "                            ToTensorV2(),\n",
    "                        ]),\n",
    "    \n",
    "                'val3': transforms.Compose([\n",
    "#                       transforms.Resize(input_size),\n",
    "#                     transforms.Scale(SIZE),\n",
    "                      ResizeLargerSide(int(RESIZE_RATIO*SIZE)),\n",
    "                      RandomPad(SIZE),                           # we have to add this\n",
    "#                       transforms.Pad(SIZE//2, 255),\n",
    "                      transforms.RandomGrayscale(p=0.01),\n",
    "                      #transforms.RandomHorizontalFlip(p=0.5),\n",
    "                      transforms.RandomAffine(degrees=2, translate=(.2, .2), scale=(0.5, 1), \n",
    "                                              fillcolor=(114, 114, 114),shear=(-0.3, 0.3, -0.3, 0.3)),\n",
    "#                       transforms.RandomAffine(degrees=1, translate=(.2, .2), scale=(1 / 1.5, 1.5),\n",
    "#                                           shear=(-1, 1, -1, 1)),\n",
    "                      transforms.ToTensor(),\n",
    "                    # TenCrop didn't provide a variety of images. with bare eyes, they were identical,\n",
    "                    # there were 5 of them identical to each other and another 5 flipped horizontally\n",
    "#                       transforms.TenCrop(input_size),\n",
    "#                       transforms.Lambda(lambda crops: torch.stack([transforms.ToTensor()(crop) for crop in crops])),\n",
    "#                       transforms.Lambda(lambda normal: torch.stack([transforms.Normalize(MEAN, STD)(normalize) for normalize in normal]))                      \n",
    "                 ]),\n",
    "            }"
   ]
  },
  {
   "cell_type": "code",
   "execution_count": 8,
   "metadata": {},
   "outputs": [],
   "source": [
    "def pil_loader(path):\n",
    "    # open path as file to avoid ResourceWarning (https://github.com/python-pillow/Pillow/issues/835)\n",
    "    with open(path, 'rb') as f:\n",
    "        img = Image.open(f)\n",
    "        return img.convert('RGB')\n",
    "\n",
    "def idx2class(idx):\n",
    "    return index_to_class[index_to_class['index']==idx]['class'][idx]\n",
    "\n",
    "n_TTA=32\n",
    "def extend_labels(label):\n",
    "    return [label for x in range(n_TTA)]"
   ]
  },
  {
   "cell_type": "code",
   "execution_count": 125,
   "metadata": {},
   "outputs": [],
   "source": [
    "import torchvision.io as io\n",
    "# img_path = '../data/test/singles/MA160865191500037.005-K_11_1_.png'\n",
    "img_path = '../data/test/singles/MA1867826.002-K_1_1_.png'\n",
    "image_m = pil_loader(img_path)  # image_m = PIL.Image.Image\n",
    "# image_io = io.imread(img_path)"
   ]
  },
  {
   "cell_type": "code",
   "execution_count": 126,
   "metadata": {},
   "outputs": [
    {
     "data": {
      "text/plain": [
       "(119, 382)"
      ]
     },
     "execution_count": 126,
     "metadata": {},
     "output_type": "execute_result"
    }
   ],
   "source": [
    "type(image_m)\n",
    "image_m.size   # (69, 166)   (119, 382) = (width, height)"
   ]
  },
  {
   "cell_type": "code",
   "execution_count": 123,
   "metadata": {},
   "outputs": [
    {
     "data": {
      "image/png": "[encoded data removed]",
      "text/plain": [
       "<Figure size 432x288 with 1 Axes>"
      ]
     },
     "metadata": {
      "needs_background": "light"
     },
     "output_type": "display_data"
    }
   ],
   "source": [
    "transform = data_transforms_augmentation['val4']\n",
    "image_t = transform(image_m)   # image_t = torch.Tensor\n",
    "#image2=transforms.functional.autocontrast(image2)\n",
    "image_t = image_t.permute(1, 2, 0)\n",
    "#image2 = image2.to('cpu')\n",
    "#image2 = image2.detach().numpy()\n",
    "# input_s.shape\n",
    "plt.imshow(image_t, interpolation='nearest')\n",
    "plt.show()"
   ]
  },
  {
   "cell_type": "code",
   "execution_count": 86,
   "metadata": {},
   "outputs": [
    {
     "data": {
      "image/png": "[encoded data removed]",
      "text/plain": [
       "<Figure size 432x288 with 1 Axes>"
      ]
     },
     "metadata": {
      "needs_background": "light"
     },
     "output_type": "display_data"
    }
   ],
   "source": [
    "# ****** IF we use \"albumentations\" for transformations: ***********\n",
    "transform = data_transforms_augmentation['albumentations']\n",
    "image_arr = np.asarray(image_m)   # image_arr = numpy.ndarray\n",
    "image_t = transform(image=image_arr)  # image_t = torch.Tensor\n",
    "# image_t = transform(image=image_m)   # fails, can't accept PIL type for transformation\n",
    "image_t = image_t['image'].permute(1, 2, 0)\n",
    "plt.imshow(image_t, interpolation='nearest')\n",
    "plt.show()"
   ]
  },
  {
   "cell_type": "code",
   "execution_count": 13,
   "metadata": {},
   "outputs": [
    {
     "data": {
      "image/png": "[encoded data removed]",
      "text/plain": [
       "<Figure size 432x288 with 1 Axes>"
      ]
     },
     "metadata": {
      "needs_background": "light"
     },
     "output_type": "display_data"
    }
   ],
   "source": [
    "# ****** IF we use \"albumentations\" for transformations: ***********\n",
    "transform = data_transforms_augmentation['albumentations']\n",
    "image_arr = np.asarray(image_m)   # image_arr = numpy.ndarray\n",
    "image_t = transform(image=image_arr)  # image_t = torch.Tensor\n",
    "# image_t = transform(image=image_m)   # fails, can't accept PIL type for transformation\n",
    "image_t = image_t['image'].permute(1, 2, 0)\n",
    "plt.imshow(image_t, interpolation='nearest')\n",
    "plt.show()"
   ]
  },
  {
   "cell_type": "code",
   "execution_count": 31,
   "metadata": {},
   "outputs": [
    {
     "name": "stderr",
     "output_type": "stream",
     "text": [
      "2021-05-30 20:16:13,418  train_ppt   INFO  self.device: cpu\n",
      "2021-05-30 20:16:13,418  train_ppt   INFO  self.device: cpu\n",
      "2021-05-30 20:16:13,544  train_ppt   INFO  model in use: densenet121\n",
      "2021-05-30 20:16:13,544  train_ppt   INFO  model in use: densenet121\n"
     ]
    },
    {
     "name": "stdout",
     "output_type": "stream",
     "text": [
      "date and time = 30.05.2021_20.16.13\n"
     ]
    },
    {
     "name": "stderr",
     "output_type": "stream",
     "text": [
      "\n",
      "  0%|          | 0/215 [00:00<?, ?it/s]\u001b[A"
     ]
    },
    {
     "name": "stdout",
     "output_type": "stream",
     "text": [
      "self.img_dir: ../data/test/singles/\n",
      "annotations_file: ../data/test_data.csv\n"
     ]
    },
    {
     "name": "stderr",
     "output_type": "stream",
     "text": [
      "\n",
      "\n",
      "  0%|          | 0/64 [00:00<?, ?it/s]\u001b[A\u001b[A\n",
      "\n",
      "  2%|▏         | 1/64 [00:05<05:51,  5.58s/it]\u001b[A\u001b[A"
     ]
    },
    {
     "name": "stdout",
     "output_type": "stream",
     "text": [
      "max_SM: 0.9993904829025269\n"
     ]
    },
    {
     "name": "stderr",
     "output_type": "stream",
     "text": [
      "\n",
      "\n",
      "  3%|▎         | 2/64 [00:10<05:29,  5.32s/it]\u001b[A\u001b[A"
     ]
    },
    {
     "name": "stdout",
     "output_type": "stream",
     "text": [
      "max_SM: 0.830894947052002\n"
     ]
    },
    {
     "ename": "KeyboardInterrupt",
     "evalue": "",
     "output_type": "error",
     "traceback": [
      "\u001b[0;31m---------------------------------------------------------------------------\u001b[0m",
      "\u001b[0;31mKeyboardInterrupt\u001b[0m                         Traceback (most recent call last)",
      "\u001b[0;32m<ipython-input-31-c63a3fbc7279>\u001b[0m in \u001b[0;36m<module>\u001b[0;34m\u001b[0m\n\u001b[1;32m    192\u001b[0m             \u001b[0;31m#print(f'2: {datetime.now()}')\u001b[0m\u001b[0;34m\u001b[0m\u001b[0;34m\u001b[0m\u001b[0;34m\u001b[0m\u001b[0m\n\u001b[1;32m    193\u001b[0m \u001b[0;34m\u001b[0m\u001b[0m\n\u001b[0;32m--> 194\u001b[0;31m             \u001b[0moutputs1\u001b[0m \u001b[0;34m=\u001b[0m \u001b[0mmodel_test\u001b[0m\u001b[0;34m(\u001b[0m\u001b[0minputs\u001b[0m\u001b[0;34m[\u001b[0m\u001b[0mi\u001b[0m\u001b[0;34m]\u001b[0m\u001b[0;34m)\u001b[0m        \u001b[0;31m# outputs1 = torch.Tensor = torch.Size([32, 24])\u001b[0m\u001b[0;34m\u001b[0m\u001b[0;34m\u001b[0m\u001b[0m\n\u001b[0m\u001b[1;32m    195\u001b[0m             \u001b[0moutputs2\u001b[0m \u001b[0;34m=\u001b[0m \u001b[0moutputs1\u001b[0m\u001b[0;34m.\u001b[0m\u001b[0mto\u001b[0m\u001b[0;34m(\u001b[0m\u001b[0;34m'cpu'\u001b[0m\u001b[0;34m)\u001b[0m           \u001b[0;31m# outputs2 = torch.Tensor = torch.Size([32, 24])\u001b[0m\u001b[0;34m\u001b[0m\u001b[0;34m\u001b[0m\u001b[0m\n\u001b[1;32m    196\u001b[0m             \u001b[0moutputs3\u001b[0m \u001b[0;34m=\u001b[0m \u001b[0moutputs2\u001b[0m\u001b[0;34m.\u001b[0m\u001b[0mdetach\u001b[0m\u001b[0;34m(\u001b[0m\u001b[0;34m)\u001b[0m\u001b[0;34m.\u001b[0m\u001b[0mnumpy\u001b[0m\u001b[0;34m(\u001b[0m\u001b[0;34m)\u001b[0m    \u001b[0;31m# outputs3 = numpy.ndarray = (32, 24)\u001b[0m\u001b[0;34m\u001b[0m\u001b[0;34m\u001b[0m\u001b[0m\n",
      "\u001b[0;32m~/opt/anaconda3/lib/python3.7/site-packages/torch/nn/modules/module.py\u001b[0m in \u001b[0;36m_call_impl\u001b[0;34m(self, *input, **kwargs)\u001b[0m\n\u001b[1;32m    725\u001b[0m             \u001b[0mresult\u001b[0m \u001b[0;34m=\u001b[0m \u001b[0mself\u001b[0m\u001b[0;34m.\u001b[0m\u001b[0m_slow_forward\u001b[0m\u001b[0;34m(\u001b[0m\u001b[0;34m*\u001b[0m\u001b[0minput\u001b[0m\u001b[0;34m,\u001b[0m \u001b[0;34m**\u001b[0m\u001b[0mkwargs\u001b[0m\u001b[0;34m)\u001b[0m\u001b[0;34m\u001b[0m\u001b[0;34m\u001b[0m\u001b[0m\n\u001b[1;32m    726\u001b[0m         \u001b[0;32melse\u001b[0m\u001b[0;34m:\u001b[0m\u001b[0;34m\u001b[0m\u001b[0;34m\u001b[0m\u001b[0m\n\u001b[0;32m--> 727\u001b[0;31m             \u001b[0mresult\u001b[0m \u001b[0;34m=\u001b[0m \u001b[0mself\u001b[0m\u001b[0;34m.\u001b[0m\u001b[0mforward\u001b[0m\u001b[0;34m(\u001b[0m\u001b[0;34m*\u001b[0m\u001b[0minput\u001b[0m\u001b[0;34m,\u001b[0m \u001b[0;34m**\u001b[0m\u001b[0mkwargs\u001b[0m\u001b[0;34m)\u001b[0m\u001b[0;34m\u001b[0m\u001b[0;34m\u001b[0m\u001b[0m\n\u001b[0m\u001b[1;32m    728\u001b[0m         for hook in itertools.chain(\n\u001b[1;32m    729\u001b[0m                 \u001b[0m_global_forward_hooks\u001b[0m\u001b[0;34m.\u001b[0m\u001b[0mvalues\u001b[0m\u001b[0;34m(\u001b[0m\u001b[0;34m)\u001b[0m\u001b[0;34m,\u001b[0m\u001b[0;34m\u001b[0m\u001b[0;34m\u001b[0m\u001b[0m\n",
      "\u001b[0;32m~/opt/anaconda3/lib/python3.7/site-packages/torchvision/models/densenet.py\u001b[0m in \u001b[0;36mforward\u001b[0;34m(self, x)\u001b[0m\n\u001b[1;32m    190\u001b[0m \u001b[0;34m\u001b[0m\u001b[0m\n\u001b[1;32m    191\u001b[0m     \u001b[0;32mdef\u001b[0m \u001b[0mforward\u001b[0m\u001b[0;34m(\u001b[0m\u001b[0mself\u001b[0m\u001b[0;34m,\u001b[0m \u001b[0mx\u001b[0m\u001b[0;34m)\u001b[0m\u001b[0;34m:\u001b[0m\u001b[0;34m\u001b[0m\u001b[0;34m\u001b[0m\u001b[0m\n\u001b[0;32m--> 192\u001b[0;31m         \u001b[0mfeatures\u001b[0m \u001b[0;34m=\u001b[0m \u001b[0mself\u001b[0m\u001b[0;34m.\u001b[0m\u001b[0mfeatures\u001b[0m\u001b[0;34m(\u001b[0m\u001b[0mx\u001b[0m\u001b[0;34m)\u001b[0m\u001b[0;34m\u001b[0m\u001b[0;34m\u001b[0m\u001b[0m\n\u001b[0m\u001b[1;32m    193\u001b[0m         \u001b[0mout\u001b[0m \u001b[0;34m=\u001b[0m \u001b[0mF\u001b[0m\u001b[0;34m.\u001b[0m\u001b[0mrelu\u001b[0m\u001b[0;34m(\u001b[0m\u001b[0mfeatures\u001b[0m\u001b[0;34m,\u001b[0m \u001b[0minplace\u001b[0m\u001b[0;34m=\u001b[0m\u001b[0;32mTrue\u001b[0m\u001b[0;34m)\u001b[0m\u001b[0;34m\u001b[0m\u001b[0;34m\u001b[0m\u001b[0m\n\u001b[1;32m    194\u001b[0m         \u001b[0mout\u001b[0m \u001b[0;34m=\u001b[0m \u001b[0mF\u001b[0m\u001b[0;34m.\u001b[0m\u001b[0madaptive_avg_pool2d\u001b[0m\u001b[0;34m(\u001b[0m\u001b[0mout\u001b[0m\u001b[0;34m,\u001b[0m \u001b[0;34m(\u001b[0m\u001b[0;36m1\u001b[0m\u001b[0;34m,\u001b[0m \u001b[0;36m1\u001b[0m\u001b[0;34m)\u001b[0m\u001b[0;34m)\u001b[0m\u001b[0;34m\u001b[0m\u001b[0;34m\u001b[0m\u001b[0m\n",
      "\u001b[0;32m~/opt/anaconda3/lib/python3.7/site-packages/torch/nn/modules/module.py\u001b[0m in \u001b[0;36m_call_impl\u001b[0;34m(self, *input, **kwargs)\u001b[0m\n\u001b[1;32m    725\u001b[0m             \u001b[0mresult\u001b[0m \u001b[0;34m=\u001b[0m \u001b[0mself\u001b[0m\u001b[0;34m.\u001b[0m\u001b[0m_slow_forward\u001b[0m\u001b[0;34m(\u001b[0m\u001b[0;34m*\u001b[0m\u001b[0minput\u001b[0m\u001b[0;34m,\u001b[0m \u001b[0;34m**\u001b[0m\u001b[0mkwargs\u001b[0m\u001b[0;34m)\u001b[0m\u001b[0;34m\u001b[0m\u001b[0;34m\u001b[0m\u001b[0m\n\u001b[1;32m    726\u001b[0m         \u001b[0;32melse\u001b[0m\u001b[0;34m:\u001b[0m\u001b[0;34m\u001b[0m\u001b[0;34m\u001b[0m\u001b[0m\n\u001b[0;32m--> 727\u001b[0;31m             \u001b[0mresult\u001b[0m \u001b[0;34m=\u001b[0m \u001b[0mself\u001b[0m\u001b[0;34m.\u001b[0m\u001b[0mforward\u001b[0m\u001b[0;34m(\u001b[0m\u001b[0;34m*\u001b[0m\u001b[0minput\u001b[0m\u001b[0;34m,\u001b[0m \u001b[0;34m**\u001b[0m\u001b[0mkwargs\u001b[0m\u001b[0;34m)\u001b[0m\u001b[0;34m\u001b[0m\u001b[0;34m\u001b[0m\u001b[0m\n\u001b[0m\u001b[1;32m    728\u001b[0m         for hook in itertools.chain(\n\u001b[1;32m    729\u001b[0m                 \u001b[0m_global_forward_hooks\u001b[0m\u001b[0;34m.\u001b[0m\u001b[0mvalues\u001b[0m\u001b[0;34m(\u001b[0m\u001b[0;34m)\u001b[0m\u001b[0;34m,\u001b[0m\u001b[0;34m\u001b[0m\u001b[0;34m\u001b[0m\u001b[0m\n",
      "\u001b[0;32m~/opt/anaconda3/lib/python3.7/site-packages/torch/nn/modules/container.py\u001b[0m in \u001b[0;36mforward\u001b[0;34m(self, input)\u001b[0m\n\u001b[1;32m    115\u001b[0m     \u001b[0;32mdef\u001b[0m \u001b[0mforward\u001b[0m\u001b[0;34m(\u001b[0m\u001b[0mself\u001b[0m\u001b[0;34m,\u001b[0m \u001b[0minput\u001b[0m\u001b[0;34m)\u001b[0m\u001b[0;34m:\u001b[0m\u001b[0;34m\u001b[0m\u001b[0;34m\u001b[0m\u001b[0m\n\u001b[1;32m    116\u001b[0m         \u001b[0;32mfor\u001b[0m \u001b[0mmodule\u001b[0m \u001b[0;32min\u001b[0m \u001b[0mself\u001b[0m\u001b[0;34m:\u001b[0m\u001b[0;34m\u001b[0m\u001b[0;34m\u001b[0m\u001b[0m\n\u001b[0;32m--> 117\u001b[0;31m             \u001b[0minput\u001b[0m \u001b[0;34m=\u001b[0m \u001b[0mmodule\u001b[0m\u001b[0;34m(\u001b[0m\u001b[0minput\u001b[0m\u001b[0;34m)\u001b[0m\u001b[0;34m\u001b[0m\u001b[0;34m\u001b[0m\u001b[0m\n\u001b[0m\u001b[1;32m    118\u001b[0m         \u001b[0;32mreturn\u001b[0m \u001b[0minput\u001b[0m\u001b[0;34m\u001b[0m\u001b[0;34m\u001b[0m\u001b[0m\n\u001b[1;32m    119\u001b[0m \u001b[0;34m\u001b[0m\u001b[0m\n",
      "\u001b[0;32m~/opt/anaconda3/lib/python3.7/site-packages/torch/nn/modules/module.py\u001b[0m in \u001b[0;36m_call_impl\u001b[0;34m(self, *input, **kwargs)\u001b[0m\n\u001b[1;32m    725\u001b[0m             \u001b[0mresult\u001b[0m \u001b[0;34m=\u001b[0m \u001b[0mself\u001b[0m\u001b[0;34m.\u001b[0m\u001b[0m_slow_forward\u001b[0m\u001b[0;34m(\u001b[0m\u001b[0;34m*\u001b[0m\u001b[0minput\u001b[0m\u001b[0;34m,\u001b[0m \u001b[0;34m**\u001b[0m\u001b[0mkwargs\u001b[0m\u001b[0;34m)\u001b[0m\u001b[0;34m\u001b[0m\u001b[0;34m\u001b[0m\u001b[0m\n\u001b[1;32m    726\u001b[0m         \u001b[0;32melse\u001b[0m\u001b[0;34m:\u001b[0m\u001b[0;34m\u001b[0m\u001b[0;34m\u001b[0m\u001b[0m\n\u001b[0;32m--> 727\u001b[0;31m             \u001b[0mresult\u001b[0m \u001b[0;34m=\u001b[0m \u001b[0mself\u001b[0m\u001b[0;34m.\u001b[0m\u001b[0mforward\u001b[0m\u001b[0;34m(\u001b[0m\u001b[0;34m*\u001b[0m\u001b[0minput\u001b[0m\u001b[0;34m,\u001b[0m \u001b[0;34m**\u001b[0m\u001b[0mkwargs\u001b[0m\u001b[0;34m)\u001b[0m\u001b[0;34m\u001b[0m\u001b[0;34m\u001b[0m\u001b[0m\n\u001b[0m\u001b[1;32m    728\u001b[0m         for hook in itertools.chain(\n\u001b[1;32m    729\u001b[0m                 \u001b[0m_global_forward_hooks\u001b[0m\u001b[0;34m.\u001b[0m\u001b[0mvalues\u001b[0m\u001b[0;34m(\u001b[0m\u001b[0;34m)\u001b[0m\u001b[0;34m,\u001b[0m\u001b[0;34m\u001b[0m\u001b[0;34m\u001b[0m\u001b[0m\n",
      "\u001b[0;32m~/opt/anaconda3/lib/python3.7/site-packages/torchvision/models/densenet.py\u001b[0m in \u001b[0;36mforward\u001b[0;34m(self, init_features)\u001b[0m\n\u001b[1;32m    109\u001b[0m         \u001b[0mfeatures\u001b[0m \u001b[0;34m=\u001b[0m \u001b[0;34m[\u001b[0m\u001b[0minit_features\u001b[0m\u001b[0;34m]\u001b[0m\u001b[0;34m\u001b[0m\u001b[0;34m\u001b[0m\u001b[0m\n\u001b[1;32m    110\u001b[0m         \u001b[0;32mfor\u001b[0m \u001b[0mname\u001b[0m\u001b[0;34m,\u001b[0m \u001b[0mlayer\u001b[0m \u001b[0;32min\u001b[0m \u001b[0mself\u001b[0m\u001b[0;34m.\u001b[0m\u001b[0mitems\u001b[0m\u001b[0;34m(\u001b[0m\u001b[0;34m)\u001b[0m\u001b[0;34m:\u001b[0m\u001b[0;34m\u001b[0m\u001b[0;34m\u001b[0m\u001b[0m\n\u001b[0;32m--> 111\u001b[0;31m             \u001b[0mnew_features\u001b[0m \u001b[0;34m=\u001b[0m \u001b[0mlayer\u001b[0m\u001b[0;34m(\u001b[0m\u001b[0mfeatures\u001b[0m\u001b[0;34m)\u001b[0m\u001b[0;34m\u001b[0m\u001b[0;34m\u001b[0m\u001b[0m\n\u001b[0m\u001b[1;32m    112\u001b[0m             \u001b[0mfeatures\u001b[0m\u001b[0;34m.\u001b[0m\u001b[0mappend\u001b[0m\u001b[0;34m(\u001b[0m\u001b[0mnew_features\u001b[0m\u001b[0;34m)\u001b[0m\u001b[0;34m\u001b[0m\u001b[0;34m\u001b[0m\u001b[0m\n\u001b[1;32m    113\u001b[0m         \u001b[0;32mreturn\u001b[0m \u001b[0mtorch\u001b[0m\u001b[0;34m.\u001b[0m\u001b[0mcat\u001b[0m\u001b[0;34m(\u001b[0m\u001b[0mfeatures\u001b[0m\u001b[0;34m,\u001b[0m \u001b[0;36m1\u001b[0m\u001b[0;34m)\u001b[0m\u001b[0;34m\u001b[0m\u001b[0;34m\u001b[0m\u001b[0m\n",
      "\u001b[0;32m~/opt/anaconda3/lib/python3.7/site-packages/torch/nn/modules/module.py\u001b[0m in \u001b[0;36m_call_impl\u001b[0;34m(self, *input, **kwargs)\u001b[0m\n\u001b[1;32m    725\u001b[0m             \u001b[0mresult\u001b[0m \u001b[0;34m=\u001b[0m \u001b[0mself\u001b[0m\u001b[0;34m.\u001b[0m\u001b[0m_slow_forward\u001b[0m\u001b[0;34m(\u001b[0m\u001b[0;34m*\u001b[0m\u001b[0minput\u001b[0m\u001b[0;34m,\u001b[0m \u001b[0;34m**\u001b[0m\u001b[0mkwargs\u001b[0m\u001b[0;34m)\u001b[0m\u001b[0;34m\u001b[0m\u001b[0;34m\u001b[0m\u001b[0m\n\u001b[1;32m    726\u001b[0m         \u001b[0;32melse\u001b[0m\u001b[0;34m:\u001b[0m\u001b[0;34m\u001b[0m\u001b[0;34m\u001b[0m\u001b[0m\n\u001b[0;32m--> 727\u001b[0;31m             \u001b[0mresult\u001b[0m \u001b[0;34m=\u001b[0m \u001b[0mself\u001b[0m\u001b[0;34m.\u001b[0m\u001b[0mforward\u001b[0m\u001b[0;34m(\u001b[0m\u001b[0;34m*\u001b[0m\u001b[0minput\u001b[0m\u001b[0;34m,\u001b[0m \u001b[0;34m**\u001b[0m\u001b[0mkwargs\u001b[0m\u001b[0;34m)\u001b[0m\u001b[0;34m\u001b[0m\u001b[0;34m\u001b[0m\u001b[0m\n\u001b[0m\u001b[1;32m    728\u001b[0m         for hook in itertools.chain(\n\u001b[1;32m    729\u001b[0m                 \u001b[0m_global_forward_hooks\u001b[0m\u001b[0;34m.\u001b[0m\u001b[0mvalues\u001b[0m\u001b[0;34m(\u001b[0m\u001b[0;34m)\u001b[0m\u001b[0;34m,\u001b[0m\u001b[0;34m\u001b[0m\u001b[0;34m\u001b[0m\u001b[0m\n",
      "\u001b[0;32m~/opt/anaconda3/lib/python3.7/site-packages/torchvision/models/densenet.py\u001b[0m in \u001b[0;36mforward\u001b[0;34m(self, input)\u001b[0m\n\u001b[1;32m     84\u001b[0m             \u001b[0mbottleneck_output\u001b[0m \u001b[0;34m=\u001b[0m \u001b[0mself\u001b[0m\u001b[0;34m.\u001b[0m\u001b[0mbn_function\u001b[0m\u001b[0;34m(\u001b[0m\u001b[0mprev_features\u001b[0m\u001b[0;34m)\u001b[0m\u001b[0;34m\u001b[0m\u001b[0;34m\u001b[0m\u001b[0m\n\u001b[1;32m     85\u001b[0m \u001b[0;34m\u001b[0m\u001b[0m\n\u001b[0;32m---> 86\u001b[0;31m         \u001b[0mnew_features\u001b[0m \u001b[0;34m=\u001b[0m \u001b[0mself\u001b[0m\u001b[0;34m.\u001b[0m\u001b[0mconv2\u001b[0m\u001b[0;34m(\u001b[0m\u001b[0mself\u001b[0m\u001b[0;34m.\u001b[0m\u001b[0mrelu2\u001b[0m\u001b[0;34m(\u001b[0m\u001b[0mself\u001b[0m\u001b[0;34m.\u001b[0m\u001b[0mnorm2\u001b[0m\u001b[0;34m(\u001b[0m\u001b[0mbottleneck_output\u001b[0m\u001b[0;34m)\u001b[0m\u001b[0;34m)\u001b[0m\u001b[0;34m)\u001b[0m\u001b[0;34m\u001b[0m\u001b[0;34m\u001b[0m\u001b[0m\n\u001b[0m\u001b[1;32m     87\u001b[0m         \u001b[0;32mif\u001b[0m \u001b[0mself\u001b[0m\u001b[0;34m.\u001b[0m\u001b[0mdrop_rate\u001b[0m \u001b[0;34m>\u001b[0m \u001b[0;36m0\u001b[0m\u001b[0;34m:\u001b[0m\u001b[0;34m\u001b[0m\u001b[0;34m\u001b[0m\u001b[0m\n\u001b[1;32m     88\u001b[0m             new_features = F.dropout(new_features, p=self.drop_rate,\n",
      "\u001b[0;32m~/opt/anaconda3/lib/python3.7/site-packages/torch/nn/modules/module.py\u001b[0m in \u001b[0;36m_call_impl\u001b[0;34m(self, *input, **kwargs)\u001b[0m\n\u001b[1;32m    725\u001b[0m             \u001b[0mresult\u001b[0m \u001b[0;34m=\u001b[0m \u001b[0mself\u001b[0m\u001b[0;34m.\u001b[0m\u001b[0m_slow_forward\u001b[0m\u001b[0;34m(\u001b[0m\u001b[0;34m*\u001b[0m\u001b[0minput\u001b[0m\u001b[0;34m,\u001b[0m \u001b[0;34m**\u001b[0m\u001b[0mkwargs\u001b[0m\u001b[0;34m)\u001b[0m\u001b[0;34m\u001b[0m\u001b[0;34m\u001b[0m\u001b[0m\n\u001b[1;32m    726\u001b[0m         \u001b[0;32melse\u001b[0m\u001b[0;34m:\u001b[0m\u001b[0;34m\u001b[0m\u001b[0;34m\u001b[0m\u001b[0m\n\u001b[0;32m--> 727\u001b[0;31m             \u001b[0mresult\u001b[0m \u001b[0;34m=\u001b[0m \u001b[0mself\u001b[0m\u001b[0;34m.\u001b[0m\u001b[0mforward\u001b[0m\u001b[0;34m(\u001b[0m\u001b[0;34m*\u001b[0m\u001b[0minput\u001b[0m\u001b[0;34m,\u001b[0m \u001b[0;34m**\u001b[0m\u001b[0mkwargs\u001b[0m\u001b[0;34m)\u001b[0m\u001b[0;34m\u001b[0m\u001b[0;34m\u001b[0m\u001b[0m\n\u001b[0m\u001b[1;32m    728\u001b[0m         for hook in itertools.chain(\n\u001b[1;32m    729\u001b[0m                 \u001b[0m_global_forward_hooks\u001b[0m\u001b[0;34m.\u001b[0m\u001b[0mvalues\u001b[0m\u001b[0;34m(\u001b[0m\u001b[0;34m)\u001b[0m\u001b[0;34m,\u001b[0m\u001b[0;34m\u001b[0m\u001b[0;34m\u001b[0m\u001b[0m\n",
      "\u001b[0;32m~/opt/anaconda3/lib/python3.7/site-packages/torch/nn/modules/conv.py\u001b[0m in \u001b[0;36mforward\u001b[0;34m(self, input)\u001b[0m\n\u001b[1;32m    421\u001b[0m \u001b[0;34m\u001b[0m\u001b[0m\n\u001b[1;32m    422\u001b[0m     \u001b[0;32mdef\u001b[0m \u001b[0mforward\u001b[0m\u001b[0;34m(\u001b[0m\u001b[0mself\u001b[0m\u001b[0;34m,\u001b[0m \u001b[0minput\u001b[0m\u001b[0;34m:\u001b[0m \u001b[0mTensor\u001b[0m\u001b[0;34m)\u001b[0m \u001b[0;34m->\u001b[0m \u001b[0mTensor\u001b[0m\u001b[0;34m:\u001b[0m\u001b[0;34m\u001b[0m\u001b[0;34m\u001b[0m\u001b[0m\n\u001b[0;32m--> 423\u001b[0;31m         \u001b[0;32mreturn\u001b[0m \u001b[0mself\u001b[0m\u001b[0;34m.\u001b[0m\u001b[0m_conv_forward\u001b[0m\u001b[0;34m(\u001b[0m\u001b[0minput\u001b[0m\u001b[0;34m,\u001b[0m \u001b[0mself\u001b[0m\u001b[0;34m.\u001b[0m\u001b[0mweight\u001b[0m\u001b[0;34m)\u001b[0m\u001b[0;34m\u001b[0m\u001b[0;34m\u001b[0m\u001b[0m\n\u001b[0m\u001b[1;32m    424\u001b[0m \u001b[0;34m\u001b[0m\u001b[0m\n\u001b[1;32m    425\u001b[0m \u001b[0;32mclass\u001b[0m \u001b[0mConv3d\u001b[0m\u001b[0;34m(\u001b[0m\u001b[0m_ConvNd\u001b[0m\u001b[0;34m)\u001b[0m\u001b[0;34m:\u001b[0m\u001b[0;34m\u001b[0m\u001b[0;34m\u001b[0m\u001b[0m\n",
      "\u001b[0;32m~/opt/anaconda3/lib/python3.7/site-packages/torch/nn/modules/conv.py\u001b[0m in \u001b[0;36m_conv_forward\u001b[0;34m(self, input, weight)\u001b[0m\n\u001b[1;32m    418\u001b[0m                             _pair(0), self.dilation, self.groups)\n\u001b[1;32m    419\u001b[0m         return F.conv2d(input, weight, self.bias, self.stride,\n\u001b[0;32m--> 420\u001b[0;31m                         self.padding, self.dilation, self.groups)\n\u001b[0m\u001b[1;32m    421\u001b[0m \u001b[0;34m\u001b[0m\u001b[0m\n\u001b[1;32m    422\u001b[0m     \u001b[0;32mdef\u001b[0m \u001b[0mforward\u001b[0m\u001b[0;34m(\u001b[0m\u001b[0mself\u001b[0m\u001b[0;34m,\u001b[0m \u001b[0minput\u001b[0m\u001b[0;34m:\u001b[0m \u001b[0mTensor\u001b[0m\u001b[0;34m)\u001b[0m \u001b[0;34m->\u001b[0m \u001b[0mTensor\u001b[0m\u001b[0;34m:\u001b[0m\u001b[0;34m\u001b[0m\u001b[0;34m\u001b[0m\u001b[0m\n",
      "\u001b[0;31mKeyboardInterrupt\u001b[0m: "
     ]
    }
   ],
   "source": [
    "start_date=datetime.now()\n",
    "config_path = '../config/config_densenet121_TTA.ini'\n",
    "config = ConfigParser()\n",
    "config.read(config_path)\n",
    "l_pictures = []; l_outputs = []; l_labels = []\n",
    "\n",
    "root_dir = config.get('model', 'root_dir')\n",
    "data_dir = data_dir = config.get('data', 'data_dir')\n",
    "model_list = {config.get('model', 'name')} \n",
    "num_classes = config.getint('model', 'num_classes')\n",
    "batch_size = config.getint('model', 'batch_size')\n",
    "shuffle = config.getboolean('data', 'shuffle')\n",
    "t_data_set = config.get('test', 't_data_set')          # 'test' or 'val_test'\n",
    "single_channel = config.getboolean('model', 'single_channel')\n",
    "model_meta_csv = config.get('test', 'model_meta_csv') \n",
    "test_data_csv = f'{root_dir}data/test_data.csv'\n",
    "data_transform = config.get('data', 'transform')\n",
    "\n",
    "torch.manual_seed(config.getint('data', 'seed'))\n",
    "np.random.seed(config.getint('data', 'seed'))\n",
    "\n",
    "dops1 = do.dops(config)\n",
    "\n",
    "pre_model_test = ppm.pt_model(config)\n",
    "model_test, input_size = pre_model_test.initialize()\n",
    "\n",
    "device = torch.device(\"cuda:0\" if torch.cuda.is_available() else \"cpu\")\n",
    "dops1.pick_data_transforms(data_transform, pre_model_test.input_size)\n",
    "#model_test.load_state_dict(torch.load('../models/dir_densenet121/densenet121_11epochs_0.9566.weights', map_location=device))\n",
    "model_path = '../models/dir_densenet121/albumentations1/densenet121_31epochs_0.9538.weights'\n",
    "model_test.load_state_dict(torch.load(model_path, map_location=device))\n",
    "model_test.eval()\n",
    "\n",
    "if device == 'cpu':\n",
    "    model_test.cpu()\n",
    "\n",
    "test_dataset = cds.MyImageDataset(config, dops1, t_data_set = t_data_set)\n",
    "test_dataloader = DataLoader(test_dataset, batch_size=batch_size, shuffle=shuffle)\n",
    "\n",
    "option=2 # [0, 1, 2] = [single_input, multiple_input, multiply_single_input]\n",
    "aug_tst = 0; #n_TTA = 1\n",
    "transform_type = 'albumentations'  #'val4'\n",
    "transform = data_transforms_augmentation[transform_type]\n",
    "# [picture, image, label_idx, str(label)]\n",
    "for pictures, inputs, _, labels in tqdm(test_dataloader):     \n",
    "    inputs = inputs.to(device)              # inputs = torch.Tensor = torch.Size([64, 3, 224, 224])\n",
    "\n",
    "    if option == 0:\n",
    "        outputs = model_test(inputs)        # outputs1 = torch.Tensor = torch.Size([64, 24])\n",
    "        outputs = outputs.to('cpu')         # outputs2 = torch.Tensor = torch.Size([64, 24])\n",
    "        outputs = outputs.detach().numpy()  # outputs3 = numpy.ndarray = (64, 24)\n",
    "\n",
    "        l_pictures.extend(pictures)\n",
    "\n",
    "        l_outputs.extend(outputs)\n",
    "        l_labels.extend(labels)\n",
    "        \n",
    "        if aug_tst == 0:\n",
    "            break\n",
    "        aug_tst += 1\n",
    "    \n",
    "    elif option == '0.in':\n",
    "        outputs = model_test(inputs)        # outputs1 = torch.Tensor = torch.Size([64, 24])\n",
    "        outputs = outputs.to('cpu')         # outputs2 = torch.Tensor = torch.Size([64, 24])\n",
    "        outputs = outputs.detach().numpy()  # outputs3 = numpy.ndarray = (64, 24)\n",
    "\n",
    "        l_pictures.extend(pictures)\n",
    "\n",
    "        l_outputs.extend(outputs)\n",
    "        l_labels.extend(labels)\n",
    "        \n",
    "        if aug_tst == 0:\n",
    "            break\n",
    "        aug_tst += 1\n",
    "        \n",
    "    elif option == 1:\n",
    "        for i in range(n_TTA):\n",
    "            #single_input = inputs[:, i, ...]\n",
    "            single_input = inputs\n",
    "            outputs1 = model_test(single_input)   \n",
    "            outputs2 = outputs1.to('cpu')\n",
    "            outputs3 = outputs2.detach().numpy()\n",
    "\n",
    "            l_pictures.extend(pictures)\n",
    "\n",
    "            l_outputs.extend(outputs)\n",
    "            l_labels.extend(labels)\n",
    "    elif option == 2:\n",
    "        '''\n",
    "        for i in tqdm(range(len(labels))):\n",
    "            np_output_single = np.zeros([1, 24])\n",
    "            img_path = f'../data/test/singles/{pictures[i]}'\n",
    "            image = pil_loader(img_path)\n",
    "            image_arr = np.asarray(image)\n",
    "            for j in range(n_TTA):                \n",
    "                single_input = transform(image=image_arr)\n",
    "                single_input = single_input['image']\n",
    "                \n",
    "                output_single = model_test(single_input.reshape([1, 3, 224, 224]))\n",
    "                output_single = output_single.to('cpu')\n",
    "                output_single = output_single.detach().numpy()\n",
    "                #output_single = softmax(output_single)\n",
    "                np_output_single += output_single\n",
    "                \n",
    "            l_pictures.append(pictures[i])\n",
    "            #l_outputs.extend(np_output_single/n_TTA)\n",
    "            l_outputs.extend(np_output_single/n_TTA)\n",
    "            l_labels.append(labels[i])\n",
    "            \n",
    "        ######################################################\n",
    "        for i in tqdm(range(len(labels))):\n",
    "            np_output_single = np.zeros([1, 24])\n",
    "            img_path = f'../data/test/singles/{pictures[i]}'\n",
    "            image = pil_loader(img_path)\n",
    "            if transform_type == 'albumentations':\n",
    "                image_arr = np.asarray(image)\n",
    "            for j in range(n_TTA):                \n",
    "                if transform_type == 'albumentations':\n",
    "                    single_input = transform(image=image_arr)\n",
    "                    single_input = single_input['image']\n",
    "                else:\n",
    "                    single_input = transform(image)\n",
    "                \n",
    "                output_single = model_test(single_input.reshape([1, 3, 224, 224]))\n",
    "                output_single = output_single.to('cpu')\n",
    "                output_single = output_single.detach().numpy()\n",
    "                #output_single = softmax(output_single)\n",
    "                np_output_single += output_single\n",
    "                \n",
    "            l_pictures.append(pictures[i])\n",
    "            #l_outputs.extend(np_output_single/n_TTA)\n",
    "            l_outputs.extend(np_output_single/n_TTA)\n",
    "            l_labels.append(labels[i])\n",
    "        \n",
    "        ####################################################\n",
    "        \n",
    "\n",
    "        for i in tqdm(range(len(labels))):\n",
    "            #print(f'1: {datetime.now()}')\n",
    "            np_output_single = np.zeros([1, 24])\n",
    "            #img_path = f'{dir_test_data}{pictures[i]}'\n",
    "            img_path = f'../data/test/singles/{pictures[i]}'\n",
    "            image = pil_loader(img_path)\n",
    "            #print(f'2: {datetime.now()}')\n",
    "            if transform_type == 'albumentations':\n",
    "                image_arr = np.asarray(image)\n",
    "            #print(f'3: {datetime.now()}')\n",
    "            l_output = []\n",
    "            for j in range(n_TTA):\n",
    "                if transform_type == 'albumentations':\n",
    "                    #print(f'4: {datetime.now()}')\n",
    "                    single_input = transform(image=image_arr)\n",
    "                    single_input = single_input['image']\n",
    "                    if j == 0:\n",
    "                        # type: <class 'torch.Tensor'> shape: torch.Size([2, 3, 224, 224])\n",
    "                        t_stack = torch.stack([single_input, single_input])\n",
    "                        #print(f't_stack1... type: {type(t_stack)} shape: {t_stack.shape}')\n",
    "                    else:\n",
    "                        # type: <class 'torch.Tensor'> shape: torch.Size([3, 3, 224, 224])\n",
    "                        t_stack = torch.cat([t_stack, single_input.reshape([1, 3, 224, 224])], dim=0)\n",
    "                        #print(f't_stack2... type: {type(t_stack)} shape: {t_stack.shape}')\n",
    "\n",
    "                    t_stack = t_stack.to(device)  \n",
    "                else:\n",
    "                    single_input = transform(image)\n",
    "\n",
    "                #print(f'5: {datetime.now()}')\n",
    "                #output_single = model_test(single_input.reshape([1, 3, 224, 224]))\n",
    "                #output_single = output_single.to('cpu')\n",
    "                #output_single = output_single.detach().numpy()\n",
    "                #output_single = softmax(output_single)\n",
    "                #np_output_single += output_single\n",
    "\n",
    "            t_stack = t_stack[1:, ...]              # torch.Size([32, 3, 224, 224])\n",
    "            outputs1 = model_test(t_stack)          # outputs1 = torch.Tensor = torch.Size([32, 24])\n",
    "            outputs2 = outputs1.to('cpu')           # outputs2 = torch.Tensor = torch.Size([32, 24])\n",
    "            outputs3 = outputs2.detach().numpy()    # outputs3 = numpy.ndarray = (32, 24) \n",
    "            #outputs4 = softmax(outputs3)           # outputs4 = numpy.ndarray = (32, 24)\n",
    "            mean_outputs = np.mean(outputs3, axis=0) # mean_outputs = numpy.ndarray = (24,)\n",
    "\n",
    "            #print(f'6: {datetime.now()}')\n",
    "            l_pictures.append(pictures[i])\n",
    "            #l_outputs.extend(np_output_single/n_TTA)\n",
    "            l_outputs.append(mean_outputs)\n",
    "            l_labels.append(labels[i])\n",
    "        '''\n",
    "        #########################################################\n",
    "        ### ONLY for Albumentations TTA  ## working fine but takes too much time to compute!\n",
    "        for i in tqdm(range(len(labels))):\n",
    "            #print(f'1: {datetime.now()}')\n",
    "            #img_path = f'{dir_test_data}{pictures[i]}'\n",
    "            #print(f'2: {datetime.now()}')\n",
    "\n",
    "            outputs1 = model_test(inputs[i])        # outputs1 = torch.Tensor = torch.Size([32, 24])\n",
    "            outputs2 = outputs1.to('cpu')           # outputs2 = torch.Tensor = torch.Size([32, 24])\n",
    "            outputs3 = outputs2.detach().numpy()    # outputs3 = numpy.ndarray = (32, 24) \n",
    "#             outputs4 = softmax(outputs3)           # outputs4 = numpy.ndarray = (32, 24)\n",
    "#             mean_outputs = np.mean(outputs4, axis=0)    # mean_outputs = numpy.ndarray = (24,)      \n",
    "            outputs4 = [softmax(output) for output in outputs3] # outputs4=list of 32 arrays with the size (24,)\n",
    "            mean_outputs = np.mean(outputs4, axis=0)    # mean_outputs = numpy.ndarray = (24,) \n",
    "            print(f'max_SM: {mean_outputs[np.argmax(mean_outputs)]}')\n",
    "\n",
    "#             mean_outputs = np.mean(outputs3, axis=0)    # mean_outputs = numpy.ndarray = (24,)\n",
    "\n",
    "            #print(f'6: {datetime.now()}')\n",
    "            l_pictures.append(pictures[i])\n",
    "            #l_outputs.extend(np_output_single/n_TTA)\n",
    "            l_outputs.append(mean_outputs)\n",
    "#             l_outputs.append(softmax(mean_outputs))\n",
    "            l_labels.append(labels[i])\n",
    "        \n",
    "            \n",
    "#             if aug_tst == 0:\n",
    "#                 break\n",
    "    \n",
    "        if aug_tst == 0:\n",
    "            break\n",
    "        aug_tst += 1\n",
    "    \n",
    "    # this one crashes the memory.. works ok with 8 batches and 32 TTA images\n",
    "    elif option == 3:\n",
    "        l_extended_labels = []\n",
    "        l_extended_pictures = []\n",
    "        for i in range(len(labels)):\n",
    "            l_extended_labels.extend(extend_labels(labels[i]))\n",
    "            l_extended_pictures.extend(extend_labels(pictures[i]))\n",
    "        \n",
    "        #outputs1 = model_test(inputs)\n",
    "        n_batch = 8 # 64\n",
    "        n_TTA = 32\n",
    "        outputs1 = model_test(inputs.reshape([n_batch*n_TTA, 3, 224, 224]))        \n",
    "        outputs2 = outputs1.to('cpu')\n",
    "        outputs3 = outputs2.detach().numpy()\n",
    "        outputs4 = [softmax(output) for output in outputs3]\n",
    "        \n",
    "        l_pictures.extend(l_extended_pictures)\n",
    "        l_outputs.extend(outputs4)\n",
    "        l_labels.extend(l_extended_labels)\n",
    "    \n",
    "        if aug_tst == 0:\n",
    "            break\n",
    "        aug_tst += 1\n",
    "    \n",
    "\n",
    "        \n",
    "print('done')\n",
    "print(f'total_time: {datetime.now()-start_date}')"
   ]
  },
  {
   "cell_type": "code",
   "execution_count": 15,
   "metadata": {},
   "outputs": [
    {
     "name": "stdout",
     "output_type": "stream",
     "text": [
      "None\n"
     ]
    }
   ],
   "source": [
    "print(mel)"
   ]
  },
  {
   "cell_type": "code",
   "execution_count": null,
   "metadata": {},
   "outputs": [],
   "source": []
  },
  {
   "cell_type": "code",
   "execution_count": 16,
   "metadata": {},
   "outputs": [],
   "source": [
    "l_extended_labels = []\n",
    "for label in labels:\n",
    "    l_extended_labels.extend(extend_labels(label))"
   ]
  },
  {
   "cell_type": "code",
   "execution_count": 17,
   "metadata": {},
   "outputs": [],
   "source": [
    "l_extended_labels = []\n",
    "l_extended_pictures = []\n",
    "for i in range(len(labels)):\n",
    "    l_extended_labels.extend(extend_labels(labels[i]))\n",
    "    l_extended_pictures.extend(extend_labels(pictures[i]))"
   ]
  },
  {
   "cell_type": "code",
   "execution_count": 18,
   "metadata": {},
   "outputs": [
    {
     "data": {
      "text/plain": [
       "2048"
      ]
     },
     "execution_count": 18,
     "metadata": {},
     "output_type": "execute_result"
    }
   ],
   "source": [
    "len(l_extended_pictures)"
   ]
  },
  {
   "cell_type": "code",
   "execution_count": 19,
   "metadata": {},
   "outputs": [
    {
     "data": {
      "text/plain": [
       "numpy.ndarray"
      ]
     },
     "execution_count": 19,
     "metadata": {},
     "output_type": "execute_result"
    }
   ],
   "source": [
    "type(np.mean(outputs3, axis=0))"
   ]
  },
  {
   "cell_type": "code",
   "execution_count": 20,
   "metadata": {},
   "outputs": [
    {
     "ename": "NameError",
     "evalue": "name 't_stack' is not defined",
     "output_type": "error",
     "traceback": [
      "\u001b[0;31m---------------------------------------------------------------------------\u001b[0m",
      "\u001b[0;31mNameError\u001b[0m                                 Traceback (most recent call last)",
      "\u001b[0;32m<ipython-input-20-bd80a5010010>\u001b[0m in \u001b[0;36m<module>\u001b[0;34m\u001b[0m\n\u001b[0;32m----> 1\u001b[0;31m \u001b[0mt_stack\u001b[0m\u001b[0;34m.\u001b[0m\u001b[0mshape\u001b[0m\u001b[0;34m\u001b[0m\u001b[0;34m\u001b[0m\u001b[0m\n\u001b[0m",
      "\u001b[0;31mNameError\u001b[0m: name 't_stack' is not defined"
     ]
    }
   ],
   "source": [
    "# t_stack.shape"
   ]
  },
  {
   "cell_type": "code",
   "execution_count": 21,
   "metadata": {},
   "outputs": [
    {
     "name": "stdout",
     "output_type": "stream",
     "text": [
      "l_pictures: ['MA1867826.096-K_16_1_.png', 'MA160865191500027.022-K_22_0_.png', 'MA160873676300031.017-K_22_1_.png', 'MA160873676300027.006-K_19_0_.png', 'MA160873676300043.124-K_18_1_.png', 'MA160873676300041.009-K_2_0_.png', 'MA160865191500021.019-K_9_1_.png', 'MA1867835.028-K_4_1_.png', 'MA160873676300016.101-K_20_1_.png', 'MA160865191500002.004-K_9_1_.png', 'MA160865191500015.006-K_9_1_.png', 'MA160873676300039.018-K_1_1_.png', 'MA1867833.023-K_21_0_.png', 'MA160873676300027.017-K_21_1_.png', 'MA160873676300028.007-K_11_1_.png', 'MA641141867832.070-K_7_0_.png', 'MA160865191500046.018-K_20_1_.png', 'MA160873676300003.074-K_5_1_.png', 'MA160814197500038.056-K_10_0_.png', 'MA1867835.042-K_21_1_.png', 'MA160873676300039.003-K_10_1_.png', 'MA160814197500062.003-K_1_0_.png', 'MA160814197500059.065-K_4_0_.png', 'MA160873676300019.015-K_11_0_.png', 'MA160873676300003.014-K_2_1_.png', 'MA160873676300003.004-K_10_0_.png', 'MA160814197500043.008-K_10_0_.png', 'MA160814197500062.003-K_14_1_.png', 'MA160873676300016.038-K_22_1_.png', 'MA1867826.007-K_19_0_.png', 'MA1867833.008-K_21_0_.png', 'MA160873676300031.010-K_8_1_.png', 'MA160814197500026.041-K_10_0_.png', 'MA1867833.245-K_8_1_.png', 'MA160814197500043.008-K_13_1_.png', 'MA160873676300027.006-K_18_1_.png', 'MA160873676300028.011-K_5_1_.png', 'MA160814197500059.032-K_2_1_.png', 'MA1867835.104-K_1_1_.png', 'MA160865191500027.009-K_4_0_.png', 'MA160865191500015.016-K_12_0_.png', 'MA1867829.082-K_6_1_.png', 'MA160814197500040.020-K_18_0_.png', 'MA160814197500038.069-K_8_1_.png', 'MA160865191500037.004-K_19_0_.png', 'MA160865191500021.004-K_x_0_.png', 'MA1867826.014-K_x_0_.png', 'MA160814197500041.062-K_4_0_.png', 'MA160814197500042.017-K_8_1_.png', 'MA160873676300003.074-K_18_1_.png', 'MA160865191500046.017-K_18_0_.png', 'MA160814197500043.086-K_x_1_.png', 'MA160865191500015.016-K_x_1_.png', 'MA160814197500004.081-K_16_0_.png', 'MA1867833.026-K_y_0_.png', 'MA1867829.038-K_13_0_.png', 'MA160814197500026.041-K_17_1_.png', 'MA1867826.014-K_18_0_.png', 'MA1867826.099-K_19_1_.png', 'MA160865191500002.033-K_19_1_.png', 'MA160814197500059.034-K_13_0_.png', 'MA160873676300043.020-K_14_1_.png', 'MA1867826.026-K_3_1_.png', 'MA1867826.006-K_4_1_.png'], l_outputs: [array([3.5324312e-05, 6.0462474e-07, 3.2888158e-04, 2.2049683e-06,\n",
      "       1.1205888e-05, 3.3411952e-06, 4.4207023e-05, 7.1241702e-05,\n",
      "       7.2318406e-05, 1.0095865e-05, 2.3107229e-04, 2.0559990e-05,\n",
      "       3.0163804e-03, 5.6262263e-05, 1.4467615e-05, 9.9072838e-01,\n",
      "       2.6835633e-06, 1.5642020e-03, 3.0676284e-04, 9.9338213e-05,\n",
      "       6.6383468e-04, 7.5613457e-04, 1.8034215e-03, 1.5703084e-04],\n",
      "      dtype=float32), array([1.2670270e-04, 2.5248967e-04, 2.4213789e-04, 4.4371519e-04,\n",
      "       1.3202455e-04, 2.2828230e-04, 4.8788716e-04, 2.7513102e-05,\n",
      "       4.9940177e-04, 1.5106768e-04, 7.7717363e-05, 1.8130631e-04,\n",
      "       2.1694809e-04, 6.1028064e-03, 4.3828557e-03, 4.3526888e-04,\n",
      "       1.3275477e-03, 1.1627050e-04, 4.0953279e-02, 4.4687656e-03,\n",
      "       3.4685001e-02, 9.0387809e-01, 3.2854051e-04, 2.5438593e-04],\n",
      "      dtype=float32), array([9.8804067e-06, 3.4872196e-06, 7.5793514e-07, 9.8104259e-08,\n",
      "       4.2403047e-07, 2.6433995e-07, 1.7318976e-06, 2.5765228e-08,\n",
      "       3.6057504e-06, 8.0585851e-06, 5.6678317e-07, 1.4196896e-05,\n",
      "       2.6292573e-08, 7.0938008e-06, 6.1708101e-07, 1.7684471e-06,\n",
      "       4.1296196e-05, 5.7820290e-07, 5.4966399e-06, 8.5464608e-06,\n",
      "       4.4505799e-05, 9.9974024e-01, 1.3203551e-06, 1.0561438e-04],\n",
      "      dtype=float32), array([4.2241703e-05, 2.2520554e-07, 6.2834051e-06, 5.0963658e-06,\n",
      "       5.6826084e-06, 1.4855118e-06, 1.3884895e-05, 2.7483215e-06,\n",
      "       7.2485062e-07, 2.1199157e-05, 1.7133552e-04, 1.1410010e-05,\n",
      "       2.4064529e-05, 2.1570240e-05, 1.4158420e-04, 2.7140239e-02,\n",
      "       1.1405145e-05, 1.9221359e-04, 9.7074294e-01, 5.9850904e-04,\n",
      "       1.3473070e-04, 5.6569226e-04, 1.3857658e-04, 6.0349380e-06],\n",
      "      dtype=float32), array([9.9608455e-09, 2.1235327e-09, 2.3835643e-08, 1.1118382e-09,\n",
      "       8.4846628e-09, 2.1998375e-08, 1.1701765e-07, 5.7507807e-09,\n",
      "       1.8944635e-09, 3.3250828e-07, 2.3441899e-07, 3.1715825e-08,\n",
      "       6.9918342e-09, 1.8452067e-08, 1.5264770e-07, 6.3178982e-07,\n",
      "       6.8979240e-08, 9.9999803e-01, 3.6283518e-07, 3.7875093e-08,\n",
      "       3.8417529e-08, 1.3391588e-08, 6.3344263e-09, 1.7496436e-07],\n",
      "      dtype=float32), array([1.8173349e-05, 9.9993986e-01, 6.6231621e-07, 8.5083111e-06,\n",
      "       1.0668292e-06, 9.0841768e-06, 2.4938720e-06, 4.1554845e-06,\n",
      "       4.0009986e-06, 9.5758628e-07, 4.4709995e-07, 2.3053217e-07,\n",
      "       6.7580204e-06, 8.1431102e-07, 1.2497318e-08, 1.7315525e-08,\n",
      "       1.6298346e-06, 4.4829317e-08, 2.7974698e-09, 5.3288214e-09,\n",
      "       5.0207456e-09, 1.2305992e-08, 9.4419050e-07, 1.8985927e-08],\n",
      "      dtype=float32), array([3.1529763e-07, 3.5216839e-05, 3.6567232e-07, 1.0270088e-05,\n",
      "       2.1470318e-07, 8.2893692e-08, 8.7072033e-07, 6.5384819e-03,\n",
      "       9.9264264e-01, 1.3812423e-04, 5.1667932e-05, 2.6687114e-06,\n",
      "       5.2968954e-04, 2.5617534e-05, 3.3624079e-07, 8.1830322e-06,\n",
      "       1.4320844e-06, 2.1868796e-06, 1.8247187e-08, 7.6020177e-07,\n",
      "       1.3904396e-07, 8.7028596e-08, 1.0322329e-05, 4.8362955e-07],\n",
      "      dtype=float32), array([4.9842928e-08, 5.9739045e-09, 9.6461261e-10, 9.9999970e-01,\n",
      "       4.9706563e-07, 1.6189902e-09, 1.2153463e-09, 1.1200578e-09,\n",
      "       1.2489537e-09, 2.4116617e-10, 3.8256913e-09, 8.2150491e-09,\n",
      "       2.8496987e-09, 7.3162976e-10, 1.5410881e-10, 2.1433279e-11,\n",
      "       1.6196630e-10, 2.1150828e-11, 6.2783417e-10, 1.7244005e-10,\n",
      "       2.5513121e-11, 7.4603613e-12, 5.5303064e-09, 2.0971133e-10],\n",
      "      dtype=float32), array([1.6161589e-06, 2.6995158e-07, 1.6560417e-08, 1.3878753e-06,\n",
      "       8.5492871e-07, 1.9051775e-07, 3.7422422e-05, 6.0742752e-07,\n",
      "       5.7610091e-06, 7.1176231e-07, 1.6387449e-06, 3.7294575e-07,\n",
      "       5.4354331e-07, 3.4915789e-05, 1.1404192e-06, 8.1319467e-06,\n",
      "       2.4343460e-06, 1.7121787e-06, 1.9182746e-06, 9.9988914e-01,\n",
      "       4.9469139e-07, 1.9567440e-06, 5.7755767e-07, 6.2295453e-06],\n",
      "      dtype=float32), array([1.6205297e-05, 6.0464539e-05, 1.5134251e-05, 6.5029488e-04,\n",
      "       1.6920558e-04, 9.3734590e-05, 9.0771460e-04, 2.6879628e-04,\n",
      "       9.8725849e-01, 2.5347911e-03, 9.2575057e-05, 4.5600356e-04,\n",
      "       9.3812887e-05, 7.5110831e-05, 5.9073358e-05, 2.0359458e-04,\n",
      "       1.1033891e-03, 4.0113933e-05, 1.5330696e-05, 1.5062997e-03,\n",
      "       1.0053087e-04, 5.9626746e-04, 3.8720991e-05, 3.6443574e-03],\n",
      "      dtype=float32), array([1.9819484e-07, 2.9084737e-05, 3.4930315e-07, 1.0196853e-05,\n",
      "       4.1034068e-06, 6.1649444e-06, 1.3892632e-07, 9.9636003e-05,\n",
      "       9.9938351e-01, 3.1985616e-04, 2.3660298e-06, 6.8016388e-06,\n",
      "       9.3353719e-07, 9.6583419e-05, 2.7394708e-07, 7.1557761e-06,\n",
      "       2.7273456e-05, 5.1106198e-08, 1.4537981e-07, 6.4102034e-07,\n",
      "       1.4599177e-06, 2.8679174e-06, 2.2718847e-07, 8.4834980e-08],\n",
      "      dtype=float32), array([9.99996543e-01, 3.70718169e-07, 3.60993901e-08, 8.35288674e-08,\n",
      "       2.46347611e-07, 9.52718651e-08, 1.35557855e-07, 7.40826636e-08,\n",
      "       9.49919521e-09, 9.20783023e-08, 2.47247129e-07, 1.01523405e-07,\n",
      "       2.86968429e-07, 8.70869542e-07, 1.42354196e-07, 2.08977909e-07,\n",
      "       5.92593317e-08, 2.73905307e-08, 2.15524771e-08, 3.85438614e-09,\n",
      "       3.67855879e-09, 2.12958029e-09, 3.69976902e-07, 2.28034969e-09],\n",
      "      dtype=float32), array([3.2609867e-05, 3.0455747e-06, 1.8706021e-05, 6.3768498e-06,\n",
      "       4.2927972e-05, 2.9645050e-06, 5.8782771e-06, 1.4943582e-06,\n",
      "       3.9077013e-06, 8.1914141e-06, 1.5807962e-04, 2.6512356e-05,\n",
      "       1.4639058e-05, 1.1385046e-04, 2.5794262e-04, 1.1820661e-05,\n",
      "       3.4882749e-05, 4.6767871e-04, 1.0969880e-03, 6.2716936e-05,\n",
      "       9.9751955e-01, 7.5075128e-05, 1.2062557e-05, 2.2195591e-05],\n",
      "      dtype=float32), array([7.1275594e-05, 1.3100824e-05, 2.8094125e-06, 3.6968588e-05,\n",
      "       5.2956988e-05, 1.2438427e-05, 8.3194545e-06, 3.2503769e-05,\n",
      "       5.0998337e-06, 4.1866384e-04, 1.1363618e-04, 2.7398800e-04,\n",
      "       3.5589605e-05, 6.9016713e-04, 5.4200500e-04, 7.8428151e-05,\n",
      "       5.7441244e-05, 1.7479924e-04, 1.4973443e-03, 4.5620607e-05,\n",
      "       9.9532610e-01, 4.1609508e-04, 6.2304978e-05, 3.2288193e-05],\n",
      "      dtype=float32), array([2.6353646e-06, 2.4786735e-07, 7.4826039e-07, 5.9698878e-06,\n",
      "       3.1685349e-07, 2.6388994e-08, 3.6264228e-07, 9.3169113e-08,\n",
      "       3.4853356e-06, 1.0960780e-06, 9.9993277e-01, 1.9320079e-05,\n",
      "       1.1996987e-06, 5.1016872e-07, 1.9974207e-06, 2.1073707e-07,\n",
      "       1.7246146e-05, 9.3151448e-07, 5.6791328e-07, 6.2592915e-07,\n",
      "       3.8643307e-06, 5.5008277e-06, 2.5304431e-07, 3.7262676e-08],\n",
      "      dtype=float32), array([5.7718319e-07, 5.7261844e-09, 1.4634989e-09, 2.5844916e-08,\n",
      "       6.4156694e-07, 4.8186322e-09, 9.9999660e-01, 2.0706979e-07,\n",
      "       7.4914816e-08, 8.7364299e-07, 1.8569722e-08, 1.6451420e-07,\n",
      "       3.3464218e-07, 2.2259261e-08, 3.3978928e-08, 2.6909087e-08,\n",
      "       1.5441989e-08, 1.0293401e-07, 1.5119932e-09, 2.5318548e-07,\n",
      "       5.6249144e-10, 7.3316757e-09, 3.7324078e-08, 2.7713947e-08],\n",
      "      dtype=float32), array([1.4172592e-08, 3.7054632e-10, 5.6542299e-10, 1.2251404e-06,\n",
      "       4.6894460e-08, 2.4962181e-09, 2.1698585e-07, 1.0264969e-09,\n",
      "       9.5871409e-09, 5.0146542e-07, 1.6567667e-07, 7.3967087e-08,\n",
      "       1.6125692e-07, 9.1941388e-08, 2.1033129e-06, 2.7849217e-07,\n",
      "       7.4802493e-09, 6.8279968e-09, 2.1402593e-05, 9.9997312e-01,\n",
      "       2.2261078e-08, 2.7492590e-07, 5.7406037e-08, 3.6527968e-08],\n",
      "      dtype=float32), array([8.9998437e-08, 2.0745686e-07, 1.2099227e-06, 8.2391189e-06,\n",
      "       9.9997503e-01, 3.6228784e-09, 4.6343953e-06, 3.4638720e-07,\n",
      "       1.7944285e-06, 9.8488442e-08, 3.3824026e-07, 3.8327025e-06,\n",
      "       5.8271968e-07, 7.3710360e-08, 4.7755918e-07, 1.4272537e-08,\n",
      "       1.0199616e-06, 9.7530847e-07, 4.6523045e-08, 9.4345182e-08,\n",
      "       2.7156370e-08, 5.3936486e-08, 9.1775320e-07, 3.5534885e-08],\n",
      "      dtype=float32), array([6.4264881e-08, 5.0364253e-07, 2.5779284e-08, 2.6780506e-07,\n",
      "       6.5536796e-08, 2.9858717e-07, 9.0878319e-07, 8.9335322e-07,\n",
      "       3.8901668e-05, 9.9995029e-01, 1.0148356e-07, 1.8828500e-07,\n",
      "       1.9198640e-06, 6.8828740e-07, 5.8053764e-08, 2.0278917e-06,\n",
      "       7.3571613e-08, 2.1285828e-06, 2.2250877e-08, 4.9828219e-07,\n",
      "       2.6375119e-08, 4.8828571e-08, 8.6139003e-08, 1.3466897e-08],\n",
      "      dtype=float32), array([2.8130728e-07, 5.8071169e-08, 8.0111732e-08, 2.2239635e-07,\n",
      "       2.9131004e-07, 2.1536810e-07, 1.3733153e-07, 2.6196864e-07,\n",
      "       6.3414241e-08, 1.5109597e-06, 3.3862368e-06, 5.3488820e-06,\n",
      "       2.5117054e-06, 2.7089522e-05, 4.6575769e-06, 1.3968888e-06,\n",
      "       1.6385251e-06, 1.3350290e-06, 5.2135758e-05, 1.5543596e-06,\n",
      "       9.9985969e-01, 2.8956509e-05, 1.0774365e-06, 6.0221682e-06],\n",
      "      dtype=float32), array([4.90464949e-08, 1.54506310e-07, 2.65132236e-08, 2.60730744e-08,\n",
      "       3.76410618e-08, 8.32988178e-07, 1.61410668e-07, 4.40461662e-07,\n",
      "       5.20977835e-07, 9.99996483e-01, 9.79952208e-09, 4.27494626e-08,\n",
      "       9.34837701e-08, 1.29650335e-08, 1.93006038e-08, 1.01732792e-06,\n",
      "       9.91937821e-09, 1.34237041e-07, 4.28088995e-08, 1.21977983e-08,\n",
      "       1.82752142e-08, 2.75108718e-08, 3.45639997e-08, 3.14534265e-09],\n",
      "      dtype=float32), array([9.9983597e-01, 1.1858112e-05, 2.5712770e-05, 1.6845155e-05,\n",
      "       2.4346074e-05, 1.0972500e-05, 3.3915640e-06, 2.9178997e-07,\n",
      "       4.7568932e-08, 1.2511599e-06, 3.3663582e-06, 8.8218576e-07,\n",
      "       1.0778366e-05, 1.4580428e-06, 1.6607846e-05, 3.3713256e-06,\n",
      "       2.0595112e-06, 1.4259062e-06, 2.9099240e-06, 1.2043819e-07,\n",
      "       2.0719753e-07, 8.7141494e-08, 2.5960360e-05, 2.3291501e-07],\n",
      "      dtype=float32), array([1.5665503e-04, 2.0681025e-02, 4.3121990e-04, 9.2557424e-01,\n",
      "       1.4450982e-02, 3.5089170e-04, 1.1812306e-04, 6.7861853e-03,\n",
      "       1.4251021e-02, 6.7533756e-04, 2.9606041e-03, 1.8689649e-03,\n",
      "       1.1053478e-03, 7.2819658e-04, 2.0418707e-03, 7.0953488e-06,\n",
      "       4.5176261e-04, 1.6259303e-04, 3.8723028e-05, 2.0054435e-05,\n",
      "       1.9375717e-05, 2.3403014e-05, 6.9442810e-03, 1.5211159e-04],\n",
      "      dtype=float32), array([3.5524133e-07, 1.5793451e-06, 1.1647381e-06, 2.7465445e-05,\n",
      "       7.8158155e-06, 3.2278262e-08, 1.9961142e-07, 1.0207038e-06,\n",
      "       5.7130394e-05, 1.6432921e-06, 9.9985230e-01, 2.4443005e-05,\n",
      "       5.5229191e-07, 1.0777460e-06, 2.5983722e-06, 8.5196189e-07,\n",
      "       7.9337296e-06, 5.1378020e-06, 5.1646975e-07, 6.0972917e-07,\n",
      "       2.3650571e-06, 1.9973700e-06, 1.0265110e-06, 1.5774947e-07],\n",
      "      dtype=float32), array([6.92719041e-05, 9.98735785e-01, 5.27769334e-05, 1.31332068e-04,\n",
      "       1.89553946e-04, 3.15291873e-05, 7.03675641e-06, 1.85558703e-04,\n",
      "       3.87992972e-04, 1.66499685e-05, 1.82172116e-05, 1.14741556e-06,\n",
      "       5.79805273e-05, 1.25310851e-06, 1.64038511e-07, 3.32293467e-07,\n",
      "       1.34183847e-06, 4.72163464e-08, 4.96455243e-07, 8.26999980e-08,\n",
      "       1.33614449e-07, 3.96228387e-07, 1.10553636e-04, 2.91538299e-07],\n",
      "      dtype=float32), array([7.9364977e-09, 7.9080866e-09, 1.0321874e-09, 4.7021897e-09,\n",
      "       1.3919529e-09, 1.2358608e-08, 2.0469470e-06, 4.9008730e-07,\n",
      "       4.0948441e-07, 9.9999350e-01, 5.0120306e-08, 4.5108157e-09,\n",
      "       2.8594538e-06, 5.1123283e-09, 1.8147182e-08, 4.2394527e-07,\n",
      "       4.1813328e-10, 3.4067220e-08, 2.5568815e-08, 5.0834785e-08,\n",
      "       7.0828952e-09, 1.0894191e-08, 1.8167208e-07, 2.0947508e-09],\n",
      "      dtype=float32), array([4.57873853e-07, 9.41941138e-08, 7.37133865e-09, 3.14093072e-08,\n",
      "       6.20275165e-09, 3.96324467e-08, 5.53958301e-08, 6.40434692e-08,\n",
      "       1.88016770e-07, 9.99992609e-01, 3.46844018e-07, 1.69570924e-07,\n",
      "       6.76220111e-07, 1.97184207e-07, 3.96600797e-07, 3.22683445e-06,\n",
      "       4.76976147e-08, 1.03821344e-06, 1.13323914e-07, 3.52661601e-07,\n",
      "       3.88450907e-08, 2.82463350e-08, 4.68932093e-08, 3.73296594e-09],\n",
      "      dtype=float32), array([9.8718065e-06, 2.2876782e-05, 9.5745290e-06, 1.0202098e-05,\n",
      "       5.8747760e-06, 2.8461393e-06, 7.5536074e-05, 3.4628640e-05,\n",
      "       9.0643793e-04, 7.4680982e-04, 9.8613580e-04, 1.1963582e-04,\n",
      "       6.1262253e-05, 9.7288334e-01, 3.3660317e-04, 2.5912383e-05,\n",
      "       1.2098252e-03, 2.2266062e-02, 1.5036306e-05, 1.4568424e-05,\n",
      "       1.7111810e-04, 4.5546654e-05, 9.1271650e-06, 3.1302818e-05],\n",
      "      dtype=float32), array([5.00795868e-05, 1.33093645e-05, 1.59543488e-04, 8.18874832e-06,\n",
      "       3.93289929e-06, 6.94965565e-05, 2.88221891e-05, 2.41252565e-06,\n",
      "       3.43930296e-05, 4.44572725e-05, 2.47446969e-05, 1.32334881e-05,\n",
      "       2.35270018e-05, 9.47833396e-05, 6.29102942e-05, 1.97455651e-04,\n",
      "       1.26993822e-04, 2.02074880e-05, 1.61312113e-03, 3.84953659e-04,\n",
      "       1.39168873e-02, 9.82457697e-01, 3.08454328e-05, 6.18001563e-04],\n",
      "      dtype=float32), array([6.6050759e-04, 8.0156838e-07, 1.0895030e-04, 1.9516412e-04,\n",
      "       2.2832479e-05, 1.0939228e-05, 2.3135384e-05, 2.0759430e-06,\n",
      "       3.6575052e-06, 2.9937812e-06, 2.8394570e-04, 9.8779847e-06,\n",
      "       6.0247717e-06, 1.9880003e-04, 6.2906242e-05, 1.2887309e-04,\n",
      "       1.0016413e-04, 9.1231945e-05, 9.9481821e-01, 2.0045554e-03,\n",
      "       6.6375948e-04, 4.8156283e-04, 3.2406086e-05, 8.6502201e-05],\n",
      "      dtype=float32), array([1.79191022e-06, 7.70360714e-07, 3.87955606e-06, 3.81571917e-05,\n",
      "       1.46524762e-04, 1.40590498e-06, 2.82039809e-06, 5.17412309e-06,\n",
      "       4.19733851e-06, 1.12391126e-05, 1.27835126e-04, 4.03103586e-05,\n",
      "       3.19042883e-05, 3.43156426e-04, 2.30172882e-03, 7.10466247e-06,\n",
      "       4.89450576e-05, 3.15728365e-04, 1.04977895e-04, 1.92676343e-05,\n",
      "       9.96282041e-01, 9.89225882e-05, 1.52897919e-05, 4.68768121e-05],\n",
      "      dtype=float32), array([8.7725277e-07, 4.1305598e-06, 5.8941087e-06, 8.6491821e-07,\n",
      "       1.1903633e-05, 1.8139730e-05, 5.6236508e-06, 9.9749273e-01,\n",
      "       1.0549867e-03, 3.9073242e-05, 7.6079590e-07, 1.7948460e-06,\n",
      "       1.7996834e-05, 9.3633891e-04, 5.4350727e-07, 3.6859128e-04,\n",
      "       2.9788953e-06, 1.0324867e-05, 5.6845113e-07, 6.5657923e-07,\n",
      "       1.9940169e-06, 1.2756678e-06, 7.3583828e-06, 1.4606723e-05],\n",
      "      dtype=float32), array([4.6342559e-04, 2.2376055e-04, 4.6482943e-05, 1.3633280e-04,\n",
      "       1.0404881e-05, 7.6418644e-04, 9.1679038e-05, 1.2350084e-03,\n",
      "       9.3535149e-05, 9.9533165e-01, 1.7344153e-05, 4.6654914e-05,\n",
      "       7.2743867e-05, 1.8099738e-05, 1.2749563e-04, 3.5427121e-04,\n",
      "       5.1557345e-07, 2.2065788e-05, 1.0989386e-05, 4.9618302e-06,\n",
      "       3.0638612e-06, 1.3497689e-05, 9.1076893e-04, 1.0190695e-06],\n",
      "      dtype=float32), array([1.02984204e-05, 2.56330310e-03, 1.00525995e-05, 4.95058084e-05,\n",
      "       1.52952038e-03, 1.30835630e-04, 2.08560918e-02, 9.08887923e-01,\n",
      "       3.47963371e-03, 3.12555656e-02, 3.38421305e-05, 5.86073693e-05,\n",
      "       1.95682235e-02, 8.40627588e-03, 2.57832107e-05, 7.84126823e-05,\n",
      "       2.16630078e-03, 1.57468327e-04, 7.42256088e-06, 3.72263494e-05,\n",
      "       1.69081559e-05, 4.51048327e-05, 6.73176110e-05, 5.58481610e-04],\n",
      "      dtype=float32), array([4.2456127e-06, 3.8161161e-05, 2.8934758e-06, 3.9689598e-06,\n",
      "       7.5845555e-06, 7.7343939e-06, 7.9730889e-05, 1.7800850e-03,\n",
      "       2.5509819e-03, 7.0827217e-03, 1.5168341e-05, 1.6701555e-05,\n",
      "       9.8475718e-01, 1.1783996e-04, 2.9715064e-05, 6.8705995e-04,\n",
      "       1.6502754e-04, 1.4609075e-05, 3.8947278e-06, 1.1593729e-05,\n",
      "       9.4853727e-05, 1.3853799e-03, 3.5155026e-04, 7.9143915e-04],\n",
      "      dtype=float32), array([6.63246027e-08, 3.72851652e-08, 6.04398025e-08, 5.10374765e-09,\n",
      "       1.87122211e-07, 2.31531146e-07, 1.78742016e-06, 1.58733300e-07,\n",
      "       8.31613178e-09, 1.09599364e-06, 2.11512898e-07, 1.64583938e-08,\n",
      "       2.29744114e-06, 1.23088248e-05, 3.01846285e-07, 4.80855874e-07,\n",
      "       3.04418961e-07, 9.99971747e-01, 2.92015920e-06, 5.61411935e-06,\n",
      "       1.09040165e-07, 1.24372272e-08, 3.35197790e-08, 1.44706263e-07],\n",
      "      dtype=float32), array([1.45725403e-06, 4.64548111e-06, 1.05993831e-05, 6.52402377e-06,\n",
      "       9.99848604e-01, 3.08476658e-08, 2.45319029e-06, 4.86264526e-06,\n",
      "       2.61373407e-05, 1.70548887e-07, 1.01688656e-07, 1.97005716e-06,\n",
      "       3.01567961e-05, 1.18681626e-07, 2.08381171e-05, 1.22426613e-07,\n",
      "       1.54380973e-06, 2.43650975e-05, 6.47651461e-08, 3.33867369e-08,\n",
      "       4.63255994e-08, 1.55222821e-07, 1.47599367e-05, 2.51973375e-07],\n",
      "      dtype=float32), array([5.3673182e-05, 9.9651295e-01, 9.9605159e-06, 8.0499467e-06,\n",
      "       2.5339014e-05, 1.2860269e-05, 8.0125574e-06, 7.4388483e-04,\n",
      "       3.8906292e-04, 6.9585774e-05, 6.0837890e-04, 1.5051455e-05,\n",
      "       4.3731666e-04, 1.7677628e-05, 5.4046177e-07, 8.4729476e-07,\n",
      "       1.0321557e-03, 2.1143424e-05, 1.3149364e-07, 3.8051246e-07,\n",
      "       5.7168234e-07, 5.6619609e-07, 3.1068681e-05, 8.4999556e-07],\n",
      "      dtype=float32), array([9.9999398e-01, 1.8821468e-06, 2.3185547e-07, 6.8660462e-08,\n",
      "       6.3985379e-07, 7.7327462e-07, 8.2352875e-07, 8.6884675e-08,\n",
      "       8.0204741e-09, 1.1426406e-07, 9.9470277e-08, 4.2685706e-08,\n",
      "       1.5387558e-07, 2.0711783e-08, 9.5180063e-08, 5.8642564e-07,\n",
      "       5.9432057e-08, 9.1059089e-09, 2.2601745e-09, 1.6220910e-09,\n",
      "       8.1375506e-10, 2.7127796e-09, 3.4669662e-07, 2.8015845e-09],\n",
      "      dtype=float32), array([4.7979830e-07, 2.6489192e-07, 2.9678350e-07, 9.9971867e-01,\n",
      "       1.8433158e-04, 5.9424394e-07, 5.9777409e-07, 2.2199762e-07,\n",
      "       5.2741775e-06, 1.3215585e-05, 1.2553047e-05, 3.9923740e-05,\n",
      "       1.1925218e-06, 5.7485800e-06, 3.0695967e-06, 2.1169430e-07,\n",
      "       9.9082865e-07, 6.9770886e-07, 7.5657927e-06, 7.2261406e-07,\n",
      "       9.7103919e-07, 6.4539790e-07, 8.5813144e-07, 9.8447356e-07],\n",
      "      dtype=float32), array([1.1913108e-07, 1.2920184e-07, 1.0390753e-07, 2.0517944e-06,\n",
      "       1.1035766e-04, 2.5595949e-07, 2.0962077e-06, 3.8850970e-07,\n",
      "       5.6374006e-06, 3.7481564e-07, 1.4362662e-04, 9.9971616e-01,\n",
      "       4.2083208e-08, 5.4319861e-07, 7.5933931e-06, 3.3735009e-07,\n",
      "       3.7811278e-06, 4.3715795e-06, 9.0728030e-08, 2.7064269e-07,\n",
      "       7.1681075e-07, 5.9531101e-07, 3.7403996e-07, 6.8754481e-08],\n",
      "      dtype=float32), array([4.45349059e-07, 5.43824763e-06, 5.89278397e-06, 1.26758073e-06,\n",
      "       1.32183368e-06, 9.99982536e-01, 1.23904243e-07, 1.55125122e-07,\n",
      "       1.62735212e-08, 9.04541722e-08, 1.27269658e-07, 5.68429698e-07,\n",
      "       6.83811550e-07, 1.07905347e-08, 1.14991366e-07, 1.40771789e-07,\n",
      "       7.72554216e-08, 1.22579662e-08, 1.75865154e-07, 8.14700751e-09,\n",
      "       5.86956839e-09, 2.07687894e-08, 7.14904445e-07, 1.58586786e-07],\n",
      "      dtype=float32), array([3.0031031e-06, 6.3930077e-07, 5.3953231e-06, 5.9740529e-07,\n",
      "       1.1760894e-05, 8.5680676e-07, 3.2328226e-06, 8.1342339e-05,\n",
      "       1.9114769e-07, 4.8423622e-06, 2.5864285e-06, 3.3358776e-07,\n",
      "       1.9530589e-06, 4.3619289e-05, 7.5573706e-07, 1.3349537e-06,\n",
      "       5.1432257e-06, 9.6415985e-01, 1.0300017e-06, 1.2056973e-06,\n",
      "       4.3333002e-05, 5.0091248e-06, 2.4769943e-06, 3.5619557e-02],\n",
      "      dtype=float32), array([1.0757685e-06, 1.0066802e-07, 1.3151832e-08, 1.3389476e-08,\n",
      "       3.8408593e-06, 9.6874153e-08, 3.4992325e-05, 9.9967486e-01,\n",
      "       1.4549970e-07, 7.2523949e-07, 6.7981311e-08, 5.4418371e-07,\n",
      "       1.8189987e-04, 9.7269054e-05, 4.9438267e-08, 5.7123032e-07,\n",
      "       6.2453388e-08, 3.5669751e-07, 4.8451576e-09, 4.4970779e-08,\n",
      "       2.4070832e-07, 2.1691994e-07, 9.1317730e-07, 2.0654018e-06],\n",
      "      dtype=float32), array([1.28025295e-06, 5.70740575e-08, 3.87697725e-07, 5.80598737e-07,\n",
      "       6.46070703e-07, 1.78598134e-06, 2.80611715e-07, 1.13624985e-07,\n",
      "       4.39792132e-08, 2.37234667e-06, 3.20172148e-06, 1.71647036e-06,\n",
      "       7.48709454e-07, 2.07298726e-07, 3.23310596e-05, 3.62349977e-03,\n",
      "       1.64662140e-06, 3.25288311e-05, 9.96166348e-01, 3.05743233e-05,\n",
      "       2.62966460e-05, 6.09160961e-05, 9.34933450e-06, 3.09552956e-06],\n",
      "      dtype=float32), array([4.7939825e-06, 2.8110417e-05, 1.5786003e-05, 8.7644621e-06,\n",
      "       5.7006098e-05, 1.6054657e-06, 7.6241872e-06, 5.8040794e-05,\n",
      "       2.3204644e-04, 6.8906347e-06, 4.7612019e-05, 9.1418160e-06,\n",
      "       1.5588806e-05, 1.8038166e-06, 4.4252803e-05, 1.6048602e-06,\n",
      "       7.2076091e-07, 5.9975486e-07, 1.2576239e-06, 2.6309558e-06,\n",
      "       1.4104022e-06, 3.1957059e-06, 9.9944919e-01, 4.7247514e-07],\n",
      "      dtype=float32), array([4.86561294e-05, 2.19038066e-05, 6.66814507e-04, 2.87922139e-05,\n",
      "       5.10184036e-04, 1.13446236e-04, 1.17412492e-04, 3.30283037e-05,\n",
      "       3.39414000e-05, 2.27805704e-05, 2.44003841e-05, 1.04169594e-03,\n",
      "       3.38247581e-03, 8.77246475e-06, 2.15705042e-03, 5.02582880e-05,\n",
      "       3.09558345e-05, 7.49375758e-05, 6.73917530e-05, 5.20860485e-05,\n",
      "       4.24005484e-05, 1.38460455e-04, 9.91261005e-01, 7.12938709e-05],\n",
      "      dtype=float32), array([5.21360981e-08, 4.30802025e-08, 1.04429795e-07, 9.99987543e-01,\n",
      "       9.55063388e-06, 1.33985822e-07, 3.75264939e-08, 3.02139000e-07,\n",
      "       2.40241548e-07, 7.63159136e-09, 2.70367710e-08, 1.37436146e-07,\n",
      "       6.46307740e-07, 5.32860724e-08, 6.15897093e-08, 2.30275110e-09,\n",
      "       1.06345892e-08, 4.33665903e-09, 8.63001901e-08, 4.56781173e-08,\n",
      "       4.81301266e-09, 1.89324467e-09, 7.56006784e-07, 9.57134176e-08],\n",
      "      dtype=float32), array([5.3503227e-06, 5.0300809e-05, 8.4463039e-08, 1.4591792e-06,\n",
      "       1.1246497e-04, 7.3882475e-06, 5.0724335e-05, 9.9957609e-01,\n",
      "       7.7048242e-07, 2.6986490e-06, 1.1265529e-05, 3.0917043e-05,\n",
      "       1.8261118e-05, 1.0737355e-04, 9.4161305e-07, 1.5897238e-06,\n",
      "       6.3409411e-06, 8.1783182e-06, 3.4359482e-07, 2.3936806e-07,\n",
      "       1.2279345e-06, 5.8133020e-07, 1.7037300e-06, 3.7153800e-06],\n",
      "      dtype=float32), array([2.2348533e-07, 1.7281776e-07, 2.4437265e-06, 3.5911793e-08,\n",
      "       5.0753721e-07, 1.3813501e-07, 4.2933756e-05, 2.0325894e-07,\n",
      "       1.8235866e-06, 1.9424982e-05, 2.9155021e-04, 1.8499964e-05,\n",
      "       3.5654435e-07, 3.2759053e-06, 1.4347751e-06, 7.6878736e-05,\n",
      "       2.5619001e-05, 9.9949217e-01, 3.5048813e-06, 8.5682541e-06,\n",
      "       1.8342505e-06, 3.8921248e-06, 6.6647431e-07, 3.8589501e-06],\n",
      "      dtype=float32), array([1.8086995e-08, 6.8918511e-09, 9.1758025e-08, 7.1943002e-10,\n",
      "       5.2052545e-08, 3.2582221e-08, 2.9328307e-06, 4.7278867e-08,\n",
      "       1.1368820e-08, 1.9046373e-06, 1.2477151e-06, 3.8104531e-07,\n",
      "       4.4210175e-08, 5.2557539e-07, 5.3578898e-08, 7.2515030e-07,\n",
      "       1.6295864e-07, 9.9999082e-01, 5.8759774e-08, 4.6187782e-08,\n",
      "       4.9441138e-07, 2.5586959e-07, 1.1095643e-08, 6.5578789e-08],\n",
      "      dtype=float32), array([3.7528213e-07, 9.3865629e-07, 3.1028330e-07, 5.9416743e-07,\n",
      "       3.2954704e-05, 1.0541231e-07, 6.9624474e-07, 5.3180736e-07,\n",
      "       3.4185089e-07, 6.2270703e-07, 1.9123291e-07, 8.7004466e-08,\n",
      "       5.4837324e-07, 5.1136706e-08, 7.9318414e-07, 8.8376289e-08,\n",
      "       9.2836387e-09, 9.8224007e-08, 6.2724602e-08, 2.1387038e-07,\n",
      "       8.5855119e-09, 2.6445207e-08, 9.9996048e-01, 9.4935739e-09],\n",
      "      dtype=float32), array([3.5384723e-08, 4.6302366e-09, 3.5176862e-07, 1.0831422e-07,\n",
      "       3.5253078e-07, 3.4996557e-08, 5.8873877e-07, 2.9199501e-08,\n",
      "       1.5810380e-09, 3.0116993e-08, 1.5592036e-08, 1.5520431e-08,\n",
      "       3.4344826e-08, 4.6902979e-09, 3.1471332e-06, 3.2409403e-07,\n",
      "       3.6308953e-10, 8.8951984e-09, 8.1236072e-07, 2.9131096e-08,\n",
      "       1.3874183e-08, 1.9566469e-08, 9.9999404e-01, 8.0968396e-09],\n",
      "      dtype=float32), array([2.1254560e-05, 3.4496765e-07, 8.7317055e-08, 5.3100980e-08,\n",
      "       8.2987617e-09, 3.5037442e-06, 7.2236350e-07, 6.2845220e-07,\n",
      "       1.3389297e-06, 9.9600395e-05, 1.7442393e-06, 7.5854224e-08,\n",
      "       1.7415774e-06, 1.4539274e-06, 7.9248457e-07, 9.9960244e-01,\n",
      "       5.2939379e-07, 1.5214121e-04, 4.1071835e-05, 6.8891768e-06,\n",
      "       1.0726109e-06, 6.1100473e-05, 4.5223186e-07, 9.2264133e-07],\n",
      "      dtype=float32), array([5.6002823e-06, 4.2141110e-05, 7.6453842e-05, 2.4125095e-05,\n",
      "       3.2946363e-04, 2.2817514e-06, 5.2396270e-05, 5.2898555e-05,\n",
      "       4.5262836e-06, 7.6836608e-05, 5.1385428e-05, 1.1609903e-05,\n",
      "       2.8105648e-03, 4.9508537e-05, 6.3924112e-05, 6.9550770e-05,\n",
      "       4.1406558e-04, 5.8097094e-03, 4.4711360e-05, 3.3704793e-05,\n",
      "       7.1893322e-05, 6.8528140e-03, 8.7726155e-05, 9.8296213e-01],\n",
      "      dtype=float32), array([7.82182269e-06, 1.07654203e-04, 3.23976451e-07, 9.02257962e-05,\n",
      "       8.96295205e-06, 1.72005014e-06, 3.42950050e-04, 1.96035180e-04,\n",
      "       1.17763047e-04, 2.29227869e-03, 1.07673266e-04, 1.03977509e-04,\n",
      "       9.92435157e-01, 3.95522919e-03, 4.45841897e-06, 1.89371713e-05,\n",
      "       6.14813398e-05, 5.83891160e-05, 9.83689915e-07, 7.64676315e-06,\n",
      "       4.38381403e-06, 3.25708902e-06, 8.40644316e-06, 6.43629173e-05],\n",
      "      dtype=float32), array([1.4456994e-03, 5.9258711e-04, 5.8998396e-03, 1.7212461e-04,\n",
      "       2.5929434e-03, 4.7502941e-03, 1.3502482e-03, 5.2463496e-04,\n",
      "       1.7927334e-04, 4.0654541e-04, 1.1746819e-03, 6.9560856e-04,\n",
      "       1.5903831e-02, 5.2297040e-04, 2.4683356e-02, 6.3695275e-04,\n",
      "       9.0068293e-01, 2.2242665e-02, 5.2088699e-03, 9.1780239e-05,\n",
      "       4.6591868e-04, 1.8923229e-03, 5.6939246e-04, 7.3146401e-03],\n",
      "      dtype=float32), array([1.9201154e-09, 8.8525951e-09, 1.1971660e-09, 2.5586755e-10,\n",
      "       1.2455155e-08, 1.0809312e-08, 1.3007350e-07, 3.0073185e-08,\n",
      "       1.2359583e-09, 1.1740728e-06, 6.3343876e-08, 4.3611141e-08,\n",
      "       5.0410809e-09, 3.0381990e-08, 2.7657970e-08, 5.2734748e-08,\n",
      "       4.8740439e-08, 9.9999851e-01, 2.6396094e-08, 6.2375753e-09,\n",
      "       1.7666739e-08, 3.0294030e-09, 4.1422528e-09, 1.9059136e-08],\n",
      "      dtype=float32), array([4.7149914e-04, 2.3652962e-04, 7.3992130e-03, 3.3602386e-04,\n",
      "       7.4293021e-05, 2.3739722e-03, 1.4972590e-03, 9.0997797e-05,\n",
      "       7.0702907e-04, 1.5569801e-03, 1.6494212e-03, 5.4177834e-04,\n",
      "       5.4666470e-03, 4.3958742e-03, 1.0709873e-02, 1.2811352e-01,\n",
      "       1.6126325e-03, 5.0645717e-03, 6.1810499e-01, 7.6560564e-02,\n",
      "       2.6738008e-02, 1.0553786e-01, 5.2189053e-04, 2.3856347e-04],\n",
      "      dtype=float32), array([1.7114741e-07, 2.9186845e-08, 5.2284992e-07, 8.0826032e-07,\n",
      "       2.2994793e-06, 5.1556555e-07, 6.3723220e-08, 1.7784474e-07,\n",
      "       1.3490359e-07, 1.6731390e-07, 5.3528703e-07, 5.4408201e-07,\n",
      "       5.9764591e-07, 1.6430317e-06, 3.0257513e-06, 2.7085996e-05,\n",
      "       1.8328335e-06, 6.6846051e-06, 9.9909461e-01, 8.7685403e-05,\n",
      "       7.0666330e-04, 6.0835097e-05, 1.8032714e-06, 1.6895232e-06],\n",
      "      dtype=float32), array([0.00589665, 0.0097609 , 0.00702125, 0.00869298, 0.00172266,\n",
      "       0.00588784, 0.00515717, 0.00182802, 0.00459753, 0.00140176,\n",
      "       0.00404599, 0.00659982, 0.11546154, 0.17741778, 0.13843162,\n",
      "       0.00991082, 0.00491042, 0.00237418, 0.00806445, 0.00570982,\n",
      "       0.3383211 , 0.13396527, 0.00208994, 0.00073048], dtype=float32), array([4.1641673e-07, 9.0166719e-09, 5.7922936e-08, 4.6576780e-08,\n",
      "       7.1147305e-08, 2.5823466e-08, 2.8733443e-06, 4.8675015e-06,\n",
      "       1.5587663e-07, 5.8680149e-07, 1.4606475e-06, 3.9786946e-07,\n",
      "       1.9243450e-07, 9.9995148e-01, 7.4013856e-06, 1.2183447e-07,\n",
      "       1.3473457e-06, 2.1206910e-05, 6.2912136e-07, 1.2517060e-06,\n",
      "       5.1577686e-06, 1.0748756e-07, 3.9321790e-08, 1.8725376e-07],\n",
      "      dtype=float32), array([2.5572012e-05, 4.1974677e-06, 9.9981248e-01, 1.7591309e-07,\n",
      "       1.2831575e-06, 1.0379637e-04, 3.9436190e-06, 2.0148298e-06,\n",
      "       8.5449466e-07, 2.2851127e-06, 1.4681143e-07, 3.6388201e-07,\n",
      "       4.7412306e-07, 2.0404599e-07, 2.5854661e-07, 1.2985994e-07,\n",
      "       4.9204449e-08, 3.9129336e-06, 4.1823697e-08, 8.5138126e-08,\n",
      "       2.2559684e-07, 3.7499044e-07, 3.6546408e-05, 7.4606919e-07],\n",
      "      dtype=float32), array([3.6719669e-06, 1.0384035e-04, 8.8304068e-07, 9.9967414e-01,\n",
      "       1.8570956e-04, 3.1621842e-06, 2.9893167e-07, 1.2352305e-05,\n",
      "       5.0684903e-06, 7.2292448e-07, 2.8024094e-06, 4.0415139e-06,\n",
      "       4.5391022e-07, 1.5857818e-06, 3.7163570e-08, 2.8248675e-09,\n",
      "       3.5768753e-08, 1.9777419e-08, 5.9507904e-08, 8.5817602e-09,\n",
      "       1.0399236e-08, 1.1493941e-08, 1.1917635e-06, 6.7429433e-08],\n",
      "      dtype=float32)], l_labels: ['16', '22', '22', '19', '18', '2', '9', '4', '20', '9', '9', '1', '21', '21', '11', '7', '20', '5', '10', '21', '10', '1', '4', '11', '2', '10', '10', '14', '22', '19', '21', '8', '10', '8', '13', '18', '5', '2', '1', '4', '12', '6', '18', '8', '19', 'x', 'x', '4', '8', '18', '18', 'x', 'x', '16', 'y', '13', '17', '18', '19', '19', '13', '14', '3', '4']\n"
     ]
    }
   ],
   "source": [
    "print(f'l_pictures: {l_pictures}, l_outputs: {l_outputs}, l_labels: {l_labels}')"
   ]
  },
  {
   "cell_type": "code",
   "execution_count": 22,
   "metadata": {},
   "outputs": [
    {
     "name": "stdout",
     "output_type": "stream",
     "text": [
      "l_pictures: 64, l_outputs: 64, l_labels: 64\n"
     ]
    }
   ],
   "source": [
    "print(f'l_pictures: {len(l_pictures)}, l_outputs: {len(l_outputs)}, l_labels: {len(l_labels)}')"
   ]
  },
  {
   "cell_type": "code",
   "execution_count": 23,
   "metadata": {},
   "outputs": [
    {
     "data": {
      "text/plain": [
       "0.984375"
      ]
     },
     "execution_count": 23,
     "metadata": {},
     "output_type": "execute_result"
    }
   ],
   "source": [
    "df_res = pd.DataFrame({'l_pictures': l_pictures, 'l_outputs': l_outputs, 'l_labels': l_labels})\n",
    "index_to_class = pd.read_csv('../data/index_to_class.csv')\n",
    "class_to_index = index_to_class.set_index('class')\n",
    "class_to_index.columns=['idx']\n",
    "df_res['pred'] = df_res['l_outputs'].apply(lambda x: idx2class(np.argmax(x)))\n",
    "\n",
    "pd.set_option('display.max_rows', None)\n",
    "df_res\n",
    "len(df_res[df_res['pred']==df_res['l_labels']])/len(df_res)"
   ]
  },
  {
   "cell_type": "code",
   "execution_count": 24,
   "metadata": {},
   "outputs": [],
   "source": [
    "df_res['max'] = df_res['l_outputs'].apply(lambda x: x[np.argmax(x)])"
   ]
  },
  {
   "cell_type": "code",
   "execution_count": 25,
   "metadata": {},
   "outputs": [
    {
     "data": {
      "text/html": [
       "<div>\n",
       "<style scoped>\n",
       "    .dataframe tbody tr th:only-of-type {\n",
       "        vertical-align: middle;\n",
       "    }\n",
       "\n",
       "    .dataframe tbody tr th {\n",
       "        vertical-align: top;\n",
       "    }\n",
       "\n",
       "    .dataframe thead th {\n",
       "        text-align: right;\n",
       "    }\n",
       "</style>\n",
       "<table border=\"1\" class=\"dataframe\">\n",
       "  <thead>\n",
       "    <tr style=\"text-align: right;\">\n",
       "      <th></th>\n",
       "      <th>l_pictures</th>\n",
       "      <th>l_outputs</th>\n",
       "      <th>l_labels</th>\n",
       "      <th>pred</th>\n",
       "      <th>max</th>\n",
       "    </tr>\n",
       "  </thead>\n",
       "  <tbody>\n",
       "    <tr>\n",
       "      <td>60</td>\n",
       "      <td>MA160814197500059.034-K_13_0_.png</td>\n",
       "      <td>[0.0058966507, 0.009760899, 0.007021254, 0.008...</td>\n",
       "      <td>13</td>\n",
       "      <td>21</td>\n",
       "      <td>0.338321</td>\n",
       "    </tr>\n",
       "  </tbody>\n",
       "</table>\n",
       "</div>"
      ],
      "text/plain": [
       "                           l_pictures  \\\n",
       "60  MA160814197500059.034-K_13_0_.png   \n",
       "\n",
       "                                            l_outputs l_labels pred       max  \n",
       "60  [0.0058966507, 0.009760899, 0.007021254, 0.008...       13   21  0.338321  "
      ]
     },
     "execution_count": 25,
     "metadata": {},
     "output_type": "execute_result"
    }
   ],
   "source": [
    "df_res[df_res['l_labels'] != df_res['pred']]"
   ]
  },
  {
   "cell_type": "code",
   "execution_count": 26,
   "metadata": {},
   "outputs": [
    {
     "data": {
      "text/html": [
       "<div>\n",
       "<style scoped>\n",
       "    .dataframe tbody tr th:only-of-type {\n",
       "        vertical-align: middle;\n",
       "    }\n",
       "\n",
       "    .dataframe tbody tr th {\n",
       "        vertical-align: top;\n",
       "    }\n",
       "\n",
       "    .dataframe thead th {\n",
       "        text-align: right;\n",
       "    }\n",
       "</style>\n",
       "<table border=\"1\" class=\"dataframe\">\n",
       "  <thead>\n",
       "    <tr style=\"text-align: right;\">\n",
       "      <th></th>\n",
       "      <th>l_pictures</th>\n",
       "      <th>l_outputs</th>\n",
       "      <th>l_labels</th>\n",
       "      <th>pred</th>\n",
       "      <th>max</th>\n",
       "    </tr>\n",
       "  </thead>\n",
       "  <tbody>\n",
       "    <tr>\n",
       "      <td>60</td>\n",
       "      <td>MA160814197500059.034-K_13_0_.png</td>\n",
       "      <td>[0.0058966507, 0.009760899, 0.007021254, 0.008...</td>\n",
       "      <td>13</td>\n",
       "      <td>21</td>\n",
       "      <td>0.338321</td>\n",
       "    </tr>\n",
       "  </tbody>\n",
       "</table>\n",
       "</div>"
      ],
      "text/plain": [
       "                           l_pictures  \\\n",
       "60  MA160814197500059.034-K_13_0_.png   \n",
       "\n",
       "                                            l_outputs l_labels pred       max  \n",
       "60  [0.0058966507, 0.009760899, 0.007021254, 0.008...       13   21  0.338321  "
      ]
     },
     "execution_count": 26,
     "metadata": {},
     "output_type": "execute_result"
    }
   ],
   "source": [
    "df_res[df_res['max'] < 0.5]"
   ]
  },
  {
   "cell_type": "code",
   "execution_count": 30,
   "metadata": {},
   "outputs": [
    {
     "data": {
      "text/plain": [
       "array([2.7513102e-05, 7.7717363e-05, 1.1627050e-04, 1.2670270e-04,\n",
       "       1.3202455e-04, 1.5106768e-04, 1.8130631e-04, 2.1694809e-04,\n",
       "       2.2828230e-04, 2.4213789e-04, 2.5248967e-04, 2.5438593e-04,\n",
       "       3.2854051e-04, 4.3526888e-04, 4.4371519e-04, 4.8788716e-04,\n",
       "       4.9940177e-04, 1.3275477e-03, 4.3828557e-03, 4.4687656e-03,\n",
       "       6.1028064e-03, 3.4685001e-02, 4.0953279e-02, 9.0387809e-01],\n",
       "      dtype=float32)"
      ]
     },
     "execution_count": 30,
     "metadata": {},
     "output_type": "execute_result"
    }
   ],
   "source": [
    "l_x=df_res['l_outputs'][1]\n",
    "l_x.sort()\n",
    "l_x"
   ]
  },
  {
   "cell_type": "code",
   "execution_count": null,
   "metadata": {},
   "outputs": [],
   "source": [
    "df_res"
   ]
  },
  {
   "cell_type": "code",
   "execution_count": null,
   "metadata": {},
   "outputs": [],
   "source": [
    "df_res[df_res['l_pictures'] == 'MA160865191500021.009-K_10_1_.png']"
   ]
  },
  {
   "cell_type": "code",
   "execution_count": null,
   "metadata": {},
   "outputs": [],
   "source": [
    "df_res[df_res['l_pictures'] == 'MA160865191500021.009-K_10_1_.png']['l_outputs'][0]"
   ]
  },
  {
   "cell_type": "code",
   "execution_count": null,
   "metadata": {},
   "outputs": [],
   "source": [
    "mel1=[1,2,3]\n",
    "mel2=[[4,5]]\n",
    "mel1.append(np_output_single)\n",
    "len(mel1)"
   ]
  },
  {
   "cell_type": "code",
   "execution_count": null,
   "metadata": {},
   "outputs": [],
   "source": [
    "#x=df_res[df_res['l_pictures'] == 'MA160865191500021.009-K_10_1_.png']['l_outputs'][0]\n",
    "x=df_res[df_res['l_pictures'] == 'MA160865191500021.009-K_10_1_.png']['l_outputs'][0]\n",
    "q75, q25 = np.percentile(x, [75 ,25])\n",
    "iqr = q75 - q25\n",
    "iqr"
   ]
  },
  {
   "cell_type": "code",
   "execution_count": null,
   "metadata": {},
   "outputs": [],
   "source": [
    "x=df_res['l_outputs'][0]\n",
    "q75, q25 = np.percentile(x, [75 ,25])\n",
    "iqr = q75 - q25\n",
    "iqr"
   ]
  },
  {
   "cell_type": "code",
   "execution_count": null,
   "metadata": {},
   "outputs": [],
   "source": [
    "iqr = np.subtract(*np.percentile(x, [75, 25]))\n",
    "iqr"
   ]
  },
  {
   "cell_type": "code",
   "execution_count": null,
   "metadata": {},
   "outputs": [],
   "source": [
    "df_res['iqr'] = df_res['l_outputs'].apply(lambda x: np.subtract(*np.percentile(x, [75, 25])))\n",
    "\n",
    "def unc_top2(x):\n",
    "    x.sort()\n",
    "    unc=(x[-1] - x[-2])/x[-1]*100\n",
    "    return unc    \n",
    "    \n",
    "df_res['unc_top2'] = df_res['l_outputs'].apply(unc_top2)\n",
    "df_res"
   ]
  },
  {
   "cell_type": "code",
   "execution_count": null,
   "metadata": {},
   "outputs": [],
   "source": [
    "df_res['unc_top2'] = df_res['l_outputs'].apply(unc_top2)\n",
    "df_res"
   ]
  },
  {
   "cell_type": "code",
   "execution_count": null,
   "metadata": {},
   "outputs": [],
   "source": [
    "# df_res[df_res['l_labels'] == df_res['pred']]\n",
    "df_res[(df_res['unc_top2'] > 70) & (df_res['l_labels'] != df_res['pred'])] "
   ]
  },
  {
   "cell_type": "code",
   "execution_count": null,
   "metadata": {},
   "outputs": [],
   "source": [
    "xx[-2]"
   ]
  },
  {
   "cell_type": "code",
   "execution_count": null,
   "metadata": {},
   "outputs": [],
   "source": [
    "xx=df_res['l_outputs'][0]\n",
    "xx.sort()\n",
    "xx[-1] - xx[-2]"
   ]
  },
  {
   "cell_type": "code",
   "execution_count": null,
   "metadata": {},
   "outputs": [],
   "source": [
    "df_res['iqr'] = df_res['l_outputs'].apply(lambda x: np.subtract(*np.percentile(x, [75, 25])))\n",
    "# df_res['top2'] = df_res['l_outputs'].apply(lambda x: np.subtract(*np.percentile(x, [75, 25])))\n",
    "# df_res['iqr'] = df_res['l_outputs'].apply(lambda x: np.subtract(*np.percentile(x, [75, 25])))\n",
    "#df_res"
   ]
  },
  {
   "cell_type": "code",
   "execution_count": null,
   "metadata": {},
   "outputs": [],
   "source": [
    "transform = data_transforms_augmentation['val3']\n",
    "# input_s = transform(input_s)\n",
    "multiple_copies = False\n",
    "if multiple_copies:\n",
    "    input_s = inputs[9,6,...]\n",
    "    input_s = transform(input_s)\n",
    "else:\n",
    "    input_s = inputs[9,...]\n",
    "input_s = input_s.permute(1, 2, 0)\n",
    "input_s = input_s.to('cpu')\n",
    "input_s = input_s.detach().numpy()\n",
    "# input_s.shape\n",
    "plt.imshow(input_s, interpolation='nearest')\n",
    "plt.show()"
   ]
  },
  {
   "cell_type": "code",
   "execution_count": null,
   "metadata": {},
   "outputs": [],
   "source": [
    "outputs2 = model_test(image2.reshape([1, 3, 224, 224]))"
   ]
  },
  {
   "cell_type": "code",
   "execution_count": null,
   "metadata": {},
   "outputs": [],
   "source": [
    "outputs2+outputs2"
   ]
  },
  {
   "cell_type": "code",
   "execution_count": null,
   "metadata": {},
   "outputs": [],
   "source": [
    "outputs2 = outputs2.to('cpu')\n",
    "outputs2 = outputs2.detach().numpy()"
   ]
  },
  {
   "cell_type": "code",
   "execution_count": null,
   "metadata": {},
   "outputs": [],
   "source": [
    "outputs2.shape"
   ]
  },
  {
   "cell_type": "code",
   "execution_count": null,
   "metadata": {},
   "outputs": [],
   "source": [
    "np.zeros([1, 24])"
   ]
  },
  {
   "cell_type": "code",
   "execution_count": null,
   "metadata": {},
   "outputs": [],
   "source": [
    "image2.reshape([1, 3, 224, 224])"
   ]
  },
  {
   "cell_type": "code",
   "execution_count": null,
   "metadata": {},
   "outputs": [],
   "source": [
    "image3.shape"
   ]
  },
  {
   "cell_type": "code",
   "execution_count": null,
   "metadata": {},
   "outputs": [],
   "source": [
    "transform = data_transforms_augmentation['val3']\n",
    "image2 = transform(image)\n",
    "image3 = image2.permute(1, 2, 0)\n",
    "#image2 = image2.permute(1, 2, 0)\n",
    "#image2 = image2.to('cpu')\n",
    "#image2 = image2.detach().numpy()\n",
    "# input_s.shape\n",
    "plt.imshow(image3, interpolation='nearest')\n",
    "plt.show()"
   ]
  },
  {
   "cell_type": "code",
   "execution_count": null,
   "metadata": {},
   "outputs": [],
   "source": [
    "df_res"
   ]
  },
  {
   "cell_type": "code",
   "execution_count": null,
   "metadata": {},
   "outputs": [],
   "source": [
    "image.shape"
   ]
  },
  {
   "cell_type": "code",
   "execution_count": null,
   "metadata": {},
   "outputs": [],
   "source": [
    "l_outputs[0]"
   ]
  },
  {
   "cell_type": "code",
   "execution_count": null,
   "metadata": {},
   "outputs": [],
   "source": []
  },
  {
   "cell_type": "code",
   "execution_count": null,
   "metadata": {},
   "outputs": [],
   "source": [
    "df_res['l_outputs'][0].shape"
   ]
  },
  {
   "cell_type": "code",
   "execution_count": null,
   "metadata": {},
   "outputs": [],
   "source": [
    "from matplotlib import pyplot as plt\n",
    "plt.imshow(input_s, interpolation='nearest')\n",
    "plt.show()"
   ]
  },
  {
   "cell_type": "code",
   "execution_count": null,
   "metadata": {},
   "outputs": [],
   "source": [
    "def idx2class(idx):\n",
    "    return index_to_class[index_to_class['index']==idx]['class'][idx]\n",
    "\n",
    "idx2class(2)"
   ]
  },
  {
   "cell_type": "code",
   "execution_count": null,
   "metadata": {},
   "outputs": [],
   "source": [
    "def idx2class(idx):\n",
    "    return index_to_class[index_to_class['index']==idx]['class'][idx]\n",
    "\n",
    "df_res = pd.DataFrame({'l_pictures': l_pictures, 'l_outputs': l_outputs, 'l_labels': l_labels})\n",
    "index_to_class = pd.read_csv('../data/index_to_class.csv')\n",
    "class_to_index = index_to_class.set_index('class')\n",
    "class_to_index.columns=['idx']\n",
    "df_res['pred'] = df_res['l_outputs'].apply(lambda x: idx2class(np.argmax(x)))"
   ]
  },
  {
   "cell_type": "code",
   "execution_count": null,
   "metadata": {},
   "outputs": [],
   "source": [
    "df_res[df_res['l_pictures'] == 'MA160865191500021.009-K_10_1_.png']"
   ]
  },
  {
   "cell_type": "code",
   "execution_count": null,
   "metadata": {},
   "outputs": [],
   "source": [
    "len(df_res[df_res['pred']==df_res['l_labels']])/len(df_res)"
   ]
  },
  {
   "cell_type": "code",
   "execution_count": null,
   "metadata": {},
   "outputs": [],
   "source": []
  },
  {
   "cell_type": "code",
   "execution_count": null,
   "metadata": {},
   "outputs": [],
   "source": [
    "execute_test = False\n",
    "start_date=datetime.datetime.now()\n",
    "print(start_date)\n",
    "if execute_test:        \n",
    "    #%run test_model --config ../config/config_squeezenet1_0.ini\n",
    "    %run test_model_augmentation --config ../config/config_densenet121_augmentation.ini"
   ]
  },
  {
   "cell_type": "markdown",
   "metadata": {},
   "source": [
    "## RUN TEST ON PICTURES"
   ]
  },
  {
   "cell_type": "code",
   "execution_count": null,
   "metadata": {},
   "outputs": [],
   "source": [
    "pd.set_option('max_colwidth', -1)\n",
    "# idx=np.argmax(df_result_ensemble.iloc[0]['outputs_mean'])\n",
    "# df_result_ensemble.iloc[0]['outputs_mean'][idx]"
   ]
  },
  {
   "cell_type": "code",
   "execution_count": null,
   "metadata": {},
   "outputs": [],
   "source": [
    "# tm1.df_result\n",
    "print(f'uncertainty running: {datetime.datetime.now()}')"
   ]
  },
  {
   "cell_type": "markdown",
   "metadata": {},
   "source": [
    "## RUN UNCERTAINTY CALCULATIONS"
   ]
  },
  {
   "cell_type": "code",
   "execution_count": null,
   "metadata": {},
   "outputs": [],
   "source": [
    "#pd.set_option('display.max_rows', 500)\n",
    "# saving a DataFrame as csv saves lista (e.g. outputs_mean) as string which leads to conversion problems \n",
    "# while loading. so, it's better to save as a pickle file and load it back.\n",
    "# with open('../results/squeezenet1_0_11.05.2021_02.07.07_df_result_ensemble.pkl', 'rb') as fp:\n",
    "#      df_result_ensemble = pickle.load(fp)\n",
    "\n",
    "# df_result_ensemble"
   ]
  },
  {
   "cell_type": "code",
   "execution_count": null,
   "metadata": {},
   "outputs": [],
   "source": [
    "# tuc1 = tuc.test_uncertainty('../config/config_squeezenet1_0.ini')\n",
    "# tuc1 = tuc.test_uncertainty('../config/config_alexnet.ini')\n",
    "# tuc1 = tuc.test_uncertainty('../config/config_resnet18.ini')\n",
    "# use_sample_weights = [0,1,3,5,6]\n",
    "use_sample_weights = [-1]  # if -1 then use all weights in the given ***** result pkl ******\n",
    "tuc1 = tuc.test_uncertainty('../config/config_densenet121.ini', use_sample_weights)"
   ]
  },
  {
   "cell_type": "code",
   "execution_count": null,
   "metadata": {},
   "outputs": [],
   "source": [
    "list(range(len(tuc1.df_result_ensemble.loc[0,'outputs_all'])))"
   ]
  },
  {
   "cell_type": "code",
   "execution_count": null,
   "metadata": {},
   "outputs": [],
   "source": [
    "index_to_class = pd.read_csv('../data/index_to_class.csv')\n",
    "# index_to_class"
   ]
  },
  {
   "cell_type": "code",
   "execution_count": null,
   "metadata": {},
   "outputs": [],
   "source": [
    "class_to_index = index_to_class.set_index('class')\n",
    "class_to_index.columns=['idx']\n",
    "# class_to_index"
   ]
  },
  {
   "cell_type": "markdown",
   "metadata": {},
   "source": [
    "## Accuracy Per Model"
   ]
  },
  {
   "cell_type": "code",
   "execution_count": null,
   "metadata": {},
   "outputs": [],
   "source": [
    "lst_column = []\n",
    "if use_sample_weights == [-1]:\n",
    "    use_sample_weights = list(range(len(tuc1.df_result_ensemble.loc[0,'outputs_all'])))\n",
    "\n",
    "# accuracy per model\n",
    "for i, sample_model in enumerate(use_sample_weights):\n",
    "    tuc1.df_result_ensemble[f'pred_{sample_model}'] = \\\n",
    "        tuc1.df_result_ensemble.loc[:,'outputs_all'].apply(lambda x: np.argmax(x[i]))\n",
    "    lst_column.append(f'pred_{sample_model}')\n",
    "\n",
    "# accuracy per model\n",
    "n_models = len(use_sample_weights)\n",
    "count_correct = np.zeros(n_models)\n",
    "lst_incorrect = [[] for i in range(n_models)]\n",
    "    \n",
    "for pic in range(len(tuc1.df_result_ensemble)):\n",
    "    true_label = tuc1.df_result_ensemble['label'][pic]\n",
    "    for i, sample_model in enumerate(use_sample_weights):\n",
    "        #tuc1.index_to_class['class'][tuc1.df_result_ensemble[f'pred_{sample_model}'][pic]]\n",
    "        if tuc1.index_to_class['class'][tuc1.df_result_ensemble.loc[pic ,f'pred_{sample_model}']] == true_label:\n",
    "            count_correct[i] += 1\n",
    "        else:\n",
    "            lst_incorrect[i].append(pic)\n",
    "\n",
    "# count_correct/len(tuc1.df_result_ensemble)*100\n",
    "[round(x/len(tuc1.df_result_ensemble)*100,4) for x in count_correct]"
   ]
  },
  {
   "cell_type": "code",
   "execution_count": null,
   "metadata": {},
   "outputs": [],
   "source": [
    "tuc1.df_result_ensemble.iloc[:2, :2]"
   ]
  },
  {
   "cell_type": "code",
   "execution_count": null,
   "metadata": {},
   "outputs": [],
   "source": [
    "tuc1.df_result_ensemble.columns"
   ]
  },
  {
   "cell_type": "code",
   "execution_count": null,
   "metadata": {},
   "outputs": [],
   "source": [
    "tuc1.run()\n",
    "df_results_eval = tuc1.df_uncertainty  # df_final\n",
    "df_final_summary = tuc1.df_final_summary\n",
    "\n",
    "df_results_eval\n",
    "#df_results_eval.loc[:0,:]"
   ]
  },
  {
   "cell_type": "code",
   "execution_count": null,
   "metadata": {},
   "outputs": [],
   "source": [
    "# tuc1.df_result_ensemble.drop(columns=['preds','preds_count', 'preds_rate', 'Incorrect'], inplace=True)"
   ]
  },
  {
   "cell_type": "code",
   "execution_count": null,
   "metadata": {},
   "outputs": [],
   "source": [
    "tuc1.df_result_ensemble['preds'] = \\\n",
    "[row for row in tuc1.df_result_ensemble[lst_column].values]\n",
    "\n",
    "tuc1.df_result_ensemble['preds_count'] = \\\n",
    "tuc1.df_result_ensemble['preds'].apply(lambda x: np.bincount(x))\n",
    "\n",
    "tuc1.df_result_ensemble['preds_rate'] = \\\n",
    "tuc1.df_result_ensemble['preds_count'].apply(lambda x: x[np.argmax(x)]/n_models)\n",
    "\n",
    "l_column = ['picture', 'model', 'label', 'preds','preds_count', 'preds_rate']+lst_column\n",
    "\n",
    "searchfor = list(df_results_eval[df_results_eval['actual_class']!=df_results_eval['best_pred']]['picture'])\n",
    "\n",
    "tuc1.df_result_ensemble['Incorrect']=tuc1.df_result_ensemble['picture'].apply(lambda x: \\\n",
    "                                                1 if any(i in x for i in searchfor) else 0)\n",
    "\n",
    "df_results_eval['Incorrect']=df_results_eval['picture'].apply(lambda x: \\\n",
    "                                                1 if any(i in x for i in searchfor) else 0)\n",
    "\n",
    "#tuc1.df_result_ensemble.iloc[:5, -8:]\n",
    "tuc1.df_result_ensemble.loc[:5, l_column]"
   ]
  },
  {
   "cell_type": "code",
   "execution_count": null,
   "metadata": {},
   "outputs": [],
   "source": [
    "# # searchfor = ['MA160814197500042.017-K_9_0_.png', 'MA160814197500041.070-K_4_0_.png']\n",
    "# searchfor = list(df_results_eval[df_results_eval['actual_class']!=df_results_eval['best_pred']]['picture'])\n",
    "# # s[s.str.contains('|'.join(searchfor))]\n",
    "# # tuc1.df_result_ensemble[tuc1.df_result_ensemble['pred_6'].str.contains('|'.join(searchfor))]\n",
    "\n",
    "# tuc1.df_result_ensemble['Incorrect']=tuc1.df_result_ensemble['picture'].apply(lambda x: 1 if any(i in x for i in searchfor) else 0)\n"
   ]
  },
  {
   "cell_type": "code",
   "execution_count": null,
   "metadata": {},
   "outputs": [],
   "source": [
    "# tuc1.df_result_ensemble.drop(columns=['preds','preds_count','preds_max', 'Incorrect'], inplace=True)"
   ]
  },
  {
   "cell_type": "code",
   "execution_count": null,
   "metadata": {},
   "outputs": [],
   "source": [
    "tuc1.df_result_ensemble.iloc[:2,-11:]"
   ]
  },
  {
   "cell_type": "code",
   "execution_count": null,
   "metadata": {},
   "outputs": [],
   "source": [
    "# lst_column = []\n",
    "# for i in range(n_models):\n",
    "#     lst_column.append(f'pred_{i}')\n",
    "\n",
    "# lst_column"
   ]
  },
  {
   "cell_type": "code",
   "execution_count": null,
   "metadata": {},
   "outputs": [],
   "source": [
    "# lst_column = []\n",
    "# for i in range(n_models):\n",
    "#     lst_column.append(f'pred_{i}')\n",
    "# vertical variance\n",
    "\n",
    "l_th, l_FP, l_TN, l_FN, l_work_count, l_fail_count, l_work_rate, l_fail_rate = [],[],[],[],[],[],[],[] \n",
    "# th_rate = round(1/n_models*5+0.01, 2) # e.g 0.68\n",
    "\n",
    "# l_FP = len(tuc1.df_result_ensemble[(tuc1.df_result_ensemble['Incorrect']==1) & \\\n",
    "#                         (tuc1.df_result_ensemble['preds_rate']>=th_rate)].loc[:, lst_column])\n",
    "\n",
    "# l_TN = len(tuc1.df_result_ensemble[(tuc1.df_result_ensemble['Incorrect']==1) & \\\n",
    "#                         (tuc1.df_result_ensemble['preds_rate']<=th_rate)].loc[:, lst_column])\n",
    "\n",
    "# l_FN = len(tuc1.df_result_ensemble[(tuc1.df_result_ensemble['Incorrect']==0) & \\\n",
    "#                         (tuc1.df_result_ensemble['preds_rate']<=th_rate)].loc[:, lst_column])\n",
    "\n",
    "# work_load = l_FN+l_TN\n",
    "# fail_rate = l_FP\n",
    "\n",
    "# print(f'threshold={th_rate} .. l_FN: {l_FN} .. l_FN: {l_TN} .. l_FN: {l_FP}')\n",
    "# print(f'work_load(%): {round(work_load/len(tuc1.df_result_ensemble)*100, 2)} .. n_work_load: {work_load}')\n",
    "# print(f'fail_rate(%): {round(fail_rate/len(tuc1.df_result_ensemble)*100, 2)} .. fail_rate: {fail_rate}')\n",
    "\n",
    "for i in range(n_models):\n",
    "    th_rate = round(1/n_models*i+0.01, 2)\n",
    "    n_FP = len(tuc1.df_result_ensemble[(tuc1.df_result_ensemble['Incorrect']==1) & \\\n",
    "                        (tuc1.df_result_ensemble['preds_rate']>=th_rate)].loc[:, lst_column])\n",
    "\n",
    "    n_TN = len(tuc1.df_result_ensemble[(tuc1.df_result_ensemble['Incorrect']==1) & \\\n",
    "                            (tuc1.df_result_ensemble['preds_rate']<=th_rate)].loc[:, lst_column])\n",
    "\n",
    "    n_FN = len(tuc1.df_result_ensemble[(tuc1.df_result_ensemble['Incorrect']==0) & \\\n",
    "                            (tuc1.df_result_ensemble['preds_rate']<=th_rate)].loc[:, lst_column])\n",
    "\n",
    "    n_work_count = n_FN + n_TN\n",
    "    n_fail_count = n_FP\n",
    "    \n",
    "    l_th.append(th_rate)\n",
    "    l_FP.append(n_FP)\n",
    "    l_TN.append(n_TN)\n",
    "    l_FN.append(n_FN)\n",
    "    l_work_count.append(n_work_count)\n",
    "    l_fail_count.append(n_fail_count)\n",
    "    l_fail_rate.append(round(n_fail_count/len(tuc1.df_result_ensemble)*100, 2))\n",
    "    l_work_rate.append(round(n_work_count/len(tuc1.df_result_ensemble)*100, 2))\n",
    "    \n",
    "    df_ensemble_res = pd.DataFrame({'th': l_th, 'FP': l_FP, 'TN': l_TN, 'FN': l_FN, 'Work_Load': l_work_count, \n",
    "                      'Fail Rate': l_fail_count, 'Work_Load (%)': l_work_rate, 'Fail Rate (%)': l_fail_rate})\n",
    "\n",
    "df_ensemble_res"
   ]
  },
  {
   "cell_type": "code",
   "execution_count": null,
   "metadata": {},
   "outputs": [],
   "source": [
    "np.random.randint(0, 3)"
   ]
  },
  {
   "cell_type": "code",
   "execution_count": null,
   "metadata": {},
   "outputs": [],
   "source": [
    "df_flexible = df_ensemble_res[(df_ensemble_res['Work_Load (%)']<=5) & (df_ensemble_res['Fail Rate (%)']<=3)] \n",
    "lst_flexible = list(df_flexible['th'])\n",
    "lst_flexible_workload = list(df_flexible['Work_Load (%)'])\n",
    "print(f'{len(lst_flexible)} values from {min(lst_flexible)} to {max(lst_flexible)} having fail rate between 0.5 and 1.0')\n",
    "print(f'workload from {min(lst_flexible_workload)} to {max(lst_flexible_workload)}')\n",
    "\n",
    "print(3.753371-3.622185)\n",
    "print((3.753371-3.622185)/3.622185*100)\n",
    "\n",
    "df_flexible"
   ]
  },
  {
   "cell_type": "code",
   "execution_count": null,
   "metadata": {},
   "outputs": [],
   "source": [
    "df_ensemble_res['Work_Load (%)']<=5"
   ]
  },
  {
   "cell_type": "code",
   "execution_count": null,
   "metadata": {},
   "outputs": [],
   "source": [
    "# Counter(tuc1.df_result_ensemble.loc[0, 'preds'])"
   ]
  },
  {
   "cell_type": "code",
   "execution_count": null,
   "metadata": {},
   "outputs": [],
   "source": [
    "# print(f'threshold={th_rate} .. l_FN: {l_FN} .. l_TN: {l_TN} .. l_FP: {l_FP}')\n",
    "# print(f'work_load(%): {round(l_sum/len(tuc1.df_result_ensemble)*100, 2)} .. n_work_load: {work_load}')\n",
    "# print(f'fail_rate(%): {round(fail_rate/len(tuc1.df_result_ensemble)*100, 2)} .. fail_rate: {fail_rate}')"
   ]
  },
  {
   "cell_type": "code",
   "execution_count": null,
   "metadata": {},
   "outputs": [],
   "source": [
    "(142)/len(tuc1.df_result_ensemble)*100"
   ]
  },
  {
   "cell_type": "code",
   "execution_count": null,
   "metadata": {},
   "outputs": [],
   "source": [
    "(1135+142)/len(tuc1.df_result_ensemble)"
   ]
  },
  {
   "cell_type": "code",
   "execution_count": null,
   "metadata": {},
   "outputs": [],
   "source": [
    "m_count = np.zeros((n_models, n_models))\n",
    "m_ratio = np.zeros((n_models, n_models))\n",
    "m_jaccard = np.zeros((n_models, n_models))  # (A&B)/(A+B)\n",
    "for m1 in range(n_models):    \n",
    "    for m2 in range(m1+1,n_models):\n",
    "        lst_diff=[]\n",
    "        lst_same=[]\n",
    "        for i in lst_incorrect[m1]:\n",
    "            if i in lst_incorrect[m2]:\n",
    "                lst_same.append(i)\n",
    "            else:\n",
    "                lst_diff.append(i)\n",
    "                \n",
    "        m_count[m1,m2]=len(lst_diff)\n",
    "        m_ratio[m1,m2]=round((len(lst_diff)/len(lst_incorrect[m1])),2)\n",
    "        total_incorrect = set(lst_incorrect[m1] + lst_incorrect[m2])\n",
    "        m_jaccard[m1,m2]=round(len(lst_same)/len(total_incorrect),2)   \n",
    "\n",
    "print('Diff_count matrix for incorrect labels between different models')\n",
    "print(m_count)\n",
    "\n",
    "print('\\nDiff_ratio matrix for incorrect labels between different models')\n",
    "print(m_ratio)\n",
    "\n",
    "print('\\nJaccard similarity matrix for incorrect labels between different models')\n",
    "print(m_jaccard)"
   ]
  },
  {
   "cell_type": "code",
   "execution_count": null,
   "metadata": {},
   "outputs": [],
   "source": [
    "# for i in range(len(tuc1.df_result_ensemble)):\n",
    "#     tuc1.df_result_ensemble['outputs_all'][i] = tuc1.df_result_ensemble['outputs_all'][i][lst_max5]"
   ]
  },
  {
   "cell_type": "code",
   "execution_count": null,
   "metadata": {},
   "outputs": [],
   "source": [
    "'''\n",
    "After picking the best-5 accuracy-models, the ensemble accuracy dropped to 96.9827 from 97.092\n",
    "BUT\n",
    "CERTAINTY results getting BETTER\n",
    "'''\n",
    "# lst_acc = count_correct/len(tuc1.df_result_ensemble)*100\n",
    "# lst_acc_sort = lst_acc.copy()\n",
    "# lst_acc_sort.sort()\n",
    "# lst_acc_sort[2]\n",
    "# lst_max5 = [i for i in range(len(lst_acc)) if lst_acc[i]>=lst_acc_sort[2]]\n",
    "# lst_max5"
   ]
  },
  {
   "cell_type": "code",
   "execution_count": null,
   "metadata": {},
   "outputs": [],
   "source": [
    "list(df_results_eval[df_results_eval['actual_class']!=df_results_eval['best_pred']]['picture'])"
   ]
  },
  {
   "cell_type": "code",
   "execution_count": null,
   "metadata": {},
   "outputs": [],
   "source": [
    "end_date = datetime.datetime.now()\n",
    "t_delta = end_date - start_date\n",
    "\n",
    "print(f'ALL done: {end_date} .. total calculation time: {format_timespan(t_delta.seconds)}')"
   ]
  },
  {
   "cell_type": "code",
   "execution_count": null,
   "metadata": {},
   "outputs": [],
   "source": [
    "tuc1.df_combine"
   ]
  },
  {
   "cell_type": "code",
   "execution_count": null,
   "metadata": {},
   "outputs": [],
   "source": [
    "df_results_eval.columns"
   ]
  },
  {
   "cell_type": "code",
   "execution_count": null,
   "metadata": {},
   "outputs": [],
   "source": [
    "def plot_metrics_test(plt, title='Softmax Score', metric_name='best_score',step_size=0.01, higher_better=True, is_norm=False):\n",
    "    plus_minus = 5\n",
    "    max_val = round(max(df_results_eval[metric_name]), 6)\n",
    "    min_val = round(min(df_results_eval[metric_name]), 6)\n",
    "    mean_val = round(np.mean(df_results_eval[metric_name]), 6)\n",
    "    var_val = round(np.var(df_results_eval[metric_name]), 6)\n",
    "    \n",
    "    norm_name = f'{metric_name}_Norm'\n",
    "    if is_norm and norm_name not in df_results_eval.columns:\n",
    "        df_results_eval[norm_name]=df_results_eval[metric_name].apply(lambda x: (x-min_score)/\n",
    "                                                                      (max_score-min_score)*100)\n",
    "    \n",
    "    print(f'max: {max_val} .. min: {min_val} .. mean: {mean_val} .. var: {var_val}')\n",
    "    \n",
    "    x=[];\n",
    "    TP_temp, FP_temp, TN_temp, FN_temp = 0, 0, 0, 0\n",
    "    TP, FP, TN, FN, TPR, TNR, FPR, FDR, NPV = [], [], [], [], [], [], [], [], []\n",
    "    fail_rate_temp, work_load_temp, fail_rate, work_load = 0, 0, [], []\n",
    "    #for val in tqdm(np.arange(min_val+0.0001, max_val + step_size, step_size)):\n",
    "    for val in tqdm(np.arange(0, max_val + 2*step_size, step_size)):\n",
    "        \n",
    "        # All Correct predictions\n",
    "        len_Correct = len(df_results_eval[df_results_eval['actual_class'] == df_results_eval['best_pred']])\n",
    "        # All INcorrect predictions\n",
    "        len_Incorrect = len(df_results_eval[df_results_eval['actual_class'] != df_results_eval['best_pred']])\n",
    "\n",
    "        if higher_better:\n",
    "            TP_temp =len(df_results_eval[(df_results_eval['actual_class'] == df_results_eval['best_pred']) &\n",
    "                                         (df_results_eval[metric_name] >= val)])                            \n",
    "            FP_temp = len(df_results_eval[(df_results_eval['actual_class'] != df_results_eval['best_pred']) &\n",
    "                                         (df_results_eval[metric_name] >= val)])\n",
    "            TN_temp = len(df_results_eval[(df_results_eval['actual_class'] != df_results_eval['best_pred']) &\n",
    "                                         (df_results_eval[metric_name] < val)])\n",
    "            FN_temp = len(df_results_eval[(df_results_eval['actual_class'] == df_results_eval['best_pred']) &\n",
    "                                         (df_results_eval[metric_name] < val)])          \n",
    "            #print('How many percent of the incorrect images we can miss to detect? = FAILURE RATE')\n",
    "#             fail_rate_temp = len(df_results_eval[(df_results_eval['Incorrect']==1) & \\\n",
    "#                     (df_results_eval[metric_name]>=val)])/len(df_results_eval)*100\n",
    "#             fail_rate.append(fail_rate_temp)\n",
    "            #print('How many percent of the images should be double-checked by the laborants? = WORK LOAD')\n",
    "#             work_load_temp = len(df_results_eval[(df_results_eval['Incorrect']==0) & \\\n",
    "#                     (df_results_eval[metric_name]<val)])/len(df_results_eval)*100\n",
    "            #work_load_temp = len(df_results_eval[df_results_eval[metric_name]<val])/len(df_results_eval)*100\n",
    "            \n",
    "#             len(tuc1.df_result_ensemble[(tuc1.df_result_ensemble['Incorrect']==1) & \\\n",
    "#                         (tuc1.df_result_ensemble['preds_max']>=0.78)].iloc[:,-11:])\n",
    "\n",
    "#             len(tuc1.df_result_ensemble[(tuc1.df_result_ensemble['Incorrect']==0) & \\\n",
    "#                                     (tuc1.df_result_ensemble['preds_max']<=0.78)].iloc[:,-11:])\n",
    "        else:\n",
    "            TP_temp =len(df_results_eval[(df_results_eval['actual_class'] == df_results_eval['best_pred']) &\n",
    "                                         (df_results_eval[metric_name] < val)])                            \n",
    "            FP_temp = len(df_results_eval[(df_results_eval['actual_class'] != df_results_eval['best_pred']) &\n",
    "                                         (df_results_eval[metric_name] < val)])\n",
    "            TN_temp = len(df_results_eval[(df_results_eval['actual_class'] != df_results_eval['best_pred']) &\n",
    "                                         (df_results_eval[metric_name] >= val)])\n",
    "            FN_temp = len(df_results_eval[(df_results_eval['actual_class'] == df_results_eval['best_pred']) &\n",
    "                                         (df_results_eval[metric_name] >= val)])\n",
    "            #print('How many percent of the incorrect images we can miss to detect? = FAILURE RATE'=FP)\n",
    "#             fail_rate_temp = len(df_results_eval[(df_results_eval['Incorrect']==1) & \\\n",
    "#                     (df_results_eval[metric_name]<val)])/len(df_results_eval)*100\n",
    "#             fail_rate.append(fail_rate_temp)\n",
    "            #print('How many percent of the images should be double-checked by the laborants? = WORK LOAD')\n",
    "#             work_load_temp = len(df_results_eval[(df_results_eval['Incorrect']==0) & \\\n",
    "#                     (df_results_eval[metric_name]>=val)])/len(df_results_eval)*100\n",
    "#             work_load_temp = len(df_results_eval[df_results_eval[metric_name]>=val])/len(df_results_eval)*100\n",
    "#             work_load.append(work_load_temp)\n",
    "\n",
    "        TP.append(TP_temp); FP.append(FP_temp); FN.append(FN_temp); TN.append(TN_temp)\n",
    "        fail_rate.append(FP_temp/len(df_results_eval)*100)\n",
    "        work_load_temp = (TN_temp + FN_temp)/len(df_results_eval)*100\n",
    "        work_load.append(work_load_temp)\n",
    "\n",
    "        TPR_temp = 0 if (TP_temp+FN_temp)==0 else TP_temp/(TP_temp+FN_temp)\n",
    "        TNR_temp = 0 if (TN_temp+FP_temp)==0 else TN_temp/(TN_temp+FP_temp)\n",
    "        FPR_temp = 0 if (FP_temp+TN_temp)==0 else FP_temp/(FP_temp+TN_temp)\n",
    "        # FDR (False Discovery Rate) = FP/(FP+TP)  ... FDR = 1 - precision=1-PPV\n",
    "        FDR_temp = 0 if (FP_temp+TP_temp)==0 else FP_temp/(FP_temp+TP_temp)\n",
    "        # NPV (Negative Predictive Value) = TN/(TN+FN)\n",
    "        NPV_temp = 0 if (TN_temp+FN_temp)==0 else TN_temp/(TN_temp+FN_temp)\n",
    "\n",
    "        # https://en.wikipedia.org/wiki/Sensitivity_and_specificity\n",
    "        x.append(val)\n",
    "        TPR.append(round(TPR_temp,4))  # TP/(TP+FN) = True Positive Rate (sensitivity, recall)\n",
    "        TNR.append(round(TNR_temp,4))  # TN/(TN+FP) = True Negative Rate (pecificity, selectivity)\n",
    "        FPR.append(round(FPR_temp,4))  # FP/(FP+TN) = False Positive Rate (fall-out)\n",
    "        FDR.append(round(FDR_temp,4))  # FP/(FP+TP) = False Discovery Rate \n",
    "        NPV.append(round(NPV_temp,4))  # TN/(TN+FN) = Negative Predictive Value \n",
    "                \n",
    "    df_Res = pd.DataFrame({'val': x, 'TP': TP, 'FP': FP, 'TN': TN, 'FN': FN, 'fail_rate': fail_rate,\n",
    "                          'work_load': work_load})\n",
    "    df_Res['sum'] = df_Res['TN'] + df_Res['FN']\n",
    "    df_Res['diff'] = df_Res['work_load'] - df_Res['fail_rate']\n",
    "    \n",
    "    #arr_diff=np.array(TNR)-np.array(FPR)\n",
    "    # What is the threshold to capture the min. number of False Negative decisions\n",
    "    #arr_diff=np.array(NPV)-np.array(FDR)\n",
    "    arr_diff=np.array(work_load)-np.array(fail_rate)\n",
    "    # What is the threshold to capture the min. number of False Positive decisions\n",
    "#     arr_diff=np.array(FDR)-np.array(NPV)\n",
    "\n",
    "    # find the threshold giving the max diff between NPV (correct-NEGATIVE predictions) \n",
    "    #                                            and FDR (incorrect-POSITIVE predictions)\n",
    "    argmax = np.argmin(np.array(df_Res['diff']**2))\n",
    "    print(f'argmax:{argmax}')\n",
    "    best_threshold = round(x[argmax], 2)\n",
    "\n",
    "    lst_threshold = x[argmax-plus_minus:argmax+plus_minus]\n",
    "#     FDR_th = FDR[argmax-plus_minus:argmax+plus_minus]\n",
    "#     NPV_th = NPV[argmax-plus_minus:argmax+plus_minus]\n",
    "    lst_fail_rate = fail_rate[argmax-plus_minus:argmax+plus_minus]\n",
    "    lst_work_load = work_load[argmax-plus_minus:argmax+plus_minus]\n",
    "    # number of images expected to be incorrectly predicted after uncertainty/certainty filtering\n",
    "    n_total_mistakes = np.array(FP[argmax-plus_minus:argmax+plus_minus]) \\\n",
    "                     + np.array(FN[argmax-plus_minus:argmax+plus_minus])\n",
    "    rate_total_mistakes = np.array(n_total_mistakes)/len(df_results_eval)\n",
    "    rate_FP = np.array(FP[argmax-plus_minus:argmax+plus_minus])/len(df_results_eval)\n",
    "\n",
    "    df_threshold = pd.DataFrame({'threshold': lst_threshold, 'fail_rate': lst_fail_rate, \n",
    "                                 'work_load': lst_work_load, 'total_mistakes': n_total_mistakes, \n",
    "                                 'total_mistakes(%)': rate_total_mistakes, 'FP(%)': rate_FP})\n",
    "\n",
    "    print(f'\\nWhen threshold={best_threshold}:')\n",
    "    print(f'TP: {TP[argmax]} .. FP: {FP[argmax]} .. TN: {TN[argmax]} .. FN: {FN[argmax]}')\n",
    "    print(f'..... {FDR[argmax]}% of correctly classified images are below the threshold (FDR)')\n",
    "    print(f'while {NPV[argmax]}% of incorrectly classified images are below the threshold (NPV)')    \n",
    "    print(f'precision: {round(TP[argmax]/(TP[argmax]+FP[argmax]), 2)}')\n",
    "    print(f'recall: {round(TP[argmax]/(TP[argmax]+FN[argmax]), 2)}')\n",
    "\n",
    "    plt.plot(x, fail_rate)\n",
    "    plt.plot(x, work_load)\n",
    "    th_best = np.zeros(len(x))\n",
    "    th_best.fill(x[argmax])\n",
    "    th_best = list(th_best)\n",
    "    plt.plot(th_best, FDR)\n",
    "#     plt.plot(x, fail_rate)\n",
    "#     plt.plot(x, work_load)\n",
    "    \n",
    "    #plt.legend(['FDR', 'NPV', 'th_best', 'fail_rate', 'work_load'])\n",
    "    plt.legend(['fail_rate', 'work_load', 'th_best'])\n",
    "#     plt.xlabel('Threshold')\n",
    "#     plt.ylabel('% of Images')\n",
    "    plt.set_xlabel('Threshold')\n",
    "    plt.set_ylabel('% of Images')\n",
    "    #plt.tight_layout(pad=0.4, w_pad=0.5, h_pad=1.0)\n",
    "#     plt.title(title)\n",
    "    plt.set_title(title)\n",
    "\n",
    "    # plt.annotate('best threshold', \n",
    "    #              xy=(lst_threshold[argmax], lst_unmatch[argmax]), \n",
    "    #              #xytext=(lst_threshold[argmax]-20, lst_unmatch[argmax]-0.2), \n",
    "    #              xytext=(20, 0.2), \n",
    "    #              arrowprops=dict(facecolor='black', shrink=0.05),\n",
    "    #              )\n",
    "\n",
    "    plt.text(x[argmax]-0.2*x[argmax], .6, f'best threshold={round(x[argmax],2)}')\n",
    "    #plt.text(0.07, .92, f'best threshold={round(lst_threshold[argmax],2)}')\n",
    "    #plt.set_figure(figsize=(18, 18))\n",
    "    #plt.savefig(f'../graphs/best_score_{percent_of_images*100}_{round(y_match[i],4)*100}.png')\n",
    "#     plt.show()\n",
    "\n",
    "    print(df_threshold.to_string(index=False))        \n",
    "    \n",
    "    return df_Res\n"
   ]
  },
  {
   "cell_type": "code",
   "execution_count": null,
   "metadata": {},
   "outputs": [],
   "source": [
    "len(df_results_eval[(df_results_eval['actual_class'] == df_results_eval['best_pred']) &\n",
    "                                         (df_results_eval['best_score'] >= .96)])"
   ]
  },
  {
   "cell_type": "markdown",
   "metadata": {},
   "source": [
    "## Best Score - Softmax & Certainty (Top-2)\n",
    "#### (Horizontal - Between classes [after averaging the results for the ensembles])"
   ]
  },
  {
   "cell_type": "code",
   "execution_count": null,
   "metadata": {},
   "outputs": [],
   "source": [
    "plt.close('all')\n",
    "fig, ((plt_sub1, plt_sub2)) = plt.subplots(nrows=1, ncols=2, figsize=(15,4))\n",
    "# fig, ((plt_sub1)) = plt.subplots(nrows=1, ncols=1, figsize=(15,4))\n",
    "\n",
    "df_Softmax = plot_metrics_test(plt_sub1, title='Softmax Score', metric_name='best_score', step_size=0.01, is_norm=False)\n",
    "df_Top2 = plot_metrics_test(plt_sub2, title='Top-2 Difference', metric_name='Certainty', step_size=1, is_norm=False)\n",
    "\n",
    "plt.show()\n",
    "# plt.tight_layout()"
   ]
  },
  {
   "cell_type": "code",
   "execution_count": null,
   "metadata": {},
   "outputs": [],
   "source": [
    "plt.plot(list(df_Softmax.index), list(df_Softmax['fail_rate']))\n",
    "plt.plot(list(df_Softmax.index), list(df_Softmax['work_load']))\n",
    "# th_best = np.zeros(len(x))\n",
    "# th_best.fill(x[argmax])\n",
    "# th_best = list(th_best)\n",
    "# plt.plot(th_best, FDR)\n",
    "\n",
    "plt.legend(['fail_rate', 'work_load'])\n",
    "plt.xlabel('Threshold')\n",
    "plt.ylabel('% of Images')\n",
    "# plt.set_xlabel('Threshold')\n",
    "# plt.set_ylabel('% of Images')\n",
    "#plt.tight_layout(pad=0.4, w_pad=0.5, h_pad=1.0)\n",
    "#     plt.title(title)\n",
    "# plt.set_title(title)"
   ]
  },
  {
   "cell_type": "code",
   "execution_count": null,
   "metadata": {},
   "outputs": [],
   "source": [
    "import pylab\n",
    "import matplotlib.pyplot as plt\n",
    "\n",
    "fig = plt.figure()\n",
    "ax1 = fig.add_subplot(2, 1, 1)\n",
    "ax2 = fig.add_subplot(2, 1, 2)\n",
    "\n",
    "line1, = ax1.plot(list(df_Softmax['fail_rate']), color='blue', lw=2)\n",
    "line2, = ax2.plot(list(df_Softmax['work_load']), color='blue', lw=2)\n",
    "\n",
    "pylab.show()"
   ]
  },
  {
   "cell_type": "code",
   "execution_count": null,
   "metadata": {},
   "outputs": [],
   "source": [
    "print(3.913709-3.622185)\n",
    "print((3.913709-3.622185)/3.622185*100)"
   ]
  },
  {
   "cell_type": "code",
   "execution_count": null,
   "metadata": {},
   "outputs": [],
   "source": [
    "(3.913709-3.622185)/3.622185*100"
   ]
  },
  {
   "cell_type": "code",
   "execution_count": null,
   "metadata": {},
   "outputs": [],
   "source": [
    "# if you accept to have 1% error rate, then you need to check 2.62% of the images (360) manually\n",
    "# (if I start searching the val from 0, work_load=2.59% ... if start the val from min_val, 2,62%)\n",
    "# threshold you will use is = 0.3287 for Softmax. You'll accept anything above this value as correctly classified\n",
    "df_Softmax[df_Softmax['fail_rate']<0.5] \n",
    "# (%) e.g. Fail Rate = FP/n_all_images\n",
    "# if 0.1 then you were guaranteed to have 99.9% success if you manually verify 773 images (5.63%) out of 13721 images\n",
    "# if   1 then you were guaranteed to have 99.0% success if you manually verify 356 images (2.59%)"
   ]
  },
  {
   "cell_type": "code",
   "execution_count": null,
   "metadata": {},
   "outputs": [],
   "source": [
    "df_Softmax[df_Softmax['val']>=0.5] "
   ]
  },
  {
   "cell_type": "code",
   "execution_count": null,
   "metadata": {},
   "outputs": [],
   "source": [
    "#df_flexible = df_Softmax[(df_Softmax['fail_rate']>=0.5) & (df_Softmax['fail_rate']<=1)] \n",
    "df_flexible = df_Softmax[(df_Softmax['work_load']<=5) & (df_Softmax['fail_rate']<=1)] \n",
    "lst_flexible = list(df_flexible['val'])\n",
    "lst_flexible_workload = list(df_flexible['work_load'])\n",
    "print(f'{len(lst_flexible)} values from {min(lst_flexible)} to {max(lst_flexible)} having fail rate between 0.5 and 1.0')\n",
    "print(f'workload from {min(lst_flexible_workload)} to {max(lst_flexible_workload)}')\n",
    "print(3.913709-3.622185)\n",
    "print((3.913709-3.622185)/3.622185*100)\n",
    "\n",
    "df_flexible\n"
   ]
  },
  {
   "cell_type": "code",
   "execution_count": null,
   "metadata": {},
   "outputs": [],
   "source": [
    "pd.set_option('display.max_rows', None)\n",
    "df_Softmax['effectiveness'] = (df_Softmax['fail_rate']*.66) + (df_Softmax['work_load']*.33)\n",
    "df_Softmax['effectiveness2'] = (df_Softmax['fail_rate']*.75) + (df_Softmax['work_load']*.25)\n",
    "df_Softmax['effectiveness3'] = (df_Softmax['fail_rate']*.7) + (df_Softmax['work_load']*.3)\n",
    "df_Softmax\n",
    "#df_Softmax[(df_Softmax['effectiveness']>1.55) & (df_Softmax['effectiveness']<1.65)]"
   ]
  },
  {
   "cell_type": "code",
   "execution_count": null,
   "metadata": {},
   "outputs": [],
   "source": [
    "df_Top2[df_Top2['fail_rate']<0.5] "
   ]
  },
  {
   "cell_type": "code",
   "execution_count": null,
   "metadata": {},
   "outputs": [],
   "source": [
    "df_flexible = df_Top2[(df_Top2['work_load']<=5) & (df_Top2['fail_rate']<=1)] \n",
    "lst_flexible = list(df_flexible['val'])\n",
    "lst_flexible_workload = list(df_flexible['work_load'])\n",
    "print(f'{len(lst_flexible)} values from {min(lst_flexible)} to {max(lst_flexible)} having fail rate between 0.5 and 1.0')\n",
    "print(f'workload from {min(lst_flexible_workload)} to {max(lst_flexible_workload)}')\n",
    "\n",
    "print(3.913709-3.622185)\n",
    "print((3.913709-3.622185)/3.622185*100)\n",
    "\n",
    "df_flexible"
   ]
  },
  {
   "cell_type": "code",
   "execution_count": null,
   "metadata": {},
   "outputs": [],
   "source": [
    "len(df_results_eval[df_results_eval['best_score']<=0.3287])"
   ]
  },
  {
   "cell_type": "code",
   "execution_count": null,
   "metadata": {},
   "outputs": [],
   "source": [
    "len(df_results_eval[(df_results_eval['best_score']<=0.387) & df_results_eval['Incorrect']==1])"
   ]
  },
  {
   "cell_type": "code",
   "execution_count": null,
   "metadata": {},
   "outputs": [],
   "source": [
    "len(df_results_eval[df_results_eval['best_score']<=0.3487])/len(df_results_eval)"
   ]
  },
  {
   "cell_type": "code",
   "execution_count": null,
   "metadata": {},
   "outputs": [],
   "source": [
    "len(df_results_eval)*0.01"
   ]
  },
  {
   "cell_type": "code",
   "execution_count": null,
   "metadata": {},
   "outputs": [],
   "source": [
    "lst_1 = [1,2,3,4]\n",
    "lst_2 = ['a', 'b', 'c', 'd']\n",
    "dict_x = {'lst_1': lst_1, 'lst_2': lst_2}\n",
    "dict_x"
   ]
  },
  {
   "cell_type": "markdown",
   "metadata": {},
   "source": [
    "## Entropy of Ensemble-Softmax [sum of entr(means)] & VAR\n",
    "#### (Horizontal - Between classes [after averaging the results for the ensembles])"
   ]
  },
  {
   "cell_type": "code",
   "execution_count": null,
   "metadata": {},
   "outputs": [],
   "source": [
    "fig, ((plt_sub1, plt_sub2)) = plt.subplots(nrows=1, ncols=2, figsize=(15,4))\n",
    "'''\n",
    "here, we calculate the entropy of the mean of the predictions e.g.:\n",
    "sm_e.i = Softmax value of the 'e'th ensemble of 'i'th class\n",
    "ensemble_model1 = [sm_1.1, sm_1.2, ..., sm_1.24]\n",
    "ensemble_model2 = [sm_2.1, sm_2.2, ..., sm_2.24]\n",
    "sm1 = (sm_1.1 + sm_2.1)/2\n",
    "ensemble_model_mean = [sm1, sm2, ..., sm24]\n",
    "entropy will be calculated for ensemble_model_mean and sum of those individual means\n",
    "HIGH entropy indicates HIGH information, which means HIGH UNCERTAINTY. so, we take the reverse of it \n",
    "to measure the certainty. THEN HIGH CERTAINTY is expected for CORRECTLY classified images.\n",
    "LOW entropy indicates LOW information, which means LOW UNCERTAINTY=HIGH CERTAINTY.\n",
    "NOTE: This entropy values normalized according to the highest possible entropy, so the max they can take is 1.0.\n",
    "But since it is almost impossible have E_max, we see the max<1\n",
    "'''\n",
    "\n",
    "df_Entropy_H = plot_metrics_test(plt_sub1, title='Entropy of Ensemble-Softmax [sum of entr(means)]', metric_name='u_entr',\n",
    "             step_size=0.0096, higher_better=False, is_norm=False)\n",
    "\n",
    "'''\n",
    "var will be calculated for ensemble_model_mean\n",
    "HIGH variance indicates that the values are spreaded out from each other.\n",
    "LOW variance indicates that the data points tend to be very close to the mean.\n",
    "HIGH variance indicates that the data points are very spread out from the mean, and from one another.\n",
    "so, we expect HIGHer variance value if there is a class which is much higher than others.\n",
    "'''\n",
    "df_Var_H = plot_metrics_test(plt_sub2, title='var', metric_name='var', step_size=0.0004, higher_better=True, is_norm=False)\n",
    "\n",
    "plt.show()"
   ]
  },
  {
   "cell_type": "code",
   "execution_count": null,
   "metadata": {},
   "outputs": [],
   "source": [
    "# \n",
    "df_Entropy_H[df_Entropy_H['fail_rate']>=0.45]\n"
   ]
  },
  {
   "cell_type": "code",
   "execution_count": null,
   "metadata": {},
   "outputs": [],
   "source": [
    "df_flexible = df_Entropy_H[(df_Entropy_H['work_load']<=5) & (df_Entropy_H['fail_rate']<=1)] \n",
    "lst_flexible = list(df_flexible['val'])\n",
    "lst_flexible_workload = list(df_flexible['work_load'])\n",
    "print(f'{len(lst_flexible)} values from {min(lst_flexible)} to {max(lst_flexible)} having fail rate between 0.5 and 1.0')\n",
    "print(f'workload from {min(lst_flexible_workload)} to {max(lst_flexible_workload)}')\n",
    "\n",
    "print(3.731506-3.622185)\n",
    "print((3.731506-3.622185)/3.622185*100)\n",
    "\n",
    "df_flexible"
   ]
  },
  {
   "cell_type": "code",
   "execution_count": null,
   "metadata": {},
   "outputs": [],
   "source": [
    "df_Var_H[df_Var_H['fail_rate']<0.5]"
   ]
  },
  {
   "cell_type": "code",
   "execution_count": null,
   "metadata": {},
   "outputs": [],
   "source": [
    "df_flexible = df_Var_H[(df_Var_H['work_load']<=5) & (df_Var_H['fail_rate']<=1)] \n",
    "lst_flexible = list(df_flexible['val'])\n",
    "lst_flexible_workload = list(df_flexible['work_load'])\n",
    "print(f'{len(lst_flexible)} values from {min(lst_flexible)} to {max(lst_flexible)} having fail rate between 0.5 and 1.0')\n",
    "print(f'workload from {min(lst_flexible_workload)} to {max(lst_flexible_workload)}')\n",
    "\n",
    "print(3.753371-3.622185)\n",
    "print((3.753371-3.622185)/3.622185*100)\n",
    "\n",
    "df_flexible"
   ]
  },
  {
   "cell_type": "markdown",
   "metadata": {},
   "source": [
    "## Bhattacharyya Coefficient & JSD"
   ]
  },
  {
   "cell_type": "code",
   "execution_count": null,
   "metadata": {},
   "outputs": [],
   "source": [
    "fig, ((plt_sub1, plt_sub2)) = plt.subplots(nrows=1, ncols=2, figsize=(15,4))\n",
    "\"\"\"\n",
    "Bhattacharyya Coefficient (BC):\n",
    "The Bhattacharyya coefficient is a measure of the amount of overlap between \n",
    "two statistical samples or populations.\n",
    "\"\"\"\n",
    "df_results_eval['BC']=df_results_eval['best_score']*df_results_eval['best_2nd_score']\n",
    "df_BC=plot_metrics_test(plt_sub1, title='Bhattacharyya Coefficient', metric_name='BC', step_size=0.01, is_norm=False)\n",
    "df_JSD=plot_metrics_test(plt_sub2, title='JSD', metric_name='P_jsd', step_size=0.01, higher_better=True, is_norm=False)\n",
    "\n",
    "plt.show()"
   ]
  },
  {
   "cell_type": "code",
   "execution_count": null,
   "metadata": {},
   "outputs": [],
   "source": [
    "df_JSD[df_JSD['fail_rate']>0.5]"
   ]
  },
  {
   "cell_type": "code",
   "execution_count": null,
   "metadata": {},
   "outputs": [],
   "source": [
    "df_BC[df_BC['fail_rate']>0.5]"
   ]
  },
  {
   "cell_type": "markdown",
   "metadata": {},
   "source": [
    "## var_Top1 (Vertical - Between ensembles)"
   ]
  },
  {
   "cell_type": "code",
   "execution_count": null,
   "metadata": {},
   "outputs": [],
   "source": [
    "fig, ((plt_sub1)) = plt.subplots(nrows=1, ncols=1, figsize=(9,6))\n",
    "lst_var = []\n",
    "'''\n",
    "here, we calculate the variance of the best predictions among the ensemble members. e.g.:\n",
    "sm_e.i = Softmax value of the 'e'th ensemble of 'i'th class\n",
    "ensemble_model1 = [sm_1.1, sm_1.2, ..., sm_1.24]\n",
    "ensemble_model2 = [sm_2.1, sm_2.2, ..., sm_2.24]\n",
    "if the highest mean belongs to class_2, then\n",
    "var will be calculated for sm_1.2 and sm_2.2\n",
    "The variance in this case shows how much the models agree on a decision unlike the variance calculated\n",
    "for the entire class results of mean-ensemble values.\n",
    "'''\n",
    "\n",
    "for x in df_results_eval.index:\n",
    "    best_index = df_results_eval.loc[x, 'best_index']\n",
    "    lst_var.append(np.var(tuc1.df_result_ensemble.loc[x, 'outputs_all'][:, best_index]))\n",
    "\n",
    "df_results_eval['var_Top1'] = lst_var\n",
    "# plot_metrics(title='var_Top1', metric_name='var_Top1', min_max_step=(0.9, 0.99, 0.01), is_norm=False)\n",
    "df_var_Top1=plot_metrics_test(plt_sub1, title='var_Top1', metric_name='var_Top1', step_size=0.001, higher_better=True, is_norm=False)\n",
    "df_Var_H = plot_metrics_test(plt_sub2, title='var', metric_name='var', step_size=0.0005, higher_better=True, is_norm=False)\n",
    "\n",
    "#plot_metrics_p(plt_sub3, title='Softmax Score', metric_name='best_score', step_size=0.01, is_norm=False)\n",
    "\n",
    "plt.show()"
   ]
  },
  {
   "cell_type": "code",
   "execution_count": null,
   "metadata": {},
   "outputs": [],
   "source": [
    "tuc1.df_result_ensemble.loc[1, 'outputs_all']"
   ]
  },
  {
   "cell_type": "markdown",
   "metadata": {},
   "source": [
    "### Entropy (same as above (horizontal-entropy) but this time not normalized according to the max value)"
   ]
  },
  {
   "cell_type": "code",
   "execution_count": null,
   "metadata": {},
   "outputs": [],
   "source": [
    "fig, ((plt_sub1)) = plt.subplots(nrows=1, ncols=1, figsize=(9,6))\n",
    "plot_metrics(plt_sub1, title='Entr', metric_name='entr', step_size=0.01, higher_better=False, is_norm=False)\n",
    "plt.show()"
   ]
  },
  {
   "cell_type": "markdown",
   "metadata": {},
   "source": [
    "## STD (Horizontal - Between classes [after averaging the results for the ensembles])"
   ]
  },
  {
   "cell_type": "code",
   "execution_count": null,
   "metadata": {},
   "outputs": [],
   "source": [
    "#plot_metrics(title='std', metric_name='std', min_max_step=(0.9, 0.99, 0.01), is_norm=False)\n",
    "fig, ((plt_sub1)) = plt.subplots(nrows=1, ncols=1, figsize=(9,6))\n",
    "plot_metrics(plt_sub1, title='std', metric_name='std', step_size=0.001, higher_better=True, is_norm=False)\n",
    "plt.show()"
   ]
  },
  {
   "cell_type": "code",
   "execution_count": null,
   "metadata": {},
   "outputs": [],
   "source": [
    "#tuc1.df_result_ensemble[:1]\n",
    "pd.set_option('display.max_columns', None)\n",
    "pd.set_option('display.max_rows', None)\n",
    "c_list = ['picture','uncertainty', 'actual_class', 'best_pred','best_score', 'best_2nd_score', 'P_jsd', 'P_info', 'std', 'u_entr', 'var_Top1']\n",
    "df_results_eval[df_results_eval['actual_class'] != df_results_eval['best_pred']][c_list]"
   ]
  },
  {
   "cell_type": "code",
   "execution_count": null,
   "metadata": {},
   "outputs": [],
   "source": [
    "df_results_eval[df_results_eval['actual_class'] == df_results_eval['best_pred']][c_list][:2]"
   ]
  },
  {
   "cell_type": "code",
   "execution_count": null,
   "metadata": {},
   "outputs": [],
   "source": [
    "tuc1.df_result_ensemble[tuc1.df_result_ensemble['picture'] == 'MA160814197500041.070-K_4_0_.png']"
   ]
  },
  {
   "cell_type": "code",
   "execution_count": null,
   "metadata": {},
   "outputs": [],
   "source": [
    "from collections import Counter\n",
    "# xx=np.array([1,2,3,4,0])\n",
    "xx=np.array([1/5,1/5,1/5,1/5,1/5])\n",
    "Counter(xx)\n",
    "# print(np.bincount(xx))\n",
    "# np.var(np.bincount(xx))\n",
    "# entr(np.bincount(xx))"
   ]
  },
  {
   "cell_type": "code",
   "execution_count": null,
   "metadata": {},
   "outputs": [],
   "source": [
    "tuc1.df_result_ensemble[tuc1.df_result_ensemble['picture'] == 'MA160873676300027.057-K_20_1_.png']['outputs_all'][2]"
   ]
  },
  {
   "cell_type": "code",
   "execution_count": null,
   "metadata": {},
   "outputs": [],
   "source": [
    "df_results_eval.columns"
   ]
  },
  {
   "cell_type": "code",
   "execution_count": null,
   "metadata": {},
   "outputs": [],
   "source": [
    "tuc1.show_results(result = 'ALL') # mean=mean top-2 uncertainty of the given class"
   ]
  },
  {
   "cell_type": "code",
   "execution_count": null,
   "metadata": {},
   "outputs": [],
   "source": [
    "xx=np.array([1,2,8,4,5])\n",
    "np.argmax(xx)"
   ]
  },
  {
   "cell_type": "code",
   "execution_count": null,
   "metadata": {},
   "outputs": [],
   "source": [
    "tuc1.show_results(result = 'match')"
   ]
  },
  {
   "cell_type": "code",
   "execution_count": null,
   "metadata": {},
   "outputs": [],
   "source": [
    "tuc1.show_results(result = 'unmatch')"
   ]
  },
  {
   "cell_type": "code",
   "execution_count": null,
   "metadata": {},
   "outputs": [],
   "source": [
    "tuc1.show_results(result = 'combined')"
   ]
  },
  {
   "cell_type": "code",
   "execution_count": null,
   "metadata": {},
   "outputs": [],
   "source": [
    "pd.set_option('display.max_rows', None)\n",
    "tuc1.show_results(result = 'ALL2nd')"
   ]
  },
  {
   "cell_type": "code",
   "execution_count": null,
   "metadata": {},
   "outputs": [],
   "source": [
    "df_results_eval[df_results_eval['actual_class'] != \n",
    "                df_results_eval['best_pred']].loc[:,['picture','actual_class', 'best_pred', 'Certainty']]"
   ]
  },
  {
   "cell_type": "code",
   "execution_count": null,
   "metadata": {},
   "outputs": [],
   "source": [
    "df_results_eval.loc[2,:]"
   ]
  },
  {
   "cell_type": "code",
   "execution_count": null,
   "metadata": {},
   "outputs": [],
   "source": [
    "tuc1.df_uncertainty.loc[2,:]"
   ]
  },
  {
   "cell_type": "code",
   "execution_count": null,
   "metadata": {},
   "outputs": [],
   "source": [
    "df_results_eval[df_results_eval['actual_class'] == \n",
    "                df_results_eval['best_pred']].loc[:,['picture','actual_class', 'best_pred', 'Certainty']]\n"
   ]
  },
  {
   "cell_type": "code",
   "execution_count": null,
   "metadata": {},
   "outputs": [],
   "source": [
    "import itertools\n",
    "plt.figure()\n",
    "class_names = range(24)\n",
    "plot_confusion_matrix(confusion, classes=class_names, normalize=False,title='Normalized confusion matrix')\n",
    "# plot_confusion_matrix(confusion, normalize=True,title='Normalized confusion matrix')"
   ]
  },
  {
   "cell_type": "code",
   "execution_count": null,
   "metadata": {},
   "outputs": [],
   "source": [
    "def plot_confusion_matrix(cm, classes,\n",
    "                          normalize=False,\n",
    "                          title='Confusion matrix',\n",
    "                          cmap=plt.cm.Blues):\n",
    "    \"\"\"\n",
    "    This function prints and plots the confusion matrix.\n",
    "    Normalization can be applied by setting `normalize=True`.\n",
    "    \"\"\"\n",
    "    plt.imshow(cm, interpolation='nearest', cmap=cmap)\n",
    "    plt.title(title)\n",
    "    plt.colorbar()\n",
    "    tick_marks = np.arange(len(classes))\n",
    "    plt.xticks(tick_marks, classes, rotation=45)\n",
    "    plt.yticks(tick_marks, classes)\n",
    "\n",
    "    if normalize:\n",
    "        cm = cm.astype('float') / cm.sum(axis=1)[:, np.newaxis]\n",
    "        print(\"Normalized confusion matrix\")\n",
    "    else:\n",
    "        print('Confusion matrix, without normalization')\n",
    "\n",
    "    print(cm)\n",
    "\n",
    "    thresh = cm.max() / 2.\n",
    "    for i, j in itertools.product(range(cm.shape[0]), range(cm.shape[1])):\n",
    "        plt.text(j, i, cm[i, j],\n",
    "                 horizontalalignment=\"center\",\n",
    "                 color=\"white\" if cm[i, j] > thresh else \"black\")\n",
    "\n",
    "    plt.tight_layout()\n",
    "    plt.ylabel('True label')\n",
    "    plt.xlabel('Predicted label')"
   ]
  },
  {
   "cell_type": "code",
   "execution_count": null,
   "metadata": {},
   "outputs": [],
   "source": [
    "#https://stackoverflow.com/questions/35572000/how-can-i-plot-a-confusion-matrix\n",
    "l_label = list(df_results_eval['actual_class'])\n",
    "l_pred = list(df_results_eval['best_pred'])\n",
    "performance.plot_confusion_matrix(l_label, l_pred)"
   ]
  },
  {
   "cell_type": "code",
   "execution_count": null,
   "metadata": {},
   "outputs": [],
   "source": [
    "cnf_matrix = confusion_matrix(l_label, l_pred)\n",
    "cnf_matrix"
   ]
  },
  {
   "cell_type": "code",
   "execution_count": null,
   "metadata": {},
   "outputs": [],
   "source": [
    "#https://towardsdatascience.com/multi-class-classification-extracting-performance-metrics-from-the-confusion-matrix-b379b427a872\n",
    "#https://towardsdatascience.com/confusion-matrix-for-your-multi-class-machine-learning-model-ff9aa3bf7826#:~:text=False%20Positive%20(FP)%3A%20It,the%20positive%20class%20as%20negative.\n",
    "FP = cnf_matrix.sum(axis=0) - np.diag(cnf_matrix) \n",
    "FN = cnf_matrix.sum(axis=1) - np.diag(cnf_matrix)\n",
    "TP = np.diag(cnf_matrix)\n",
    "TN = cnf_matrix.sum() - (FP + FN + TP)\n",
    "FP = FP.astype(float)\n",
    "FN = FN.astype(float)\n",
    "TP = TP.astype(float)\n",
    "TN = TN.astype(float)\n",
    "# Sensitivity, hit rate, recall, or true positive rate\n",
    "TPR = TP/(TP+FN)\n",
    "# Specificity or true negative rate\n",
    "TNR = TN/(TN+FP) \n",
    "# Precision or positive predictive value\n",
    "PPV = TP/(TP+FP)\n",
    "# Negative predictive value\n",
    "NPV = TN/(TN+FN)\n",
    "# Fall out or false positive rate\n",
    "FPR = FP/(FP+TN)\n",
    "# False negative rate\n",
    "FNR = FN/(TP+FN)\n",
    "# False discovery rate\n",
    "FDR = FP/(TP+FP)\n",
    "# Overall accuracy for each class\n",
    "ACC = (TP+TN)/(TP+FP+FN+TN)"
   ]
  },
  {
   "cell_type": "code",
   "execution_count": null,
   "metadata": {},
   "outputs": [],
   "source": [
    "ACC*100"
   ]
  },
  {
   "cell_type": "code",
   "execution_count": null,
   "metadata": {},
   "outputs": [],
   "source": [
    "(sum_TP)/(sum_TP+sum_FP)"
   ]
  },
  {
   "cell_type": "code",
   "execution_count": null,
   "metadata": {},
   "outputs": [],
   "source": [
    "sum_TP = sum(TP)\n",
    "sum_TN = sum(TN)\n",
    "sum_FN = sum(FN)\n",
    "sum_FP = sum(FP)\n",
    "sum_FN/(sum_TP+sum_FN)"
   ]
  },
  {
   "cell_type": "code",
   "execution_count": null,
   "metadata": {},
   "outputs": [],
   "source": [
    "(sum_TP+sum_TN)/(sum_TP+sum_FP+sum_FN+sum_TN)"
   ]
  },
  {
   "cell_type": "code",
   "execution_count": null,
   "metadata": {},
   "outputs": [],
   "source": [
    "np.mean(FNR)"
   ]
  },
  {
   "cell_type": "code",
   "execution_count": null,
   "metadata": {},
   "outputs": [],
   "source": [
    "sum_FN/(sum_TP+sum_FN)"
   ]
  },
  {
   "cell_type": "code",
   "execution_count": null,
   "metadata": {},
   "outputs": [],
   "source": [
    "l_label_idx = list(df_results_eval['class_idx'])\n",
    "l_pred_idx = list(df_results_eval['best_index'])\n",
    "l_predict_proba = list(df_results_eval['Mean'])\n",
    "roc_auc_score(l_label_idx, l_predict_proba, multi_class='ovr')"
   ]
  },
  {
   "cell_type": "code",
   "execution_count": null,
   "metadata": {},
   "outputs": [],
   "source": [
    "fpr = dict()\n",
    "tpr = dict()\n",
    "roc_auc = dict()\n",
    "\n",
    "arr_label_idx = np.array(l_label_idx).reshape(-1,1)\n",
    "arr_predict_proba = np.array(l_predict_proba)\n",
    "\n",
    "#label_encoder = LabelEncoder()\n",
    "#l_label_int = label_encoder.fit_transform(l_label_int)    \n",
    "onehot_encoder = OneHotEncoder(sparse=False)\n",
    "onehot_encoded = onehot_encoder.fit_transform(arr_label_idx)   # onehot_encoded => array(852,24)=(n_samples, n_classes)\n",
    "\n",
    "# Compute micro-average ROC curve and ROC area\n",
    "fpr[\"ALL\"], tpr[\"ALL\"], _ = roc_curve(onehot_encoded.ravel(), arr_predict_proba.ravel())\n",
    "roc_auc[\"ALL\"] = auc(fpr[\"ALL\"], tpr[\"ALL\"])\n",
    "\n",
    "plt.figure()\n",
    "lw = 2\n",
    "plt.plot(fpr[\"ALL\"], tpr[\"ALL\"], color='darkorange',\n",
    "lw=lw, label='ROC curve (area = %0.2f)' % roc_auc[\"ALL\"])\n",
    "plt.plot([0, 1], [0, 1], color='navy', lw=lw, linestyle='--')\n",
    "plt.xlim([0.0, 1.0])\n",
    "plt.ylim([0.0, 1.05])\n",
    "plt.xlabel('False Positive Rate')\n",
    "plt.ylabel('True Positive Rate')\n",
    "plt.title('Receiver operating characteristic example')\n",
    "plt.legend(loc=\"lower right\")\n",
    "plt.show()\n",
    "\n",
    "fpr_ALL, tpr_ALL, roc_auc_val = fpr['ALL'], tpr['ALL'], roc_auc[\"ALL\"]\n",
    "# print(f\"fpr_ALL: {fpr_ALL} .. ttpr_ALL: {tpr_ALL} .. roc_auc_val: {roc_auc_val}\")\n"
   ]
  },
  {
   "cell_type": "code",
   "execution_count": null,
   "metadata": {},
   "outputs": [],
   "source": [
    "len(arr_label_idx)"
   ]
  },
  {
   "cell_type": "code",
   "execution_count": null,
   "metadata": {},
   "outputs": [],
   "source": [
    "# print(metrics.confusion_matrix(l_label, l_pred))\n",
    "print(metrics.classification_report(l_label, l_pred, digits=4))"
   ]
  },
  {
   "cell_type": "code",
   "execution_count": null,
   "metadata": {},
   "outputs": [],
   "source": [
    "arr_label_idx = np.array(l_label_idx).reshape(-1,1)\n",
    "arr_predict_proba = np.array(l_predict_proba)\n",
    "\n",
    "# plt_class = for which class you want to plot the ROC CURVE\n",
    "fpr_micro, tpr_micro, roc_auc_val = \\\n",
    "performance.plot_roc_curve(arr_label_idx, arr_predict_proba, n_classes=24, plt_class=22)\n",
    "\n",
    "print(round(roc_auc_val,4))"
   ]
  },
  {
   "cell_type": "code",
   "execution_count": null,
   "metadata": {},
   "outputs": [],
   "source": [
    "df_results_eval.iloc[0:10]"
   ]
  },
  {
   "cell_type": "code",
   "execution_count": null,
   "metadata": {},
   "outputs": [],
   "source": [
    "pd.set_option('display.max_columns', None)\n",
    "df_results_eval[df_results_eval['picture']=='MA160814197500042.017-K_9_0_.png']"
   ]
  },
  {
   "cell_type": "code",
   "execution_count": null,
   "metadata": {},
   "outputs": [],
   "source": [
    "df_results_eval.columns"
   ]
  },
  {
   "cell_type": "code",
   "execution_count": null,
   "metadata": {},
   "outputs": [],
   "source": [
    "# df_results_eval\n",
    "# output = tuc1.softmax_and_reshape(tuc1.df_result_ensemble.loc[0,'outputs_all'])\n",
    "# output"
   ]
  },
  {
   "cell_type": "code",
   "execution_count": null,
   "metadata": {},
   "outputs": [],
   "source": [
    "# from scipy.special import entr\n",
    "# entr(output[:,8]).sum()"
   ]
  },
  {
   "cell_type": "code",
   "execution_count": null,
   "metadata": {},
   "outputs": [],
   "source": [
    "\n",
    "# entr_per_model=entr(output).sum(axis=1)/np.log(2)\n",
    "# entr_per_model2=entr(output).sum(axis=0)/np.log(2)\n",
    "# print(entr_per_model)\n",
    "# print(np.mean(entr_per_model))\n",
    "# print(entr_per_model2)\n",
    "# print(np.mean(entr_per_model2))"
   ]
  },
  {
   "cell_type": "code",
   "execution_count": null,
   "metadata": {},
   "outputs": [],
   "source": [
    "# x=0\n",
    "# # variance of the scores of the best prediction (pred with the highest score)\n",
    "# # indexes are preserved between 2 dataframes\n",
    "# np.var(tuc1.normalize_array_preprocess(tuc1.df_result_ensemble.loc[x,\n",
    "#                                         'outputs_all'])[:,df_results_eval.loc[x,'best_index']])\n"
   ]
  },
  {
   "cell_type": "code",
   "execution_count": null,
   "metadata": {},
   "outputs": [],
   "source": [
    "for i in range(len(df_results_eval)):\n",
    "    if i %1000 == 0:\n",
    "        pic1 = df_results_eval.loc[i,'picture']\n",
    "        pic2 = tuc1.df_result_ensemble.loc[i,'picture']\n",
    "        print(f'df_results_eval: {pic1} ... df_result_ensemble: {pic2}')\n",
    "    if df_results_eval.loc[i,'picture'] != tuc1.df_result_ensemble.loc[i,'picture']:\n",
    "        print('mismatch')"
   ]
  },
  {
   "cell_type": "code",
   "execution_count": null,
   "metadata": {},
   "outputs": [],
   "source": [
    "tuc1.df_result_ensemble.iloc[0:10,:]"
   ]
  },
  {
   "cell_type": "code",
   "execution_count": null,
   "metadata": {},
   "outputs": [],
   "source": [
    "tuc1.df_result_ensemble.loc[0,'outputs_all'][0]"
   ]
  },
  {
   "cell_type": "code",
   "execution_count": null,
   "metadata": {},
   "outputs": [],
   "source": [
    "tuc1.df_result_ensemble.loc[:0,:]"
   ]
  },
  {
   "cell_type": "code",
   "execution_count": null,
   "metadata": {},
   "outputs": [],
   "source": [
    "tuc1.df_result_ensemble['outputs_all'][0]"
   ]
  },
  {
   "cell_type": "code",
   "execution_count": null,
   "metadata": {},
   "outputs": [],
   "source": [
    "x=0\n",
    "t_test=tuc1.softmax_and_reshape(tuc1.df_result_ensemble.loc[x, 'outputs_all'])[:,df_results_eval.loc[x,'best_index']]\n",
    "t_test"
   ]
  },
  {
   "cell_type": "code",
   "execution_count": null,
   "metadata": {},
   "outputs": [],
   "source": [
    "np.sum(tuc1.df_result_ensemble.loc[0, 'outputs_all'], axis=1)"
   ]
  },
  {
   "cell_type": "code",
   "execution_count": null,
   "metadata": {},
   "outputs": [],
   "source": [
    "tuc1.df_result_ensemble.loc[0, 'outputs_all'].shape"
   ]
  },
  {
   "cell_type": "code",
   "execution_count": null,
   "metadata": {},
   "outputs": [],
   "source": [
    "tuc1.df_result_ensemble.loc[0, 'outputs_all'][:,8]"
   ]
  },
  {
   "cell_type": "code",
   "execution_count": null,
   "metadata": {},
   "outputs": [],
   "source": [
    "from scipy.special import softmax\n",
    "softmax(tuc1.df_result_ensemble.loc[0, 'outputs_all'][:,8])"
   ]
  },
  {
   "cell_type": "code",
   "execution_count": null,
   "metadata": {},
   "outputs": [],
   "source": [
    "x=0\n",
    "tuc1.normalize_array_preprocess(tuc1.df_result_ensemble.loc[x,'outputs_all'])[:,:]"
   ]
  },
  {
   "cell_type": "code",
   "execution_count": null,
   "metadata": {},
   "outputs": [],
   "source": [
    "tuc1.normalize_array_preprocess(tuc1.df_result_ensemble.loc[x,'outputs_all'])[:2,:]"
   ]
  },
  {
   "cell_type": "code",
   "execution_count": null,
   "metadata": {},
   "outputs": [],
   "source": [
    "x=0\n",
    "np.argmax(tuc1.normalize_array_preprocess(tuc1.df_result_ensemble.loc[x,'outputs_all'])[1:2,:])"
   ]
  },
  {
   "cell_type": "code",
   "execution_count": null,
   "metadata": {},
   "outputs": [],
   "source": [
    "x=0\n",
    "np.argmax(tuc1.df_result_ensemble.loc[:,'outputs_all'][x][0])"
   ]
  },
  {
   "cell_type": "code",
   "execution_count": null,
   "metadata": {},
   "outputs": [],
   "source": [
    "tuc1.df_result_ensemble.loc[:10,:]"
   ]
  }
 ],
 "metadata": {
  "kernelspec": {
   "display_name": "Python 3",
   "language": "python",
   "name": "python3"
  },
  "language_info": {
   "codemirror_mode": {
    "name": "ipython",
    "version": 3
   },
   "file_extension": ".py",
   "mimetype": "text/x-python",
   "name": "python",
   "nbconvert_exporter": "python",
   "pygments_lexer": "ipython3",
   "version": "3.7.4"
  }
 },
 "nbformat": 4,
 "nbformat_minor": 2
}
